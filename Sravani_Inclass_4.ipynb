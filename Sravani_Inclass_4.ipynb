{
 "cells": [
  {
   "cell_type": "markdown",
   "metadata": {},
   "source": [
    "# **The fourth in-class-exercise (40 points in total, 03/29/2022)**"
   ]
  },
  {
   "cell_type": "markdown",
   "metadata": {},
   "source": [
    "Question description: Please use the text corpus you collected in your last in-class-exercise for this exercise. Perform the following tasks:"
   ]
  },
  {
   "cell_type": "markdown",
   "metadata": {},
   "source": [
    "## (1) (10 points) Generate K topics by using LDA, the number of topics K should be decided by the coherence score, then summarize what are the topics. You may refer the code here: \n",
    "\n",
    "https://www.machinelearningplus.com/nlp/topic-modeling-gensim-python/"
   ]
  },
  {
   "cell_type": "code",
   "execution_count": 12,
   "metadata": {},
   "outputs": [
    {
     "name": "stderr",
     "output_type": "stream",
     "text": [
      "[nltk_data] Downloading package stopwords to\n",
      "[nltk_data]     C:\\Users\\srava\\AppData\\Roaming\\nltk_data...\n",
      "[nltk_data]   Unzipping corpora\\stopwords.zip.\n"
     ]
    },
    {
     "data": {
      "text/plain": [
       "True"
      ]
     },
     "execution_count": 12,
     "metadata": {},
     "output_type": "execute_result"
    }
   ],
   "source": [
    "import nltk\n",
    "nltk.download('stopwords')"
   ]
  },
  {
   "cell_type": "code",
   "execution_count": 17,
   "metadata": {},
   "outputs": [],
   "source": [
    "import re\n",
    "import numpy as np\n",
    "import pandas as pd\n",
    "from pprint import pprint\n",
    "\n",
    "# Gensim\n",
    "import gensim\n",
    "import gensim.corpora as corpora\n",
    "from gensim.utils import simple_preprocess\n",
    "from gensim.models import CoherenceModel\n",
    "\n",
    "# spacy for lemmatization\n",
    "import spacy\n",
    "\n",
    "# Plotting tools\n",
    "import pyLDAvis\n",
    "import pyLDAvis.gensim  # don't skip this\n",
    "import matplotlib.pyplot as plt\n",
    "%matplotlib inline\n",
    "\n",
    "# Enable logging for gensim - optional\n",
    "import logging\n",
    "logging.basicConfig(format='%(asctime)s : %(levelname)s : %(message)s', level=logging.ERROR)\n",
    "\n",
    "import warnings\n",
    "warnings.filterwarnings(\"ignore\",category=DeprecationWarning)\n"
   ]
  },
  {
   "cell_type": "code",
   "execution_count": 20,
   "metadata": {},
   "outputs": [],
   "source": [
    "from nltk.corpus import stopwords\n",
    "stop_words = stopwords.words('english')\n",
    "stop_words.extend(['from', 'subject', 're', 'edu', 'use'])"
   ]
  },
  {
   "cell_type": "code",
   "execution_count": 21,
   "metadata": {},
   "outputs": [
    {
     "name": "stdout",
     "output_type": "stream",
     "text": [
      "['rec.autos' 'comp.sys.mac.hardware' 'comp.graphics' 'sci.space'\n",
      " 'talk.politics.guns' 'sci.med' 'comp.sys.ibm.pc.hardware'\n",
      " 'comp.os.ms-windows.misc' 'rec.motorcycles' 'talk.religion.misc'\n",
      " 'misc.forsale' 'alt.atheism' 'sci.electronics' 'comp.windows.x'\n",
      " 'rec.sport.hockey' 'rec.sport.baseball' 'soc.religion.christian'\n",
      " 'talk.politics.mideast' 'talk.politics.misc' 'sci.crypt']\n"
     ]
    },
    {
     "data": {
      "text/html": [
       "<div>\n",
       "<style scoped>\n",
       "    .dataframe tbody tr th:only-of-type {\n",
       "        vertical-align: middle;\n",
       "    }\n",
       "\n",
       "    .dataframe tbody tr th {\n",
       "        vertical-align: top;\n",
       "    }\n",
       "\n",
       "    .dataframe thead th {\n",
       "        text-align: right;\n",
       "    }\n",
       "</style>\n",
       "<table border=\"1\" class=\"dataframe\">\n",
       "  <thead>\n",
       "    <tr style=\"text-align: right;\">\n",
       "      <th></th>\n",
       "      <th>content</th>\n",
       "      <th>target</th>\n",
       "      <th>target_names</th>\n",
       "    </tr>\n",
       "  </thead>\n",
       "  <tbody>\n",
       "    <tr>\n",
       "      <th>0</th>\n",
       "      <td>From: lerxst@wam.umd.edu (where's my thing)\\nS...</td>\n",
       "      <td>7</td>\n",
       "      <td>rec.autos</td>\n",
       "    </tr>\n",
       "    <tr>\n",
       "      <th>1</th>\n",
       "      <td>From: guykuo@carson.u.washington.edu (Guy Kuo)...</td>\n",
       "      <td>4</td>\n",
       "      <td>comp.sys.mac.hardware</td>\n",
       "    </tr>\n",
       "    <tr>\n",
       "      <th>2</th>\n",
       "      <td>From: twillis@ec.ecn.purdue.edu (Thomas E Will...</td>\n",
       "      <td>4</td>\n",
       "      <td>comp.sys.mac.hardware</td>\n",
       "    </tr>\n",
       "    <tr>\n",
       "      <th>3</th>\n",
       "      <td>From: jgreen@amber (Joe Green)\\nSubject: Re: W...</td>\n",
       "      <td>1</td>\n",
       "      <td>comp.graphics</td>\n",
       "    </tr>\n",
       "    <tr>\n",
       "      <th>4</th>\n",
       "      <td>From: jcm@head-cfa.harvard.edu (Jonathan McDow...</td>\n",
       "      <td>14</td>\n",
       "      <td>sci.space</td>\n",
       "    </tr>\n",
       "  </tbody>\n",
       "</table>\n",
       "</div>"
      ],
      "text/plain": [
       "                                             content  target  \\\n",
       "0  From: lerxst@wam.umd.edu (where's my thing)\\nS...       7   \n",
       "1  From: guykuo@carson.u.washington.edu (Guy Kuo)...       4   \n",
       "2  From: twillis@ec.ecn.purdue.edu (Thomas E Will...       4   \n",
       "3  From: jgreen@amber (Joe Green)\\nSubject: Re: W...       1   \n",
       "4  From: jcm@head-cfa.harvard.edu (Jonathan McDow...      14   \n",
       "\n",
       "            target_names  \n",
       "0              rec.autos  \n",
       "1  comp.sys.mac.hardware  \n",
       "2  comp.sys.mac.hardware  \n",
       "3          comp.graphics  \n",
       "4              sci.space  "
      ]
     },
     "execution_count": 21,
     "metadata": {},
     "output_type": "execute_result"
    }
   ],
   "source": [
    "df = pd.read_json('https://raw.githubusercontent.com/selva86/datasets/master/newsgroups.json')\n",
    "print(df.target_names.unique())\n",
    "df.head()"
   ]
  },
  {
   "cell_type": "code",
   "execution_count": 22,
   "metadata": {},
   "outputs": [
    {
     "name": "stdout",
     "output_type": "stream",
     "text": [
      "['From: (wheres my thing) Subject: WHAT car is this!? Nntp-Posting-Host: '\n",
      " 'rac3.wam.umd.edu Organization: University of Maryland, College Park Lines: '\n",
      " '15 I was wondering if anyone out there could enlighten me on this car I saw '\n",
      " 'the other day. It was a 2-door sports car, looked to be from the late 60s/ '\n",
      " 'early 70s. It was called a Bricklin. The doors were really small. In '\n",
      " 'addition, the front bumper was separate from the rest of the body. This is '\n",
      " 'all I know. If anyone can tellme a model name, engine specs, years of '\n",
      " 'production, where this car is made, history, or whatever info you have on '\n",
      " 'this funky looking car, please e-mail. Thanks, - IL ---- brought to you by '\n",
      " 'your neighborhood Lerxst ---- ']\n"
     ]
    }
   ],
   "source": [
    "data = df.content.values.tolist()\n",
    "\n",
    "# Remove Emails\n",
    "data = [re.sub('\\S*@\\S*\\s?', '', sent) for sent in data]\n",
    "\n",
    "# Remove new line characters\n",
    "data = [re.sub('\\s+', ' ', sent) for sent in data]\n",
    "\n",
    "# Remove distracting single quotes\n",
    "data = [re.sub(\"\\'\", \"\", sent) for sent in data]\n",
    "\n",
    "pprint(data[:1])"
   ]
  },
  {
   "cell_type": "code",
   "execution_count": 23,
   "metadata": {},
   "outputs": [
    {
     "name": "stdout",
     "output_type": "stream",
     "text": [
      "[['from', 'wheres', 'my', 'thing', 'subject', 'what', 'car', 'is', 'this', 'nntp', 'posting', 'host', 'rac', 'wam', 'umd', 'edu', 'organization', 'university', 'of', 'maryland', 'college', 'park', 'lines', 'was', 'wondering', 'if', 'anyone', 'out', 'there', 'could', 'enlighten', 'me', 'on', 'this', 'car', 'saw', 'the', 'other', 'day', 'it', 'was', 'door', 'sports', 'car', 'looked', 'to', 'be', 'from', 'the', 'late', 'early', 'it', 'was', 'called', 'bricklin', 'the', 'doors', 'were', 'really', 'small', 'in', 'addition', 'the', 'front', 'bumper', 'was', 'separate', 'from', 'the', 'rest', 'of', 'the', 'body', 'this', 'is', 'all', 'know', 'if', 'anyone', 'can', 'tellme', 'model', 'name', 'engine', 'specs', 'years', 'of', 'production', 'where', 'this', 'car', 'is', 'made', 'history', 'or', 'whatever', 'info', 'you', 'have', 'on', 'this', 'funky', 'looking', 'car', 'please', 'mail', 'thanks', 'il', 'brought', 'to', 'you', 'by', 'your', 'neighborhood', 'lerxst']]\n"
     ]
    }
   ],
   "source": [
    "def sent_to_words(sentences):\n",
    "    for sentence in sentences:\n",
    "        yield(gensim.utils.simple_preprocess(str(sentence), deacc=True))  # deacc=True removes punctuations\n",
    "\n",
    "data_words = list(sent_to_words(data))\n",
    "\n",
    "print(data_words[:1])"
   ]
  },
  {
   "cell_type": "code",
   "execution_count": 34,
   "metadata": {},
   "outputs": [
    {
     "name": "stdout",
     "output_type": "stream",
     "text": [
      "['from', 'wheres', 'my', 'thing', 'subject', 'what', 'car', 'is', 'this', 'nntp_posting_host', 'rac_wam_umd_edu', 'organization', 'university', 'of', 'maryland_college_park', 'lines', 'was', 'wondering', 'if', 'anyone', 'out', 'there', 'could', 'enlighten', 'me', 'on', 'this', 'car', 'saw', 'the', 'other', 'day', 'it', 'was', 'door', 'sports', 'car', 'looked', 'to', 'be', 'from', 'the', 'late', 'early', 'it', 'was', 'called', 'bricklin', 'the', 'doors', 'were', 'really', 'small', 'in', 'addition', 'the', 'front_bumper', 'was', 'separate', 'from', 'the', 'rest', 'of', 'the', 'body', 'this', 'is', 'all', 'know', 'if', 'anyone', 'can', 'tellme', 'model', 'name', 'engine', 'specs', 'years', 'of', 'production', 'where', 'this', 'car', 'is', 'made', 'history', 'or', 'whatever', 'info', 'you', 'have', 'on', 'this', 'funky', 'looking', 'car', 'please', 'mail', 'thanks', 'il', 'brought', 'to', 'you', 'by', 'your', 'neighborhood', 'lerxst']\n"
     ]
    }
   ],
   "source": [
    "bigram = gensim.models.Phrases(data_words, min_count=5, threshold=100) # higher threshold fewer phrases.\n",
    "trigram = gensim.models.Phrases(bigram[data_words], threshold=100)  \n",
    "\n",
    "# Faster way to get a sentence clubbed as a trigram/bigram\n",
    "bigram_mod = gensim.models.phrases.Phraser(bigram)\n",
    "trigram_mod = gensim.models.phrases.Phraser(trigram)\n",
    "\n",
    "# See trigram example\n",
    "print(trigram_mod[bigram_mod[data_words[0]]])"
   ]
  },
  {
   "cell_type": "code",
   "execution_count": 39,
   "metadata": {},
   "outputs": [],
   "source": [
    "def remove_stopwords(texts):\n",
    "    return [[word for word in simple_preprocess(str(doc)) if word not in stop_words] for doc in texts]\n",
    "\n",
    "def make_bigrams(texts):\n",
    "    return [bigram_mod[doc] for doc in texts]\n",
    "\n",
    "def make_trigrams(texts):\n",
    "    return [trigram_mod[bigram_mod[doc]] for doc in texts]\n",
    "\n",
    "def lemmatization(texts, allowed_postags=['NOUN', 'ADJ', 'VERB', 'ADV']):\n",
    "    \"\"\"https://spacy.io/api/annotation\"\"\"\n",
    "    texts_out = []\n",
    "    for sent in texts:\n",
    "        doc = nlp(\" \".join(sent)) \n",
    "        texts_out.append([token.lemma_ for token in doc if token.pos_ in allowed_postags])\n",
    "    return texts_out"
   ]
  },
  {
   "cell_type": "code",
   "execution_count": 40,
   "metadata": {},
   "outputs": [
    {
     "name": "stdout",
     "output_type": "stream",
     "text": [
      "[['where', 's', 'thing', 'car', 'nntp_poste', 'host', 'rac_wam', 'umd', 'organization', 'university', 'park', 'line', 'wonder', 'enlighten', 'car', 'saw', 'day', 'door', 'sport', 'car', 'look', 'late', 'early', 'call', 'bricklin', 'door', 'really', 'small', 'addition', 'separate', 'rest', 'body', 'know', 'tellme', 'model', 'name', 'engine', 'spec', 'year', 'production', 'car', 'make', 'history', 'info', 'funky', 'look', 'car', 'mail', 'thank', 'bring', 'neighborhood', 'lerxst']]\n"
     ]
    }
   ],
   "source": [
    "data_words_nostops = remove_stopwords(data_words)\n",
    "\n",
    "# Form Bigrams\n",
    "data_words_bigrams = make_bigrams(data_words_nostops)\n",
    "\n",
    "# Initialize spacy 'en_core_web_sm' model, keeping only tagger component (for efficiency)\n",
    "nlp = spacy.load('en_core_web_sm', disable=['parser', 'ner'])\n",
    "\n",
    "# Do lemmatization keeping only noun, adj, vb, adv\n",
    "data_lemmatized = lemmatization(data_words_bigrams, allowed_postags=['NOUN', 'ADJ', 'VERB', 'ADV'])\n",
    "\n",
    "print(data_lemmatized[:1])"
   ]
  },
  {
   "cell_type": "code",
   "execution_count": 41,
   "metadata": {},
   "outputs": [
    {
     "name": "stdout",
     "output_type": "stream",
     "text": [
      "[[(0, 1), (1, 1), (2, 1), (3, 1), (4, 1), (5, 5), (6, 1), (7, 2), (8, 1), (9, 1), (10, 1), (11, 1), (12, 1), (13, 1), (14, 1), (15, 1), (16, 1), (17, 1), (18, 1), (19, 2), (20, 1), (21, 1), (22, 1), (23, 1), (24, 1), (25, 1), (26, 1), (27, 1), (28, 1), (29, 1), (30, 1), (31, 1), (32, 1), (33, 1), (34, 1), (35, 1), (36, 1), (37, 1), (38, 1), (39, 1), (40, 1), (41, 1), (42, 1), (43, 1), (44, 1), (45, 1)]]\n"
     ]
    }
   ],
   "source": [
    "# Create Dictionary\n",
    "id2word = corpora.Dictionary(data_lemmatized)\n",
    "\n",
    "# Create Corpus\n",
    "texts = data_lemmatized\n",
    "\n",
    "# Term Document Frequency\n",
    "corpus = [id2word.doc2bow(text) for text in texts]\n",
    "\n",
    "# View\n",
    "print(corpus[:1])"
   ]
  },
  {
   "cell_type": "code",
   "execution_count": 45,
   "metadata": {},
   "outputs": [],
   "source": [
    "lda_model = gensim.models.ldamodel.LdaModel(corpus=corpus,\n",
    "                                           id2word=id2word,\n",
    "                                           num_topics=20, \n",
    "                                           random_state=100,\n",
    "                                           update_every=1,\n",
    "                                           chunksize=100,\n",
    "                                           passes=10,\n",
    "                                           alpha='auto',\n",
    "                                           per_word_topics=True)"
   ]
  },
  {
   "cell_type": "code",
   "execution_count": 46,
   "metadata": {},
   "outputs": [
    {
     "name": "stdout",
     "output_type": "stream",
     "text": [
      "[(0,\n",
      "  '0.587*\"ax\" + 0.097*\"_\" + 0.047*\"max\" + 0.020*\"screen\" + 0.013*\"mouse\" + '\n",
      "  '0.008*\"mr\" + 0.007*\"modem\" + 0.006*\"el\" + 0.005*\"cds\" + 0.005*\"honda\"'),\n",
      " (1,\n",
      "  '0.080*\"key\" + 0.041*\"chip\" + 0.022*\"encryption\" + 0.021*\"server\" + '\n",
      "  '0.019*\"technology\" + 0.019*\"security\" + 0.018*\"clipper\" + 0.016*\"algorithm\" '\n",
      "  '+ 0.016*\"controller\" + 0.015*\"system\"'),\n",
      " (2,\n",
      "  '0.033*\"self\" + 0.028*\"normal\" + 0.024*\"son\" + 0.024*\"proof\" + '\n",
      "  '0.023*\"father\" + 0.022*\"alone\" + 0.021*\"muslim\" + 0.020*\"islam\" + '\n",
      "  '0.020*\"iran\" + 0.019*\"vote\"'),\n",
      " (3,\n",
      "  '0.033*\"people\" + 0.018*\"state\" + 0.015*\"right\" + 0.012*\"israel\" + '\n",
      "  '0.011*\"group\" + 0.011*\"government\" + 0.010*\"issue\" + 0.008*\"death\" + '\n",
      "  '0.008*\"kill\" + 0.008*\"case\"'),\n",
      " (4,\n",
      "  '0.030*\"trivial\" + 0.021*\"allen\" + 0.018*\"click\" + 0.016*\"ms_window\" + '\n",
      "  '0.004*\"rude\" + 0.000*\"sphere\" + 0.000*\"steven\" + 0.000*\"central\" + '\n",
      "  '0.000*\"hitachi\" + 0.000*\"circle\"'),\n",
      " (5,\n",
      "  '0.071*\"gun\" + 0.025*\"crime\" + 0.023*\"police\" + 0.022*\"weapon\" + '\n",
      "  '0.022*\"firearm\" + 0.019*\"safety\" + 0.019*\"rsa\" + 0.016*\"weight\" + '\n",
      "  '0.016*\"rate\" + 0.015*\"fire\"'),\n",
      " (6,\n",
      "  '0.087*\"law\" + 0.043*\"public\" + 0.036*\"suggest\" + 0.024*\"bill\" + '\n",
      "  '0.022*\"ride\" + 0.021*\"clinton\" + 0.020*\"private\" + 0.020*\"legal\" + '\n",
      "  '0.018*\"community\" + 0.016*\"ignore\"'),\n",
      " (7,\n",
      "  '0.037*\"report\" + 0.030*\"test\" + 0.026*\"patient\" + 0.021*\"study\" + '\n",
      "  '0.020*\"section\" + 0.017*\"publish\" + 0.016*\"review\" + 0.015*\"research\" + '\n",
      "  '0.014*\"april\" + 0.014*\"information\"'),\n",
      " (8,\n",
      "  '0.036*\"team\" + 0.036*\"game\" + 0.030*\"year\" + 0.025*\"win\" + 0.023*\"play\" + '\n",
      "  '0.017*\"player\" + 0.016*\"internet\" + 0.011*\"season\" + 0.011*\"division\" + '\n",
      "  '0.011*\"master\"'),\n",
      " (9,\n",
      "  '0.023*\"god\" + 0.021*\"say\" + 0.018*\"believe\" + 0.016*\"evidence\" + '\n",
      "  '0.016*\"reason\" + 0.013*\"christian\" + 0.011*\"claim\" + 0.011*\"man\" + '\n",
      "  '0.011*\"point\" + 0.010*\"think\"'),\n",
      " (10,\n",
      "  '0.094*\"video\" + 0.049*\"route\" + 0.049*\"mhz\" + 0.039*\"md\" + 0.029*\"zone\" + '\n",
      "  '0.022*\"km\" + 0.017*\"radius\" + 0.017*\"rs\" + 0.017*\"pop\" + '\n",
      "  '0.014*\"recommendation\"'),\n",
      " (11,\n",
      "  '0.100*\"apple\" + 0.043*\"multiple\" + 0.025*\"reflect\" + 0.010*\"fuzzy\" + '\n",
      "  '0.008*\"absurd\" + 0.005*\"judaism\" + 0.004*\"ibm_pc\" + 0.004*\"cart\" + '\n",
      "  '0.000*\"centris\" + 0.000*\"cd\"'),\n",
      " (12,\n",
      "  '0.053*\"armenian\" + 0.041*\"greek\" + 0.039*\"soldier\" + 0.039*\"village\" + '\n",
      "  '0.033*\"turk\" + 0.027*\"turkish\" + 0.023*\"occupy\" + 0.021*\"turkey\" + '\n",
      "  '0.013*\"escape\" + 0.012*\"armenia\"'),\n",
      " (13,\n",
      "  '0.060*\"car\" + 0.039*\"price\" + 0.039*\"sale\" + 0.036*\"sell\" + 0.027*\"model\" + '\n",
      "  '0.022*\"school\" + 0.022*\"buy\" + 0.021*\"distribution_na\" + '\n",
      "  '0.018*\"distribution\" + 0.017*\"corporation\"'),\n",
      " (14,\n",
      "  '0.021*\"system\" + 0.019*\"use\" + 0.016*\"window\" + 0.015*\"mail\" + '\n",
      "  '0.015*\"program\" + 0.014*\"file\" + 0.014*\"thank\" + 0.012*\"computer\" + '\n",
      "  '0.011*\"card\" + 0.011*\"line\"'),\n",
      " (15,\n",
      "  '0.030*\"line\" + 0.030*\"organization\" + 0.025*\"write\" + 0.024*\"do\" + '\n",
      "  '0.019*\"article\" + 0.018*\"get\" + 0.014*\"go\" + 0.013*\"know\" + '\n",
      "  '0.012*\"nntp_poste\" + 0.011*\"make\"'),\n",
      " (16,\n",
      "  '0.082*\"space\" + 0.025*\"pa\" + 0.023*\"earth\" + 0.020*\"launch\" + 0.019*\"moon\" '\n",
      "  '+ 0.018*\"nasa\" + 0.018*\"mission\" + 0.017*\"orbit\" + 0.015*\"satellite\" + '\n",
      "  '0.013*\"resource\"'),\n",
      " (17,\n",
      "  '0.079*\"physical\" + 0.062*\"pin\" + 0.041*\"character\" + 0.038*\"wing\" + '\n",
      "  '0.035*\"motif\" + 0.029*\"medium\" + 0.026*\"processor\" + 0.025*\"richard\" + '\n",
      "  '0.015*\"insert\" + 0.015*\"kevin\"'),\n",
      " (18,\n",
      "  '0.077*\"david\" + 0.068*\"graphic\" + 0.060*\"display\" + 0.039*\"paul\" + '\n",
      "  '0.030*\"texas\" + 0.022*\"workstation\" + 0.019*\"wave\" + 0.017*\"russia\" + '\n",
      "  '0.016*\"bar\" + 0.015*\"consequence\"'),\n",
      " (19,\n",
      "  '0.250*\"drive\" + 0.065*\"scsi\" + 0.042*\"ide\" + 0.029*\"circuit\" + 0.024*\"mb\" + '\n",
      "  '0.019*\"device\" + 0.017*\"quadra\" + 0.014*\"dale\" + 0.014*\"stream\" + '\n",
      "  '0.014*\"interface\"')]\n"
     ]
    }
   ],
   "source": [
    "pprint(lda_model.print_topics())\n",
    "doc_lda = lda_model[corpus]"
   ]
  },
  {
   "cell_type": "code",
   "execution_count": 47,
   "metadata": {},
   "outputs": [
    {
     "name": "stdout",
     "output_type": "stream",
     "text": [
      "\n",
      "Perplexity:  -14.272926057194855\n",
      "\n",
      "Coherence Score:  0.5061935618822515\n"
     ]
    }
   ],
   "source": [
    "# Compute Perplexity\n",
    "print('\\nPerplexity: ', lda_model.log_perplexity(corpus))  # a measure of how good the model is. lower the better.\n",
    "\n",
    "# Compute Coherence Score\n",
    "coherence_model_lda = CoherenceModel(model=lda_model, texts=data_lemmatized, dictionary=id2word, coherence='c_v')\n",
    "coherence_lda = coherence_model_lda.get_coherence()\n",
    "print('\\nCoherence Score: ', coherence_lda)"
   ]
  },
  {
   "cell_type": "code",
   "execution_count": 48,
   "metadata": {},
   "outputs": [
    {
     "data": {
      "text/html": [
       "\n",
       "<link rel=\"stylesheet\" type=\"text/css\" href=\"https://cdn.jsdelivr.net/gh/bmabey/pyLDAvis@3.3.1/pyLDAvis/js/ldavis.v1.0.0.css\">\n",
       "\n",
       "\n",
       "<div id=\"ldavis_el530819135561012644888820682\"></div>\n",
       "<script type=\"text/javascript\">\n",
       "\n",
       "var ldavis_el530819135561012644888820682_data = {\"mdsDat\": {\"x\": [0.38008326555431154, 0.279469180063561, 0.336309083655599, 0.29305968449826214, -0.013477820281445695, 0.11840447084059921, 0.017860740988629446, 0.039168007698601535, -0.024299505587148162, -0.02406990116157666, -0.07762167752912094, -0.07947580444085257, -0.12196130612147214, -0.10284132182291784, -0.15362540519080478, -0.14265753461164862, -0.14886698508037158, -0.17902547016807277, -0.19596421592554442, -0.20046748537858808], \"y\": [-0.06029799080267183, 0.2520599719453011, -0.09302043593382028, -0.1094617923820533, -0.08317904088961138, -0.1644293452928469, 0.012756206487182172, 0.2604396175348592, 0.06584114708517123, 0.0889425686424387, -0.010119745054805592, 0.04999644477943947, -0.01574897139422746, -0.07060520040453983, -0.03641142597502145, -0.03559456616278868, 0.025234465184225376, -0.028790444911336546, -0.02438712517401954, -0.023224337280874564], \"topics\": [1, 2, 3, 4, 5, 6, 7, 8, 9, 10, 11, 12, 13, 14, 15, 16, 17, 18, 19, 20], \"cluster\": [1, 1, 1, 1, 1, 1, 1, 1, 1, 1, 1, 1, 1, 1, 1, 1, 1, 1, 1, 1], \"Freq\": [37.33071845823186, 12.66797533795542, 12.182215189344744, 10.963795104295473, 5.6344516764211106, 4.906855727484576, 2.555117879338079, 2.4321845513601623, 2.3179614778603868, 1.6082072298052097, 1.4939026247828182, 1.4429134548217497, 1.0669068872993916, 0.9683675043652766, 0.7296347542364399, 0.6940238775879826, 0.4912617928682154, 0.3414094170044345, 0.12047669688409776, 0.05162035805257569]}, \"tinfo\": {\"Term\": [\"ax\", \"_\", \"organization\", \"line\", \"drive\", \"people\", \"write\", \"max\", \"key\", \"article\", \"do\", \"year\", \"system\", \"god\", \"say\", \"use\", \"space\", \"get\", \"law\", \"team\", \"game\", \"car\", \"go\", \"believe\", \"state\", \"gun\", \"know\", \"right\", \"think\", \"evidence\", \"article\", \"go\", \"s\", \"ve\", \"back\", \"re\", \"bad\", \"hear\", \"lot\", \"probably\", \"maybe\", \"money\", \"ill\", \"remember\", \"turn\", \"sound\", \"face\", \"guess\", \"friend\", \"bike\", \"light\", \"pretty\", \"couple\", \"have\", \"cheap\", \"wonder\", \"stuff\", \"black\", \"tape\", \"nice\", \"write\", \"d\", \"put\", \"organization\", \"nntp_poste\", \"get\", \"want\", \"do\", \"m\", \"sure\", \"much\", \"really\", \"line\", \"host\", \"well\", \"time\", \"look\", \"know\", \"university\", \"good\", \"reply\", \"make\", \"see\", \"think\", \"take\", \"try\", \"come\", \"work\", \"say\", \"thing\", \"way\", \"window\", \"mail\", \"file\", \"card\", \"software\", \"email\", \"machine\", \"info\", \"copy\", \"version\", \"cpu\", \"entry\", \"memory\", \"color\", \"application\", \"hardware\", \"disk\", \"appreciate\", \"instal\", \"scan\", \"input\", \"package\", \"format\", \"unix\", \"motherboard\", \"library\", \"digital\", \"port\", \"feature\", \"ibm\", \"fax\", \"board\", \"pc\", \"program\", \"computer\", \"mac\", \"driver\", \"available\", \"system\", \"mode\", \"thank\", \"address\", \"include\", \"use\", \"user\", \"source\", \"send\", \"set\", \"run\", \"information\", \"support\", \"bit\", \"line\", \"also\", \"need\", \"problem\", \"work\", \"god\", \"believe\", \"evidence\", \"christian\", \"claim\", \"sense\", \"faith\", \"bible\", \"religion\", \"argument\", \"accept\", \"explain\", \"truth\", \"belief\", \"atheist\", \"certain\", \"conclusion\", \"christianity\", \"reality\", \"christ\", \"indeed\", \"lie\", \"logic\", \"family\", \"notice\", \"revelation\", \"nature\", \"knowledge\", \"associate\", \"therefore\", \"word\", \"exist\", \"true\", \"reason\", \"man\", \"human\", \"prove\", \"life\", \"science\", \"speak\", \"book\", \"say\", \"point\", \"mean\", \"question\", \"think\", \"many\", \"people\", \"fact\", \"thing\", \"come\", \"see\", \"know\", \"make\", \"way\", \"israel\", \"death\", \"american\", \"force\", \"whole\", \"die\", \"israeli\", \"discussion\", \"country\", \"church\", \"member\", \"president\", \"drug\", \"jew\", \"grant\", \"thus\", \"arab\", \"jewish\", \"choice\", \"flame\", \"lord\", \"clearly\", \"serve\", \"refer\", \"peace\", \"america\", \"trial\", \"germany\", \"bomb\", \"freedom\", \"action\", \"individual\", \"certainly\", \"military\", \"policy\", \"war\", \"state\", \"land\", \"kill\", \"issue\", \"people\", \"rule\", \"government\", \"situation\", \"city\", \"right\", \"group\", \"attack\", \"live\", \"case\", \"child\", \"fact\", \"world\", \"many\", \"year\", \"say\", \"ax\", \"_\", \"max\", \"screen\", \"mouse\", \"modem\", \"el\", \"cds\", \"honda\", \"ex\", \"default\", \"ron\", \"charle\", \"sam\", \"film\", \"stable\", \"fancy\", \"plot\", \"buffer\", \"ins_cwru\", \"mailing_list\", \"bolt\", \"catalog\", \"tight\", \"subscription\", \"parameter\", \"gt\", \"dirt\", \"log\", \"pp\", \"mr\", \"m\", \"team\", \"game\", \"win\", \"play\", \"player\", \"internet\", \"season\", \"division\", \"master\", \"fan\", \"canada\", \"series\", \"trade\", \"nhl\", \"cool\", \"score\", \"mike\", \"scott\", \"michael\", \"dave\", \"chicago\", \"star\", \"boston\", \"air\", \"pen\", \"peter\", \"baseball\", \"blue\", \"manager\", \"van\", \"miss\", \"goal\", \"year\", \"lose\", \"last\", \"run\", \"first\", \"next\", \"patient\", \"publish\", \"review\", \"paper\", \"disease\", \"college\", \"health\", \"headache\", \"scientific\", \"univ\", \"treatment\", \"doctor\", \"letter\", \"medical\", \"btw\", \"ice\", \"benefit\", \"statistic\", \"detroit\", \"percent\", \"conference\", \"australia\", \"exchange\", \"confirm\", \"primary\", \"publication\", \"medicine\", \"newspaper\", \"journal\", \"minnesota\", \"test\", \"report\", \"section\", \"study\", \"analysis\", \"special\", \"possibly\", \"april\", \"effect\", \"page\", \"national\", \"research\", \"service\", \"information\", \"office\", \"key\", \"encryption\", \"server\", \"clipper\", \"algorithm\", \"controller\", \"secure\", \"tap\", \"clipper_chip\", \"secret\", \"agency\", \"communication\", \"nsa\", \"announcement\", \"crypto\", \"data\", \"mu\", \"facility\", \"archive\", \"register\", \"privacy\", \"prize\", \"mo\", \"export\", \"unknown\", \"scheme\", \"motorola\", \"location\", \"warrant\", \"daniel\", \"chip\", \"security\", \"trust\", \"block\", \"technology\", \"public\", \"bit\", \"datum\", \"system\", \"message\", \"government\", \"information\", \"use\", \"phone\", \"car\", \"price\", \"sale\", \"sell\", \"model\", \"school\", \"distribution_na\", \"distribution\", \"corporation\", \"brain\", \"engine\", \"eat\", \"illinois\", \"corp\", \"mile\", \"dealer\", \"track\", \"hole\", \"warranty\", \"chris\", \"channel\", \"joseph\", \"dual\", \"oil\", \"co\", \"frame\", \"expansion\", \"daughter\", \"probe\", \"heat\", \"direct\", \"replace\", \"radio\", \"hot\", \"steal\", \"buy\", \"unit\", \"owner\", \"drive\", \"space\", \"pa\", \"launch\", \"moon\", \"nasa\", \"mission\", \"orbit\", \"satellite\", \"resource\", \"plane\", \"mar\", \"flight\", \"pub\", \"sci\", \"dan\", \"astronomy\", \"shuttle\", \"collin\", \"sky\", \"lunar\", \"radiation\", \"environmental\", \"solar\", \"space_station\", \"variable\", \"ozone\", \"extension\", \"sgi\", \"apollo\", \"planetary\", \"rocket\", \"earth\", \"fuel\", \"project\", \"surface\", \"research\", \"nuclear\", \"science\", \"image\", \"sun\", \"gun\", \"crime\", \"police\", \"weapon\", \"firearm\", \"rsa\", \"weight\", \"arm\", \"cop\", \"terrorism\", \"significant\", \"particularly\", \"effective\", \"impact\", \"united_state\", \"cub\", \"prior\", \"meeting\", \"inhabitant\", \"role\", \"consideration\", \"officer\", \"informed\", \"director\", \"regularly\", \"handgun\", \"ammunition\", \"threat\", \"effectively\", \"invite\", \"criminal\", \"safety\", \"license\", \"fire\", \"rate\", \"shoot\", \"carry\", \"increase\", \"public\", \"law\", \"suggest\", \"ride\", \"clinton\", \"legal\", \"pgp\", \"tax\", \"federal\", \"congress\", \"rider\", \"cycle\", \"homosexual\", \"administration\", \"legitimate\", \"solid\", \"panel\", \"restriction\", \"prohibit\", \"cryptography\", \"meaning\", \"sufficient\", \"regulation\", \"previously\", \"partner\", \"cbr\", \"flow\", \"assure\", \"investment\", \"hmmm\", \"introduce\", \"bill\", \"ignore\", \"community\", \"public\", \"private\", \"sentence\", \"court\", \"obtain\", \"industry\", \"concern\", \"break\", \"require\", \"self\", \"normal\", \"son\", \"proof\", \"father\", \"alone\", \"islam\", \"iran\", \"vote\", \"helmet\", \"imply\", \"specify\", \"planet\", \"economic\", \"concerned\", \"observation\", \"devil\", \"task\", \"ban\", \"islamic\", \"strip\", \"soul\", \"relation\", \"remind\", \"spacecraft\", \"immediate\", \"green\", \"penalty\", \"assist\", \"attention\", \"muslim\", \"concern\", \"armenian\", \"village\", \"turk\", \"turkish\", \"occupy\", \"turkey\", \"escape\", \"armenia\", \"preach\", \"massacre\", \"genocide\", \"moslem\", \"soviet\", \"slaughter\", \"netcom\", \"kurd\", \"occupation\", \"republic\", \"services_gu\", \"holocaust\", \"survivor\", \"television\", \"serdar_argic\", \"longer_exist\", \"homeland\", \"remainder\", \"might_serve\", \"mountain_passe\", \"appressian\", \"soul_sahak\", \"melkonian\", \"greek\", \"soldier\", \"wwii\", \"proceed\", \"russian\", \"nazi\", \"troop\", \"kill\", \"woman\", \"close\", \"murder\", \"road\", \"david\", \"graphic\", \"display\", \"paul\", \"texas\", \"workstation\", \"wave\", \"russia\", \"bar\", \"consequence\", \"please_respond\", \"virginia\", \"amp\", \"expand\", \"saturday\", \"programmer\", \"soft\", \"austin\", \"impressive\", \"mix\", \"exposure\", \"scare\", \"scope\", \"platform\", \"kenneth\", \"harry\", \"winter\", \"thumb\", \"lance\", \"peripheral\", \"fi\", \"ken\", \"cold\", \"physical\", \"pin\", \"character\", \"wing\", \"motif\", \"medium\", \"processor\", \"richard\", \"insert\", \"kevin\", \"adam\", \"roger\", \"related\", \"receiver\", \"uk\", \"human_being\", \"speaker\", \"sys\", \"tel\", \"tip\", \"england\", \"kit\", \"qualified\", \"rom\", \"conservative\", \"positively\", \"ho\", \"deficit\", \"responce\", \"download\", \"obtain\", \"scsi\", \"ide\", \"circuit\", \"mb\", \"quadra\", \"dale\", \"stream\", \"voltage\", \"suitable\", \"bell_lab\", \"converter\", \"esdi\", \"acquisition\", \"checking\", \"synchronous\", \"scsi_controller\", \"changing_oil\", \"seattle_wa\", \"bare\", \"carrying\", \"stall\", \"mb_burst\", \"cradle\", \"grubb\", \"las_cruce\", \"churchill\", \"drive\", \"fasst\", \"interface\", \"device\", \"speed\", \"mac\", \"fast\", \"wide\", \"chip\", \"mode\", \"bit\", \"video\", \"route\", \"mhz\", \"md\", \"zone\", \"km\", \"radius\", \"rs\", \"pop\", \"recommendation\", \"suck\", \"paint\", \"variation\", \"axis\", \"n\", \"ducati\", \"smartdrv\", \"adjust\", \"minimal\", \"developer\", \"space_dig\", \"thick\", \"added_forwarde\", \"bk\", \"sez\", \"mate\", \"richardson_tx\", \"ns_simms\", \"circumference\", \"tom_mcwilliam\", \"apple\", \"multiple\", \"reflect\", \"fuzzy\", \"absurd\", \"judaism\", \"ibm_pc\", \"cart\", \"centris\", \"sleeve\", \"fpu\", \"promo_picture\", \"math_coprocessor\", \"christian_bauer\", \"doublespin\", \"bootable\", \"chung\", \"cd\", \"rodney_jack\", \"thompson\", \"capitol_picture\", \"sleeve_beach\", \"lc\", \"duo_dock\", \"morrow_stanford\", \"cupertino\", \"rolling_stone\", \"donpaul\", \"inexpencive\", \"hsiung\", \"mccartney\", \"keyboard\", \"ship\", \"ethernet\", \"noah\", \"vram\", \"manufacturer\", \"trivial\", \"allen\", \"click\", \"ms_window\", \"rude\", \"sphere\", \"hitachi\", \"farin\", \"exactly_fitting\", \"embarasse\", \"equi\", \"hyper\", \"specifie\", \"dietrijj\", \"keaggy\", \"hcrlgw\", \"straightforward\", \"mimic\", \"central\", \"sampler\", \"infinitely\", \"tokyo\", \"geometry\", \"computing_center\", \"researcher\", \"steven\", \"pentecostal\", \"krogh\", \"eigil\", \"timmer\", \"circle\", \"familiar\", \"p\", \"loss\", \"phil\", \"capable\"], \"Freq\": [50760.0, 8392.0, 17486.0, 19142.0, 2474.0, 8297.0, 14550.0, 4068.0, 2967.0, 11070.0, 14548.0, 5312.0, 5715.0, 4327.0, 9032.0, 6498.0, 2026.0, 10972.0, 1935.0, 2718.0, 2692.0, 2139.0, 7852.0, 3432.0, 3769.0, 1630.0, 9013.0, 4161.0, 7718.0, 2995.0, 11069.269851711353, 7850.986804402764, 4481.38490931137, 3044.011295656243, 2877.2166748016557, 2351.332874046896, 2295.592202389086, 2215.063338391962, 2115.0703116638188, 2057.8144305378996, 1540.3694640036442, 1454.9635611906385, 1405.7472487250457, 1353.0736564472104, 1345.002493149902, 1197.8233426760175, 1096.7696293269862, 1027.6115685312625, 976.5163749955013, 974.6216966068419, 963.3548090996516, 960.5849459355093, 946.3586940976346, 899.5754353010952, 881.4762408741382, 880.9538628782922, 880.5626626157401, 878.9616010538896, 801.4892848910793, 798.3912107722929, 14256.836512959233, 3123.8884036187387, 2065.5861779927504, 16936.8487954661, 7124.7836734303, 10576.437240697087, 4791.195787268327, 13759.301766773478, 5868.915783500145, 2762.728375233821, 3707.827683105411, 3058.7786556439555, 17003.561737974007, 5911.488290382229, 5854.806178528766, 6181.457397929453, 3980.1734538936566, 7647.364301547297, 6101.98875396575, 5938.928432567496, 3702.5336484056434, 6401.517643900857, 5026.200696464518, 5864.125130020822, 4110.6798344794515, 3489.3183738709395, 3661.279584391728, 3717.0413191408593, 4260.970056865817, 3435.85918161109, 3265.4825021247857, 3019.54305835106, 2994.1370710312226, 2811.9461345058958, 2229.8962153939046, 1836.3528556976544, 1609.3604806030205, 1600.3446764974685, 1473.8008702316463, 1372.7742469267753, 1323.5821638725392, 1296.4286225998003, 1220.747729253512, 1141.7427286211973, 1119.1504705470904, 1031.6087389741535, 1006.1110989411766, 978.7815808401491, 850.3884345382248, 835.6750526394518, 826.6762581193592, 777.1088784667987, 774.4594545784831, 674.5350614590236, 639.7245376723275, 596.8925467172988, 596.5177929780849, 580.8012526815486, 560.3584452550773, 509.8941718756148, 508.9501398826262, 1069.5466288576147, 950.9241322542558, 820.7231746381755, 2854.1083730334663, 2417.7701629929907, 1577.0064395291513, 1688.9434452348762, 1644.589503525577, 4124.799140443937, 886.4318366029024, 2660.0217648219063, 1294.038775842775, 1907.9016864486014, 3680.5029777510454, 987.0058058862168, 1444.1923391086339, 1596.0604323981781, 1559.0694697562944, 1990.362890083807, 1502.7431322731588, 1327.372858563956, 1373.0224240167472, 2133.5311232700533, 1653.4746595385589, 1570.53175891939, 1518.661932826579, 1345.4060953523908, 4326.3201549454, 3430.9059194727834, 2994.5539307276304, 2375.9531135559396, 2085.892682817759, 1758.5382038240182, 1460.8077448800093, 1209.6442951019287, 1093.606253867119, 1049.711234244501, 1029.2202676096747, 1015.7828835305842, 945.5232186638987, 944.1478096537829, 941.727357777998, 685.8947563603144, 672.3030651026155, 619.6267619681722, 590.5858638304971, 574.2320871267818, 573.0637986346685, 557.7903461955092, 527.5603213535546, 518.4082568766099, 516.6348336637631, 503.6889964724918, 499.8300119000503, 497.98432925002606, 497.9570960124143, 492.37871966660487, 1341.7489894490204, 1652.3157000802369, 1530.5368401525852, 2947.3222739511075, 1975.987514488821, 780.0178719610856, 916.0678184687722, 1392.9088449849498, 1054.1853158562271, 886.8906671358895, 1466.1155289926799, 3894.327224361101, 1974.266513083198, 1570.5016598513712, 1670.1474672226436, 1853.1527358018852, 1380.989126604458, 1681.0828737274119, 1146.9628658989618, 1300.6154897259507, 1249.6600139828327, 1299.8975067330691, 1364.5773161324137, 1336.5581429444974, 1137.5439939998562, 2057.4682064290337, 1388.054130411788, 1246.981066755915, 1166.5701158206082, 1148.826355841449, 1115.1733657942143, 1093.3581365164894, 1068.122544146903, 994.4100391815393, 981.517353238642, 928.8475985697484, 797.2030852610567, 793.2269914717833, 713.5323748213746, 694.5336986583744, 672.3003205960675, 667.4039862606505, 647.7053024085546, 551.5028529964867, 535.1301355396582, 527.0664807710642, 502.8993994951132, 488.60928223954744, 475.5821074319462, 466.76069502507505, 465.95223488904196, 463.39036883833467, 435.319978285333, 428.1514281527983, 409.8751549134238, 846.4074514539811, 645.748890740317, 840.6733317540992, 612.758400279591, 498.4867160900277, 895.6992843495981, 3077.79305568755, 561.1559821290952, 1342.7830251644727, 1738.9719511044837, 5535.204287125964, 1099.0879494405003, 1823.4878075801196, 918.4018660668141, 855.0163048953565, 2488.596517216488, 1853.718398605081, 879.3216336767719, 1228.6316957842546, 1300.9715138219547, 924.7013479810562, 992.6083190720923, 948.7124848179632, 1042.0085261096308, 982.0564832726958, 876.376973556134, 50759.40463927491, 8391.39717760576, 4067.3463404159866, 1719.909118153584, 1142.6930202092783, 581.7192260001856, 482.55897878411224, 435.6291175285492, 435.1369569926879, 423.0828066188183, 387.9800499690685, 375.649678015628, 370.30536993676276, 318.5050107535389, 293.9797619017884, 240.8498650354858, 219.7112682047065, 216.98050158796545, 201.13106107690191, 195.70148004828278, 192.20363918343708, 190.6045802257115, 190.23902124715352, 181.53858475863763, 175.3095748563347, 175.04942998437434, 172.39800061182385, 169.41823617696002, 168.71594160363892, 167.2871870929914, 684.1978746837698, 282.34946114721225, 2717.1800302786082, 2691.364131021698, 1909.3684969468627, 1756.8414746566261, 1262.0425330845053, 1218.2553138626959, 859.3731007121617, 827.2945749386222, 821.4503914024548, 812.9876800091553, 739.8071894567674, 673.5999775782792, 672.7152194974799, 664.227836089252, 642.8942531808416, 636.2191414146278, 625.6733970336651, 613.8871129020832, 588.1378000490992, 561.5359359075306, 547.7959716392809, 536.0109841903018, 525.8875027466579, 522.6603050666896, 480.56150677559157, 449.21231239789745, 446.59003467486, 436.1209697948396, 430.84918401410647, 419.2393888984045, 695.1424315221632, 656.2589855402297, 2284.838715043469, 617.504857363816, 716.2408592882872, 730.7644754397957, 691.8227838771649, 582.7058213987101, 1025.7682238848001, 664.915260344363, 623.1207645303443, 537.8022035245018, 537.0103784284547, 516.1338614112611, 512.8460079829498, 488.95942416136813, 485.7536183392293, 474.1103768600865, 439.3201479523696, 392.9902955165437, 369.85757882374077, 358.5073071554286, 347.9085302429408, 316.7152932085005, 312.54761789656095, 295.41218703608234, 258.49726091051394, 243.0671829746841, 231.80594828824826, 218.2050246472351, 212.94328392487333, 200.31930346643193, 192.26712292818, 187.742843463167, 184.2250158504724, 182.28687839194075, 172.35059575144652, 172.32658003754014, 1177.3663594755392, 1450.1218008295377, 773.5411081943979, 817.6314040633398, 332.1302062064457, 458.1191962225244, 380.4319385438222, 567.740053787629, 503.76533077292737, 465.1556544049135, 549.9869665039928, 573.4995548538438, 479.56296586210857, 560.6448337520648, 371.42177555761, 2965.8176036392797, 833.5024369102749, 770.6482677796439, 654.8982460610841, 603.0992688477985, 600.4057887374055, 479.45974899554597, 463.15732930251824, 458.89382210940965, 449.85731585162455, 440.95067530239186, 434.7081925901391, 376.56521645261836, 370.54991187525695, 300.5035518972775, 286.13659333068074, 259.53983217972376, 255.40223010373495, 247.72347712469136, 241.56579970793788, 231.88561048728383, 216.2375221893539, 215.94607129875843, 215.66302797944962, 208.77008760845638, 204.8881695030645, 189.26019684056845, 200.40656921593833, 181.2193624237151, 157.40451722079698, 1541.1575674388464, 695.2581319243054, 359.4563300146397, 424.12573547650493, 718.9921497941718, 450.3846651266692, 518.7564939953612, 409.5255710327927, 569.0154959819768, 403.5638386658614, 417.9196276697777, 409.91926771800286, 392.6696413160473, 275.55568223738646, 2138.470792244995, 1397.5942246222712, 1371.4773760394169, 1270.987471992441, 975.4569771635621, 787.0776098300171, 762.1523395665927, 651.5611703608146, 593.9126589458316, 587.5592300972686, 569.7579347158007, 480.0245182174011, 433.94836856931926, 422.93395073541564, 382.05779483709574, 378.1559618956554, 376.85568201952105, 353.6836423771959, 326.3591900245785, 310.4437987755458, 303.90832875769786, 265.5297094944714, 254.10415939446906, 235.76518366596278, 234.29872251870424, 227.17934998715333, 221.7630788787575, 207.58530668092274, 204.48991148395365, 192.2021822228757, 458.76235466214234, 550.3952505711522, 363.25984226453215, 308.30688443860925, 379.369128218427, 782.9837694784853, 364.8203701564139, 311.04382607088604, 590.9663600357468, 2025.7355471390879, 610.4115790488474, 504.3775623258751, 462.5599805253153, 452.9166150260362, 442.69099870861464, 431.5676787112685, 362.4004808156251, 313.66269206089146, 312.3490555586956, 309.3476359798904, 284.8398752648107, 265.1146758149826, 257.1423467322313, 236.9145637031671, 231.83835009796775, 226.0259955842474, 225.05406905285045, 200.77024035762602, 167.19726444175998, 159.41289307202223, 150.87770162258093, 148.75594114003226, 143.0403910509806, 140.39894426158168, 130.69743638004425, 125.3952002939918, 121.9557831919438, 120.90845074598232, 120.5872204013325, 260.28490688653824, 557.410536296081, 167.39289483579853, 251.43646789680696, 183.20625597016826, 271.4754202731003, 155.6259770302583, 201.0812596043249, 192.01681396885098, 178.3937390879807, 1629.198761157108, 568.3942420495189, 524.6601635942052, 515.2134090573766, 499.58558702414047, 424.56863550614725, 373.5604886251652, 352.8020707227126, 351.8409895854214, 348.4294481648461, 334.14988823064476, 323.0571451409538, 288.05380105104314, 278.9653553506694, 274.96301299828, 274.88873076019416, 263.2465210377906, 244.88169408093222, 197.5308964632462, 184.5098880480989, 180.876417504831, 169.49455838448617, 155.53376549209074, 150.8153069412515, 148.98969450470986, 146.40634348954413, 144.987960323474, 138.5858279475921, 120.14073306813678, 116.97973682347813, 339.8575424975393, 444.99947321990237, 293.28927977007055, 354.7000341871859, 364.39712050654396, 277.0426809319578, 323.1033661486223, 249.15235727839243, 232.16517668998688, 1933.847840423631, 793.8163810721593, 493.5172399394306, 464.5481160082754, 432.21717396723966, 360.34634718617144, 299.6091262549632, 294.4527706768228, 293.1244126847949, 287.15140827796625, 279.26197298071656, 269.24181428201996, 260.86224953279395, 193.28129211619557, 192.0107273530719, 170.19238189410623, 170.0289985397826, 169.97281296845847, 163.61072451076004, 162.71111642874106, 155.19681153900592, 139.44338521736046, 135.74143416882407, 132.4625443957825, 130.45057123981746, 126.55207374661977, 124.9081923435078, 124.34480111116773, 113.06817556966496, 111.73367550124142, 522.1511878761352, 360.5711306934571, 408.3819190190984, 951.295097658123, 439.4374939352648, 187.88372606806024, 258.59759588833003, 231.50108387304144, 205.72662288542813, 215.4980481010949, 172.69694751590424, 168.39865856013355, 540.0092499704771, 459.2426957530031, 395.20838979017134, 384.99240305255495, 379.76767122503895, 364.80960370263165, 326.0502713305759, 319.86782694142664, 318.51503242110675, 249.43471420063707, 242.88574762716388, 238.1035703822085, 236.84756515056387, 233.33730370525453, 230.87005314447504, 219.50443642871005, 209.48516771002306, 197.79289666998375, 195.1301168108726, 191.97136614233793, 184.84934480067568, 176.06149918127096, 174.11964788471457, 172.04159663966328, 167.81827047575393, 167.60494084847053, 163.0226972640617, 158.25513518645627, 157.46049070682983, 155.463699182644, 349.1361397404517, 218.42920816797812, 790.2665850283198, 573.9865529244244, 492.7334023423405, 402.5543979238887, 336.2554732807555, 315.055512237529, 187.2441168674487, 173.77360021007078, 163.07069248369746, 160.52315771311933, 156.2954929772441, 156.0315838064851, 142.6252496823805, 139.60313764152767, 123.75800557746169, 108.39508629193917, 100.70823199659674, 90.17520741298124, 86.04612649491615, 81.10281959682204, 69.87910657728617, 67.97731172067331, 66.06362787971814, 59.71125847608789, 59.29715664449227, 57.5003050711362, 57.24760709503623, 57.20496513287064, 57.097732580377496, 57.097732580377496, 57.097732580377496, 609.7331254905457, 574.268126124276, 117.93110300012181, 139.25853000113145, 153.96841967548286, 85.63381596462632, 92.64658075506735, 134.88437969901386, 103.97797242336749, 113.06598398334829, 94.62717212047147, 93.57823033961303, 862.9239599562031, 766.1354260045481, 673.2385843309326, 438.1641119265403, 339.1581888508305, 249.79724247885468, 213.39118035750317, 192.44032689264805, 183.67693209311938, 165.70157649525498, 157.51343092870468, 157.3857992639032, 154.1220931308047, 140.12909352583438, 136.99241456328957, 120.64034488935917, 102.86648389998794, 97.76935713564474, 97.28000861974084, 96.98612019216677, 90.39284931990409, 84.86833470005588, 82.70320827264882, 80.53119790643713, 73.20669744063599, 72.85849833159202, 69.53744341231271, 63.36906946236154, 59.256372002865554, 57.48655354657193, 99.67073125819319, 97.58875926795896, 74.56139510572899, 843.5785459443213, 663.9829912342209, 437.1304303067559, 401.7961605900403, 370.01025968097133, 303.55652349095385, 271.5832349866083, 265.1999224536598, 162.97270270600347, 158.0477855355102, 157.92362712670462, 155.1254530866678, 151.9825223535119, 141.2093218072746, 139.7857629705733, 121.90910336212717, 116.28097215696324, 103.0835895837992, 97.98962504928863, 96.98391616250322, 94.2839565392691, 92.72382741833705, 90.29353859008293, 84.23922006500905, 83.04714964453377, 81.85643739253554, 81.14142117120859, 78.36382784473616, 75.66816082698054, 70.05202512442399, 111.75564401423483, 490.1804903202719, 312.84410001109154, 217.30351466308232, 184.2193345609719, 130.83984055501028, 107.6267645853698, 104.40981882362789, 77.26645081308368, 72.22495115821279, 54.78420829911055, 45.9015822567339, 37.84542880669961, 31.595864895117654, 27.539150462508562, 22.781610414734445, 21.772703134191026, 21.549964433847265, 20.326109439202167, 17.745694797064314, 15.586098671889873, 11.062658375327288, 7.572806172176128, 7.151659595220088, 6.781940807937597, 6.723442185107386, 4.994373924646148, 1882.0712095763215, 2.03478793775099, 102.03768894451144, 146.26138293113166, 74.30251474191459, 65.15578812515011, 51.93375642475033, 27.56836183650473, 45.511643483034, 27.12318793516868, 22.238337803944432, 493.58631985196774, 257.8016772785029, 254.02719693789913, 203.65485952568858, 153.66935894597935, 115.1407088884711, 91.22374460239804, 89.92392368713823, 88.4868503600139, 73.34138516007506, 64.74893746328159, 61.243602352865075, 54.06743822226008, 37.71430883059055, 35.144434933627664, 33.795153601897916, 33.233171689816515, 32.037370292708495, 28.389410984907684, 28.08734009885404, 27.99405195976378, 26.93188927223234, 23.574506253598997, 17.836624894338854, 14.188888699735985, 9.77756404435647, 8.159227093477964, 5.503696016473463, 5.390697716101868, 5.342532087698661, 184.37581643998735, 79.37738357485541, 45.43216930222771, 18.245199537910324, 15.328797637122607, 9.719333645423259, 7.652639744127972, 6.58021619997981, 0.020853405442418337, 0.020852692872279664, 0.02085260884278218, 0.020852476076176154, 0.02085236683782942, 0.020852185334114856, 0.020852183653524904, 0.020852176931165107, 0.020852180292345007, 0.020853123103306788, 0.02085203408101938, 0.020852171889395258, 0.02085204248396913, 0.02085204248396913, 0.020852077776358075, 0.020851966857421394, 0.02085183072963547, 0.020851797117836475, 0.020851827368455568, 0.020851790395476674, 0.020851790395476674, 0.020851788714886726, 0.020851827368455568, 0.02085232482308068, 0.020852234071223396, 0.020852229029453547, 0.020851864341434462, 0.020851946690342, 0.020851970218601294, 23.43407921093907, 16.887152572403142, 14.46533435986674, 12.718693266817468, 3.4576680581802735, 0.01014804474362291, 0.010147352748377718, 0.010147048875335603, 0.010147048875335603, 0.010147048875335603, 0.010147030153299832, 0.010147030153299832, 0.010147030153299832, 0.010146930062416293, 0.010146930062416293, 0.010147030153299832, 0.010147048875335603, 0.010146930062416293, 0.010147352748377718, 0.010146930062416293, 0.010146947344295465, 0.010147030153299832, 0.010147050315492201, 0.010146930062416293, 0.010147030873378132, 0.01014735778892581, 0.010146855174273214, 0.010146796127852707, 0.010146796127852707, 0.010146822050671467, 0.010147053915883695, 0.01014693222265119, 0.010146892618344753, 0.010147049595413902, 0.010146953104921856, 0.010146930782494592], \"Total\": [50760.0, 8392.0, 17486.0, 19142.0, 2474.0, 8297.0, 14550.0, 4068.0, 2967.0, 11070.0, 14548.0, 5312.0, 5715.0, 4327.0, 9032.0, 6498.0, 2026.0, 10972.0, 1935.0, 2718.0, 2692.0, 2139.0, 7852.0, 3432.0, 3769.0, 1630.0, 9013.0, 4161.0, 7718.0, 2995.0, 11070.461304203887, 7852.178256895298, 4482.576361803904, 3045.202748148777, 2878.40812729419, 2352.52432653943, 2296.7836548816204, 2216.2547908844963, 2116.261764156353, 2059.005883030434, 1541.560916496179, 1456.1550136831734, 1406.9387012175805, 1354.2651089397452, 1346.1939456424368, 1199.0147951685524, 1097.9610818239764, 1028.8030210237973, 977.7078274880357, 975.8131490993762, 964.5462615921859, 961.7763984280436, 947.5501465946244, 900.7668877936296, 882.6676933666726, 882.1453153708266, 881.7541151082745, 880.1530535608686, 802.6807374006459, 799.5826632648273, 14550.404616214459, 3168.065464540393, 2086.283976630285, 17486.99147625571, 7308.495456328264, 10972.812949138446, 4929.179678048645, 14548.842550487365, 6152.319998221967, 2835.268714710622, 3904.84367042692, 3204.376517583862, 19142.923879277976, 6586.560085123249, 6617.718355321497, 7067.697764806972, 4382.233304365253, 9013.067382483165, 7112.310710181021, 6918.849333721958, 4228.747948219477, 8490.455796196846, 6327.223968005818, 7718.40363062616, 4937.624711995354, 4416.964184515256, 4912.06536319152, 5100.844351220919, 9032.725389352796, 4737.600436140493, 4593.9936900125285, 3020.7297801195205, 2995.323792799683, 2813.132856274356, 2231.082937179108, 1837.5395774661154, 1610.5472023714815, 1601.5313982659295, 1474.9875920001073, 1373.9609686952363, 1324.7688856410002, 1297.6153443864482, 1221.9344510328883, 1142.9294503896583, 1120.3371923155514, 1032.7954607478243, 1007.2978207096372, 979.9683026120362, 851.5751563066855, 836.8617744113388, 827.862979957537, 778.2956002401, 775.6461763469438, 675.7217832274843, 640.9112594407882, 598.0792684857595, 597.7045147465456, 581.9879744623338, 561.5451670269644, 511.08089364407573, 510.13686165108714, 1079.6056291900047, 966.2762617848858, 831.0308651434981, 3006.2752270504534, 2535.667551099844, 1643.3064394360204, 1769.8522413698324, 1732.184348870472, 5715.7557554082705, 914.699236315027, 3626.1579067680273, 1523.69883778895, 2583.351002509357, 6498.238711875219, 1065.6601045032742, 1938.5496908584103, 2286.1821329599147, 2229.192984175022, 3478.977386697642, 2474.360716018401, 2128.149319435441, 2480.682171035824, 19142.923879277976, 6187.1645419491015, 4941.237267748015, 4438.446702053393, 5100.844351220919, 4327.521291866954, 3432.1261509396018, 2995.7550676491855, 2377.1542504774948, 2087.093885082709, 1759.739340745574, 1462.0088818015652, 1210.8454320234846, 1094.8073907886749, 1050.9123711660568, 1030.4214045379847, 1016.9840204521397, 946.7243555854542, 945.3489465753385, 942.9284946995535, 687.09589328187, 673.504202024171, 620.8278988897277, 591.7870007635862, 575.4332240483374, 574.264935556224, 558.9914831238189, 528.7614583098821, 519.6093938068618, 517.8359705989774, 504.89013339404755, 501.03114882160605, 499.1854661715818, 499.1582329736435, 493.57985659337044, 1376.1909167339174, 1760.1902383401055, 1648.3275328676805, 3458.314716231935, 2243.239278560727, 826.1229069926898, 992.5940927685889, 1649.2975543465614, 1256.402010216371, 1010.6409590958636, 1973.0271371928284, 9032.725389352796, 3937.702871572424, 3178.286321080108, 3596.484737444703, 7718.40363062616, 4108.107752291817, 8297.894343583897, 2350.1321063951927, 4737.600436140493, 4912.06536319152, 6327.223968005818, 9013.067382483165, 8490.455796196846, 4593.9936900125285, 2058.6604008059608, 1389.2463247954697, 1248.1732611328425, 1167.7623101975357, 1150.0185502183765, 1116.3655601711419, 1094.550330893417, 1069.314738529141, 995.6022335584665, 982.7095476208798, 930.0397929466756, 798.3952849264741, 794.4191858487105, 714.7245691983018, 695.7258930353016, 673.4925149824455, 668.5961806375777, 648.8974967854818, 552.6950473789362, 536.3223299165854, 528.258675153302, 504.0915938720407, 489.80147661647493, 476.7743018141842, 467.95288940200254, 467.14442926596945, 464.58256321526216, 436.51217266568693, 429.34362254168974, 411.0673492903513, 860.8731995164231, 655.36788183133, 861.9550243995878, 622.7824105780012, 502.15780752712755, 954.0735379154443, 3769.0074045065185, 573.2749940183642, 1535.6367563831286, 2070.3544710957112, 8297.894343583897, 1252.0873487241915, 2278.8489041254315, 1022.5235038190374, 975.6922105910518, 4161.086432992785, 3073.9644974159423, 1025.9449734719626, 1822.442911135805, 3215.958401710807, 1631.223563512132, 2350.1321063951927, 2044.6216412486533, 4108.107752291817, 5312.858148199822, 9032.725389352796, 50760.53476496762, 8392.527303361812, 4068.4764661086992, 1721.039243907692, 1143.8231459438628, 582.8493517342156, 483.68910456127776, 436.75924325933687, 436.2670827812183, 424.21293252349074, 389.1101758062998, 376.77980383633985, 371.43549589605954, 319.635136661506, 295.10988768495173, 241.9799911314973, 220.84139412285006, 218.11062740355112, 202.26118683008355, 196.83160581984092, 193.33376501255296, 191.7347061590202, 191.36914719004037, 182.66871067753428, 176.4397011495868, 176.17955585372854, 173.5281263441654, 170.5483622381591, 169.84606738111515, 168.41731298007613, 1290.5778445911499, 6152.319998221967, 2718.37005838467, 2692.5541591277597, 1910.558525052925, 1758.0315027742217, 1263.2325611905676, 1219.4453419785214, 860.5631288182235, 828.4846030543492, 822.6404195976573, 814.1777081152171, 740.9972175828343, 674.7900056877675, 673.9052476035417, 665.4178641953139, 644.0842813239456, 637.4091695206896, 626.8634251397269, 615.0771410252304, 589.3278281606832, 562.7259640135925, 548.9859997453427, 537.2010122963636, 527.0775308527197, 523.8503331880057, 481.7515348869641, 450.40234050395946, 447.78006278092204, 437.3109979089852, 432.0392121201685, 420.42941701122066, 721.1514755093721, 719.160517051193, 5312.858148199822, 1387.3276712054376, 2408.833903305817, 3478.977386697642, 4151.819476022326, 1818.3282597509751, 1026.9632003910333, 666.11023685735, 624.3157410463403, 538.9971800307346, 538.2053549399981, 517.328837917494, 514.0409844891826, 490.15440069754936, 486.94859484546225, 475.3053533663194, 440.51512445860254, 394.18527202277664, 371.0525553352842, 359.7022836616615, 349.1035067626209, 317.91026971473343, 313.74259440810437, 296.6071635470946, 259.69223742158755, 244.26215948091692, 233.00092479448108, 219.40000118236696, 214.1382604721961, 201.51427999798025, 193.46209944422418, 188.9378199693998, 185.41999235670522, 183.48185489817357, 173.54557225767934, 173.52155654377296, 1190.4938845665968, 1503.131465560902, 794.0146284281536, 947.5633136635861, 362.7669659434255, 565.4644500926612, 450.4675558016803, 776.2806469998786, 815.6328117730407, 768.0307301053259, 1145.725404235916, 1648.090514531895, 1160.437174684957, 2474.360716018401, 797.6523196783154, 2967.014255909875, 834.6990891808706, 771.8449200502396, 656.0948983316798, 604.2959211183942, 601.6024410203763, 480.65640126614176, 464.353981573114, 460.09047438000545, 451.05396812743015, 442.14732757298765, 435.90484486416136, 377.76186872321415, 371.74656416184155, 301.70020416787327, 287.33324561468055, 260.736484920555, 256.5988823796412, 248.92012940080932, 242.76245198374338, 233.08226275787953, 217.4341744792169, 217.14272359376608, 216.85968025004533, 209.96673992797275, 206.0848217736602, 190.45684911116416, 201.72100676426382, 182.4160146943108, 158.60116949139268, 1587.8233532009717, 866.2581875236547, 427.0695433230172, 679.0048749507699, 1650.6630682874984, 1634.9110689263496, 2480.682171035824, 1600.2324493188314, 5715.7557554082705, 1945.859490959743, 2278.8489041254315, 2474.360716018401, 6498.238711875219, 1216.7624857406888, 2139.6696081442724, 1398.7930405215488, 1372.6761919386945, 1272.1862878917186, 976.6557930662659, 788.2764257505938, 763.351155470111, 652.7599862748872, 595.1114748618522, 588.7580460292054, 570.9567506150781, 481.2233341301257, 435.1471844685967, 424.1327666648835, 383.25661074312734, 379.3547777949329, 378.0544979389567, 354.88245827647336, 327.55800594019837, 311.6426146748233, 305.1071446646427, 266.72852540786903, 255.3029753249622, 236.96399956524016, 235.49753841798162, 228.37816589671547, 222.9618947780349, 208.78412260214733, 205.68872739329476, 193.40099812215308, 467.06546888209016, 583.0523630751896, 449.96689292982785, 364.8959959802707, 504.77375936829384, 1740.0576792062475, 508.20164574052404, 420.67306931263596, 2474.1938755198407, 2026.9366695839885, 611.6127015180983, 505.57868477077557, 463.7611029702158, 454.1177374709367, 443.8921211535151, 432.768801156169, 363.60160326052556, 314.86381451555775, 313.55017801035024, 310.5487584247909, 286.0409977097112, 266.3157982696463, 258.3434691771318, 238.1156861480675, 233.03947254286817, 227.22711802914782, 226.255191561991, 201.97136282693842, 168.3983868866604, 160.61401560192067, 152.07882412746923, 149.95706358493268, 144.241513495881, 141.6000667412923, 131.89855882494467, 126.59632275368747, 123.15690564056496, 122.10957319088278, 121.78834284623296, 290.7978571630884, 1029.8181920086495, 216.80800247377965, 514.575265977462, 304.58612149802707, 1648.090514531895, 216.01161287516803, 1256.402010216371, 1284.4238888408556, 956.2608263187182, 1630.400666607356, 569.5961474997669, 525.8620690444532, 516.4153145076245, 500.78749247438844, 425.7705409796723, 374.7623941167941, 354.0039761797147, 353.0428950356694, 349.6313537025065, 335.351793699007, 324.2590506378187, 289.2557065066016, 280.16726081098113, 276.1649184718258, 276.09063622026684, 264.44842651486016, 246.0835995404148, 198.7328019317817, 185.71179352143037, 182.07832296516878, 170.6964638414882, 156.73567107455278, 152.01721239595474, 150.1915999720431, 147.60824893979205, 146.1898657920095, 139.78773340459412, 121.34263852262572, 118.18164229223373, 390.5525380421257, 606.6337778984424, 496.0585191837291, 758.0401556122193, 980.9717848772492, 576.2832776916401, 809.0591151264678, 898.3733468088162, 1634.9110689263496, 1935.9065527590403, 795.0176020398906, 494.71846089143185, 465.7493369602766, 433.4183949192409, 361.54756814241364, 300.8103472121742, 295.65399162882403, 294.3256336367961, 288.3526292299675, 280.4631939371731, 270.4430352340212, 262.0634704847952, 194.48251306819674, 193.2119483212933, 171.3936028461074, 171.23021949602474, 171.17403392045964, 164.81194546700218, 163.9123373908321, 156.39803249524806, 140.64460616936162, 136.94265514095397, 133.66376534778365, 131.6517922128795, 127.75329469862099, 126.10941333261236, 125.54602206316895, 114.26939652980282, 112.93489645324264, 634.1469250339832, 448.0369756743842, 557.0978438579717, 1634.9110689263496, 629.5389040015976, 222.79508793310913, 384.1481748285149, 344.40821860350263, 317.06533200464855, 604.7602468041416, 728.9534906034116, 1448.169022319694, 541.2144042293614, 460.4478500061917, 396.41354403547814, 386.1975573031723, 380.97282547034575, 366.0147579580283, 327.2554255758827, 321.07298122032074, 319.72018666641355, 250.6398684459439, 244.09090188256056, 239.30872466024272, 238.0527193958707, 234.54245795056136, 232.07520739987172, 220.70959067932736, 210.6903219553299, 198.99805093627447, 196.33527106138922, 193.17652038764476, 186.0544990459825, 177.26665343188827, 175.324802148309, 173.2467508902806, 169.0234247266692, 168.8100951614098, 164.22785150936852, 159.4602894317631, 158.6656450611125, 156.66885343743814, 419.17841016540496, 604.7602468041416, 791.4667931766555, 575.1867610775394, 493.9336104906762, 403.75460607222436, 337.4556814692813, 316.25572038586466, 188.44432501578433, 174.97380835840642, 164.27090068417846, 161.72336586145497, 157.49570112557973, 157.23179197506172, 143.82545783632457, 140.8033457898633, 124.95821373003832, 109.59529444027484, 101.90844019895462, 91.37541556131691, 87.24633464325183, 82.30302774515772, 71.07931472562184, 69.17751988202033, 67.26383602805382, 60.91146662442355, 60.49736479282792, 58.700513649326375, 58.447815243371885, 58.405173281206295, 58.29794072871315, 58.29794072871315, 58.29794072871315, 681.1552129215544, 679.903884953935, 126.69442919637008, 169.72399589059756, 302.64347766979597, 148.4815264932985, 187.2609086053414, 1535.6367563831286, 696.119775838909, 1215.7537029981438, 637.5783168015889, 697.6374352268783, 864.1312865497683, 767.3427525981133, 674.4459109244978, 439.37143852010547, 340.3655154443957, 251.00456908560952, 214.59850695637886, 193.64765348621322, 184.8842586922068, 166.90890316364602, 158.72075754401234, 158.59312588140017, 155.32941972436987, 141.33642013416082, 138.19974117139992, 121.84767148292435, 104.07381049355313, 98.97668372920992, 98.4873352262833, 98.19344681420023, 91.6001759664736, 86.07566131184757, 83.9105348714238, 81.73852450424329, 74.41402403420118, 74.06582493669069, 70.74477001938615, 64.57639605592672, 60.46369862605498, 58.6938802570067, 122.87317033416315, 152.99287278174629, 205.5733373796421, 844.7956403520742, 665.2000855957781, 438.34752466488663, 403.01325494817104, 371.22735403910207, 304.7736178490846, 272.80032935026134, 266.4170168117905, 164.18979707925607, 159.26487990172456, 159.14072149014586, 156.34254744479856, 153.1996167625055, 142.42641616540536, 141.00285732870407, 123.12619779920492, 117.498066515094, 104.3006839474522, 99.20671940741938, 98.20101052063397, 95.50105089739985, 93.9409217764678, 91.5106332333072, 85.4563144231398, 84.26424400266453, 83.07353189976173, 82.35851561284721, 79.58092221267826, 76.88525552873581, 71.26911948255474, 344.40821860350263, 491.4048049394044, 314.0684146302241, 218.5278292822149, 185.44364932241314, 132.06415517414285, 108.8510792305623, 105.63413350800727, 78.49076543221624, 73.44926580518133, 56.00852293184896, 47.12589687586646, 39.06974342583216, 32.820179593977706, 28.76346517938158, 24.005925033866998, 22.99701775332358, 22.77427906106342, 21.55042405833472, 18.97000942798297, 16.810413346525394, 12.286972994459845, 8.797120791308686, 8.375974267599723, 8.006255427070153, 7.9477568042399405, 6.218688543778702, 2474.1938755198407, 3.2591025568835446, 380.6430730214841, 716.5986078407485, 969.556716871164, 1643.3064394360204, 1113.6403784014685, 329.5932650769558, 1587.8233532009717, 914.699236315027, 2480.682171035824, 494.8128854891161, 259.0282429720906, 255.25376257847395, 204.88142517690267, 154.89592467542167, 116.36727460421727, 92.45031025670767, 91.1504893295971, 89.71341599716227, 74.56795084196952, 65.9755031038564, 62.47016799446877, 55.294003901282096, 38.94087451660191, 36.37100057077603, 35.021719239046284, 34.45973733248713, 33.26393593431219, 29.6159767634322, 29.313905736002404, 29.22061760252057, 28.158454909380705, 24.801071890747362, 19.063190688682813, 15.415454336884356, 11.00412968150484, 9.385792730626335, 6.730261653621832, 6.6172633532502365, 6.56909772484703, 185.62178965516776, 80.62335679979904, 46.67814256827098, 19.491172761174337, 16.57477089715334, 10.96530686538303, 8.898612968257062, 7.826189415160221, 1.2668509247633075, 1.266837156848262, 1.2668378106309672, 1.2668333833470722, 1.2668321112969116, 1.266827511490057, 1.266827509809467, 1.2668276286923705, 1.266830938085932, 1.2668925791302006, 1.266827314903968, 1.266836219492886, 1.2668298806111167, 1.2668298806111167, 1.2668344734621175, 1.2668289301624946, 1.2668274668405712, 1.2668257860580447, 1.2668282324480016, 1.266826071299188, 1.266826071299188, 1.266826069618598, 1.2668288791539664, 1.2668664431108119, 1.2668626369310598, 1.2668674860632787, 1.2668325724592608, 1.266847484267295, 1.266852484826078, 24.69075714324941, 18.14383047620225, 15.722012263665846, 13.975371175457218, 4.714346023439874, 1.2669057536001653, 1.2668512786779964, 1.2668378848949429, 1.2668378848949429, 1.2668383271283525, 1.2668367520888886, 1.2668374272592178, 1.2668374585699524, 1.266825391930392, 1.2668254162726176, 1.2668379441810365, 1.2668408507833324, 1.2668260589687952, 1.2668793335857864, 1.2668267898062666, 1.2668296168277635, 1.2668402876891036, 1.2668447569105437, 1.266829930141495, 1.2668467669766261, 1.2668930428224718, 1.2668326504552994, 1.2668253879533162, 1.2668253879533162, 1.2668287738388457, 1.2668608769920646, 1.2668444881730645, 1.266839106563797, 1.2668777904839303, 1.2668618754131555, 1.2668798819671705], \"Category\": [\"Default\", \"Default\", \"Default\", \"Default\", \"Default\", \"Default\", \"Default\", \"Default\", \"Default\", \"Default\", \"Default\", \"Default\", \"Default\", \"Default\", \"Default\", \"Default\", \"Default\", \"Default\", \"Default\", \"Default\", \"Default\", \"Default\", \"Default\", \"Default\", \"Default\", \"Default\", \"Default\", \"Default\", \"Default\", \"Default\", \"Topic1\", \"Topic1\", \"Topic1\", \"Topic1\", \"Topic1\", \"Topic1\", \"Topic1\", \"Topic1\", \"Topic1\", \"Topic1\", \"Topic1\", \"Topic1\", \"Topic1\", \"Topic1\", \"Topic1\", \"Topic1\", \"Topic1\", \"Topic1\", \"Topic1\", \"Topic1\", \"Topic1\", \"Topic1\", \"Topic1\", \"Topic1\", \"Topic1\", \"Topic1\", \"Topic1\", \"Topic1\", \"Topic1\", \"Topic1\", \"Topic1\", \"Topic1\", \"Topic1\", \"Topic1\", \"Topic1\", \"Topic1\", \"Topic1\", \"Topic1\", \"Topic1\", \"Topic1\", \"Topic1\", \"Topic1\", \"Topic1\", \"Topic1\", \"Topic1\", \"Topic1\", \"Topic1\", \"Topic1\", \"Topic1\", \"Topic1\", \"Topic1\", \"Topic1\", \"Topic1\", \"Topic1\", \"Topic1\", \"Topic1\", \"Topic1\", \"Topic1\", \"Topic1\", \"Topic1\", \"Topic1\", \"Topic2\", \"Topic2\", \"Topic2\", \"Topic2\", \"Topic2\", \"Topic2\", \"Topic2\", \"Topic2\", \"Topic2\", \"Topic2\", \"Topic2\", \"Topic2\", \"Topic2\", \"Topic2\", \"Topic2\", \"Topic2\", \"Topic2\", \"Topic2\", \"Topic2\", \"Topic2\", \"Topic2\", \"Topic2\", \"Topic2\", \"Topic2\", \"Topic2\", \"Topic2\", \"Topic2\", \"Topic2\", \"Topic2\", \"Topic2\", \"Topic2\", \"Topic2\", \"Topic2\", \"Topic2\", \"Topic2\", \"Topic2\", \"Topic2\", \"Topic2\", \"Topic2\", \"Topic2\", \"Topic2\", \"Topic2\", \"Topic2\", \"Topic2\", \"Topic2\", \"Topic2\", \"Topic2\", \"Topic2\", \"Topic2\", \"Topic2\", \"Topic2\", \"Topic2\", \"Topic2\", \"Topic2\", \"Topic2\", \"Topic2\", \"Topic2\", \"Topic3\", \"Topic3\", \"Topic3\", \"Topic3\", \"Topic3\", \"Topic3\", \"Topic3\", \"Topic3\", \"Topic3\", \"Topic3\", \"Topic3\", \"Topic3\", \"Topic3\", \"Topic3\", \"Topic3\", \"Topic3\", \"Topic3\", \"Topic3\", \"Topic3\", \"Topic3\", \"Topic3\", \"Topic3\", \"Topic3\", \"Topic3\", \"Topic3\", \"Topic3\", \"Topic3\", \"Topic3\", \"Topic3\", \"Topic3\", \"Topic3\", \"Topic3\", \"Topic3\", \"Topic3\", \"Topic3\", \"Topic3\", \"Topic3\", \"Topic3\", \"Topic3\", \"Topic3\", \"Topic3\", \"Topic3\", \"Topic3\", \"Topic3\", \"Topic3\", \"Topic3\", \"Topic3\", \"Topic3\", \"Topic3\", \"Topic3\", \"Topic3\", \"Topic3\", \"Topic3\", \"Topic3\", \"Topic3\", \"Topic4\", \"Topic4\", \"Topic4\", \"Topic4\", \"Topic4\", \"Topic4\", \"Topic4\", \"Topic4\", \"Topic4\", \"Topic4\", \"Topic4\", \"Topic4\", \"Topic4\", \"Topic4\", \"Topic4\", \"Topic4\", \"Topic4\", \"Topic4\", \"Topic4\", \"Topic4\", \"Topic4\", \"Topic4\", \"Topic4\", \"Topic4\", \"Topic4\", \"Topic4\", \"Topic4\", \"Topic4\", \"Topic4\", \"Topic4\", \"Topic4\", \"Topic4\", \"Topic4\", \"Topic4\", \"Topic4\", \"Topic4\", \"Topic4\", \"Topic4\", \"Topic4\", \"Topic4\", \"Topic4\", \"Topic4\", \"Topic4\", \"Topic4\", \"Topic4\", \"Topic4\", \"Topic4\", \"Topic4\", \"Topic4\", \"Topic4\", \"Topic4\", \"Topic4\", \"Topic4\", \"Topic4\", \"Topic4\", \"Topic4\", \"Topic5\", \"Topic5\", \"Topic5\", \"Topic5\", \"Topic5\", \"Topic5\", \"Topic5\", \"Topic5\", \"Topic5\", \"Topic5\", \"Topic5\", \"Topic5\", \"Topic5\", \"Topic5\", \"Topic5\", \"Topic5\", \"Topic5\", \"Topic5\", \"Topic5\", \"Topic5\", \"Topic5\", \"Topic5\", \"Topic5\", \"Topic5\", \"Topic5\", \"Topic5\", \"Topic5\", \"Topic5\", \"Topic5\", \"Topic5\", \"Topic5\", \"Topic5\", \"Topic6\", \"Topic6\", \"Topic6\", \"Topic6\", \"Topic6\", \"Topic6\", \"Topic6\", \"Topic6\", \"Topic6\", \"Topic6\", \"Topic6\", \"Topic6\", \"Topic6\", \"Topic6\", \"Topic6\", \"Topic6\", \"Topic6\", \"Topic6\", \"Topic6\", \"Topic6\", \"Topic6\", \"Topic6\", \"Topic6\", \"Topic6\", \"Topic6\", \"Topic6\", \"Topic6\", \"Topic6\", \"Topic6\", \"Topic6\", \"Topic6\", \"Topic6\", \"Topic6\", \"Topic6\", \"Topic6\", \"Topic6\", \"Topic6\", \"Topic6\", \"Topic7\", \"Topic7\", \"Topic7\", \"Topic7\", \"Topic7\", \"Topic7\", \"Topic7\", \"Topic7\", \"Topic7\", \"Topic7\", \"Topic7\", \"Topic7\", \"Topic7\", \"Topic7\", \"Topic7\", \"Topic7\", \"Topic7\", \"Topic7\", \"Topic7\", \"Topic7\", \"Topic7\", \"Topic7\", \"Topic7\", \"Topic7\", \"Topic7\", \"Topic7\", \"Topic7\", \"Topic7\", \"Topic7\", \"Topic7\", \"Topic7\", \"Topic7\", \"Topic7\", \"Topic7\", \"Topic7\", \"Topic7\", \"Topic7\", \"Topic7\", \"Topic7\", \"Topic7\", \"Topic7\", \"Topic7\", \"Topic7\", \"Topic7\", \"Topic7\", \"Topic8\", \"Topic8\", \"Topic8\", \"Topic8\", \"Topic8\", \"Topic8\", \"Topic8\", \"Topic8\", \"Topic8\", \"Topic8\", \"Topic8\", \"Topic8\", \"Topic8\", \"Topic8\", \"Topic8\", \"Topic8\", \"Topic8\", \"Topic8\", \"Topic8\", \"Topic8\", \"Topic8\", \"Topic8\", \"Topic8\", \"Topic8\", \"Topic8\", \"Topic8\", \"Topic8\", \"Topic8\", \"Topic8\", \"Topic8\", \"Topic8\", \"Topic8\", \"Topic8\", \"Topic8\", \"Topic8\", \"Topic8\", \"Topic8\", \"Topic8\", \"Topic8\", \"Topic8\", \"Topic8\", \"Topic8\", \"Topic8\", \"Topic8\", \"Topic9\", \"Topic9\", \"Topic9\", \"Topic9\", \"Topic9\", \"Topic9\", \"Topic9\", \"Topic9\", \"Topic9\", \"Topic9\", \"Topic9\", \"Topic9\", \"Topic9\", \"Topic9\", \"Topic9\", \"Topic9\", \"Topic9\", \"Topic9\", \"Topic9\", \"Topic9\", \"Topic9\", \"Topic9\", \"Topic9\", \"Topic9\", \"Topic9\", \"Topic9\", \"Topic9\", \"Topic9\", \"Topic9\", \"Topic9\", \"Topic9\", \"Topic9\", \"Topic9\", \"Topic9\", \"Topic9\", \"Topic9\", \"Topic9\", \"Topic9\", \"Topic9\", \"Topic10\", \"Topic10\", \"Topic10\", \"Topic10\", \"Topic10\", \"Topic10\", \"Topic10\", \"Topic10\", \"Topic10\", \"Topic10\", \"Topic10\", \"Topic10\", \"Topic10\", \"Topic10\", \"Topic10\", \"Topic10\", \"Topic10\", \"Topic10\", \"Topic10\", \"Topic10\", \"Topic10\", \"Topic10\", \"Topic10\", \"Topic10\", \"Topic10\", \"Topic10\", \"Topic10\", \"Topic10\", \"Topic10\", \"Topic10\", \"Topic10\", \"Topic10\", \"Topic10\", \"Topic10\", \"Topic10\", \"Topic10\", \"Topic10\", \"Topic10\", \"Topic10\", \"Topic10\", \"Topic11\", \"Topic11\", \"Topic11\", \"Topic11\", \"Topic11\", \"Topic11\", \"Topic11\", \"Topic11\", \"Topic11\", \"Topic11\", \"Topic11\", \"Topic11\", \"Topic11\", \"Topic11\", \"Topic11\", \"Topic11\", \"Topic11\", \"Topic11\", \"Topic11\", \"Topic11\", \"Topic11\", \"Topic11\", \"Topic11\", \"Topic11\", \"Topic11\", \"Topic11\", \"Topic11\", \"Topic11\", \"Topic11\", \"Topic11\", \"Topic11\", \"Topic11\", \"Topic11\", \"Topic11\", \"Topic11\", \"Topic11\", \"Topic11\", \"Topic11\", \"Topic11\", \"Topic12\", \"Topic12\", \"Topic12\", \"Topic12\", \"Topic12\", \"Topic12\", \"Topic12\", \"Topic12\", \"Topic12\", \"Topic12\", \"Topic12\", \"Topic12\", \"Topic12\", \"Topic12\", \"Topic12\", \"Topic12\", \"Topic12\", \"Topic12\", \"Topic12\", \"Topic12\", \"Topic12\", \"Topic12\", \"Topic12\", \"Topic12\", \"Topic12\", \"Topic12\", \"Topic12\", \"Topic12\", \"Topic12\", \"Topic12\", \"Topic12\", \"Topic12\", \"Topic12\", \"Topic12\", \"Topic12\", \"Topic12\", \"Topic12\", \"Topic12\", \"Topic12\", \"Topic12\", \"Topic12\", \"Topic12\", \"Topic13\", \"Topic13\", \"Topic13\", \"Topic13\", \"Topic13\", \"Topic13\", \"Topic13\", \"Topic13\", \"Topic13\", \"Topic13\", \"Topic13\", \"Topic13\", \"Topic13\", \"Topic13\", \"Topic13\", \"Topic13\", \"Topic13\", \"Topic13\", \"Topic13\", \"Topic13\", \"Topic13\", \"Topic13\", \"Topic13\", \"Topic13\", \"Topic13\", \"Topic13\", \"Topic13\", \"Topic13\", \"Topic13\", \"Topic13\", \"Topic13\", \"Topic13\", \"Topic14\", \"Topic14\", \"Topic14\", \"Topic14\", \"Topic14\", \"Topic14\", \"Topic14\", \"Topic14\", \"Topic14\", \"Topic14\", \"Topic14\", \"Topic14\", \"Topic14\", \"Topic14\", \"Topic14\", \"Topic14\", \"Topic14\", \"Topic14\", \"Topic14\", \"Topic14\", \"Topic14\", \"Topic14\", \"Topic14\", \"Topic14\", \"Topic14\", \"Topic14\", \"Topic14\", \"Topic14\", \"Topic14\", \"Topic14\", \"Topic14\", \"Topic14\", \"Topic14\", \"Topic14\", \"Topic14\", \"Topic14\", \"Topic14\", \"Topic14\", \"Topic14\", \"Topic14\", \"Topic14\", \"Topic14\", \"Topic14\", \"Topic15\", \"Topic15\", \"Topic15\", \"Topic15\", \"Topic15\", \"Topic15\", \"Topic15\", \"Topic15\", \"Topic15\", \"Topic15\", \"Topic15\", \"Topic15\", \"Topic15\", \"Topic15\", \"Topic15\", \"Topic15\", \"Topic15\", \"Topic15\", \"Topic15\", \"Topic15\", \"Topic15\", \"Topic15\", \"Topic15\", \"Topic15\", \"Topic15\", \"Topic15\", \"Topic15\", \"Topic15\", \"Topic15\", \"Topic15\", \"Topic15\", \"Topic15\", \"Topic15\", \"Topic16\", \"Topic16\", \"Topic16\", \"Topic16\", \"Topic16\", \"Topic16\", \"Topic16\", \"Topic16\", \"Topic16\", \"Topic16\", \"Topic16\", \"Topic16\", \"Topic16\", \"Topic16\", \"Topic16\", \"Topic16\", \"Topic16\", \"Topic16\", \"Topic16\", \"Topic16\", \"Topic16\", \"Topic16\", \"Topic16\", \"Topic16\", \"Topic16\", \"Topic16\", \"Topic16\", \"Topic16\", \"Topic16\", \"Topic16\", \"Topic16\", \"Topic17\", \"Topic17\", \"Topic17\", \"Topic17\", \"Topic17\", \"Topic17\", \"Topic17\", \"Topic17\", \"Topic17\", \"Topic17\", \"Topic17\", \"Topic17\", \"Topic17\", \"Topic17\", \"Topic17\", \"Topic17\", \"Topic17\", \"Topic17\", \"Topic17\", \"Topic17\", \"Topic17\", \"Topic17\", \"Topic17\", \"Topic17\", \"Topic17\", \"Topic17\", \"Topic17\", \"Topic17\", \"Topic17\", \"Topic17\", \"Topic17\", \"Topic17\", \"Topic17\", \"Topic17\", \"Topic17\", \"Topic17\", \"Topic17\", \"Topic18\", \"Topic18\", \"Topic18\", \"Topic18\", \"Topic18\", \"Topic18\", \"Topic18\", \"Topic18\", \"Topic18\", \"Topic18\", \"Topic18\", \"Topic18\", \"Topic18\", \"Topic18\", \"Topic18\", \"Topic18\", \"Topic18\", \"Topic18\", \"Topic18\", \"Topic18\", \"Topic18\", \"Topic18\", \"Topic18\", \"Topic18\", \"Topic18\", \"Topic18\", \"Topic18\", \"Topic18\", \"Topic18\", \"Topic18\", \"Topic19\", \"Topic19\", \"Topic19\", \"Topic19\", \"Topic19\", \"Topic19\", \"Topic19\", \"Topic19\", \"Topic19\", \"Topic19\", \"Topic19\", \"Topic19\", \"Topic19\", \"Topic19\", \"Topic19\", \"Topic19\", \"Topic19\", \"Topic19\", \"Topic19\", \"Topic19\", \"Topic19\", \"Topic19\", \"Topic19\", \"Topic19\", \"Topic19\", \"Topic19\", \"Topic19\", \"Topic19\", \"Topic19\", \"Topic19\", \"Topic19\", \"Topic19\", \"Topic19\", \"Topic19\", \"Topic19\", \"Topic19\", \"Topic19\", \"Topic20\", \"Topic20\", \"Topic20\", \"Topic20\", \"Topic20\", \"Topic20\", \"Topic20\", \"Topic20\", \"Topic20\", \"Topic20\", \"Topic20\", \"Topic20\", \"Topic20\", \"Topic20\", \"Topic20\", \"Topic20\", \"Topic20\", \"Topic20\", \"Topic20\", \"Topic20\", \"Topic20\", \"Topic20\", \"Topic20\", \"Topic20\", \"Topic20\", \"Topic20\", \"Topic20\", \"Topic20\", \"Topic20\", \"Topic20\", \"Topic20\", \"Topic20\", \"Topic20\", \"Topic20\", \"Topic20\", \"Topic20\"], \"logprob\": [30.0, 29.0, 28.0, 27.0, 26.0, 25.0, 24.0, 23.0, 22.0, 21.0, 20.0, 19.0, 18.0, 17.0, 16.0, 15.0, 14.0, 13.0, 12.0, 11.0, 10.0, 9.0, 8.0, 7.0, 6.0, 5.0, 4.0, 3.0, 2.0, 1.0, -3.946, -4.2895, -4.8502, -5.237, -5.2933, -5.4951, -5.5191, -5.5548, -5.601, -5.6285, -5.9181, -5.9751, -6.0096, -6.0477, -6.0537, -6.1696, -6.2578, -6.3229, -6.3739, -6.3758, -6.3875, -6.3903, -6.4053, -6.456, -6.4763, -6.4769, -6.4773, -6.4791, -6.5714, -6.5753, -3.6929, -5.211, -5.6247, -3.5206, -4.3865, -3.9915, -4.7833, -3.7284, -4.5805, -5.3339, -5.0397, -5.2321, -3.5167, -4.5732, -4.5829, -4.5286, -4.9688, -4.3158, -4.5415, -4.5686, -5.0411, -4.4936, -4.7355, -4.5813, -4.9365, -5.1004, -5.0523, -5.0372, -4.9006, -5.1159, -5.1667, -4.1643, -4.1727, -4.2355, -4.4674, -4.6616, -4.7936, -4.7992, -4.8815, -4.9526, -4.989, -5.0098, -5.0699, -5.1368, -5.1568, -5.2383, -5.2633, -5.2908, -5.4314, -5.4489, -5.4597, -5.5216, -5.525, -5.6631, -5.7161, -5.7854, -5.786, -5.8127, -5.8486, -5.9429, -5.9448, -5.2022, -5.3197, -5.467, -4.2206, -4.3865, -4.8139, -4.7453, -4.7719, -3.8524, -5.3899, -4.2911, -5.0116, -4.6234, -3.9663, -5.2825, -4.9018, -4.8018, -4.8253, -4.5811, -4.8621, -4.9862, -4.9524, -4.5116, -4.7665, -4.818, -4.8516, -4.9727, -3.7656, -3.9975, -4.1335, -4.3649, -4.4951, -4.6658, -4.8513, -5.04, -5.1408, -5.1818, -5.2015, -5.2146, -5.2863, -5.2878, -5.2903, -5.6073, -5.6273, -5.7089, -5.7569, -5.785, -5.787, -5.8141, -5.8698, -5.8873, -5.8907, -5.9161, -5.9238, -5.9275, -5.9275, -5.9388, -4.9363, -4.7281, -4.8047, -4.1494, -4.5492, -5.4787, -5.318, -4.8989, -5.1775, -5.3503, -4.8477, -3.8708, -4.5501, -4.7789, -4.7174, -4.6134, -4.9075, -4.7108, -5.0932, -4.9674, -5.0074, -4.968, -4.9194, -4.9402, -5.1014, -4.4034, -4.797, -4.9042, -4.9708, -4.9862, -5.0159, -5.0357, -5.059, -5.1305, -5.1436, -5.1987, -5.3516, -5.3566, -5.4624, -5.4894, -5.522, -5.5293, -5.5592, -5.72, -5.7502, -5.7653, -5.8123, -5.8411, -5.8681, -5.8868, -5.8886, -5.8941, -5.9566, -5.9732, -6.0168, -5.2917, -5.5623, -5.2985, -5.6147, -5.8211, -5.2351, -4.0007, -5.7027, -4.8302, -4.5716, -3.4138, -5.0304, -4.5242, -5.21, -5.2815, -4.2132, -4.5077, -5.2535, -4.919, -4.8618, -5.2032, -5.1323, -5.1776, -5.0838, -5.143, -5.2569, -0.5321, -2.332, -3.0562, -3.9169, -4.3258, -5.001, -5.1879, -5.2902, -5.2913, -5.3194, -5.406, -5.4383, -5.4526, -5.6033, -5.6835, -5.8828, -5.9747, -5.9872, -6.063, -6.0904, -6.1084, -6.1168, -6.1187, -6.1655, -6.2004, -6.2019, -6.2172, -6.2346, -6.2387, -6.2473, -4.8387, -5.7238, -3.3213, -3.3309, -3.6742, -3.7574, -4.0882, -4.1235, -4.4725, -4.5105, -4.5176, -4.528, -4.6223, -4.7161, -4.7174, -4.7301, -4.7627, -4.7732, -4.7899, -4.8089, -4.8517, -4.898, -4.9228, -4.9445, -4.9636, -4.9698, -5.0537, -5.1212, -5.1271, -5.1508, -5.1629, -5.1903, -4.6846, -4.7421, -3.4946, -4.803, -4.6547, -4.6346, -4.6894, -4.861, -3.643, -4.0765, -4.1414, -4.2887, -4.2901, -4.3298, -4.3362, -4.3839, -4.3905, -4.4147, -4.4909, -4.6024, -4.663, -4.6942, -4.7242, -4.8182, -4.8314, -4.8878, -5.0213, -5.0828, -5.1303, -5.1907, -5.2151, -5.2763, -5.3173, -5.3411, -5.36, -5.3706, -5.4266, -5.4268, -3.5051, -3.2968, -3.9252, -3.8698, -4.7706, -4.449, -4.6349, -4.2345, -4.3541, -4.4338, -4.2663, -4.2244, -4.4033, -4.2471, -4.6588, -2.5319, -3.8012, -3.8796, -4.0424, -4.1248, -4.1292, -4.3542, -4.3888, -4.398, -4.4179, -4.4379, -4.4522, -4.5958, -4.6119, -4.8214, -4.8704, -4.9679, -4.984, -5.0145, -5.0397, -5.0806, -5.1505, -5.1518, -5.1531, -5.1856, -5.2044, -5.2837, -5.2265, -5.3271, -5.468, -3.1866, -3.9826, -4.6423, -4.4768, -3.949, -4.4168, -4.2754, -4.5119, -4.1829, -4.5265, -4.4916, -4.5109, -4.5539, -4.9081, -2.8109, -3.2362, -3.2551, -3.3312, -3.5958, -3.8104, -3.8426, -3.9994, -4.092, -4.1028, -4.1335, -4.3049, -4.4058, -4.4315, -4.5332, -4.5434, -4.5469, -4.6104, -4.6908, -4.7408, -4.762, -4.897, -4.941, -5.0159, -5.0222, -5.053, -5.0771, -5.1432, -5.1582, -5.2202, -4.3502, -4.1681, -4.5836, -4.7477, -4.5402, -3.8156, -4.5793, -4.7388, -4.097, -2.4995, -3.6991, -3.8899, -3.9764, -3.9975, -4.0203, -4.0458, -4.2204, -4.3649, -4.3691, -4.3787, -4.4613, -4.533, -4.5636, -4.6455, -4.6671, -4.6925, -4.6968, -4.811, -4.994, -5.0417, -5.0967, -5.1109, -5.1501, -5.1687, -5.2403, -5.2817, -5.3095, -5.3182, -5.3208, -4.5514, -3.7899, -4.9928, -4.586, -4.9026, -4.5093, -5.0657, -4.8095, -4.8556, -4.9292, -2.6436, -3.6966, -3.7767, -3.7949, -3.8257, -3.9884, -4.1164, -4.1735, -4.1763, -4.186, -4.2279, -4.2616, -4.3763, -4.4084, -4.4228, -4.4231, -4.4664, -4.5387, -4.7536, -4.8218, -4.8416, -4.9066, -4.9926, -5.0234, -5.0356, -5.0531, -5.0628, -5.108, -5.2508, -5.2775, -4.2109, -3.9414, -4.3583, -4.1682, -4.1412, -4.4153, -4.2615, -4.5214, -4.592, -2.4375, -3.3279, -3.8032, -3.8637, -3.9358, -4.1177, -4.3023, -4.3196, -4.3241, -4.3447, -4.3726, -4.4091, -4.4407, -4.7406, -4.7472, -4.8678, -4.8688, -4.8691, -4.9072, -4.9128, -4.96, -5.0671, -5.094, -5.1184, -5.1337, -5.1641, -5.1772, -5.1817, -5.2767, -5.2886, -3.7468, -4.117, -3.9925, -3.1469, -3.9192, -4.7689, -4.4495, -4.5601, -4.6782, -4.6318, -4.8532, -4.8784, -3.4112, -3.5733, -3.7234, -3.7496, -3.7633, -3.8035, -3.9158, -3.9349, -3.9392, -4.1836, -4.2102, -4.2301, -4.2354, -4.2503, -4.261, -4.3115, -4.3582, -4.4156, -4.4292, -4.4455, -4.4833, -4.532, -4.5431, -4.5551, -4.5799, -4.5812, -4.6089, -4.6386, -4.6437, -4.6564, -3.8474, -4.3164, -2.9336, -3.2533, -3.406, -3.6081, -3.7881, -3.8532, -4.3735, -4.4482, -4.5117, -4.5275, -4.5542, -4.5559, -4.6457, -4.6671, -4.7876, -4.9201, -4.9937, -5.1042, -5.151, -5.2102, -5.3592, -5.3867, -5.4153, -5.5164, -5.5234, -5.5541, -5.5585, -5.5593, -5.5612, -5.5612, -5.5612, -3.1929, -3.2528, -4.8358, -4.6696, -4.5692, -5.1558, -5.0771, -4.7015, -4.9617, -4.878, -5.056, -5.0671, -2.5625, -2.6815, -2.8108, -3.2403, -3.4964, -3.8022, -3.9597, -4.0631, -4.1097, -4.2127, -4.2633, -4.2642, -4.2851, -4.3803, -4.4029, -4.53, -4.6894, -4.7402, -4.7453, -4.7483, -4.8187, -4.8818, -4.9076, -4.9342, -5.0296, -5.0343, -5.081, -5.1739, -5.241, -5.2713, -4.721, -4.7421, -5.0112, -2.5352, -2.7746, -3.1926, -3.2769, -3.3593, -3.5572, -3.6685, -3.6923, -4.1792, -4.2099, -4.2107, -4.2286, -4.2491, -4.3226, -4.3327, -4.4695, -4.5168, -4.6373, -4.688, -4.6983, -4.7265, -4.7432, -4.7698, -4.8392, -4.8534, -4.8678, -4.8766, -4.9115, -4.9465, -5.0236, -4.5565, -2.7325, -3.1816, -3.546, -3.7112, -4.0533, -4.2486, -4.279, -4.58, -4.6475, -4.9239, -5.1008, -5.2938, -5.4743, -5.6117, -5.8013, -5.8466, -5.8569, -5.9154, -6.0511, -6.1809, -6.5237, -6.9027, -6.9599, -7.013, -7.0217, -7.319, -1.3872, -8.2169, -4.3019, -3.9419, -4.6191, -4.7505, -4.9773, -5.6106, -5.1093, -5.6269, -5.8255, -2.3617, -3.0112, -3.026, -3.247, -3.5286, -3.8172, -4.0501, -4.0644, -4.0805, -4.2683, -4.3929, -4.4485, -4.5732, -4.9334, -5.0039, -5.0431, -5.0598, -5.0965, -5.2174, -5.2281, -5.2314, -5.2701, -5.4032, -5.6821, -5.9109, -6.2833, -6.4642, -6.858, -6.8787, -6.8877, -2.3048, -3.1476, -3.7055, -4.6179, -4.792, -5.2476, -5.4867, -5.6377, -11.392, -11.392, -11.392, -11.392, -11.3921, -11.3921, -11.3921, -11.3921, -11.3921, -11.392, -11.3921, -11.3921, -11.3921, -11.3921, -11.3921, -11.3921, -11.3921, -11.3921, -11.3921, -11.3921, -11.3921, -11.3921, -11.3921, -11.3921, -11.3921, -11.3921, -11.3921, -11.3921, -11.3921, -3.52, -3.8477, -4.0025, -4.1312, -5.4336, -11.2647, -11.2648, -11.2648, -11.2648, -11.2648, -11.2648, -11.2648, -11.2648, -11.2648, -11.2648, -11.2648, -11.2648, -11.2648, -11.2648, -11.2648, -11.2648, -11.2648, -11.2648, -11.2648, -11.2648, -11.2648, -11.2648, -11.2648, -11.2648, -11.2648, -11.2648, -11.2648, -11.2648, -11.2648, -11.2648, -11.2648], \"loglift\": [30.0, 29.0, 28.0, 27.0, 26.0, 25.0, 24.0, 23.0, 22.0, 21.0, 20.0, 19.0, 18.0, 17.0, 16.0, 15.0, 14.0, 13.0, 12.0, 11.0, 10.0, 9.0, 8.0, 7.0, 6.0, 5.0, 4.0, 3.0, 2.0, 1.0, 0.9852, 0.9852, 0.9851, 0.985, 0.9849, 0.9848, 0.9848, 0.9848, 0.9848, 0.9848, 0.9846, 0.9845, 0.9845, 0.9845, 0.9845, 0.9844, 0.9843, 0.9842, 0.9841, 0.9841, 0.9841, 0.9841, 0.9841, 0.984, 0.984, 0.984, 0.984, 0.984, 0.9839, 0.9839, 0.965, 0.9713, 0.9754, 0.9534, 0.9599, 0.9486, 0.957, 0.9296, 0.9382, 0.9594, 0.9336, 0.9389, 0.8668, 0.8772, 0.8629, 0.8514, 0.8891, 0.821, 0.8321, 0.8326, 0.8525, 0.7029, 0.7552, 0.7106, 0.8021, 0.7496, 0.6915, 0.6689, 0.234, 0.6641, 0.644, 2.0657, 2.0657, 2.0657, 2.0656, 2.0654, 2.0654, 2.0654, 2.0653, 2.0652, 2.0652, 2.0652, 2.0651, 2.0651, 2.065, 2.0649, 2.0649, 2.0649, 2.0647, 2.0647, 2.0647, 2.0646, 2.0646, 2.0643, 2.0642, 2.0641, 2.0641, 2.0641, 2.064, 2.0638, 2.0638, 2.0567, 2.0501, 2.0536, 2.0142, 2.0185, 2.0249, 2.0193, 2.0142, 1.7399, 2.0347, 1.7563, 1.9027, 1.763, 1.4976, 1.9894, 1.7717, 1.7067, 1.7085, 1.5077, 1.5674, 1.594, 1.4746, -0.1281, 0.7465, 0.9199, 0.9936, 0.7334, 2.1049, 2.1048, 2.1048, 2.1047, 2.1046, 2.1045, 2.1044, 2.1042, 2.1041, 2.104, 2.104, 2.104, 2.1039, 2.1039, 2.1039, 2.1034, 2.1034, 2.1033, 2.1032, 2.1031, 2.1031, 2.103, 2.1029, 2.1029, 2.1029, 2.1028, 2.1028, 2.1028, 2.1028, 2.1028, 2.0798, 2.0419, 2.0311, 1.9453, 1.9783, 2.0478, 2.025, 1.9362, 1.9297, 1.9746, 1.8082, 1.2639, 1.4148, 1.4002, 1.3381, 0.6785, 1.015, 0.5086, 1.3878, 0.8125, 0.7364, 0.5226, 0.2174, 0.2563, 0.7093, 2.21, 2.2097, 2.2096, 2.2096, 2.2095, 2.2095, 2.2095, 2.2095, 2.2094, 2.2094, 2.2093, 2.2091, 2.2091, 2.2089, 2.2089, 2.2088, 2.2088, 2.2087, 2.2084, 2.2083, 2.2083, 2.2082, 2.2081, 2.2081, 2.208, 2.208, 2.208, 2.2078, 2.2078, 2.2077, 2.1936, 2.1958, 2.1856, 2.1943, 2.2032, 2.1474, 2.008, 2.1892, 2.0764, 2.0361, 1.8057, 2.0802, 1.9877, 2.1032, 2.0785, 1.6965, 1.7048, 2.0564, 1.8163, 1.3056, 1.643, 1.3487, 1.4427, 0.8388, 0.5223, -0.1222, 2.8762, 2.8761, 2.876, 2.8756, 2.8753, 2.8743, 2.8739, 2.8737, 2.8737, 2.8736, 2.8734, 2.8733, 2.8732, 2.8727, 2.8724, 2.8716, 2.8711, 2.8711, 2.8707, 2.8705, 2.8704, 2.8704, 2.8703, 2.8701, 2.8698, 2.8698, 2.8697, 2.8696, 2.8696, 2.8695, 2.2417, -0.2052, 3.0141, 3.0141, 3.0139, 3.0139, 3.0136, 3.0136, 3.0132, 3.0131, 3.0131, 3.0131, 3.0129, 3.0128, 3.0128, 3.0127, 3.0127, 3.0127, 3.0126, 3.0126, 3.0125, 3.0124, 3.0124, 3.0123, 3.0123, 3.0123, 3.0121, 3.0119, 3.0119, 3.0118, 3.0118, 3.0117, 2.9778, 2.923, 2.1707, 2.2051, 1.8017, 1.4541, 1.2226, 1.8765, 3.6659, 3.6653, 3.6652, 3.6649, 3.6648, 3.6648, 3.6647, 3.6646, 3.6646, 3.6646, 3.6644, 3.664, 3.6638, 3.6637, 3.6636, 3.6633, 3.6633, 3.663, 3.6625, 3.6622, 3.6619, 3.6616, 3.6615, 3.6611, 3.6609, 3.6607, 3.6606, 3.6605, 3.6602, 3.6602, 3.656, 3.6312, 3.6409, 3.5196, 3.5788, 3.4566, 3.4981, 3.3542, 3.1852, 3.1656, 2.9332, 2.6115, 2.7834, 2.1824, 2.9027, 3.716, 3.7149, 3.7148, 3.7146, 3.7144, 3.7144, 3.7139, 3.7138, 3.7138, 3.7137, 3.7137, 3.7136, 3.7132, 3.7132, 3.7124, 3.7122, 3.7118, 3.7117, 3.7116, 3.7114, 3.7112, 3.7109, 3.7109, 3.7108, 3.7107, 3.7106, 3.7101, 3.7098, 3.7098, 3.7088, 3.6866, 3.4965, 3.544, 3.2458, 2.8853, 2.4271, 2.1515, 2.3535, 1.4093, 2.1433, 2.0202, 1.9186, 0.9101, 2.2312, 3.7639, 3.7636, 3.7636, 3.7635, 3.7633, 3.763, 3.7629, 3.7626, 3.7625, 3.7624, 3.7624, 3.762, 3.7617, 3.7617, 3.7613, 3.7613, 3.7613, 3.7611, 3.7608, 3.7606, 3.7605, 3.76, 3.7598, 3.7594, 3.7594, 3.7592, 3.7591, 3.7587, 3.7586, 3.7583, 3.7465, 3.7068, 3.5504, 3.596, 3.4789, 2.9659, 3.433, 3.4626, 2.3326, 4.1295, 4.1281, 4.1277, 4.1275, 4.1274, 4.1273, 4.1273, 4.1267, 4.1262, 4.1262, 4.1262, 4.1258, 4.1255, 4.1254, 4.125, 4.1249, 4.1248, 4.1247, 4.1241, 4.1229, 4.1225, 4.1221, 4.122, 4.1217, 4.1215, 4.1209, 4.1205, 4.1202, 4.1202, 4.1201, 4.0192, 3.5162, 3.8714, 3.4139, 3.6217, 2.3265, 3.8022, 2.2978, 2.2296, 2.451, 4.203, 4.2017, 4.2015, 4.2014, 4.2014, 4.201, 4.2006, 4.2004, 4.2004, 4.2003, 4.2002, 4.2001, 4.1996, 4.1995, 4.1994, 4.1994, 4.1992, 4.1989, 4.1977, 4.1973, 4.1972, 4.1967, 4.1961, 4.1958, 4.1957, 4.1956, 4.1955, 4.1951, 4.1938, 4.1936, 4.0647, 3.8939, 3.6782, 3.4443, 3.2135, 3.4714, 3.2859, 2.9213, 2.2519, 4.2374, 4.237, 4.2361, 4.2359, 4.2357, 4.2352, 4.2345, 4.2344, 4.2344, 4.2343, 4.2342, 4.2341, 4.2339, 4.2323, 4.2323, 4.2315, 4.2315, 4.2315, 4.2312, 4.2312, 4.2308, 4.2299, 4.2297, 4.2295, 4.2293, 4.2291, 4.2289, 4.2289, 4.2279, 4.2278, 4.0442, 4.0213, 3.928, 3.697, 3.879, 4.0681, 3.8428, 3.8413, 3.8059, 3.2066, 2.7984, 2.0868, 4.5382, 4.5378, 4.5374, 4.5373, 4.5372, 4.5371, 4.5367, 4.5366, 4.5366, 4.5356, 4.5355, 4.5354, 4.5353, 4.5353, 4.5352, 4.5349, 4.5347, 4.5343, 4.5342, 4.5341, 4.5339, 4.5336, 4.5335, 4.5334, 4.5333, 4.5332, 4.533, 4.5328, 4.5328, 4.5327, 4.3576, 3.522, 4.6358, 4.6352, 4.6349, 4.6343, 4.6338, 4.6335, 4.6309, 4.6304, 4.63, 4.6299, 4.6297, 4.6297, 4.6289, 4.6288, 4.6277, 4.6263, 4.6255, 4.6241, 4.6235, 4.6226, 4.6203, 4.6198, 4.6193, 4.6174, 4.6173, 4.6167, 4.6166, 4.6166, 4.6165, 4.6165, 4.6165, 4.5265, 4.4685, 4.5656, 4.4395, 3.9615, 4.0869, 3.9336, 2.205, 2.736, 2.2622, 2.7296, 2.6284, 4.919, 4.9188, 4.9186, 4.9176, 4.9168, 4.9156, 4.9147, 4.9141, 4.9138, 4.9131, 4.9127, 4.9127, 4.9126, 4.9118, 4.9116, 4.9104, 4.9087, 4.9081, 4.908, 4.908, 4.9071, 4.9063, 4.9059, 4.9055, 4.904, 4.9039, 4.9032, 4.9015, 4.9002, 4.8996, 4.7111, 4.4708, 3.9062, 4.969, 4.9686, 4.9676, 4.9674, 4.9671, 4.9664, 4.9659, 4.9658, 4.963, 4.9627, 4.9627, 4.9626, 4.9624, 4.9618, 4.9617, 4.9605, 4.96, 4.9587, 4.9581, 4.9579, 4.9576, 4.9574, 4.957, 4.9561, 4.9559, 4.9557, 4.9555, 4.955, 4.9545, 4.9532, 3.8449, 5.3135, 5.312, 5.3103, 5.3093, 5.3066, 5.3046, 5.3043, 5.3002, 5.2991, 5.2938, 5.2896, 5.2841, 5.2779, 5.2725, 5.2636, 5.2612, 5.2607, 5.2575, 5.2492, 5.2403, 5.211, 5.1661, 5.1579, 5.15, 5.1487, 5.0967, 5.0424, 4.8449, 3.9994, 3.7268, 2.7473, 2.0883, 2.2505, 2.8348, 1.7638, 1.7977, 0.6015, 5.6774, 5.6751, 5.675, 5.6738, 5.6719, 5.6692, 5.6665, 5.6663, 5.6661, 5.6633, 5.6611, 5.66, 5.6574, 5.6478, 5.6455, 5.6442, 5.6436, 5.6423, 5.6375, 5.6371, 5.637, 5.6353, 5.6291, 5.6133, 5.5969, 5.5617, 5.5398, 5.4786, 5.4748, 5.4732, 6.7147, 6.7059, 6.6944, 6.6554, 6.6433, 6.6008, 6.5706, 6.5481, 2.6147, 2.6147, 2.6147, 2.6147, 2.6147, 2.6147, 2.6147, 2.6147, 2.6147, 2.6147, 2.6146, 2.6146, 2.6146, 2.6146, 2.6146, 2.6146, 2.6146, 2.6146, 2.6146, 2.6146, 2.6146, 2.6146, 2.6146, 2.6146, 2.6146, 2.6146, 2.6146, 2.6146, 2.6146, 7.5168, 7.4972, 7.4857, 7.4748, 7.259, 2.742, 2.7419, 2.7419, 2.7419, 2.7419, 2.7419, 2.7419, 2.7419, 2.7419, 2.7419, 2.7419, 2.7419, 2.7419, 2.7419, 2.7419, 2.7419, 2.7419, 2.7419, 2.7419, 2.7419, 2.7419, 2.7419, 2.7419, 2.7419, 2.7419, 2.7419, 2.7419, 2.7419, 2.7419, 2.7419, 2.7419]}, \"token.table\": {\"Topic\": [5, 19, 3, 17, 3, 4, 16, 18, 2, 3, 4, 18, 12, 8, 6, 8, 20, 13, 1, 2, 3, 4, 4, 4, 11, 15, 3, 7, 8, 8, 10, 19, 2, 2, 14, 6, 7, 4, 8, 3, 11, 14, 14, 1, 13, 3, 12, 10, 3, 4, 8, 14, 13, 15, 7, 2, 8, 10, 5, 18, 1, 1, 13, 15, 17, 6, 3, 3, 17, 7, 3, 1, 6, 12, 1, 2, 8, 17, 18, 1, 1, 8, 6, 2, 6, 5, 4, 2, 3, 7, 6, 9, 2, 8, 9, 12, 13, 7, 5, 1, 9, 6, 9, 2, 1, 4, 6, 10, 11, 17, 19, 1, 2, 3, 4, 5, 12, 5, 3, 4, 6, 17, 9, 16, 5, 1, 17, 6, 3, 4, 14, 8, 17, 4, 9, 3, 3, 3, 4, 17, 17, 18, 4, 6, 7, 3, 4, 20, 12, 8, 8, 1, 3, 6, 14, 9, 3, 14, 15, 7, 10, 2, 1, 3, 8, 11, 12, 1, 2, 8, 8, 12, 13, 13, 3, 7, 7, 12, 15, 16, 11, 8, 17, 6, 11, 2, 9, 9, 4, 1, 4, 12, 2, 17, 11, 8, 11, 8, 12, 11, 12, 1, 5, 17, 10, 8, 8, 2, 8, 10, 9, 6, 15, 9, 4, 5, 16, 7, 18, 2, 8, 17, 13, 4, 2, 9, 16, 11, 5, 4, 7, 2, 15, 9, 9, 6, 1, 3, 7, 16, 9, 17, 1, 2, 4, 9, 18, 3, 10, 9, 13, 3, 4, 7, 11, 11, 5, 2, 8, 9, 16, 2, 10, 14, 17, 3, 5, 7, 2, 3, 15, 9, 3, 8, 15, 10, 1, 8, 1, 3, 4, 3, 3, 6, 5, 17, 1, 2, 17, 13, 2, 5, 2, 12, 5, 15, 2, 5, 1, 4, 11, 11, 1, 3, 4, 6, 10, 4, 10, 12, 4, 2, 9, 4, 1, 1, 10, 19, 6, 14, 4, 1, 2, 1, 3, 6, 3, 1, 3, 6, 4, 8, 14, 4, 15, 3, 14, 13, 1, 2, 4, 17, 5, 1, 11, 11, 2, 15, 1, 7, 7, 1, 9, 13, 12, 16, 9, 14, 14, 12, 5, 1, 2, 6, 9, 3, 4, 16, 2, 19, 7, 17, 11, 12, 1, 9, 2, 10, 13, 11, 13, 15, 2, 3, 4, 7, 10, 1, 11, 3, 4, 8, 9, 10, 12, 2, 2, 7, 8, 11, 11, 2, 5, 16, 2, 2, 17, 6, 12, 12, 11, 13, 13, 13, 4, 4, 3, 4, 7, 8, 4, 4, 9, 7, 19, 6, 15, 15, 16, 8, 4, 11, 14, 16, 18, 1, 3, 3, 14, 15, 4, 14, 17, 1, 4, 6, 14, 10, 3, 12, 12, 12, 7, 2, 2, 11, 3, 1, 3, 4, 1, 1, 2, 5, 1, 3, 4, 8, 5, 3, 14, 1, 2, 4, 1, 3, 6, 1, 10, 1, 5, 2, 17, 2, 2, 5, 1, 3, 4, 1, 3, 4, 14, 6, 1, 2, 3, 4, 10, 14, 6, 18, 5, 1, 17, 17, 18, 1, 3, 4, 12, 7, 7, 16, 11, 14, 4, 2, 1, 2, 3, 8, 18, 6, 14, 6, 9, 4, 11, 18, 7, 6, 8, 10, 15, 8, 2, 17, 9, 5, 1, 10, 14, 2, 16, 8, 14, 5, 4, 5, 20, 8, 1, 3, 19, 4, 14, 13, 14, 18, 10, 4, 6, 7, 8, 12, 3, 4, 14, 1, 2, 8, 14, 7, 1, 6, 6, 1, 1, 2, 13, 3, 18, 8, 10, 12, 13, 12, 16, 14, 14, 1, 7, 11, 9, 10, 1, 2, 5, 6, 9, 10, 10, 2, 2, 7, 18, 12, 7, 5, 11, 12, 7, 15, 2, 17, 4, 6, 13, 1, 3, 4, 7, 15, 6, 12, 1, 2, 8, 16, 16, 10, 13, 10, 15, 6, 6, 15, 5, 1, 3, 6, 11, 4, 12, 18, 2, 16, 7, 12, 5, 14, 4, 1, 12, 9, 7, 11, 8, 8, 12, 8, 1, 9, 1, 2, 3, 11, 14, 16, 2, 10, 15, 12, 1, 2, 10, 13, 3, 4, 10, 8, 11, 12, 7, 7, 1, 3, 17, 16, 1, 2, 3, 10, 1, 6, 9, 10, 18, 1, 11, 1, 3, 1, 3, 1, 3, 4, 16, 18, 4, 19, 8, 11, 12, 16, 13, 3, 14, 1, 13, 6, 9, 1, 2, 5, 14, 4, 7, 14, 1, 2, 3, 10, 11, 12, 1, 2, 7, 10, 10, 16, 12, 3, 7, 16, 18, 12, 12, 1, 4, 1, 6, 9, 14, 4, 10, 16, 11, 16, 5, 18, 18, 11, 20, 3, 4, 1, 2, 6, 15, 6, 10, 14, 1, 1, 11, 9, 5, 10, 15, 1, 3, 4, 2, 15, 8, 9, 10, 3, 10, 7, 15, 6, 6, 5, 17, 17, 6, 17, 8, 4, 7, 8, 4, 8, 1, 3, 13, 9, 1, 2, 4, 6, 7, 3, 12, 13, 14, 6, 4, 8, 1, 7, 14, 1, 2, 3, 4, 18, 10, 1, 11, 10, 11, 1, 4, 10, 14, 18, 15, 2, 10, 4, 14, 12, 13, 13, 14, 1, 2, 3, 4, 10, 14, 14, 10, 18, 10, 13, 3, 4, 16, 7, 8, 9, 13, 1, 2, 17, 18, 5, 17, 6, 1, 4, 7, 6, 9, 17, 13, 3, 7, 1, 5, 18, 12, 12, 17, 2, 10, 2, 4, 1, 4, 1, 7, 10, 14, 17, 16, 1, 2, 3, 8, 10, 1, 3, 4, 8, 1, 13, 12, 6, 2, 3, 8, 10, 16, 14, 11, 7, 9, 15, 1, 2, 3, 18, 1, 3, 1, 3, 11, 15, 4, 5, 1, 2, 3, 4, 16, 18, 9, 6, 7, 4, 20, 4, 14, 1, 2, 3, 4, 8, 12, 3, 1, 2, 3, 14, 14, 14, 1, 16, 8, 9, 11, 7, 1, 2, 5, 6, 7, 2, 8, 1, 2, 3, 4, 8, 2, 8, 6, 10, 18, 1, 2, 18, 14, 15, 17, 13, 1, 2, 3, 4, 4, 14, 8, 9, 15, 1, 3, 4, 14, 11, 11, 1, 3, 4, 6, 4, 1, 2, 17, 6, 2, 16, 15, 3, 14, 1, 2, 3, 1, 2, 14, 15, 1, 3, 4, 6, 1, 3, 4, 14, 1, 4, 6, 7, 18], \"Freq\": [0.9998180162772661, 0.9049898845103312, 0.9986205599653454, 0.9750098992715992, 0.01510094634994151, 0.9827231240038861, 0.9928319949823999, 0.9677001101292634, 0.849249187508558, 0.01903263248666784, 0.13060323671885862, 0.9620028147959357, 0.9959419354295055, 0.9974051011926601, 0.9983767631055404, 0.9978554859083018, 0.9369576078379636, 0.9972275490647164, 0.48455152270050345, 0.267165999674427, 0.14594730653720966, 0.10198532715944553, 0.9975501596631096, 0.9990600174115429, 0.9918608189044897, 0.9914412882844157, 0.04134885865638409, 0.9151880715946344, 0.04134885865638409, 0.9979917389054428, 0.9909132989176181, 0.9912629349270871, 0.9992297983695161, 0.9981503026538292, 0.9777360793110504, 0.26665613885905926, 0.7316941394779983, 0.9976126387140657, 0.9963035154970222, 0.9991318294549674, 0.9971639409518807, 0.9944345478472314, 0.9981467407232989, 0.9998679997008496, 0.9895021694175133, 0.9976796276268077, 0.9912027714403342, 0.9955395001047431, 0.9990153074122027, 0.8567710966264817, 0.06043209100209541, 0.08090102505119223, 0.9893478926996516, 0.9901321837385254, 0.993618955447483, 0.9496679733151248, 0.04560715494948015, 0.004041140311979254, 0.9999697646020728, 0.9758383824636301, 0.9995107965125455, 0.9996588033531348, 0.9931990260630668, 0.9952172310478908, 0.9488661599423303, 0.9982579332003362, 0.9985730702083868, 0.9996718795026537, 0.9819934024491929, 0.9976331093662774, 0.9993017836949909, 0.9991666958985675, 0.17503830046018382, 0.8231530886505941, 0.22816304587849046, 0.5534767879702603, 0.20921664454229072, 0.008868528285029664, 0.9442280830084759, 0.9986899397142308, 0.37407684299529637, 0.6244432339764002, 0.9970021382602913, 0.9841905856647375, 0.014488610093907808, 0.9961681107518905, 0.9968705193901901, 0.11758581300107385, 0.7430206976705788, 0.13887289983747514, 0.9979556501849425, 0.9987124659538533, 0.17147870421270328, 0.1673632153115984, 0.3868559567038586, 0.23732652663038134, 0.03703940010994391, 0.9968390269898628, 0.9937645632864646, 0.5494070750781624, 0.4499850834583695, 0.9986542222302977, 0.999219688807133, 0.9995146136608991, 0.27562880861325173, 0.2509087360918839, 0.03460810152991502, 0.0383161124081202, 0.3992291712200911, 0.951790992296278, 0.8944327345873079, 0.4045450337006541, 0.08706580279491402, 0.10354611546680846, 0.4045450337006541, 0.9928455176283942, 0.9874533252824346, 0.9982616435231663, 0.9984050359017058, 0.9756889584648752, 0.023203066788700957, 0.9660020385722249, 0.9963712922361762, 0.996925898769665, 0.9961352754060392, 0.9981106214952633, 0.9734571208781599, 0.9982039619483919, 0.4082824788075388, 0.5670589983438039, 0.02452147019865098, 0.9705109808930709, 0.028970477041584206, 0.998742439646904, 0.9947291718222259, 0.9975093130037674, 0.9995144402273168, 0.9986664599139177, 0.9992779681213054, 0.8040280462352626, 0.9930085367743172, 0.755599366850667, 0.8763009386762048, 0.0963418575854541, 0.026647747842785178, 0.9994758812286655, 0.9978345326815393, 0.8904712555373411, 0.9983911153472227, 0.9983311890787996, 0.9976298696870981, 0.6341745026962728, 0.05593238156076077, 0.21632671103647177, 0.09294645759361715, 0.9936409593576148, 0.5010377382247045, 0.13133998963171867, 0.36483330453255186, 0.9974313476843023, 0.9944523192890047, 0.9988064376290252, 0.7453076718876019, 0.25447544109792475, 0.9979242147114852, 0.26566248933056646, 0.732366862478859, 0.03588798537904893, 0.9535950400718716, 0.010253710108299695, 0.28110313285035815, 0.35551278566368827, 0.3604734291845769, 0.9953669872283294, 0.9977666033565191, 0.9957042024817543, 0.9924854953306762, 0.995496030636489, 0.9945544956175593, 0.9849966730535843, 0.9940776971821349, 0.9973363787925155, 0.9761087438010535, 0.9983165536632617, 0.9970459820879158, 0.9993005851569795, 0.9973292168068247, 0.9981323249360798, 0.9983906890679224, 0.9983640479607381, 0.3227921102458811, 0.6742190044651871, 0.9987551438926517, 0.8357236754030727, 0.9971977558015919, 0.1280237487398095, 0.8705614914307047, 0.9976791392309312, 0.9950735035333665, 0.9960497167336138, 0.9947829377657986, 0.986090734224526, 0.013572951847520684, 0.9921812513336722, 0.9953145205756259, 0.9899044282174756, 0.9953599326390916, 0.6592792193715858, 0.25621277719654045, 0.08436274371105601, 0.9962443379679712, 0.9987099155538965, 0.9986908394969874, 0.9964287314296981, 0.9991028770253157, 0.9971468857014614, 0.9801344069819488, 0.9934836811512376, 0.9551780732381661, 0.4395766284686995, 0.35445226549539577, 0.20374027859184168, 0.9919772206922335, 0.9987767804562759, 0.9983024143011777, 0.9827316095505955, 0.014987192302514527, 0.9933085709182375, 0.9909212717270371, 0.9987704849827942, 0.997760418158358, 0.9990119041509249, 0.9978561499134664, 0.9988357339744058, 0.99822996865803, 0.9982080499156218, 0.9457109699451035, 0.054162384207917844, 0.996993109314576, 0.982192575244803, 0.23886567897830072, 0.7606517899105956, 0.04520151351057504, 0.9543169539920155, 0.998213555420122, 0.9948963566785552, 0.9708261255801756, 0.45736228360980835, 0.5408721697890939, 0.9974578661437168, 0.9934235448709824, 0.32244901897495365, 0.05762396917042898, 0.6179251162105576, 0.99565883583848, 0.9889351464664635, 0.9985753151047245, 0.9990393312476633, 0.9991624656239213, 0.9983243028232043, 0.98428236251544, 0.9992352690996653, 0.9929061515719967, 0.9923355345635197, 0.9726196454844168, 0.9997479541444028, 0.9971407460016001, 0.9946844600788008, 0.06078888387706498, 0.938534917429078, 0.9905444036795877, 0.9956858333169778, 0.9990324130641677, 0.9960357764566742, 0.9825308636190909, 0.9873904492724219, 0.9991246667665307, 0.9937689425424867, 0.08935667889841035, 0.48805766998322225, 0.4225294387910547, 0.9993099345605055, 0.9969026853131527, 0.9985534999257798, 0.9961900524754792, 0.6136658681623269, 0.4651411802646226, 0.4866921229795858, 0.04669370921575362, 0.9974464701802689, 0.9911026499581967, 0.008336377429554925, 0.9978850830513957, 0.9944056509444983, 0.17904640972613703, 0.8138473169369864, 0.9995972972723882, 0.9962390698134228, 0.38124629395997317, 0.15038781145825933, 0.46831292164633387, 0.9984274917280832, 0.5546965645544883, 0.07008975262064963, 0.18883287303982582, 0.16667391344841767, 0.019509518770696288, 0.9975344492615269, 0.9963606695611947, 0.9941035203796657, 0.9993472043147147, 0.9989318337141112, 0.9939654218199705, 0.99740346857469, 0.9992760337310029, 0.22139404197409654, 0.7702667710348776, 0.9234949697770524, 0.9994227937356465, 0.9905032257078108, 0.9965357835121701, 0.9638367161658759, 0.03599806192185334, 0.9998499452181612, 0.08621162943458223, 0.9121746598239667, 0.9996484611479988, 0.8583797266770581, 0.08223910834807982, 0.05925840847576929, 0.7999652792687563, 0.18342593896562814, 0.015797449288905772, 0.9989566393279763, 0.9982501266955778, 0.10276659221289934, 0.8955374464266942, 0.9925234879584449, 0.1633070259666287, 0.23324927812365093, 0.603129932554043, 0.8743163472317061, 0.9911937829540405, 0.9992194608614211, 0.9991409065047363, 0.9891046133847978, 0.9987115819344046, 0.9856097608093648, 0.9991486279035988, 0.9976448223337249, 0.9979748998220112, 0.9994338237238528, 0.99275599332084, 0.993457272156614, 0.9888911942448935, 0.9835048555363315, 0.9975133787092235, 0.9841679245483848, 0.975249090634681, 0.9946641804520036, 0.9970956259795248, 0.8974335500788788, 0.1023295910595778, 0.15072788028886389, 0.8440761296176378, 0.9441694370144152, 0.05447131367390857, 0.9908533048259841, 0.9977714575508078, 0.8990165128585124, 0.997136708683396, 0.9965981468353575, 0.19194844325192803, 0.8057370699296049, 0.9993328058878698, 0.9973636863352393, 0.8494080571676276, 0.1494833611147429, 0.9952011450462414, 0.9958337001703828, 0.9955307556564094, 0.9848982082532133, 0.7385755935398055, 0.006967694278677411, 0.22993391119635456, 0.018967612203066284, 0.005032223645711463, 0.7213036788121694, 0.2771676173213429, 0.9977972961991858, 0.9857059186282476, 0.01220688444121669, 0.17346582690785517, 0.17346582690785517, 0.6497083698730576, 0.9993304404691513, 0.607429624254034, 0.22672522901298278, 0.1656993652323047, 0.9953062945434875, 0.9963126271825361, 0.9983353365486065, 0.9957750391946603, 0.9927535260995436, 0.9989702308819817, 0.7277158567505724, 0.26796757179984976, 0.9988147546029604, 0.9917218106838243, 0.98768561490231, 0.9900014734157119, 0.9966581391674796, 0.9961637745999978, 0.9939096097947936, 0.9991934557028878, 0.9985835910422215, 0.08887366997720933, 0.8399527830998207, 0.05458002558382964, 0.016422308582745203, 0.9989862259819688, 0.9986168897400162, 0.9972686633094267, 0.9910941418004922, 0.9119671818368842, 0.35295761833974, 0.6405527147647133, 0.9809978824213124, 0.9920580111415331, 0.9996581560375537, 0.8745557791695191, 0.037118152950605054, 0.08791141488301198, 0.9899838988305147, 0.9882503512360534, 0.8484347975542591, 0.15144677633863785, 0.9976251989452466, 0.9854437688367705, 0.9757921089957232, 0.978587947936953, 0.01918799897915594, 0.8807516601748138, 0.6289350203519039, 0.06891301213096769, 0.29723925714321003, 0.004151386272949861, 0.9968774696830992, 0.0005165538587463362, 0.9990151628154142, 0.9967274233491978, 0.9923771394928608, 0.9971633254638738, 0.9988212992721925, 0.4072100209717065, 0.5906561195282674, 0.9982263001248639, 0.021221155580908337, 0.8446019921201517, 0.13339012079428098, 0.9983969026123916, 0.8882655600175405, 0.11147722330495362, 0.0002611931192712128, 0.2381418903978272, 0.0866968172416053, 0.6743695467717272, 0.9914683810483108, 0.9950186224846956, 0.9985599209285866, 0.9850362062361165, 0.9082127133750322, 0.09150585378477083, 0.9976173128573105, 0.4894301570515223, 0.06487292214232254, 0.44546073204394815, 0.9994037768967319, 0.9916959603205606, 0.9539490796473774, 0.04583636743236675, 0.9596505935565027, 0.039554399861238224, 0.9990437912940154, 0.9995580468452643, 0.9931012308560465, 0.7540231235721958, 0.15747093349203775, 0.08845225957555748, 0.02808438698542275, 0.8808690267173865, 0.07489169862779399, 0.016048221134527283, 0.9975946347206108, 0.3704868741943081, 0.03943421394183831, 0.3361645028004858, 0.25364475881108345, 0.9950128333062843, 0.9955271406973148, 0.9980059093152028, 0.9087497411819374, 0.9996370960675333, 0.9989874441681313, 0.9922151590109015, 0.9093884453540505, 0.995697876583289, 0.37598878114728557, 0.49429152734927667, 0.12962960488090514, 0.9944339919413343, 0.9980475974338765, 0.9923417516166569, 0.9974616639899991, 0.9955966202443457, 0.9777360793110504, 0.9988819909055922, 0.9991867823605898, 0.24051068547049692, 0.46200663726063407, 0.08942063946980014, 0.20762033532068538, 0.995088171998685, 0.9977468768701667, 0.9752289245142303, 0.9986226263886196, 0.9967212287853541, 0.9842924102995745, 0.014451275192000278, 0.945435641838175, 0.991231311117307, 0.9637365014182347, 0.034666780626555205, 0.9979902298080966, 0.9878459627101344, 0.9947374538973551, 0.9686244011412481, 0.02951789935757754, 0.998304629862413, 0.9985427594082614, 0.9992068058192157, 0.9983588469034138, 0.9921657575761962, 0.9981954424060008, 0.9966937941782901, 0.9923507654465404, 0.9759409449152605, 0.9992803555805093, 0.4687822610124395, 0.5299951512934027, 0.9302078518551185, 0.9971753668429665, 0.9495898716976295, 0.050194070888008466, 0.9798649316496446, 0.8500916447707044, 0.14900130305021572, 0.8325810479177278, 0.16460771434476568, 0.9623051181089137, 0.9975386614996332, 0.166706611631238, 0.16321537369131678, 0.480045216739167, 0.11608366150238039, 0.07244318725336521, 0.997941946675309, 0.41756036231751886, 0.5791966316017197, 0.6514562700744524, 0.3179365642395044, 0.030356769341773174, 0.9923317267313979, 0.9919236978555948, 0.6791952956663262, 0.3206241760109054, 0.9978692123076249, 0.9980206383435516, 0.9748928548393119, 0.025039353324293905, 0.9968555613710169, 0.998385645944969, 0.891495800430159, 0.9979832037421109, 0.7221833952517709, 0.2731334635888108, 0.9967849576579645, 0.6736192328415027, 0.3251954917165875, 0.9910857216813339, 0.9956863032711637, 0.5328135949901054, 0.4651149264501861, 0.9900615173665017, 0.995931873335153, 0.9982235291589525, 0.9685485363790277, 0.031108838861084672, 0.00028592682776732234, 0.259108576116132, 0.7392914419460279, 0.9931875008116106, 0.9973631981250628, 0.9978776710346247, 0.39321343295545536, 0.6054445242526051, 0.976466079063547, 0.9918689914736275, 0.9981499346050794, 0.9933048085629875, 0.9961171457347385, 0.9875526075189139, 0.999062088699316, 0.9968786352505644, 0.9879296118059755, 0.010829922662915686, 0.9979637065534092, 0.9984399948260871, 0.9908423003810739, 0.1302740135316198, 0.2025815141042117, 0.6670366927821606, 0.9948327670417754, 0.97114042810614, 0.9968864715436638, 0.9957196001888082, 0.20217585838065233, 0.570366039496637, 0.22683145086609774, 0.9990581860108291, 0.9981959028241807, 0.9950560448723488, 0.9955777888253396, 0.9935269433197863, 0.9909647928107028, 0.9994132626334659, 0.9990242800665255, 0.9954589585183118, 0.9949079629141765, 0.41064550900314406, 0.5013075044973446, 0.08786848863023367, 0.9983606555878434, 0.9917201177303154, 0.005974217576688647, 0.9809012288951692, 0.9972483655497472, 0.9870773292622603, 0.8435679664514977, 0.15317418338198246, 0.9915845173218991, 0.9922633851833451, 0.9982523883183971, 0.9991927453935108, 0.9931164242435367, 0.9994330537123254, 0.992442450234829, 0.9945228393530307, 0.9953567348065272, 0.3002197303433377, 0.697335775771033, 0.9934040981246305, 0.9995114715121876, 0.9917898884654687, 0.6536070374930689, 0.34223684589864584, 0.004055472828292051, 0.17086564482427763, 0.8189767113991239, 0.9970662449265824, 0.9493475428728941, 0.050228268736442545, 0.9930431868528309, 0.9931412849626178, 0.36534985730976477, 0.1438079225580989, 0.4877809265146328, 0.996899106997116, 0.9228344261500195, 0.07555958729394265, 0.9950592556724178, 0.2752443289135697, 0.1419037429065515, 0.5816830151040107, 0.9950363565666647, 0.9983332535728802, 0.9902774613343639, 0.009586422665385903, 0.9919421346940082, 0.9834922655440944, 0.4151275784533912, 0.12011728994766577, 0.4643423014180598, 0.9899509666334414, 0.12000882920162145, 0.05778202887485478, 0.8067260185220109, 0.011111928629779765, 0.9843125431090434, 0.6269293464714238, 0.37106062132617607, 0.9993520464284965, 0.9986701283357513, 0.9546318864883339, 0.04493853927895393, 0.11971148781134663, 0.852149165652267, 0.027759185579442697, 0.9899848904170361, 0.9789728586575692, 0.9983759573214457, 0.9640486429849572, 0.99685926724865, 0.9920661343759245, 0.9883066531013552, 0.9921695837897219, 0.9924437265459547, 0.9992625270933791, 0.9880663114208641, 0.9990658336160372, 0.9928036117048442, 0.05488357826254676, 0.9433115013875224, 0.87567290492193, 0.11705592436844593, 0.0016553363042002456, 0.005438962142372236, 0.03459444578960757, 0.9646528152871342, 0.9849476409724894, 0.13050962773479133, 0.532396417902244, 0.18506127107367237, 0.008286325570462943, 0.026930558104004562, 0.11600855798648119, 0.33918040002722305, 0.1474433581513689, 0.34767507909767226, 0.16443271629226736, 0.9972565456056397, 0.988486016952822, 0.992815406651667, 0.9982369760564268, 0.9978925070123409, 0.9946812075716936, 0.8523520846455068, 0.9985477378585443, 0.9953091142828154, 0.4015778155317393, 0.5981610908788146, 0.49452621459139834, 0.058769782023905315, 0.3110498219314013, 0.13474047585968535, 0.09972563169107504, 0.8940918703337762, 0.9914127825934742, 0.9961672142197677, 0.9829583754814324, 0.9979303459782081, 0.9960303827864772, 0.9873781332600754, 0.9981902435572472, 0.6363554955626735, 0.12139728123192019, 0.8777342899597387, 0.21759267619688927, 0.5720071672811223, 0.21011921571984946, 0.9914914874693769, 0.04295483286173396, 0.446069418179545, 0.5088495585159254, 0.999648335761252, 0.26539900326314053, 0.7335562512552642, 0.9987788875857698, 0.9980129322822897, 0.9955951699712996, 0.9913187885792639, 0.47172916438073015, 0.43109912370301884, 0.0969806965495235, 0.9989575811717281, 0.9875033047036316, 0.9947360423522522, 0.9983807383946838, 0.9947996781903914, 0.8389034651564157, 0.15998064183722915, 0.9980519610170283, 0.9891487418973194, 0.9977892230170625, 0.9982487708396462, 0.9993961532769395, 0.9971412470425932, 0.9566457805956389, 0.9981835977328356, 0.928055983764501, 0.9976633214606098, 0.023929030171160395, 0.9747931238146393, 0.996553876611695, 0.1962463413892499, 0.8023012192089922, 0.7943452018475123, 0.20546135344245248, 0.9977561494670664, 0.9990675202971379, 0.10366628125693408, 0.6981071092239105, 0.18764909138913385, 0.005686336102701026, 0.004374104694385404, 0.9995798578070881, 0.8438247079147642, 0.15260659611224459, 0.9812107649119698, 0.9988292569820114, 0.9983636704772483, 0.9989053240770379, 0.5859860532170652, 0.41363721403557546, 0.9857147621347296, 0.11663413703781263, 0.699356229392115, 0.07850374608314312, 0.10452213049927055, 0.9081795251731494, 0.9906062462795111, 0.5171067971877799, 0.48066638530541955, 0.9945995969152308, 0.9959690279747831, 0.10073118086313308, 0.8977788741005452, 0.995190591312835, 0.9942945546829389, 0.9576393366437256, 0.9896822217956588, 0.9991621527585064, 0.9936177492273272, 0.15443359322342157, 0.8442369762880378, 0.9937273634895605, 0.9964341681641644, 0.9928545306894115, 0.9777360793110504, 0.9991536424966218, 0.7448867608653259, 0.19550698224927873, 0.008769442475561315, 0.026824176984069907, 0.023213230082368187, 0.9942606973150473, 0.9995378890726858, 0.9582275221172848, 0.9913928142752297, 0.9939450716471744, 0.8776608468288531, 0.12170494268314423, 0.9872502879449377, 0.8099536583156531, 0.030063782077218566, 0.15739274146308543, 0.9945312288045463, 0.47031802478925416, 0.45072144042303525, 0.07632353911053687, 0.001031399177169417, 0.995950115020193, 0.8952571153985496, 0.9977643149047138, 0.18307207334615005, 0.8166606402310868, 0.9945815079855972, 0.24565460802713185, 0.7508314229216368, 0.98453025121957, 0.9943323109551794, 0.13613866022444907, 0.8632668532061964, 0.9991447557824191, 0.9918402653132686, 0.9852141619546153, 0.9910610608526004, 0.9987200257739205, 0.9802684779855336, 0.812539820324114, 0.1861416834204534, 0.6235464719891124, 0.3759134721863526, 0.9745108058591906, 0.025041718138256435, 0.1772897587533376, 0.21668748292074597, 0.6008152935529775, 0.9848153470557759, 0.9580968018333864, 0.9875294782524389, 0.04006469306938445, 0.7216893402236282, 0.12894182878662155, 0.09954939020296834, 0.009622524536315041, 0.8325865653606337, 0.05853016720730312, 0.10855422014918503, 0.9970841607333115, 0.9979060947617995, 0.9949846195398463, 0.997306119222014, 0.9994960000458937, 0.4658733903811206, 0.02665595471621496, 0.4355825327490581, 0.0714864240116674, 0.98783631376355, 0.9829782871078849, 0.9953340749185368, 0.9886653054320315, 0.01007985018282445, 0.9959880910890375, 0.26612189121683855, 0.7335587882246535, 0.9967991874622388, 0.9588594291445026, 0.7252616691328981, 0.27461159241615263, 0.7597425945349634, 0.24007555042177475, 0.9943647887736032, 0.9755886647102221, 0.997783917490925, 0.9963392160865757, 0.8745422067674976, 0.0033957309436045855, 0.055746582990841946, 0.06607526461097256, 0.9877698761523273, 0.7611395368785493, 0.997210725054971, 0.998656713823255, 0.9965605620000797, 0.9965935802577057, 0.9315226692547307, 0.49663328397065826, 0.49663328397065826, 0.06309425640610748, 0.0054600798812977636, 0.9288202553629862, 0.0024267021694656726, 0.8406125082267168, 0.15454157532858862, 0.9992348822746762, 0.7899090538772171, 0.09123913691960978, 0.11863351797984, 0.9981098462002844, 0.9960294144740448, 0.9981310279539216, 0.9991130953706177, 0.9928876808051753, 0.27941664728984744, 0.7182188469070022, 0.9957818014023218, 0.9972536531367165, 0.8579490194748105, 0.09940510599290249, 0.000843607688765792, 0.03613452933546809, 0.005624051258438613, 0.9985781815698116, 0.9953957473059571, 0.31362344326865876, 0.5664611848243046, 0.03708697243755974, 0.02231373860351105, 0.06047792600813685, 0.9261864977670913, 0.07319406973235372, 0.9966001022921226, 0.9887000989610008, 0.9765977536444581, 0.9996050351164604, 0.9994196077147236, 0.9983571860940674, 0.9979367378426511, 0.9899546347135402, 0.9810071232710345, 0.997747446997568, 0.97196700321881, 0.003448849729643033, 0.020084477837332956, 0.0042603437836766875, 0.9391309625436953, 0.05974382239396276, 0.9922374430957516, 0.9952435723995621, 0.9925511739151858, 0.710710597425983, 0.24771475034326756, 0.033304355713989396, 0.008053994519069331, 0.9972593483038473, 0.9979656600321629, 0.8847460235734914, 0.08991014244683644, 0.0036266275944942432, 0.021608656083861533, 0.9991143184445302, 0.4308340462201035, 0.48241277006335537, 0.08495319221241478, 0.9991842568377318, 0.9997584093339552, 0.9974858024252792, 0.9894724370553178, 0.8489918265686003, 0.14939957692577738, 0.9987016704041044, 0.02397923107814005, 0.9751553971776954, 0.7287028860448002, 0.2636818352785193, 0.007253701044836591, 0.9959978055807148, 0.1648226709535333, 0.34040527888326166, 0.4641445541095048, 0.03032345875109515, 0.9798352950345106, 0.020068170453116162, 0.06314405495762088, 0.931374810624908, 0.37324542547252243, 0.18483459798992286, 0.4300886521455944, 0.011669801502418755, 0.9942159570866759], \"Term\": [\"_\", \"absurd\", \"accept\", \"acquisition\", \"action\", \"action\", \"adam\", \"added_forwarde\", \"address\", \"address\", \"address\", \"adjust\", \"administration\", \"agency\", \"air\", \"algorithm\", \"allen\", \"alone\", \"also\", \"also\", \"also\", \"also\", \"america\", \"american\", \"ammunition\", \"amp\", \"analysis\", \"analysis\", \"analysis\", \"announcement\", \"apollo\", \"apple\", \"application\", \"appreciate\", \"appressian\", \"april\", \"april\", \"arab\", \"archive\", \"argument\", \"arm\", \"armenia\", \"armenian\", \"article\", \"assist\", \"associate\", \"assure\", \"astronomy\", \"atheist\", \"attack\", \"attack\", \"attack\", \"attention\", \"austin\", \"australia\", \"available\", \"available\", \"available\", \"ax\", \"axis\", \"back\", \"bad\", \"ban\", \"bar\", \"bare\", \"baseball\", \"belief\", \"believe\", \"bell_lab\", \"benefit\", \"bible\", \"bike\", \"bill\", \"bill\", \"bit\", \"bit\", \"bit\", \"bit\", \"bk\", \"black\", \"block\", \"block\", \"blue\", \"board\", \"board\", \"bolt\", \"bomb\", \"book\", \"book\", \"book\", \"boston\", \"brain\", \"break\", \"break\", \"break\", \"break\", \"break\", \"btw\", \"buffer\", \"buy\", \"buy\", \"canada\", \"car\", \"card\", \"carry\", \"carry\", \"carry\", \"carry\", \"carry\", \"carrying\", \"cart\", \"case\", \"case\", \"case\", \"case\", \"catalog\", \"cbr\", \"cds\", \"certain\", \"certainly\", \"certainly\", \"changing_oil\", \"channel\", \"character\", \"charle\", \"cheap\", \"checking\", \"chicago\", \"child\", \"child\", \"child\", \"chip\", \"chip\", \"choice\", \"chris\", \"christ\", \"christian\", \"christianity\", \"church\", \"churchill\", \"circuit\", \"circumference\", \"city\", \"city\", \"city\", \"claim\", \"clearly\", \"click\", \"clinton\", \"clipper\", \"clipper_chip\", \"close\", \"close\", \"close\", \"close\", \"co\", \"cold\", \"cold\", \"cold\", \"college\", \"collin\", \"color\", \"come\", \"come\", \"communication\", \"community\", \"community\", \"computer\", \"computer\", \"computer\", \"concern\", \"concern\", \"concern\", \"concerned\", \"conclusion\", \"conference\", \"confirm\", \"congress\", \"consequence\", \"conservative\", \"consideration\", \"controller\", \"converter\", \"cool\", \"cop\", \"copy\", \"corp\", \"corporation\", \"country\", \"couple\", \"court\", \"court\", \"cpu\", \"cradle\", \"crime\", \"criminal\", \"criminal\", \"crypto\", \"cryptography\", \"cub\", \"cycle\", \"d\", \"d\", \"dale\", \"dan\", \"daniel\", \"data\", \"datum\", \"datum\", \"datum\", \"daughter\", \"dave\", \"david\", \"dealer\", \"death\", \"default\", \"deficit\", \"detroit\", \"developer\", \"device\", \"device\", \"device\", \"devil\", \"die\", \"digital\", \"direct\", \"direct\", \"director\", \"dirt\", \"discussion\", \"disease\", \"disk\", \"display\", \"distribution\", \"distribution_na\", \"division\", \"do\", \"do\", \"doctor\", \"download\", \"drive\", \"drive\", \"driver\", \"driver\", \"drug\", \"dual\", \"ducati\", \"earth\", \"earth\", \"eat\", \"economic\", \"effect\", \"effect\", \"effect\", \"effective\", \"effectively\", \"el\", \"email\", \"encryption\", \"engine\", \"england\", \"entry\", \"environmental\", \"escape\", \"esdi\", \"evidence\", \"ex\", \"exchange\", \"exist\", \"exist\", \"expand\", \"expansion\", \"explain\", \"export\", \"exposure\", \"extension\", \"face\", \"facility\", \"fact\", \"fact\", \"fact\", \"faith\", \"family\", \"fan\", \"fancy\", \"fasst\", \"fast\", \"fast\", \"fast\", \"father\", \"fax\", \"fax\", \"feature\", \"federal\", \"fi\", \"fi\", \"file\", \"film\", \"fire\", \"fire\", \"fire\", \"firearm\", \"first\", \"first\", \"first\", \"first\", \"first\", \"flame\", \"flight\", \"flow\", \"force\", \"format\", \"frame\", \"freedom\", \"friend\", \"fuel\", \"fuel\", \"fuzzy\", \"game\", \"genocide\", \"germany\", \"get\", \"get\", \"go\", \"goal\", \"goal\", \"god\", \"good\", \"good\", \"good\", \"government\", \"government\", \"government\", \"grant\", \"graphic\", \"greek\", \"greek\", \"green\", \"group\", \"group\", \"group\", \"grubb\", \"gt\", \"guess\", \"gun\", \"handgun\", \"hardware\", \"harry\", \"have\", \"headache\", \"health\", \"hear\", \"heat\", \"helmet\", \"hmmm\", \"ho\", \"hole\", \"holocaust\", \"homeland\", \"homosexual\", \"honda\", \"host\", \"host\", \"hot\", \"hot\", \"human\", \"human\", \"human_being\", \"ibm\", \"ibm_pc\", \"ice\", \"ide\", \"ignore\", \"ignore\", \"ill\", \"illinois\", \"image\", \"image\", \"immediate\", \"impact\", \"imply\", \"impressive\", \"include\", \"include\", \"include\", \"include\", \"include\", \"increase\", \"increase\", \"indeed\", \"individual\", \"individual\", \"industry\", \"industry\", \"industry\", \"info\", \"information\", \"information\", \"information\", \"informed\", \"inhabitant\", \"input\", \"ins_cwru\", \"insert\", \"instal\", \"interface\", \"interface\", \"internet\", \"introduce\", \"investment\", \"invite\", \"iran\", \"islam\", \"islamic\", \"israel\", \"israeli\", \"issue\", \"issue\", \"issue\", \"issue\", \"jew\", \"jewish\", \"joseph\", \"journal\", \"judaism\", \"ken\", \"ken\", \"kenneth\", \"kevin\", \"key\", \"kill\", \"kill\", \"kill\", \"kit\", \"km\", \"know\", \"know\", \"knowledge\", \"kurd\", \"lance\", \"land\", \"land\", \"las_cruce\", \"last\", \"last\", \"last\", \"last\", \"launch\", \"law\", \"law\", \"legal\", \"legitimate\", \"letter\", \"library\", \"license\", \"license\", \"lie\", \"life\", \"life\", \"life\", \"light\", \"line\", \"line\", \"line\", \"live\", \"live\", \"live\", \"location\", \"log\", \"logic\", \"longer_exist\", \"look\", \"look\", \"lord\", \"lose\", \"lose\", \"lose\", \"lot\", \"lunar\", \"m\", \"m\", \"mac\", \"mac\", \"machine\", \"mail\", \"mailing_list\", \"make\", \"make\", \"make\", \"man\", \"man\", \"man\", \"man\", \"manager\", \"many\", \"many\", \"many\", \"many\", \"mar\", \"massacre\", \"master\", \"mate\", \"max\", \"maybe\", \"mb\", \"mb_burst\", \"md\", \"mean\", \"mean\", \"mean\", \"meaning\", \"medical\", \"medicine\", \"medium\", \"meeting\", \"melkonian\", \"member\", \"memory\", \"message\", \"message\", \"message\", \"message\", \"mhz\", \"michael\", \"might_serve\", \"mike\", \"mile\", \"military\", \"military\", \"minimal\", \"minnesota\", \"miss\", \"miss\", \"mission\", \"mix\", \"mo\", \"mode\", \"mode\", \"model\", \"modem\", \"money\", \"moon\", \"moslem\", \"motherboard\", \"motif\", \"motorola\", \"mountain_passe\", \"mouse\", \"mr\", \"mr\", \"ms_window\", \"mu\", \"much\", \"much\", \"multiple\", \"murder\", \"murder\", \"muslim\", \"muslim\", \"n\", \"nasa\", \"national\", \"national\", \"national\", \"national\", \"national\", \"nature\", \"nazi\", \"nazi\", \"need\", \"need\", \"need\", \"netcom\", \"newspaper\", \"next\", \"next\", \"nhl\", \"nice\", \"nntp_poste\", \"nntp_poste\", \"normal\", \"notice\", \"ns_simms\", \"nsa\", \"nuclear\", \"nuclear\", \"observation\", \"obtain\", \"obtain\", \"occupation\", \"occupy\", \"office\", \"office\", \"officer\", \"oil\", \"orbit\", \"organization\", \"organization\", \"organization\", \"owner\", \"owner\", \"ozone\", \"pa\", \"package\", \"page\", \"page\", \"paint\", \"panel\", \"paper\", \"parameter\", \"particularly\", \"partner\", \"patient\", \"paul\", \"pc\", \"pc\", \"peace\", \"pen\", \"penalty\", \"people\", \"people\", \"people\", \"percent\", \"peripheral\", \"peter\", \"pgp\", \"phone\", \"phone\", \"phone\", \"physical\", \"pin\", \"plane\", \"planet\", \"planetary\", \"platform\", \"play\", \"player\", \"please_respond\", \"plot\", \"point\", \"point\", \"point\", \"police\", \"policy\", \"policy\", \"pop\", \"port\", \"positively\", \"possibly\", \"possibly\", \"pp\", \"preach\", \"president\", \"pretty\", \"previously\", \"price\", \"primary\", \"prior\", \"privacy\", \"private\", \"private\", \"prize\", \"probably\", \"probe\", \"problem\", \"problem\", \"problem\", \"proceed\", \"proceed\", \"processor\", \"program\", \"program\", \"programmer\", \"prohibit\", \"project\", \"project\", \"project\", \"proof\", \"prove\", \"prove\", \"pub\", \"public\", \"public\", \"public\", \"publication\", \"publish\", \"put\", \"put\", \"quadra\", \"qualified\", \"question\", \"question\", \"question\", \"radiation\", \"radio\", \"radio\", \"radio\", \"radio\", \"radius\", \"rate\", \"rate\", \"re\", \"reality\", \"really\", \"really\", \"reason\", \"reason\", \"reason\", \"receiver\", \"recommendation\", \"refer\", \"reflect\", \"register\", \"regularly\", \"regulation\", \"related\", \"relation\", \"religion\", \"remainder\", \"remember\", \"remind\", \"replace\", \"replace\", \"reply\", \"reply\", \"reply\", \"reply\", \"report\", \"report\", \"republic\", \"require\", \"require\", \"require\", \"require\", \"require\", \"require\", \"research\", \"research\", \"research\", \"research\", \"resource\", \"responce\", \"restriction\", \"revelation\", \"review\", \"richard\", \"richardson_tx\", \"ride\", \"rider\", \"right\", \"right\", \"road\", \"road\", \"road\", \"road\", \"rocket\", \"rocket\", \"roger\", \"role\", \"rom\", \"ron\", \"route\", \"rs\", \"rsa\", \"rude\", \"rule\", \"rule\", \"run\", \"run\", \"run\", \"russia\", \"russian\", \"russian\", \"russian\", \"s\", \"safety\", \"safety\", \"sale\", \"sam\", \"satellite\", \"saturday\", \"say\", \"say\", \"say\", \"scan\", \"scare\", \"scheme\", \"school\", \"sci\", \"science\", \"science\", \"scientific\", \"scope\", \"score\", \"scott\", \"screen\", \"scsi\", \"scsi_controller\", \"season\", \"seattle_wa\", \"secret\", \"section\", \"section\", \"secure\", \"security\", \"security\", \"see\", \"see\", \"self\", \"sell\", \"send\", \"send\", \"send\", \"send\", \"send\", \"sense\", \"sentence\", \"sentence\", \"serdar_argic\", \"series\", \"serve\", \"server\", \"service\", \"service\", \"services_gu\", \"set\", \"set\", \"set\", \"set\", \"sez\", \"sgi\", \"shoot\", \"shoot\", \"shuttle\", \"significant\", \"situation\", \"situation\", \"sky\", \"slaughter\", \"smartdrv\", \"soft\", \"software\", \"solar\", \"soldier\", \"soldier\", \"solid\", \"son\", \"soul\", \"soul_sahak\", \"sound\", \"source\", \"source\", \"source\", \"source\", \"source\", \"soviet\", \"space\", \"space_dig\", \"space_station\", \"spacecraft\", \"speak\", \"speak\", \"speaker\", \"special\", \"special\", \"special\", \"specify\", \"speed\", \"speed\", \"speed\", \"speed\", \"stable\", \"stall\", \"star\", \"state\", \"state\", \"statistic\", \"steal\", \"steal\", \"stream\", \"strip\", \"study\", \"study\", \"stuff\", \"subscription\", \"suck\", \"sufficient\", \"suggest\", \"suitable\", \"sun\", \"sun\", \"support\", \"support\", \"sure\", \"sure\", \"surface\", \"surface\", \"surface\", \"survivor\", \"synchronous\", \"sys\", \"system\", \"system\", \"system\", \"system\", \"system\", \"take\", \"take\", \"take\", \"tap\", \"tape\", \"task\", \"tax\", \"team\", \"technology\", \"technology\", \"technology\", \"technology\", \"tel\", \"television\", \"terrorism\", \"test\", \"test\", \"texas\", \"thank\", \"thank\", \"therefore\", \"thick\", \"thing\", \"thing\", \"think\", \"think\", \"threat\", \"thumb\", \"thus\", \"tight\", \"time\", \"time\", \"time\", \"time\", \"tip\", \"tom_mcwilliam\", \"track\", \"trade\", \"treatment\", \"trial\", \"trivial\", \"troop\", \"troop\", \"true\", \"true\", \"true\", \"true\", \"trust\", \"trust\", \"truth\", \"try\", \"try\", \"try\", \"turk\", \"turkey\", \"turkish\", \"turn\", \"uk\", \"unit\", \"unit\", \"united_state\", \"univ\", \"university\", \"university\", \"university\", \"university\", \"university\", \"unix\", \"unknown\", \"use\", \"use\", \"use\", \"use\", \"use\", \"user\", \"user\", \"van\", \"variable\", \"variation\", \"ve\", \"version\", \"video\", \"village\", \"virginia\", \"voltage\", \"vote\", \"want\", \"want\", \"want\", \"want\", \"war\", \"war\", \"warrant\", \"warranty\", \"wave\", \"way\", \"way\", \"way\", \"way\", \"weapon\", \"weight\", \"well\", \"well\", \"well\", \"well\", \"whole\", \"wide\", \"wide\", \"wide\", \"win\", \"window\", \"wing\", \"winter\", \"woman\", \"woman\", \"wonder\", \"word\", \"word\", \"work\", \"work\", \"work\", \"workstation\", \"world\", \"world\", \"world\", \"world\", \"write\", \"write\", \"wwii\", \"wwii\", \"year\", \"year\", \"year\", \"year\", \"zone\"]}, \"R\": 30, \"lambda.step\": 0.01, \"plot.opts\": {\"xlab\": \"PC1\", \"ylab\": \"PC2\"}, \"topic.order\": [16, 15, 10, 4, 1, 9, 8, 2, 14, 17, 6, 7, 3, 13, 19, 18, 20, 11, 12, 5]};\n",
       "\n",
       "function LDAvis_load_lib(url, callback){\n",
       "  var s = document.createElement('script');\n",
       "  s.src = url;\n",
       "  s.async = true;\n",
       "  s.onreadystatechange = s.onload = callback;\n",
       "  s.onerror = function(){console.warn(\"failed to load library \" + url);};\n",
       "  document.getElementsByTagName(\"head\")[0].appendChild(s);\n",
       "}\n",
       "\n",
       "if(typeof(LDAvis) !== \"undefined\"){\n",
       "   // already loaded: just create the visualization\n",
       "   !function(LDAvis){\n",
       "       new LDAvis(\"#\" + \"ldavis_el530819135561012644888820682\", ldavis_el530819135561012644888820682_data);\n",
       "   }(LDAvis);\n",
       "}else if(typeof define === \"function\" && define.amd){\n",
       "   // require.js is available: use it to load d3/LDAvis\n",
       "   require.config({paths: {d3: \"https://d3js.org/d3.v5\"}});\n",
       "   require([\"d3\"], function(d3){\n",
       "      window.d3 = d3;\n",
       "      LDAvis_load_lib(\"https://cdn.jsdelivr.net/gh/bmabey/pyLDAvis@3.3.1/pyLDAvis/js/ldavis.v3.0.0.js\", function(){\n",
       "        new LDAvis(\"#\" + \"ldavis_el530819135561012644888820682\", ldavis_el530819135561012644888820682_data);\n",
       "      });\n",
       "    });\n",
       "}else{\n",
       "    // require.js not available: dynamically load d3 & LDAvis\n",
       "    LDAvis_load_lib(\"https://d3js.org/d3.v5.js\", function(){\n",
       "         LDAvis_load_lib(\"https://cdn.jsdelivr.net/gh/bmabey/pyLDAvis@3.3.1/pyLDAvis/js/ldavis.v3.0.0.js\", function(){\n",
       "                 new LDAvis(\"#\" + \"ldavis_el530819135561012644888820682\", ldavis_el530819135561012644888820682_data);\n",
       "            })\n",
       "         });\n",
       "}\n",
       "</script>"
      ],
      "text/plain": [
       "PreparedData(topic_coordinates=              x         y  topics  cluster       Freq\n",
       "topic                                                \n",
       "15     0.380083 -0.060298       1        1  37.330718\n",
       "14     0.279469  0.252060       2        1  12.667975\n",
       "9      0.336309 -0.093020       3        1  12.182215\n",
       "3      0.293060 -0.109462       4        1  10.963795\n",
       "0     -0.013478 -0.083179       5        1   5.634452\n",
       "8      0.118404 -0.164429       6        1   4.906856\n",
       "7      0.017861  0.012756       7        1   2.555118\n",
       "1      0.039168  0.260440       8        1   2.432185\n",
       "13    -0.024300  0.065841       9        1   2.317961\n",
       "16    -0.024070  0.088943      10        1   1.608207\n",
       "5     -0.077622 -0.010120      11        1   1.493903\n",
       "6     -0.079476  0.049996      12        1   1.442913\n",
       "2     -0.121961 -0.015749      13        1   1.066907\n",
       "12    -0.102841 -0.070605      14        1   0.968368\n",
       "18    -0.153625 -0.036411      15        1   0.729635\n",
       "17    -0.142658 -0.035595      16        1   0.694024\n",
       "19    -0.148867  0.025234      17        1   0.491262\n",
       "10    -0.179025 -0.028790      18        1   0.341409\n",
       "11    -0.195964 -0.024387      19        1   0.120477\n",
       "4     -0.200467 -0.023224      20        1   0.051620, topic_info=               Term          Freq         Total Category  logprob  loglift\n",
       "5421             ax  50760.000000  50760.000000  Default  30.0000  30.0000\n",
       "1086              _   8392.000000   8392.000000  Default  29.0000  29.0000\n",
       "26     organization  17486.000000  17486.000000  Default  28.0000  28.0000\n",
       "18             line  19142.000000  19142.000000  Default  27.0000  27.0000\n",
       "421           drive   2474.000000   2474.000000  Default  26.0000  26.0000\n",
       "...             ...           ...           ...      ...      ...      ...\n",
       "5208       familiar      0.010147      1.266844  Topic20 -11.2648   2.7419\n",
       "11901             p      0.010147      1.266839  Topic20 -11.2648   2.7419\n",
       "4497           loss      0.010147      1.266878  Topic20 -11.2648   2.7419\n",
       "9087           phil      0.010147      1.266862  Topic20 -11.2648   2.7419\n",
       "4711        capable      0.010147      1.266880  Topic20 -11.2648   2.7419\n",
       "\n",
       "[857 rows x 6 columns], token_table=      Topic      Freq         Term\n",
       "term                              \n",
       "1086      5  0.999818            _\n",
       "406      19  0.904990       absurd\n",
       "1588      3  0.998621       accept\n",
       "1308     17  0.975010  acquisition\n",
       "2073      3  0.015101       action\n",
       "...     ...       ...          ...\n",
       "45        1  0.373245         year\n",
       "45        4  0.184835         year\n",
       "45        6  0.430089         year\n",
       "45        7  0.011670         year\n",
       "2607     18  0.994216         zone\n",
       "\n",
       "[1041 rows x 3 columns], R=30, lambda_step=0.01, plot_opts={'xlab': 'PC1', 'ylab': 'PC2'}, topic_order=[16, 15, 10, 4, 1, 9, 8, 2, 14, 17, 6, 7, 3, 13, 19, 18, 20, 11, 12, 5])"
      ]
     },
     "execution_count": 48,
     "metadata": {},
     "output_type": "execute_result"
    }
   ],
   "source": [
    "# Visualize the topics\n",
    "pyLDAvis.enable_notebook()\n",
    "vis = pyLDAvis.gensim.prepare(lda_model, corpus, id2word)\n",
    "vis"
   ]
  },
  {
   "cell_type": "markdown",
   "metadata": {},
   "source": [
    "## (2) (10 points) Generate K topics by using LSA, the number of topics K should be decided by the coherence score, then summarize what are the topics. You may refer the code here:\n",
    "\n",
    "https://www.datacamp.com/community/tutorials/discovering-hidden-topics-python"
   ]
  },
  {
   "cell_type": "code",
   "execution_count": 57,
   "metadata": {},
   "outputs": [],
   "source": [
    "# Write your code here\n",
    "import os.path\n",
    "from gensim import corpora\n",
    "from gensim.models import LsiModel\n",
    "from nltk.tokenize import RegexpTokenizer\n",
    "from nltk.corpus import stopwords\n",
    "from nltk.stem.porter import PorterStemmer\n",
    "from gensim.models.coherencemodel import CoherenceModel\n",
    "import matplotlib.pyplot as plt"
   ]
  },
  {
   "cell_type": "code",
   "execution_count": 58,
   "metadata": {},
   "outputs": [],
   "source": [
    "def load_data(path,file_name):\n",
    "    documents_list = []\n",
    "    titles=[]\n",
    "    with open( os.path.join(path, file_name) ,\"r\") as fin:\n",
    "        for line in fin.readlines():\n",
    "            text = line.strip()\n",
    "            documents_list.append(text)\n",
    "    print(\"Total Number of Documents:\",len(documents_list))\n",
    "    titles.append( text[0:min(len(text),100)] )\n",
    "    return documents_list,titles"
   ]
  },
  {
   "cell_type": "code",
   "execution_count": 59,
   "metadata": {},
   "outputs": [],
   "source": [
    "def preprocess_data(doc_set):\n",
    "    # initialize regex tokenizer\n",
    "    tokenizer = RegexpTokenizer(r'\\w+')\n",
    "    # create English stop words list\n",
    "    en_stop = set(stopwords.words('english'))\n",
    "    # Create p_stemmer of class PorterStemmer\n",
    "    p_stemmer = PorterStemmer()\n",
    "    # list for tokenized documents in loop\n",
    "    texts = []\n",
    "    # loop through document list\n",
    "    for i in doc_set:\n",
    "        # clean and tokenize document string\n",
    "        raw = i.lower()\n",
    "        tokens = tokenizer.tokenize(raw)\n",
    "        # remove stop words from tokens\n",
    "        stopped_tokens = [i for i in tokens if not i in en_stop]\n",
    "        # stem tokens\n",
    "        stemmed_tokens = [p_stemmer.stem(i) for i in stopped_tokens]\n",
    "        # add tokens to list\n",
    "        texts.append(stemmed_tokens)\n",
    "    return texts"
   ]
  },
  {
   "cell_type": "code",
   "execution_count": 61,
   "metadata": {},
   "outputs": [],
   "source": [
    "def prepare_corpus(doc_clean):\n",
    "    # Creating the term dictionary of our courpus, where every unique term is assigned an index. dictionary = corpora.Dictionary(doc_clean)\n",
    "    dictionary = corpora.Dictionary(doc_clean)\n",
    "    # Converting list of documents (corpus) into Document Term Matrix using dictionary prepared above.\n",
    "    doc_term_matrix = [dictionary.doc2bow(doc) for doc in doc_clean]\n",
    "    # generate LDA model\n",
    "    return dictionary,doc_term_matrix"
   ]
  },
  {
   "cell_type": "code",
   "execution_count": 62,
   "metadata": {},
   "outputs": [],
   "source": [
    "def create_gensim_lsa_model(doc_clean,number_of_topics,words):\n",
    "    dictionary,doc_term_matrix=prepare_corpus(doc_clean)\n",
    "    # generate LSA model\n",
    "    lsamodel = LsiModel(doc_term_matrix, num_topics=number_of_topics, id2word = dictionary)  # train model\n",
    "    print(lsamodel.print_topics(num_topics=number_of_topics, num_words=words))\n",
    "    return lsamodel"
   ]
  },
  {
   "cell_type": "code",
   "execution_count": 5,
   "metadata": {},
   "outputs": [],
   "source": [
    "def compute_coherence_values(dictionary, doc_term_matrix, doc_clean, stop, start=2, step=3):\n",
    "    coherence_values = []\n",
    "    model_list = []\n",
    "    for num_topics in range(start, stop, step):\n",
    "        # generate LSA model\n",
    "        model = LsiModel(doc_term_matrix, num_topics=number_of_topics, id2word = dictionary)  # train model\n",
    "        model_list.append(model)\n",
    "        coherencemodel = CoherenceModel(model=model, texts=doc_clean, dictionary=dictionary, coherence='c_v')\n",
    "        coherence_values.append(coherencemodel.get_coherence())\n",
    "    return model_list, coherence_values"
   ]
  },
  {
   "cell_type": "code",
   "execution_count": 4,
   "metadata": {},
   "outputs": [],
   "source": [
    "def plot_graph(doc_clean,start, stop, step):\n",
    "    dictionary,doc_term_matrix=prepare_corpus(doc_clean)\n",
    "    model_list, coherence_values = compute_coherence_values(dictionary, doc_term_matrix,doc_clean,\n",
    "                                                            stop, start, step)\n",
    "    # Show graph\n",
    "    x = range(start, stop, step)\n",
    "    plt.plot(x, coherence_values)\n",
    "    plt.xlabel(\"Number of Topics\")\n",
    "    plt.ylabel(\"Coherence score\")\n",
    "    plt.legend((\"coherence_values\"), loc='best')\n",
    "    plt.show()"
   ]
  },
  {
   "cell_type": "code",
   "execution_count": 18,
   "metadata": {},
   "outputs": [
    {
     "ename": "NameError",
     "evalue": "name 'id2word' is not defined",
     "output_type": "error",
     "traceback": [
      "\u001b[1;31m---------------------------------------------------------------------------\u001b[0m",
      "\u001b[1;31mNameError\u001b[0m                                 Traceback (most recent call last)",
      "\u001b[1;32m<ipython-input-18-0a677663f31c>\u001b[0m in \u001b[0;36m<module>\u001b[1;34m\u001b[0m\n\u001b[0;32m      1\u001b[0m \u001b[0mstart\u001b[0m\u001b[1;33m,\u001b[0m\u001b[0mstop\u001b[0m\u001b[1;33m,\u001b[0m\u001b[0mstep\u001b[0m\u001b[1;33m=\u001b[0m\u001b[1;36m2\u001b[0m\u001b[1;33m,\u001b[0m\u001b[1;36m60\u001b[0m\u001b[1;33m,\u001b[0m\u001b[1;36m6\u001b[0m\u001b[1;33m\u001b[0m\u001b[1;33m\u001b[0m\u001b[0m\n\u001b[1;32m----> 2\u001b[1;33m \u001b[0mmodel_list_lsa\u001b[0m\u001b[1;33m,\u001b[0m \u001b[0mcoherence_values_lsa\u001b[0m \u001b[1;33m=\u001b[0m \u001b[0mcompute_coherence_values\u001b[0m\u001b[1;33m(\u001b[0m\u001b[0mid2word\u001b[0m\u001b[1;33m,\u001b[0m \u001b[0mcorpus\u001b[0m\u001b[1;33m,\u001b[0m\u001b[0mdata_lemmatized\u001b[0m\u001b[1;33m,\u001b[0m\u001b[0mstop\u001b[0m\u001b[1;33m,\u001b[0m \u001b[0mstart\u001b[0m\u001b[1;33m,\u001b[0m \u001b[0mstep\u001b[0m\u001b[1;33m)\u001b[0m\u001b[1;33m\u001b[0m\u001b[1;33m\u001b[0m\u001b[0m\n\u001b[0m",
      "\u001b[1;31mNameError\u001b[0m: name 'id2word' is not defined"
     ]
    }
   ],
   "source": [
    "start,stop,step=2,60,6\n",
    "model_list_lsa, coherence_values_lsa = compute_coherence_values(id2word, corpus,data_lemmatized,stop, start, step)"
   ]
  },
  {
   "cell_type": "code",
   "execution_count": 17,
   "metadata": {},
   "outputs": [
    {
     "ename": "NameError",
     "evalue": "name 'coherence_values_lsa' is not defined",
     "output_type": "error",
     "traceback": [
      "\u001b[1;31m---------------------------------------------------------------------------\u001b[0m",
      "\u001b[1;31mNameError\u001b[0m                                 Traceback (most recent call last)",
      "\u001b[1;32m<ipython-input-17-9fd295114b9a>\u001b[0m in \u001b[0;36m<module>\u001b[1;34m\u001b[0m\n\u001b[1;32m----> 1\u001b[1;33m \u001b[1;32mfor\u001b[0m \u001b[0mno_of_topics\u001b[0m\u001b[1;33m,\u001b[0m \u001b[0mcv\u001b[0m \u001b[1;32min\u001b[0m \u001b[0mzip\u001b[0m\u001b[1;33m(\u001b[0m\u001b[0mrange\u001b[0m\u001b[1;33m(\u001b[0m\u001b[1;36m2\u001b[0m\u001b[1;33m,\u001b[0m \u001b[1;36m60\u001b[0m\u001b[1;33m,\u001b[0m \u001b[1;36m6\u001b[0m\u001b[1;33m)\u001b[0m\u001b[1;33m,\u001b[0m \u001b[0mcoherence_values_lsa\u001b[0m\u001b[1;33m)\u001b[0m\u001b[1;33m:\u001b[0m\u001b[1;33m\u001b[0m\u001b[1;33m\u001b[0m\u001b[0m\n\u001b[0m\u001b[0;32m      2\u001b[0m   \u001b[0mprint\u001b[0m\u001b[1;33m(\u001b[0m\u001b[1;34m\"Num Topics:\"\u001b[0m\u001b[1;33m,\u001b[0m \u001b[0mno_of_topics\u001b[0m\u001b[1;33m,\u001b[0m \u001b[1;34m\" - Coherence Value:\"\u001b[0m\u001b[1;33m,\u001b[0m \u001b[0mround\u001b[0m\u001b[1;33m(\u001b[0m\u001b[0mcv\u001b[0m\u001b[1;33m,\u001b[0m \u001b[1;36m4\u001b[0m\u001b[1;33m)\u001b[0m\u001b[1;33m)\u001b[0m\u001b[1;33m\u001b[0m\u001b[1;33m\u001b[0m\u001b[0m\n",
      "\u001b[1;31mNameError\u001b[0m: name 'coherence_values_lsa' is not defined"
     ]
    }
   ],
   "source": [
    "for no_of_topics, cv in zip(range(2, 60, 6), coherence_values_lsa):\n",
    "  print(\"Num Topics:\", no_of_topics, \" - Coherence Value:\", round(cv, 4))"
   ]
  },
  {
   "cell_type": "markdown",
   "metadata": {},
   "source": [
    "## (3) (10 points) Generate K topics by using  lda2vec, the number of topics K should be decided by the coherence score, then summarize what are the topics. You may refer the code here:\n",
    "\n",
    "https://nbviewer.org/github/cemoody/lda2vec/blob/master/examples/twenty_newsgroups/lda2vec/lda2vec.ipynb"
   ]
  },
  {
   "cell_type": "code",
   "execution_count": 11,
   "metadata": {
    "scrolled": true
   },
   "outputs": [
    {
     "name": "stdout",
     "output_type": "stream",
     "text": [
      "Requirement already satisfied: preprocess in c:\\users\\srava\\anaconda3\\lib\\site-packages (2.0.0)\n",
      "Requirement already satisfied: future in c:\\users\\srava\\anaconda3\\lib\\site-packages (from preprocess) (0.18.2)\n"
     ]
    }
   ],
   "source": [
    "# Write your code here\n",
    "# Write your code here\n",
    "!pip install preprocess\n",
    "import preprocess, Corpus\n",
    "import matplotlib.pyplot as plt\n",
    "import numpy as np\n",
    "%matplotlib inline"
   ]
  },
  {
   "cell_type": "code",
   "execution_count": 12,
   "metadata": {},
   "outputs": [],
   "source": [
    "import pyLDAvis\n",
    "pyLDAvis.enable_notebook()"
   ]
  },
  {
   "cell_type": "code",
   "execution_count": null,
   "metadata": {},
   "outputs": [],
   "source": [
    "npz = np.load(open('topics.pyldavis.npz', 'r'))\n",
    "dat = {k: v for (k, v) in npz.iteritems()}\n",
    "dat['vocab'] = dat['vocab'].tolist()"
   ]
  },
  {
   "cell_type": "code",
   "execution_count": 13,
   "metadata": {},
   "outputs": [
    {
     "ename": "NameError",
     "evalue": "name 'doxyDonkeyPosts' is not defined",
     "output_type": "error",
     "traceback": [
      "\u001b[1;31m---------------------------------------------------------------------------\u001b[0m",
      "\u001b[1;31mNameError\u001b[0m                                 Traceback (most recent call last)",
      "\u001b[1;32m<ipython-input-13-f07e3d4230f2>\u001b[0m in \u001b[0;36m<module>\u001b[1;34m\u001b[0m\n\u001b[0;32m      1\u001b[0m \u001b[0mtop_n\u001b[0m \u001b[1;33m=\u001b[0m \u001b[1;36m10\u001b[0m\u001b[1;33m\u001b[0m\u001b[1;33m\u001b[0m\u001b[0m\n\u001b[0;32m      2\u001b[0m \u001b[0mtopic_to_topwords\u001b[0m \u001b[1;33m=\u001b[0m \u001b[1;33m{\u001b[0m\u001b[1;33m}\u001b[0m\u001b[1;33m\u001b[0m\u001b[1;33m\u001b[0m\u001b[0m\n\u001b[1;32m----> 3\u001b[1;33m \u001b[1;32mfor\u001b[0m \u001b[0mj\u001b[0m\u001b[1;33m,\u001b[0m \u001b[0mtopic_to_word\u001b[0m \u001b[1;32min\u001b[0m \u001b[0menumerate\u001b[0m\u001b[1;33m(\u001b[0m\u001b[0mdoxyDonkeyPosts\u001b[0m\u001b[1;33m)\u001b[0m\u001b[1;33m:\u001b[0m\u001b[1;33m\u001b[0m\u001b[1;33m\u001b[0m\u001b[0m\n\u001b[0m\u001b[0;32m      4\u001b[0m     \u001b[0mtop\u001b[0m \u001b[1;33m=\u001b[0m \u001b[0mnp\u001b[0m\u001b[1;33m.\u001b[0m\u001b[0margsort\u001b[0m\u001b[1;33m(\u001b[0m\u001b[0mtopic_to_word\u001b[0m\u001b[1;33m)\u001b[0m\u001b[1;33m[\u001b[0m\u001b[1;33m:\u001b[0m\u001b[1;33m:\u001b[0m\u001b[1;33m-\u001b[0m\u001b[1;36m1\u001b[0m\u001b[1;33m]\u001b[0m\u001b[1;33m[\u001b[0m\u001b[1;33m:\u001b[0m\u001b[0mtop_n\u001b[0m\u001b[1;33m]\u001b[0m\u001b[1;33m\u001b[0m\u001b[1;33m\u001b[0m\u001b[0m\n\u001b[0;32m      5\u001b[0m     \u001b[0mmsg\u001b[0m \u001b[1;33m=\u001b[0m \u001b[1;34m'Topic %i '\u001b[0m  \u001b[1;33m%\u001b[0m \u001b[0mj\u001b[0m\u001b[1;33m\u001b[0m\u001b[1;33m\u001b[0m\u001b[0m\n",
      "\u001b[1;31mNameError\u001b[0m: name 'doxyDonkeyPosts' is not defined"
     ]
    }
   ],
   "source": [
    "top_n = 10\n",
    "topic_to_topwords = {}\n",
    "for j, topic_to_word in enumerate(doxyDonkeyPosts):\n",
    "    top = np.argsort(topic_to_word)[::-1][:top_n]\n",
    "    msg = 'Topic %i '  % j\n",
    "    top_words = [doxyDonkeyPosts[i].strip()[:35] for i in top]\n",
    "    msg += ' '.join(top_words)\n",
    "    print(msg)\n",
    "    topic_to_topwords[j] = top_words"
   ]
  },
  {
   "cell_type": "markdown",
   "metadata": {},
   "source": [
    "## (4) (10 points) Generate K topics by using BERTopic, the number of topics K should be decided by the coherence score, then summarize what are the topics. You may refer the code here: \n",
    "\n",
    "https://colab.research.google.com/drive/1FieRA9fLdkQEGDIMYl0I3MCjSUKVF8C-?usp=sharing"
   ]
  },
  {
   "cell_type": "code",
   "execution_count": 6,
   "metadata": {},
   "outputs": [
    {
     "name": "stderr",
     "output_type": "stream",
     "text": [
      "C:\\Users\\srava\\anaconda3\\lib\\site-packages\\gensim\\similarities\\__init__.py:15: UserWarning: The gensim.similarities.levenshtein submodule is disabled, because the optional Levenshtein package <https://pypi.org/project/python-Levenshtein/> is unavailable. Install Levenhstein (e.g. `pip install python-Levenshtein`) to suppress this warning.\n",
      "  warnings.warn(msg)\n"
     ]
    },
    {
     "name": "stdout",
     "output_type": "stream",
     "text": [
      "Older Posts https://doxydonkey.blogspot.com/search?updated-max=2017-05-23T19:53:00-07:00&max-results=7\n",
      "Older Posts https://doxydonkey.blogspot.com/search?updated-max=2017-05-14T19:02:00-07:00&max-results=7&start=7&by-date=false\n",
      "Older Posts https://doxydonkey.blogspot.com/search?updated-max=2017-05-02T19:43:00-07:00&max-results=7&start=14&by-date=false\n",
      "Older Posts https://doxydonkey.blogspot.com/search?updated-max=2017-04-17T19:26:00-07:00&max-results=7&start=21&by-date=false\n",
      "Older Posts https://doxydonkey.blogspot.com/search?updated-max=2017-04-10T18:56:00-07:00&max-results=7&start=28&by-date=false\n",
      "Older Posts https://doxydonkey.blogspot.com/search?updated-max=2017-03-30T19:57:00-07:00&max-results=7&start=35&by-date=false\n",
      "Older Posts https://doxydonkey.blogspot.com/search?updated-max=2017-03-20T19:47:00-07:00&max-results=7&start=42&by-date=false\n",
      "Older Posts https://doxydonkey.blogspot.com/search?updated-max=2017-03-02T17:42:00-08:00&max-results=7&start=49&by-date=false\n",
      "Older Posts https://doxydonkey.blogspot.com/search?updated-max=2017-02-21T19:13:00-08:00&max-results=7&start=56&by-date=false\n",
      "Older Posts https://doxydonkey.blogspot.com/search?updated-max=2017-02-12T18:34:00-08:00&max-results=7&start=63&by-date=false\n",
      "Older Posts https://doxydonkey.blogspot.com/search?updated-max=2017-02-01T18:56:00-08:00&max-results=7&start=70&by-date=false\n",
      "Older Posts https://doxydonkey.blogspot.com/search?updated-max=2017-01-22T18:58:00-08:00&max-results=7&start=77&by-date=false\n",
      "Older Posts https://doxydonkey.blogspot.com/search?updated-max=2017-01-11T18:09:00-08:00&max-results=7&start=84&by-date=false\n",
      "Older Posts https://doxydonkey.blogspot.com/search?updated-max=2017-01-02T17:59:00-08:00&max-results=7&start=91&by-date=false\n",
      "Older Posts https://doxydonkey.blogspot.com/search?updated-max=2016-12-22T18:58:00-08:00&max-results=7&start=98&by-date=false\n",
      "Older Posts https://doxydonkey.blogspot.com/search?updated-max=2016-12-13T18:57:00-08:00&max-results=7&start=105&by-date=false\n",
      "Older Posts https://doxydonkey.blogspot.com/search?updated-max=2016-12-04T18:58:00-08:00&max-results=7&start=112&by-date=false\n",
      "Older Posts https://doxydonkey.blogspot.com/search?updated-max=2016-09-09T07:34:00-07:00&max-results=7&start=119&by-date=false\n",
      "Older Posts https://doxydonkey.blogspot.com/search?updated-max=2016-08-28T20:08:00-07:00&max-results=7&start=126&by-date=false\n",
      "Older Posts https://doxydonkey.blogspot.com/search?updated-max=2016-08-17T19:24:00-07:00&max-results=7&start=133&by-date=false\n",
      "Older Posts https://doxydonkey.blogspot.com/search?updated-max=2016-08-07T20:30:00-07:00&max-results=7&start=140&by-date=false\n",
      "Older Posts https://doxydonkey.blogspot.com/search?updated-max=2016-07-26T19:55:00-07:00&max-results=7&start=147&by-date=false\n",
      "Older Posts https://doxydonkey.blogspot.com/search?updated-max=2016-07-17T19:47:00-07:00&max-results=7&start=154&by-date=false\n",
      "Older Posts https://doxydonkey.blogspot.com/search?updated-max=2016-07-06T19:34:00-07:00&max-results=7&start=161&by-date=false\n",
      "Older Posts https://doxydonkey.blogspot.com/search?updated-max=2016-06-26T19:36:00-07:00&max-results=7&start=168&by-date=false\n",
      "Older Posts https://doxydonkey.blogspot.com/search?updated-max=2016-06-15T19:23:00-07:00&max-results=7&start=175&by-date=false\n",
      "Older Posts https://doxydonkey.blogspot.com/search?updated-max=2016-06-06T18:50:00-07:00&max-results=7&start=182&by-date=false\n",
      "Older Posts https://doxydonkey.blogspot.com/search?updated-max=2016-05-26T20:08:00-07:00&max-results=7&start=189&by-date=false\n",
      "Older Posts https://doxydonkey.blogspot.com/search?updated-max=2016-05-17T18:52:00-07:00&max-results=7&start=196&by-date=false\n",
      "Older Posts https://doxydonkey.blogspot.com/search?updated-max=2016-05-06T19:26:00-07:00&max-results=7&start=203&by-date=false\n",
      "Older Posts https://doxydonkey.blogspot.com/search?updated-max=2016-04-27T19:03:00-07:00&max-results=7&start=210&by-date=false\n",
      "Older Posts https://doxydonkey.blogspot.com/search?updated-max=2016-04-19T19:36:00-07:00&max-results=7&start=217&by-date=false\n",
      "Older Posts https://doxydonkey.blogspot.com/search?updated-max=2016-04-10T19:19:00-07:00&max-results=7&start=224&by-date=false\n",
      "Older Posts https://doxydonkey.blogspot.com/search?updated-max=2016-03-30T19:12:00-07:00&max-results=7&start=231&by-date=false\n",
      "Older Posts https://doxydonkey.blogspot.com/search?updated-max=2016-03-20T18:41:00-07:00&max-results=7&start=238&by-date=false\n",
      "Older Posts https://doxydonkey.blogspot.com/search?updated-max=2016-03-09T18:38:00-08:00&max-results=7&start=245&by-date=false\n",
      "Older Posts https://doxydonkey.blogspot.com/search?updated-max=2016-02-28T17:47:00-08:00&max-results=7&start=252&by-date=false\n",
      "Older Posts https://doxydonkey.blogspot.com/search?updated-max=2016-02-17T18:44:00-08:00&max-results=7&start=259&by-date=false\n",
      "Older Posts https://doxydonkey.blogspot.com/search?updated-max=2016-02-08T18:13:00-08:00&max-results=7&start=266&by-date=false\n",
      "Older Posts https://doxydonkey.blogspot.com/search?updated-max=2016-01-28T19:45:00-08:00&max-results=7&start=273&by-date=false\n",
      "Older Posts https://doxydonkey.blogspot.com/search?updated-max=2016-01-18T18:30:00-08:00&max-results=7&start=280&by-date=false\n",
      "Older Posts https://doxydonkey.blogspot.com/search?updated-max=2016-01-07T19:03:00-08:00&max-results=7&start=287&by-date=false\n",
      "Older Posts https://doxydonkey.blogspot.com/search?updated-max=2015-12-28T18:26:00-08:00&max-results=7&start=294&by-date=false\n",
      "Older Posts https://doxydonkey.blogspot.com/search?updated-max=2015-12-16T18:24:00-08:00&max-results=7&start=301&by-date=false\n",
      "Older Posts https://doxydonkey.blogspot.com/search?updated-max=2015-12-07T18:24:00-08:00&max-results=7&start=308&by-date=false\n",
      "Older Posts https://doxydonkey.blogspot.com/search?updated-max=2015-11-26T17:49:00-08:00&max-results=7&start=315&by-date=false\n",
      "Older Posts https://doxydonkey.blogspot.com/search?updated-max=2015-11-17T18:18:00-08:00&max-results=7&start=322&by-date=false\n",
      "Older Posts https://doxydonkey.blogspot.com/search?updated-max=2015-11-05T20:15:00-08:00&max-results=7&start=329&by-date=false\n",
      "Older Posts https://doxydonkey.blogspot.com/search?updated-max=2015-10-27T20:04:00-07:00&max-results=7&start=336&by-date=false\n",
      "Older Posts https://doxydonkey.blogspot.com/search?updated-max=2015-10-12T19:45:00-07:00&max-results=7&start=343&by-date=false\n",
      "Older Posts https://doxydonkey.blogspot.com/search?updated-max=2015-09-30T19:33:00-07:00&max-results=7&start=350&by-date=false\n",
      "Older Posts https://doxydonkey.blogspot.com/search?updated-max=2015-09-20T19:11:00-07:00&max-results=7&start=357&by-date=false\n",
      "Older Posts https://doxydonkey.blogspot.com/search?updated-max=2015-09-09T19:32:00-07:00&max-results=7&start=364&by-date=false\n",
      "Older Posts https://doxydonkey.blogspot.com/search?updated-max=2015-08-31T19:31:00-07:00&max-results=7&start=371&by-date=false\n",
      "Older Posts https://doxydonkey.blogspot.com/search?updated-max=2015-08-20T19:29:00-07:00&max-results=7&start=378&by-date=false\n",
      "Older Posts https://doxydonkey.blogspot.com/search?updated-max=2015-08-11T19:32:00-07:00&max-results=7&start=385&by-date=false\n",
      "Older Posts https://doxydonkey.blogspot.com/search?updated-max=2015-08-02T19:04:00-07:00&max-results=7&start=392&by-date=false\n",
      "Older Posts https://doxydonkey.blogspot.com/search?updated-max=2015-07-22T19:39:00-07:00&max-results=7&start=399&by-date=false\n",
      "Older Posts https://doxydonkey.blogspot.com/search?updated-max=2015-07-13T19:38:00-07:00&max-results=7&start=406&by-date=false\n",
      "Older Posts https://doxydonkey.blogspot.com/search?updated-max=2015-07-02T21:15:00-07:00&max-results=7&start=413&by-date=false\n",
      "Older Posts https://doxydonkey.blogspot.com/search?updated-max=2015-06-23T19:30:00-07:00&max-results=7&start=420&by-date=false\n",
      "Older Posts https://doxydonkey.blogspot.com/search?updated-max=2015-06-14T19:36:00-07:00&max-results=7&start=427&by-date=false\n",
      "Older Posts https://doxydonkey.blogspot.com/search?updated-max=2015-06-02T19:38:00-07:00&max-results=7&start=434&by-date=false\n",
      "Older Posts https://doxydonkey.blogspot.com/search?updated-max=2015-05-24T20:16:00-07:00&max-results=7&start=441&by-date=false\n",
      "Older Posts https://doxydonkey.blogspot.com/search?updated-max=2015-05-13T20:18:00-07:00&max-results=7&start=448&by-date=false\n"
     ]
    },
    {
     "name": "stdout",
     "output_type": "stream",
     "text": [
      "Older Posts https://doxydonkey.blogspot.com/search?updated-max=2015-05-04T20:23:00-07:00&max-results=7&start=455&by-date=false\n",
      "Older Posts https://doxydonkey.blogspot.com/search?updated-max=2015-04-23T20:19:00-07:00&max-results=7&start=462&by-date=false\n",
      "Older Posts https://doxydonkey.blogspot.com/search?updated-max=2015-04-14T19:40:00-07:00&max-results=7&start=469&by-date=false\n",
      "Older Posts https://doxydonkey.blogspot.com/search?updated-max=2015-04-05T20:22:00-07:00&max-results=7&start=476&by-date=false\n",
      "Older Posts https://doxydonkey.blogspot.com/search?updated-max=2015-03-24T20:12:00-07:00&max-results=7&start=483&by-date=false\n",
      "Older Posts https://doxydonkey.blogspot.com/search?updated-max=2015-03-15T20:41:00-07:00&max-results=7&start=490&by-date=false\n",
      "Older Posts https://doxydonkey.blogspot.com/search?updated-max=2015-03-03T19:30:00-08:00&max-results=7&start=497&by-date=false\n",
      "Older Posts https://doxydonkey.blogspot.com/search?updated-max=2015-02-22T19:55:00-08:00&max-results=7&start=504&by-date=false\n",
      "Older Posts https://doxydonkey.blogspot.com/search?updated-max=2015-02-11T20:02:00-08:00&max-results=7&start=511&by-date=false\n",
      "Older Posts https://doxydonkey.blogspot.com/search?updated-max=2015-02-02T19:46:00-08:00&max-results=7&start=518&by-date=false\n",
      "Older Posts https://doxydonkey.blogspot.com/search?updated-max=2015-01-22T19:50:00-08:00&max-results=7&start=524&by-date=false\n",
      "Older Posts https://doxydonkey.blogspot.com/search?updated-max=2015-01-15T19:17:00-08:00&max-results=7&start=529&by-date=false\n",
      "Older Posts https://doxydonkey.blogspot.com/search?updated-max=2015-01-06T19:48:00-08:00&max-results=7&start=536&by-date=false\n",
      "Older Posts https://doxydonkey.blogspot.com/search?updated-max=2014-12-25T21:30:00-08:00&max-results=7&start=543&by-date=false\n",
      "Older Posts https://doxydonkey.blogspot.com/search?updated-max=2014-12-15T19:24:00-08:00&max-results=7&start=550&by-date=false\n",
      "Older Posts https://doxydonkey.blogspot.com/search?updated-max=2014-12-05T01:52:00-08:00&max-results=7&start=557&by-date=false\n",
      "Older Posts https://doxydonkey.blogspot.com/search?updated-max=2014-11-26T01:44:00-08:00&max-results=7&start=564&by-date=false\n",
      "Older Posts https://doxydonkey.blogspot.com/search?updated-max=2014-11-17T01:41:00-08:00&max-results=7&start=571&by-date=false\n",
      "Older Posts https://doxydonkey.blogspot.com/search?updated-max=2014-11-06T01:38:00-08:00&max-results=7&start=578&by-date=false\n",
      "Older Posts https://doxydonkey.blogspot.com/search?updated-max=2014-10-28T01:24:00-07:00&max-results=7&start=585&by-date=false\n",
      "Older Posts https://doxydonkey.blogspot.com/search?updated-max=2014-10-17T01:20:00-07:00&max-results=7&start=592&by-date=false\n"
     ]
    }
   ],
   "source": [
    "# Write your code here\n",
    "\n",
    "import re\n",
    "import numpy as np\n",
    "import pandas as pd\n",
    "from pprint import pprint\n",
    "\n",
    "    # Gensim\n",
    "import gensim\n",
    "import gensim.corpora as corpora\n",
    "from gensim.utils import simple_preprocess\n",
    "from gensim.models import CoherenceModel\n",
    "\n",
    "    # spacy for lemmatization\n",
    "import spacy\n",
    "    # Plotting tools\n",
    "import pyLDAvis\n",
    "import pyLDAvis.gensim_models  # don't skip this\n",
    "import matplotlib.pyplot as plt\n",
    "%matplotlib inline\n",
    "\n",
    "    # Enable logging for gensim - optional\n",
    "import logging\n",
    "logging.basicConfig(format='%(asctime)s : %(levelname)s : %(message)s', level=logging.ERROR)\n",
    "\n",
    "import warnings\n",
    "warnings.filterwarnings(\"ignore\",category=DeprecationWarning)\n",
    "\n",
    "import requests\n",
    "from bs4 import BeautifulSoup\n",
    "import re\n",
    "import pandas as pd\n",
    "import numpy as np\n",
    "import itertools\n",
    "import lxml.html as LH\n",
    "import urllib.request as urllib2\n",
    "from bs4 import BeautifulSoup\n",
    "\n",
    "\n",
    "def getAllDoxyDonkeyPosts(url,links):\n",
    "    request = urllib2.Request(url)\n",
    "    response = urllib2.urlopen(request)\n",
    "    soup = BeautifulSoup(response)\n",
    "    for a in soup.findAll('a'):\n",
    "        try:\n",
    "            url = a['href']\n",
    "            title = a['title']\n",
    "            if title == \"Older Posts\":\n",
    "                print(title, url)\n",
    "                links.append(url)\n",
    "                getAllDoxyDonkeyPosts(url,links)\n",
    "        except:\n",
    "            title = \"\"\n",
    "    return\n",
    "\n",
    "blogUrl = \"https://doxydonkey.blogspot.com/\"\n",
    "links = []\n",
    "getAllDoxyDonkeyPosts(blogUrl,links)\n",
    "\n",
    "\n"
   ]
  },
  {
   "cell_type": "markdown",
   "metadata": {},
   "source": [
    "## (5) (10 extra points) Compare the results generated by the four topic modeling algorithms, which one is better? You should explain the reasons in details."
   ]
  },
  {
   "cell_type": "code",
   "execution_count": null,
   "metadata": {},
   "outputs": [],
   "source": [
    "# Write your answer here (no code needed for this question)\n",
    "From LDA we got coherence score 0.47 and from LSA we got coherence score 0.35 .\n",
    "Bertopic model will took more time to train the data and it is suitable only when we have small set of texts or corpus. Here this dataset contains larger set  of data and it requires more time to process.\n",
    "Hence we conclude that LDA algorithm is better and it has high coherence score 0.47.\n",
    "\n"
   ]
  }
 ],
 "metadata": {
  "kernelspec": {
   "display_name": "Python 3",
   "language": "python",
   "name": "python3"
  },
  "language_info": {
   "codemirror_mode": {
    "name": "ipython",
    "version": 3
   },
   "file_extension": ".py",
   "mimetype": "text/x-python",
   "name": "python",
   "nbconvert_exporter": "python",
   "pygments_lexer": "ipython3",
   "version": "3.8.8"
  }
 },
 "nbformat": 4,
 "nbformat_minor": 2
}
