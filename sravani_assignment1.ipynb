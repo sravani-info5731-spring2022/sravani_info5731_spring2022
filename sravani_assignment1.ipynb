{
 "cells": [
  {
   "cell_type": "markdown",
   "metadata": {
    "colab_type": "text",
    "id": "view-in-github"
   },
   "source": [
    "<a href=\"https://colab.research.google.com/github/unt-iialab/INFO5731_Spring2020/blob/master/Assignments/INFO5731_Assignment_One.ipynb\" target=\"_parent\"><img src=\"https://colab.research.google.com/assets/colab-badge.svg\" alt=\"Open In Colab\"/></a>"
   ]
  },
  {
   "cell_type": "markdown",
   "metadata": {
    "colab_type": "text",
    "id": "Ryk8D1Q4Wsrp"
   },
   "source": [
    "# **INFO5731 Assignment One**"
   ]
  },
  {
   "cell_type": "markdown",
   "metadata": {
    "colab_type": "text",
    "id": "90_NR8c5XGWc"
   },
   "source": [
    "# Question 1\n",
    "\n",
    "(20 points). Write a Python program to generate 12 random numbers between 1 and 100. Sort the list of numbers in ascending order and print it out. Sort the list of numbers in descending order and print it out. Calculate the average for the group and print it out."
   ]
  },
  {
   "cell_type": "code",
   "execution_count": 2,
   "metadata": {
    "colab": {},
    "colab_type": "code",
    "id": "5QX6bJjGWXY9"
   },
   "outputs": [
    {
     "name": "stdout",
     "output_type": "stream",
     "text": [
      "Ascending order for the random numbers is: [9, 40, 41, 50, 53, 55, 56, 69, 82, 86, 87, 88]\n",
      "Descending order for the random number is: [88, 87, 86, 82, 69, 56, 55, 53, 50, 41, 40, 9]\n",
      "Average of the group is: 59.666666666666664\n"
     ]
    }
   ],
   "source": [
    "# Your code here\n",
    "import random \n",
    "random_numbers = random.sample(range(1,100), 12)\n",
    "random_numbers.sort()\n",
    "print ('Ascending order for the random numbers is:', random_numbers)\n",
    "random_numbers.sort(reverse=True)\n",
    "print ('Descending order for the random number is:', random_numbers)\n",
    "random_Avg = sum(random_numbers) / len(random_numbers)\n",
    "print('Average of the group is:', random_Avg)\n"
   ]
  },
  {
   "cell_type": "markdown",
   "metadata": {
    "colab_type": "text",
    "id": "1F_PZdH9Sh49"
   },
   "source": [
    "# Question 2\n",
    "(25 points). Write a program that will do the following string formatting tasks:\n",
    "\n",
    "(1) Ask the user to enter two sentences.\n",
    "\n",
    "(2) Make each sentence into a list. Each element in the list should correspond to a word in the sentence. For example, if the sentence is \"Alas! Am I alive? This is my first python program\", the program should print out ['Alas, '!', 'Am', 'I', 'alive, '?', 'This', 'is', 'my', 'first', 'python', 'program'].\n",
    "\n",
    "(3) Compare the two sentences. Print out a list of words that occur in both sentences.\n",
    "\n",
    "(4) Remove any punctuation from the sentence and print it back out. It should remove at least the following characters, but it can remove more: period(“.”), comma (“,”), semicolon (“;”), and colon (“:”)\n",
    "\n",
    "(5) Count the number of vowels in the sentences. Print out each vowel and the number of times it appears in the sentences, such as: a:2, e:1, i:0, etc"
   ]
  },
  {
   "cell_type": "code",
   "execution_count": 8,
   "metadata": {
    "colab": {},
    "colab_type": "code",
    "id": "Y0oOSlsOS0cq"
   },
   "outputs": [
    {
     "name": "stdout",
     "output_type": "stream",
     "text": [
      "please Enter first sentence:  Alas! Am I alive? This is my first python program\n",
      " Please Enter second sentence: This is my first program\n",
      "['Alas', '!', 'Am', 'I', 'alive', '?', 'This', 'is', 'my', 'first', 'python', 'program']\n",
      "['This', 'is', 'my', 'first', 'program']\n",
      "['This', 'is', 'my', 'first', 'program']\n",
      "AlasAmIaliveThisismyfirstpythonprogram\n",
      "Thisismyfirstprogram\n",
      "The count of vowels in First Sentence is:  ('a:', 5, 'e:', 1, 'i:', 5, 'o:', 2, 'u:', 0)\n",
      " The count of vowels in second sentence is:  ('a:', 1, 'e:', 0, 'i:', 3, 'o:', 1, 'u:', 0)\n"
     ]
    }
   ],
   "source": [
    "# Your code here\n",
    "#1 \n",
    "import re \n",
    "input1 = input(\"please Enter first sentence: \")\n",
    "input2 = input(\" Please Enter second sentence: \")\n",
    "#2\n",
    "first_sentence= re.findall(\"[\\w']+|[^\\w\\s]\", input1)\n",
    "print (first_sentence)\n",
    "second_sentence= re.findall(\"[\\w']+|[^\\w\\s]\", input2)\n",
    "print (second_sentence)\n",
    "#3\n",
    "list1 = []\n",
    "for i in first_sentence:\n",
    "  if i in second_sentence:\n",
    "    list1.append(i)\n",
    "print(list1)\n",
    "\n",
    "#4\n",
    "list2 = ''''@\"\"!()?-{};:'\"\\,[]<>./#$%^&*_~'''\n",
    "n= ''\n",
    "for i in first_sentence:\n",
    "  for j in i:\n",
    "    if j not in list2:\n",
    "         n += j\n",
    "print(n)\n",
    "\n",
    "n2 = ''\n",
    "for k in second_sentence:\n",
    "  for l in k:\n",
    "    if l not in list2:\n",
    "         n2 += l\n",
    "print(n2)\n",
    "\n",
    "#5\n",
    "def count_vowel(sentence):\n",
    "  count_a=0\n",
    "  count_e=0\n",
    "  count_i=0\n",
    "  count_o=0\n",
    "  count_u=0\n",
    "  for i in sentence:\n",
    "    if (i=='a' or i=='A'):\n",
    "      count_a+=1\n",
    "    if (i=='e' or i=='E'):\n",
    "      count_e+=1\n",
    "    if (i=='i' or i=='I'):\n",
    "      count_i+=1\n",
    "    if (i=='o' or i=='O'):\n",
    "      count_o+=1\n",
    "    if (i=='u' or i=='U'):\n",
    "      count_u+=1\n",
    "  return \"a:\",count_a,\"e:\",count_e,\"i:\",count_i,\"o:\",count_o,\"u:\",count_u\n",
    "print(\"The count of vowels in First Sentence is: \",count_vowel(input1))\n",
    "print(\" The count of vowels in second sentence is: \",count_vowel(input2))"
   ]
  },
  {
   "cell_type": "markdown",
   "metadata": {
    "colab_type": "text",
    "id": "CmFoI4jDS9nx"
   },
   "source": [
    "# Question 3 \n",
    "\n",
    "(15 points). The formula that describes the volume V of a sphere with radius r is the following:\n",
    "\n",
    "$ V=\\frac{4}{3}\\ast\\ \\pi\\ast\\ r^3 $\n",
    "\n",
    "Write a program to calculate the value of V when r is in the range of 1–10. Output the result in the following format:\n",
    "\n",
    "\tr\tV\n",
    "\t1\t…\n",
    "\t2\t…\n",
    "\t3\t…\n"
   ]
  },
  {
   "cell_type": "code",
   "execution_count": 9,
   "metadata": {
    "colab": {},
    "colab_type": "code",
    "id": "pEyqeioAT95b"
   },
   "outputs": [
    {
     "name": "stdout",
     "output_type": "stream",
     "text": [
      "r v\n",
      "1 4.18\n",
      "2 33.41\n",
      "3 112.76\n",
      "4 267.28\n",
      "5 522.03\n",
      "6 902.06\n",
      "7 1432.44\n",
      "8 2138.21\n",
      "9 3044.45\n",
      "10 4176.2\n"
     ]
    }
   ],
   "source": [
    "# Your code here\n",
    "r= range(1,11)\n",
    "print('r','v')\n",
    "for i in r:\n",
    "  v=round(1.33*3.14*i**3,2)\n",
    "  print(i,v)\n",
    "\n"
   ]
  },
  {
   "cell_type": "code",
   "execution_count": 0,
   "metadata": {
    "colab": {},
    "colab_type": "code",
    "id": "pMCr3l8tnu0j"
   },
   "outputs": [],
   "source": []
  },
  {
   "cell_type": "markdown",
   "metadata": {
    "colab_type": "text",
    "id": "z3tBE7E-Xn5X"
   },
   "source": [
    "# Question 4\n",
    "\n",
    "(40 points). In the field of Data Science, data is often formatted as a comma-delimited (CSV) file, where each line in a file corresponds to a field's value. Refer to Chapter 9 (p. 106) for more information on comma-delimited files. To answer this question, you will need to download the file [Assignment1_denton_housing.csv](https://raw.githubusercontent.com/unt-iialab/info5731-spring2022/main/assignments/Assignment1_denton_housing.csv) included with this assignment. The file [Assignment1_denton_housing.csv](https://raw.githubusercontent.com/unt-iialab/info5731-spring2022/main/assignments/Assignment1_denton_housing.csv) contains statistics about housing in the city of Denton from 2008 to 2014. Write a program to implement the following questions.\n",
    "\n",
    "(1) (10 pts) Calculate the difference in the number of Occupied Housing Units from year to year and print it. The difference must be calculated for the consecutive years such as 2008-2009, 2009-2010 etc. Finally, print the values in the ascending order.\n",
    "\n",
    "(2) (10 pts) For all the years, calculate the percentage of housing units which are vacant an occupied. Print the results in the following format:\n",
    "\n",
    "Year Vacant Housing Units Occupied Housing Units\n",
    "\n",
    "    2008  30%   70%                          \n",
    "\t2009 ----- -----\n",
    "\t2010 ----- -----\n",
    "    2011 ----- -----\n",
    "\t2012 ----- -----\n",
    "    2013 ----- -----\n",
    "\t2014 ----- -----\n",
    "  \n",
    "  \n",
    "\n",
    "(3) (10 pts) Calculate and print the valued and years in which the highest number of housing units were vacant and occupied. Print the results in the following format:  \n",
    "\n",
    "                              Year\tValue\n",
    "\tVacant Housing Units\t  -----   -----\n",
    "\tOccupied Housing Units\t-----   -----\n",
    "\n",
    "(4) (10 pts) Calculate the harmonic mean of the total housing units and print it out. You can find the information about harmonic mean here: https://ncalculators.com/statistics/harmonic-mean-calculator.htm"
   ]
  },
  {
   "cell_type": "code",
   "execution_count": 1,
   "metadata": {
    "colab": {},
    "colab_type": "code",
    "id": "lqGYuHBhcsRH"
   },
   "outputs": [
    {
     "data": {
      "text/plain": [
       "[-5091, -2622, -1565, -1404, 303, 795]"
      ]
     },
     "execution_count": 1,
     "metadata": {},
     "output_type": "execute_result"
    }
   ],
   "source": [
    "# Your code here\n",
    "import pandas as pd\n",
    "\n",
    "data = pd.read_csv('Assignment1_denton_housing.csv')\n",
    "data.head()\n",
    "\n",
    "#1\n",
    "\n",
    "no_of_occupied_houses = data[data['title_field'] == 'Occupied Housing Units'].sort_values(by=['year'])\n",
    "difference = [list(no_of_occupied_houses['value'].values)[loop1] - list(no_of_occupied_houses['value'].values)[loop1+1]\\\n",
    "              for loop1 in range(len(no_of_occupied_houses)-1)]\n",
    "difference = sorted(difference)\n",
    "difference\n",
    "\n",
    "\n"
   ]
  },
  {
   "cell_type": "code",
   "execution_count": 2,
   "metadata": {},
   "outputs": [
    {
     "data": {
      "text/html": [
       "<div>\n",
       "<style scoped>\n",
       "    .dataframe tbody tr th:only-of-type {\n",
       "        vertical-align: middle;\n",
       "    }\n",
       "\n",
       "    .dataframe tbody tr th {\n",
       "        vertical-align: top;\n",
       "    }\n",
       "\n",
       "    .dataframe thead th {\n",
       "        text-align: right;\n",
       "    }\n",
       "</style>\n",
       "<table border=\"1\" class=\"dataframe\">\n",
       "  <thead>\n",
       "    <tr style=\"text-align: right;\">\n",
       "      <th></th>\n",
       "      <th>year</th>\n",
       "      <th>Vacant House</th>\n",
       "      <th>Occupied House</th>\n",
       "      <th>Percentage of Vacant House</th>\n",
       "      <th>Percentage of Occupied House</th>\n",
       "    </tr>\n",
       "  </thead>\n",
       "  <tbody>\n",
       "    <tr>\n",
       "      <th>0</th>\n",
       "      <td>2008</td>\n",
       "      <td>4483</td>\n",
       "      <td>36711</td>\n",
       "      <td>10.882653</td>\n",
       "      <td>89.117347</td>\n",
       "    </tr>\n",
       "    <tr>\n",
       "      <th>1</th>\n",
       "      <td>2009</td>\n",
       "      <td>3583</td>\n",
       "      <td>35916</td>\n",
       "      <td>9.071116</td>\n",
       "      <td>90.928884</td>\n",
       "    </tr>\n",
       "    <tr>\n",
       "      <th>2</th>\n",
       "      <td>2010</td>\n",
       "      <td>3635</td>\n",
       "      <td>41007</td>\n",
       "      <td>8.142556</td>\n",
       "      <td>91.857444</td>\n",
       "    </tr>\n",
       "    <tr>\n",
       "      <th>3</th>\n",
       "      <td>2011</td>\n",
       "      <td>4213</td>\n",
       "      <td>40704</td>\n",
       "      <td>9.379522</td>\n",
       "      <td>90.620478</td>\n",
       "    </tr>\n",
       "    <tr>\n",
       "      <th>4</th>\n",
       "      <td>2012</td>\n",
       "      <td>3013</td>\n",
       "      <td>42108</td>\n",
       "      <td>6.677600</td>\n",
       "      <td>93.322400</td>\n",
       "    </tr>\n",
       "    <tr>\n",
       "      <th>5</th>\n",
       "      <td>2013</td>\n",
       "      <td>4215</td>\n",
       "      <td>43673</td>\n",
       "      <td>8.801788</td>\n",
       "      <td>91.198212</td>\n",
       "    </tr>\n",
       "    <tr>\n",
       "      <th>6</th>\n",
       "      <td>2014</td>\n",
       "      <td>2814</td>\n",
       "      <td>46295</td>\n",
       "      <td>5.730111</td>\n",
       "      <td>94.269889</td>\n",
       "    </tr>\n",
       "  </tbody>\n",
       "</table>\n",
       "</div>"
      ],
      "text/plain": [
       "   year  Vacant House  Occupied House  Percentage of Vacant House  \\\n",
       "0  2008          4483           36711                   10.882653   \n",
       "1  2009          3583           35916                    9.071116   \n",
       "2  2010          3635           41007                    8.142556   \n",
       "3  2011          4213           40704                    9.379522   \n",
       "4  2012          3013           42108                    6.677600   \n",
       "5  2013          4215           43673                    8.801788   \n",
       "6  2014          2814           46295                    5.730111   \n",
       "\n",
       "   Percentage of Occupied House  \n",
       "0                     89.117347  \n",
       "1                     90.928884  \n",
       "2                     91.857444  \n",
       "3                     90.620478  \n",
       "4                     93.322400  \n",
       "5                     91.198212  \n",
       "6                     94.269889  "
      ]
     },
     "execution_count": 2,
     "metadata": {},
     "output_type": "execute_result"
    }
   ],
   "source": [
    "year_unique_value = sorted(list(data['year'].unique()))\n",
    "the_occupied_houses = data[data['title_field'] == 'Occupied Housing Units'].sort_values(by=['year'])\n",
    "the_vacant_houses = data[data['title_field'] == 'Vacant Housing Units'].sort_values(by=['year'])\n",
    "unoccupied_house_df = pd.DataFrame()\n",
    "unoccupied_house_df['year'] = year_unique_value\n",
    "unoccupied_house_df['Vacant House'] =the_vacant_houses['value'].values\n",
    "unoccupied_house_df['Occupied House'] =the_occupied_houses['value'].values\n",
    "unoccupied_house_df['Percentage of Vacant House'] = [(unoccupied_house_df['Vacant House'][loop1] * 100) /\\\n",
    "                                           (unoccupied_house_df['Vacant House'][loop1] + unoccupied_house_df['Occupied House'][loop1])\\\n",
    "                                           for loop1 in range(len(unoccupied_house_df))]\n",
    "unoccupied_house_df['Percentage of Occupied House'] = [(unoccupied_house_df['Occupied House'][loop1] * 100) /\\\n",
    "                                           (unoccupied_house_df['Vacant House'][loop1] + unoccupied_house_df['Occupied House'][loop1])\\\n",
    "                                           for loop1 in range(len(unoccupied_house_df))]\n",
    "unoccupied_house_df"
   ]
  },
  {
   "cell_type": "code",
   "execution_count": 5,
   "metadata": {},
   "outputs": [
    {
     "name": "stdout",
     "output_type": "stream",
     "text": [
      "    year           title_field  value\n",
      "19  2008  Vacant Housing Units   4483\n",
      "   year             title_field  value\n",
      "2  2014  Occupied Housing Units  46295\n"
     ]
    }
   ],
   "source": [
    "no_of_max_idle_houses = max(data[data['title_field'] == 'Vacant Housing Units'].value)\n",
    "the_vacant_houses = the_vacant_houses[the_vacant_houses['value'] == no_of_max_idle_houses]\n",
    "print(the_vacant_houses)\n",
    "no_of_max_filled_houses = max(data[data['title_field'] == 'Occupied Housing Units'].value)\n",
    "no_of_max_filled_houses = the_occupied_houses[the_occupied_houses['value'] == no_of_max_filled_houses]\n",
    "print(no_of_max_filled_houses)"
   ]
  },
  {
   "cell_type": "code",
   "execution_count": 6,
   "metadata": {},
   "outputs": [
    {
     "name": "stdout",
     "output_type": "stream",
     "text": [
      "44398.28543969185\n"
     ]
    }
   ],
   "source": [
    "import statistics\n",
    "print(statistics.harmonic_mean(list(data[data['title_field'] == 'Total Housing Units'].value)))"
   ]
  },
  {
   "cell_type": "code",
   "execution_count": null,
   "metadata": {},
   "outputs": [],
   "source": []
  }
 ],
 "metadata": {
  "colab": {
   "authorship_tag": "ABX9TyOAjsNCkNulTpzgRQbHdy3f",
   "collapsed_sections": [],
   "include_colab_link": true,
   "name": "INFO5731_Assignment_One.ipynb",
   "provenance": []
  },
  "kernelspec": {
   "display_name": "Python 3",
   "language": "python",
   "name": "python3"
  },
  "language_info": {
   "codemirror_mode": {
    "name": "ipython",
    "version": 3
   },
   "file_extension": ".py",
   "mimetype": "text/x-python",
   "name": "python",
   "nbconvert_exporter": "python",
   "pygments_lexer": "ipython3",
   "version": "3.8.8"
  }
 },
 "nbformat": 4,
 "nbformat_minor": 1
}
