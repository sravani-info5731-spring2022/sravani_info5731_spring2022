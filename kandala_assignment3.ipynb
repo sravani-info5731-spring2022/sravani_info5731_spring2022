{
 "cells": [
  {
   "cell_type": "code",
   "execution_count": null,
   "metadata": {
    "colab": {
     "base_uri": "https://localhost:8080/"
    },
    "id": "HyKn0FiFF_gY",
    "outputId": "06d5691c-8a41-475d-b8b9-414a6d9ef8f0"
   },
   "outputs": [
    {
     "name": "stdout",
     "output_type": "stream",
     "text": [
      "Requirement already satisfied: transformers in /usr/local/lib/python3.7/dist-packages (4.17.0)\n",
      "Requirement already satisfied: regex!=2019.12.17 in /usr/local/lib/python3.7/dist-packages (from transformers) (2019.12.20)\n",
      "Requirement already satisfied: importlib-metadata in /usr/local/lib/python3.7/dist-packages (from transformers) (4.11.3)\n",
      "Requirement already satisfied: packaging>=20.0 in /usr/local/lib/python3.7/dist-packages (from transformers) (21.3)\n",
      "Requirement already satisfied: huggingface-hub<1.0,>=0.1.0 in /usr/local/lib/python3.7/dist-packages (from transformers) (0.4.0)\n",
      "Requirement already satisfied: pyyaml>=5.1 in /usr/local/lib/python3.7/dist-packages (from transformers) (6.0)\n",
      "Requirement already satisfied: sacremoses in /usr/local/lib/python3.7/dist-packages (from transformers) (0.0.49)\n",
      "Requirement already satisfied: tqdm>=4.27 in /usr/local/lib/python3.7/dist-packages (from transformers) (4.63.0)\n",
      "Requirement already satisfied: numpy>=1.17 in /usr/local/lib/python3.7/dist-packages (from transformers) (1.21.5)\n",
      "Requirement already satisfied: tokenizers!=0.11.3,>=0.11.1 in /usr/local/lib/python3.7/dist-packages (from transformers) (0.11.6)\n",
      "Requirement already satisfied: requests in /usr/local/lib/python3.7/dist-packages (from transformers) (2.23.0)\n",
      "Requirement already satisfied: filelock in /usr/local/lib/python3.7/dist-packages (from transformers) (3.6.0)\n",
      "Requirement already satisfied: typing-extensions>=3.7.4.3 in /usr/local/lib/python3.7/dist-packages (from huggingface-hub<1.0,>=0.1.0->transformers) (3.10.0.2)\n",
      "Requirement already satisfied: pyparsing!=3.0.5,>=2.0.2 in /usr/local/lib/python3.7/dist-packages (from packaging>=20.0->transformers) (3.0.7)\n",
      "Requirement already satisfied: zipp>=0.5 in /usr/local/lib/python3.7/dist-packages (from importlib-metadata->transformers) (3.7.0)\n",
      "Requirement already satisfied: idna<3,>=2.5 in /usr/local/lib/python3.7/dist-packages (from requests->transformers) (2.10)\n",
      "Requirement already satisfied: chardet<4,>=3.0.2 in /usr/local/lib/python3.7/dist-packages (from requests->transformers) (3.0.4)\n",
      "Requirement already satisfied: certifi>=2017.4.17 in /usr/local/lib/python3.7/dist-packages (from requests->transformers) (2021.10.8)\n",
      "Requirement already satisfied: urllib3!=1.25.0,!=1.25.1,<1.26,>=1.21.1 in /usr/local/lib/python3.7/dist-packages (from requests->transformers) (1.24.3)\n",
      "Requirement already satisfied: six in /usr/local/lib/python3.7/dist-packages (from sacremoses->transformers) (1.15.0)\n",
      "Requirement already satisfied: joblib in /usr/local/lib/python3.7/dist-packages (from sacremoses->transformers) (1.1.0)\n",
      "Requirement already satisfied: click in /usr/local/lib/python3.7/dist-packages (from sacremoses->transformers) (7.1.2)\n",
      "[nltk_data] Downloading package punkt to /root/nltk_data...\n",
      "[nltk_data]   Package punkt is already up-to-date!\n",
      "[nltk_data] Downloading package wordnet to /root/nltk_data...\n",
      "[nltk_data]   Package wordnet is already up-to-date!\n"
     ]
    }
   ],
   "source": [
    "!pip install transformers\n",
    "\n",
    "import warnings\n",
    "import matplotlib.pyplot as plt\n",
    "import seaborn as sns\n",
    "import torch\n",
    "import transformers\n",
    "from gensim.models.phrases import Phrases, Phraser\n",
    "from gensim.models import Word2Vec\n",
    "from tensorflow.keras.callbacks import EarlyStopping, ModelCheckpoint\n",
    "from tensorflow.keras.layers import Dense\n",
    "from tensorflow.keras.models import Sequential\n",
    "import tensorflow as tf\n",
    "from nltk.classify import NaiveBayesClassifier\n",
    "from nltk.sentiment import SentimentAnalyzer\n",
    "import nltk\n",
    "from collections import Counter\n",
    "from sklearn.pipeline import Pipeline, make_pipeline\n",
    "from sklearn.metrics import accuracy_score, confusion_matrix\n",
    "from sklearn.feature_selection import chi2\n",
    "from sklearn.decomposition import PCA\n",
    "from sklearn.base import BaseEstimator, TransformerMixin\n",
    "from sklearn.model_selection import train_test_split\n",
    "from sklearn.ensemble import RandomForestClassifier, AdaBoostClassifier, AdaBoostRegressor\n",
    "from sklearn.feature_extraction.text import CountVectorizer, TfidfVectorizer\n",
    "import numpy as np\n",
    "import pandas as pd\n",
    "import time\n",
    "import pickle\n",
    "import os\n",
    "\n",
    "\n",
    "nltk.download('punkt')\n",
    "nltk.download('wordnet')\n",
    "\n",
    "\n",
    "warnings.simplefilter(action='ignore', category=FutureWarning)\n"
   ]
  },
  {
   "cell_type": "markdown",
   "metadata": {
    "id": "FmzjCrXalJb3"
   },
   "source": [
    "Firstly we are using random forest We build them in simple steps. After loading the CSV file, splitting the data into X train, x_test, y_train and y_test. CountVectorizer function is used to convert the text data into numercial data.\n",
    "encoding each sentence with simple techniques such as bag of words and tf-idf Traditional tree ensembles with bagging and boosting are used. \n",
    "\n",
    "Random Forest and AdaBoost algorithms are both based on the creation of a forest of trees. These are referred to as ensemble learning algorithms. A random forest is created by combining a number of decision trees that use various variables or features and bagging techniques for data sampling. The AdaBoost algorithm is said to make decisions by employing a slew of decision stumps.\n",
    "\n",
    "AdaBoost is a machine learning algorithm that may be used to improve the performance of any other machine learning technique. It works well with students who are struggling. Decision trees with one level are the most suitable and hence most commonly used algorithm with AdaBoost.\n",
    "\n",
    "While coming to the other models TfIdf,  Word2Vec and BERT we are using neural network to which we are passing vector input and flattening it an then we are adding a dense layer with 128 logits and then using dropout layer and then we are adding a dense layer with softmax activation and logits equal to number of classes"
   ]
  },
  {
   "cell_type": "code",
   "execution_count": null,
   "metadata": {
    "colab": {
     "base_uri": "https://localhost:8080/",
     "height": 190
    },
    "id": "tOCDGHL9ksqG",
    "outputId": "e56b0705-dd20-41e0-a471-6dff48ed2a07"
   },
   "outputs": [
    {
     "data": {
      "text/html": [
       "\n",
       "  <div id=\"df-d685fb8a-8786-41e4-82bf-511fb771e412\">\n",
       "    <div class=\"colab-df-container\">\n",
       "      <div>\n",
       "<style scoped>\n",
       "    .dataframe tbody tr th:only-of-type {\n",
       "        vertical-align: middle;\n",
       "    }\n",
       "\n",
       "    .dataframe tbody tr th {\n",
       "        vertical-align: top;\n",
       "    }\n",
       "\n",
       "    .dataframe thead th {\n",
       "        text-align: right;\n",
       "    }\n",
       "</style>\n",
       "<table border=\"1\" class=\"dataframe\">\n",
       "  <thead>\n",
       "    <tr style=\"text-align: right;\">\n",
       "      <th></th>\n",
       "      <th>'polarity'</th>\n",
       "      <th>'id'</th>\n",
       "      <th>'date'</th>\n",
       "      <th>'query'</th>\n",
       "      <th>'user'</th>\n",
       "      <th>'text'</th>\n",
       "    </tr>\n",
       "  </thead>\n",
       "  <tbody>\n",
       "    <tr>\n",
       "      <th>0</th>\n",
       "      <td>2</td>\n",
       "      <td>3</td>\n",
       "      <td>Mon May 11 03:17:40 UTC 2009</td>\n",
       "      <td>kindle2</td>\n",
       "      <td>tpryan</td>\n",
       "      <td>@stellargirl I loooooooovvvvvveee my Kindle2. Not that the DX is cool, but the 2 is fantastic in its own right.</td>\n",
       "    </tr>\n",
       "    <tr>\n",
       "      <th>1</th>\n",
       "      <td>2</td>\n",
       "      <td>4</td>\n",
       "      <td>Mon May 11 03:18:03 UTC 2009</td>\n",
       "      <td>kindle2</td>\n",
       "      <td>vcu451</td>\n",
       "      <td>Reading my kindle2...  Love it... Lee childs is good read.</td>\n",
       "    </tr>\n",
       "  </tbody>\n",
       "</table>\n",
       "</div>\n",
       "      <button class=\"colab-df-convert\" onclick=\"convertToInteractive('df-d685fb8a-8786-41e4-82bf-511fb771e412')\"\n",
       "              title=\"Convert this dataframe to an interactive table.\"\n",
       "              style=\"display:none;\">\n",
       "        \n",
       "  <svg xmlns=\"http://www.w3.org/2000/svg\" height=\"24px\"viewBox=\"0 0 24 24\"\n",
       "       width=\"24px\">\n",
       "    <path d=\"M0 0h24v24H0V0z\" fill=\"none\"/>\n",
       "    <path d=\"M18.56 5.44l.94 2.06.94-2.06 2.06-.94-2.06-.94-.94-2.06-.94 2.06-2.06.94zm-11 1L8.5 8.5l.94-2.06 2.06-.94-2.06-.94L8.5 2.5l-.94 2.06-2.06.94zm10 10l.94 2.06.94-2.06 2.06-.94-2.06-.94-.94-2.06-.94 2.06-2.06.94z\"/><path d=\"M17.41 7.96l-1.37-1.37c-.4-.4-.92-.59-1.43-.59-.52 0-1.04.2-1.43.59L10.3 9.45l-7.72 7.72c-.78.78-.78 2.05 0 2.83L4 21.41c.39.39.9.59 1.41.59.51 0 1.02-.2 1.41-.59l7.78-7.78 2.81-2.81c.8-.78.8-2.07 0-2.86zM5.41 20L4 18.59l7.72-7.72 1.47 1.35L5.41 20z\"/>\n",
       "  </svg>\n",
       "      </button>\n",
       "      \n",
       "  <style>\n",
       "    .colab-df-container {\n",
       "      display:flex;\n",
       "      flex-wrap:wrap;\n",
       "      gap: 12px;\n",
       "    }\n",
       "\n",
       "    .colab-df-convert {\n",
       "      background-color: #E8F0FE;\n",
       "      border: none;\n",
       "      border-radius: 50%;\n",
       "      cursor: pointer;\n",
       "      display: none;\n",
       "      fill: #1967D2;\n",
       "      height: 32px;\n",
       "      padding: 0 0 0 0;\n",
       "      width: 32px;\n",
       "    }\n",
       "\n",
       "    .colab-df-convert:hover {\n",
       "      background-color: #E2EBFA;\n",
       "      box-shadow: 0px 1px 2px rgba(60, 64, 67, 0.3), 0px 1px 3px 1px rgba(60, 64, 67, 0.15);\n",
       "      fill: #174EA6;\n",
       "    }\n",
       "\n",
       "    [theme=dark] .colab-df-convert {\n",
       "      background-color: #3B4455;\n",
       "      fill: #D2E3FC;\n",
       "    }\n",
       "\n",
       "    [theme=dark] .colab-df-convert:hover {\n",
       "      background-color: #434B5C;\n",
       "      box-shadow: 0px 1px 3px 1px rgba(0, 0, 0, 0.15);\n",
       "      filter: drop-shadow(0px 1px 2px rgba(0, 0, 0, 0.3));\n",
       "      fill: #FFFFFF;\n",
       "    }\n",
       "  </style>\n",
       "\n",
       "      <script>\n",
       "        const buttonEl =\n",
       "          document.querySelector('#df-d685fb8a-8786-41e4-82bf-511fb771e412 button.colab-df-convert');\n",
       "        buttonEl.style.display =\n",
       "          google.colab.kernel.accessAllowed ? 'block' : 'none';\n",
       "\n",
       "        async function convertToInteractive(key) {\n",
       "          const element = document.querySelector('#df-d685fb8a-8786-41e4-82bf-511fb771e412');\n",
       "          const dataTable =\n",
       "            await google.colab.kernel.invokeFunction('convertToInteractive',\n",
       "                                                     [key], {});\n",
       "          if (!dataTable) return;\n",
       "\n",
       "          const docLinkHtml = 'Like what you see? Visit the ' +\n",
       "            '<a target=\"_blank\" href=https://colab.research.google.com/notebooks/data_table.ipynb>data table notebook</a>'\n",
       "            + ' to learn more about interactive tables.';\n",
       "          element.innerHTML = '';\n",
       "          dataTable['output_type'] = 'display_data';\n",
       "          await google.colab.output.renderOutput(dataTable, element);\n",
       "          const docLink = document.createElement('div');\n",
       "          docLink.innerHTML = docLinkHtml;\n",
       "          element.appendChild(docLink);\n",
       "        }\n",
       "      </script>\n",
       "    </div>\n",
       "  </div>\n",
       "  "
      ],
      "text/plain": [
       "   'polarity'  'id'                        'date'  'query'  'user'  \\\n",
       "0           2     3  Mon May 11 03:17:40 UTC 2009  kindle2  tpryan   \n",
       "1           2     4  Mon May 11 03:18:03 UTC 2009  kindle2  vcu451   \n",
       "\n",
       "                                                                                                            'text'  \n",
       "0  @stellargirl I loooooooovvvvvveee my Kindle2. Not that the DX is cool, but the 2 is fantastic in its own right.  \n",
       "1                                                       Reading my kindle2...  Love it... Lee childs is good read.  "
      ]
     },
     "execution_count": 234,
     "metadata": {},
     "output_type": "execute_result"
    }
   ],
   "source": [
    "df = pd.read_csv(\"https://raw.githubusercontent.com/sravani-info5731-spring2022/sravani_info5731_spring2022/main/twitter.csv\", on_bad_lines='skip')\n",
    "df[\"'polarity'\"] = df[\"'polarity'\"].map({0: 0, 2: 1, 4: 2})\n",
    "df.dropna(inplace=True)\n",
    "pd.set_option('display.max_colwidth', None)\n",
    "df.head(2)\n"
   ]
  },
  {
   "cell_type": "code",
   "execution_count": null,
   "metadata": {
    "id": "7yRXAERXksqG"
   },
   "outputs": [],
   "source": [
    "train, test = train_test_split(df[[\"'text'\", \"'polarity'\"]], random_state=0)\n",
    "X_train = train[\"'text'\"]\n",
    "X_test = test[\"'text'\"]\n",
    "y_train = train[\"'polarity'\"]\n",
    "y_test = test[\"'polarity'\"]\n"
   ]
  },
  {
   "cell_type": "code",
   "execution_count": null,
   "metadata": {
    "id": "cxevGrMwksqH"
   },
   "outputs": [],
   "source": [
    "def get_accuracy():\n",
    "    pipe.fit(X_train, y_train)\n",
    "    y_pred = pipe.predict(X_test)\n",
    "    return round(accuracy_score(y_pred, y_test), 3)\n"
   ]
  },
  {
   "cell_type": "markdown",
   "metadata": {
    "id": "mzcEPUdhksqH"
   },
   "source": [
    "# Baseline models\n",
    "We'll build them through simple steps:\n",
    "\n",
    "encoding each sentence through basic methods such as bag of words and tf-idf.\n",
    "using classic trees ensembles that use bagging and boosting, respectively.\n",
    "ignoring the sentence Id.\n",
    "ignoring in some cases the less frequent words."
   ]
  },
  {
   "cell_type": "markdown",
   "metadata": {
    "id": "bMW4Lxq8ksqH"
   },
   "source": [
    "## Random Forest, BOW, TF-IDF"
   ]
  },
  {
   "cell_type": "code",
   "execution_count": null,
   "metadata": {
    "id": "W_mBZCK6ksqH"
   },
   "outputs": [],
   "source": [
    "count_vectorizer = CountVectorizer(max_features=1000)\n",
    "random_forest = RandomForestClassifier(max_depth=10, n_estimators=10)\n"
   ]
  },
  {
   "cell_type": "code",
   "execution_count": null,
   "metadata": {
    "id": "N0_mZNHJksqH"
   },
   "outputs": [],
   "source": [
    "pipe = make_pipeline(count_vectorizer, random_forest)\n"
   ]
  },
  {
   "cell_type": "code",
   "execution_count": null,
   "metadata": {
    "colab": {
     "base_uri": "https://localhost:8080/"
    },
    "id": "RzRrkFndksqI",
    "outputId": "fe99d89b-adff-4210-f1bf-9a041cc9d8cb"
   },
   "outputs": [
    {
     "data": {
      "text/plain": [
       "0.616"
      ]
     },
     "execution_count": 239,
     "metadata": {},
     "output_type": "execute_result"
    }
   ],
   "source": [
    "get_accuracy()\n"
   ]
  },
  {
   "cell_type": "markdown",
   "metadata": {
    "id": "nCen_9pvksqI"
   },
   "source": [
    "Let's look at the percentages of the classes in the true labels and in the predictions."
   ]
  },
  {
   "cell_type": "code",
   "execution_count": null,
   "metadata": {
    "id": "yo15hFcZksqI"
   },
   "outputs": [],
   "source": [
    "y_pred = pipe.predict(X_test)\n"
   ]
  },
  {
   "cell_type": "code",
   "execution_count": null,
   "metadata": {
    "colab": {
     "base_uri": "https://localhost:8080/"
    },
    "id": "R4lgVtsIksqJ",
    "outputId": "2c903feb-d744-48bb-eb37-fb431a5ee6df"
   },
   "outputs": [
    {
     "data": {
      "text/plain": [
       "2    0.38\n",
       "0    0.37\n",
       "1    0.25\n",
       "Name: 'polarity', dtype: float64"
      ]
     },
     "execution_count": 241,
     "metadata": {},
     "output_type": "execute_result"
    }
   ],
   "source": [
    "round(pd.Series(y_train).value_counts(normalize=True), 2)\n"
   ]
  },
  {
   "cell_type": "code",
   "execution_count": null,
   "metadata": {
    "colab": {
     "base_uri": "https://localhost:8080/"
    },
    "id": "dCaWAAZuksqJ",
    "outputId": "c92ff226-060a-4aa5-c245-f3f3c469a430"
   },
   "outputs": [
    {
     "data": {
      "text/plain": [
       "2    0.44\n",
       "0    0.30\n",
       "1    0.26\n",
       "dtype: float64"
      ]
     },
     "execution_count": 242,
     "metadata": {},
     "output_type": "execute_result"
    }
   ],
   "source": [
    "round(pd.Series(y_pred).value_counts(normalize=True), 2)\n"
   ]
  },
  {
   "cell_type": "markdown",
   "metadata": {
    "id": "RAs3QGUoksqK"
   },
   "source": [
    "As we can see, Decision Trees in their basic configuration are not a good model for unbalanced data! In almost every node, the biggest category has the majority and that's what the model predicts for almost every row. The accuracy then is aproximately the percentage of the biggest category: 0.5.\n",
    "\n",
    "Let's add now weights."
   ]
  },
  {
   "cell_type": "code",
   "execution_count": null,
   "metadata": {
    "colab": {
     "base_uri": "https://localhost:8080/"
    },
    "id": "yMMoMJz5ksqK",
    "outputId": "0edf6d55-9db3-4378-8d1c-9c4d1cba8758"
   },
   "outputs": [
    {
     "name": "stdout",
     "output_type": "stream",
     "text": [
      "0.6\n",
      "0.632\n"
     ]
    }
   ],
   "source": [
    "random_forest.set_params(class_weight='balanced')\n",
    "print(get_accuracy())\n",
    "random_forest.set_params(class_weight='balanced_subsample')\n",
    "print(get_accuracy())\n"
   ]
  },
  {
   "cell_type": "markdown",
   "metadata": {
    "id": "VGest5hfksqK"
   },
   "source": [
    "Surprisingly or not, when using as weights the inverse of the classes proportion, the accuracy gets worst.\n",
    "\n",
    "Through the confusion matrix we can see that the model is still predicting too much 2, although now the complexity increased."
   ]
  },
  {
   "cell_type": "code",
   "execution_count": null,
   "metadata": {
    "colab": {
     "base_uri": "https://localhost:8080/",
     "height": 346
    },
    "id": "gXGzDiu4ksqL",
    "outputId": "d793edec-1244-460e-d250-c35cd35bb777"
   },
   "outputs": [
    {
     "data": {
      "image/png": "[encoded data removed]",
      "text/plain": [
       "<Figure size 720x360 with 2 Axes>"
      ]
     },
     "metadata": {
      "needs_background": "light"
     },
     "output_type": "display_data"
    }
   ],
   "source": [
    "labels = [0, 1, 2]\n",
    "y_pred = pipe.predict(X_test)\n",
    "cm = confusion_matrix(y_test, y_pred, labels=labels)\n",
    "fig = plt.figure(figsize=(10, 5))\n",
    "ax = fig.add_subplot(111)\n",
    "cax = ax.matshow(cm)\n",
    "plt.title('Confusion matrix')\n",
    "fig.colorbar(cax)\n",
    "ax.set_xticklabels([''] + labels)\n",
    "ax.set_yticklabels([''] + labels)\n",
    "plt.xlabel('Predicted')\n",
    "plt.ylabel('True')\n",
    "plt.show()\n"
   ]
  },
  {
   "cell_type": "markdown",
   "metadata": {
    "id": "jt8ebkqmksqL"
   },
   "source": [
    "We'll try also adding lemmatization and replacing the BOW with tf-idf."
   ]
  },
  {
   "cell_type": "code",
   "execution_count": null,
   "metadata": {
    "id": "GH3xy-UaksqM"
   },
   "outputs": [],
   "source": [
    "# taken from sklearn webpage\n",
    "from nltk import word_tokenize\n",
    "from nltk.stem import WordNetLemmatizer\n",
    "\n",
    "\n",
    "class LemmaTokenizer:\n",
    "    def __init__(self):\n",
    "        self.wnl = WordNetLemmatizer()\n",
    "\n",
    "    def __call__(self, doc):\n",
    "        return [self.wnl.lemmatize(t) for t in word_tokenize(doc)]\n"
   ]
  },
  {
   "cell_type": "code",
   "execution_count": null,
   "metadata": {
    "colab": {
     "base_uri": "https://localhost:8080/"
    },
    "id": "KiI5PGntksqM",
    "outputId": "6d802477-0b34-49d6-d21e-371c6c3dda2b"
   },
   "outputs": [
    {
     "data": {
      "text/plain": [
       "0.592"
      ]
     },
     "execution_count": 246,
     "metadata": {},
     "output_type": "execute_result"
    }
   ],
   "source": [
    "pipe[0].set_params(tokenizer=LemmaTokenizer())\n",
    "get_accuracy()\n"
   ]
  },
  {
   "cell_type": "code",
   "execution_count": null,
   "metadata": {
    "colab": {
     "base_uri": "https://localhost:8080/"
    },
    "id": "mXSK-O9LksqM",
    "outputId": "c6feda43-010c-49ec-e79c-dce50d912e27"
   },
   "outputs": [
    {
     "data": {
      "text/plain": [
       "0.552"
      ]
     },
     "execution_count": 247,
     "metadata": {},
     "output_type": "execute_result"
    }
   ],
   "source": [
    "tfidf_vectorizer = TfidfVectorizer()\n",
    "pipe.steps[0] = ('vectorizer', tfidf_vectorizer)\n",
    "get_accuracy()\n"
   ]
  },
  {
   "cell_type": "markdown",
   "metadata": {
    "id": "v88syWafksqM"
   },
   "source": [
    "That is, still poor results. We'll try with boosting."
   ]
  },
  {
   "cell_type": "markdown",
   "metadata": {
    "id": "MsVW53RmksqM"
   },
   "source": [
    "# Adaboost, chi2"
   ]
  },
  {
   "cell_type": "code",
   "execution_count": null,
   "metadata": {
    "colab": {
     "base_uri": "https://localhost:8080/"
    },
    "id": "oifOiw-5ksqM",
    "outputId": "47cd5ca4-26b6-49ae-a232-10ea1dea0455"
   },
   "outputs": [
    {
     "data": {
      "text/plain": [
       "0.624"
      ]
     },
     "execution_count": 248,
     "metadata": {},
     "output_type": "execute_result"
    }
   ],
   "source": [
    "ada_boost = AdaBoostClassifier()\n",
    "pipe.steps[1] = ('adaboost', ada_boost)\n",
    "get_accuracy()\n"
   ]
  },
  {
   "cell_type": "markdown",
   "metadata": {
    "id": "EZIIIHGPksqN"
   },
   "source": [
    "We now see an improvement. We'll try now using only the most relevant words according to chi2."
   ]
  },
  {
   "cell_type": "code",
   "execution_count": null,
   "metadata": {
    "colab": {
     "base_uri": "https://localhost:8080/"
    },
    "id": "ATHrGKWpksqN",
    "outputId": "2cec2433-a196-4f36-86a1-11f10ddf8a10"
   },
   "outputs": [
    {
     "data": {
      "text/plain": [
       "<bound method CountVectorizer.get_feature_names of CountVectorizer(max_features=1000,\n",
       "                tokenizer=<__main__.LemmaTokenizer object at 0x7fcec177f5d0>)>"
      ]
     },
     "execution_count": 249,
     "metadata": {},
     "output_type": "execute_result"
    }
   ],
   "source": [
    "count_vectorizer.get_feature_names\n"
   ]
  },
  {
   "cell_type": "code",
   "execution_count": null,
   "metadata": {
    "colab": {
     "base_uri": "https://localhost:8080/"
    },
    "id": "bYokb1vCksqN",
    "outputId": "82c83624-69e6-493b-d05d-8d392bf0135e"
   },
   "outputs": [
    {
     "data": {
      "text/plain": [
       "0.624"
      ]
     },
     "execution_count": 250,
     "metadata": {},
     "output_type": "execute_result"
    }
   ],
   "source": [
    "count_vectorizer = CountVectorizer()\n",
    "\n",
    "bow = count_vectorizer.fit_transform(X_train)\n",
    "\n",
    "words = count_vectorizer.get_feature_names()\n",
    "\n",
    "p_value_limit = 0.95\n",
    "\n",
    "dtf_features = pd.DataFrame()\n",
    "\n",
    "for cat in range(3):\n",
    "    _, p = chi2(bow, y_train == cat)\n",
    "    dtf_features = dtf_features.append(pd.DataFrame(\n",
    "        {\"feature\": words, \"score\": 1-p, \"y\": cat}))\n",
    "    dtf_features = dtf_features.sort_values([\"y\", \"score\"],\n",
    "                                            ascending=[True, False])\n",
    "    dtf_features = dtf_features[dtf_features[\"score\"] > p_value_limit]\n",
    "\n",
    "X_names = dtf_features[\"feature\"].unique().tolist()\n",
    "\n",
    "pipe['vectorizer'].set_params(vocabulary=X_names)\n",
    "\n",
    "get_accuracy()\n"
   ]
  },
  {
   "cell_type": "markdown",
   "metadata": {
    "id": "vIbrayzqksqO"
   },
   "source": [
    "# Neural networks"
   ]
  },
  {
   "cell_type": "markdown",
   "metadata": {
    "id": "8XyNy3e-ksqO"
   },
   "source": [
    "We'll use a simple NN with only one hidden layer."
   ]
  },
  {
   "cell_type": "code",
   "execution_count": null,
   "metadata": {
    "id": "JqeNhW9rksqO"
   },
   "outputs": [],
   "source": [
    "mc = ModelCheckpoint('best_model.h5', monitor='val_accuracy',\n",
    "                     mode='max', verbose=1, save_best_only=True)\n"
   ]
  },
  {
   "cell_type": "code",
   "execution_count": null,
   "metadata": {
    "id": "LN1rC5hXksqO"
   },
   "outputs": [],
   "source": [
    "def fit_sequential(X_train, X_test, sequential=None, epochs=20, patience=5):\n",
    "\n",
    "    if sequential is None:\n",
    "        input_size = X_train.shape[1]\n",
    "\n",
    "        sequential = tf.keras.models.Sequential([\n",
    "            tf.keras.layers.Flatten(input_shape=(input_size, )),\n",
    "            tf.keras.layers.Dense(128),\n",
    "            tf.keras.layers.Dropout(0.2),\n",
    "            tf.keras.layers.Dense(3, activation='sigmoid')\n",
    "        ])\n",
    "        loss_fn = tf.keras.losses.SparseCategoricalCrossentropy(\n",
    "            from_logits=True)\n",
    "        sequential.compile(optimizer='adam', loss=loss_fn,\n",
    "                           metrics=['accuracy'])\n",
    "        global mc\n",
    "        mc = ModelCheckpoint('best_model.h5', monitor='val_accuracy',\n",
    "                             mode='max', verbose=1, save_best_only=True)\n",
    "\n",
    "    es = EarlyStopping(monitor='val_accuracy', mode='max',\n",
    "                       verbose=1, patience=patience)\n",
    "    sequential.fit(X_train, np.array(y_train), epochs=epochs, verbose=1,\n",
    "                   validation_data=(X_test, np.array(y_test)), callbacks=[es, mc])\n",
    "    sequential.load_weights('best_model.h5')\n",
    "    return sequential\n"
   ]
  },
  {
   "cell_type": "markdown",
   "metadata": {
    "id": "aeJnZ9cNksqO"
   },
   "source": [
    "## Using tf–idf"
   ]
  },
  {
   "cell_type": "code",
   "execution_count": null,
   "metadata": {
    "id": "4g8YxzwxksqP"
   },
   "outputs": [],
   "source": [
    "vectorizer = TfidfVectorizer()\n"
   ]
  },
  {
   "cell_type": "code",
   "execution_count": null,
   "metadata": {
    "id": "f2VG_cPJksqP"
   },
   "outputs": [],
   "source": [
    "def convert_sparse_matrix_to_sparse_tensor(X):\n",
    "    coo = X.tocoo()\n",
    "    indices = np.mat([coo.row, coo.col]).transpose()\n",
    "    return tf.sparse.reorder(tf.SparseTensor(indices, coo.data, coo.shape))\n"
   ]
  },
  {
   "cell_type": "code",
   "execution_count": null,
   "metadata": {
    "id": "bfb_IoaqksqP"
   },
   "outputs": [],
   "source": [
    "X_train_vectorized = vectorizer.fit_transform(X_train).toarray()\n",
    "X_test_vectorized = vectorizer.transform(X_test).toarray()\n"
   ]
  },
  {
   "cell_type": "code",
   "execution_count": null,
   "metadata": {
    "colab": {
     "base_uri": "https://localhost:8080/"
    },
    "id": "IuuasPdoksqP",
    "outputId": "8396ceae-1b3b-4429-9be2-a9e8ee108c2b"
   },
   "outputs": [
    {
     "name": "stdout",
     "output_type": "stream",
     "text": [
      "Epoch 1/20\n"
     ]
    },
    {
     "name": "stderr",
     "output_type": "stream",
     "text": [
      "/usr/local/lib/python3.7/dist-packages/tensorflow/python/util/dispatch.py:1082: UserWarning: \"`sparse_categorical_crossentropy` received `from_logits=True`, but the `output` argument was produced by a sigmoid or softmax activation and thus does not represent logits. Was this intended?\"\n",
      "  return dispatch_target(*args, **kwargs)\n"
     ]
    },
    {
     "name": "stdout",
     "output_type": "stream",
     "text": [
      "\r",
      " 1/12 [=>............................] - ETA: 4s - loss: 1.1013 - accuracy: 0.4062\n",
      "Epoch 1: val_accuracy improved from -inf to 0.47200, saving model to best_model.h5\n",
      "12/12 [==============================] - 1s 22ms/step - loss: 1.0836 - accuracy: 0.4263 - val_loss: 1.0796 - val_accuracy: 0.4720\n",
      "Epoch 2/20\n",
      " 1/12 [=>............................] - ETA: 0s - loss: 1.0249 - accuracy: 0.7188\n",
      "Epoch 2: val_accuracy improved from 0.47200 to 0.51200, saving model to best_model.h5\n",
      "12/12 [==============================] - 0s 9ms/step - loss: 0.9848 - accuracy: 0.7480 - val_loss: 1.0527 - val_accuracy: 0.5120\n",
      "Epoch 3/20\n",
      " 1/12 [=>............................] - ETA: 0s - loss: 0.9265 - accuracy: 0.7812\n",
      "Epoch 3: val_accuracy improved from 0.51200 to 0.54400, saving model to best_model.h5\n",
      "12/12 [==============================] - 0s 9ms/step - loss: 0.8875 - accuracy: 0.8257 - val_loss: 1.0179 - val_accuracy: 0.5440\n",
      "Epoch 4/20\n",
      " 1/12 [=>............................] - ETA: 0s - loss: 0.7704 - accuracy: 1.0000\n",
      "Epoch 4: val_accuracy improved from 0.54400 to 0.56800, saving model to best_model.h5\n",
      "12/12 [==============================] - 0s 10ms/step - loss: 0.7820 - accuracy: 0.8767 - val_loss: 0.9726 - val_accuracy: 0.5680\n",
      "Epoch 5/20\n",
      " 1/12 [=>............................] - ETA: 0s - loss: 0.6358 - accuracy: 0.9688\n",
      "Epoch 5: val_accuracy improved from 0.56800 to 0.62400, saving model to best_model.h5\n",
      "12/12 [==============================] - 0s 8ms/step - loss: 0.6685 - accuracy: 0.9249 - val_loss: 0.9316 - val_accuracy: 0.6240\n",
      "Epoch 6/20\n",
      " 1/12 [=>............................] - ETA: 0s - loss: 0.5843 - accuracy: 0.9688\n",
      "Epoch 6: val_accuracy improved from 0.62400 to 0.64000, saving model to best_model.h5\n",
      "12/12 [==============================] - 0s 9ms/step - loss: 0.5556 - accuracy: 0.9491 - val_loss: 0.8783 - val_accuracy: 0.6400\n",
      "Epoch 7/20\n",
      " 1/12 [=>............................] - ETA: 0s - loss: 0.4778 - accuracy: 0.9375\n",
      "Epoch 7: val_accuracy did not improve from 0.64000\n",
      "12/12 [==============================] - 0s 6ms/step - loss: 0.4518 - accuracy: 0.9732 - val_loss: 0.8352 - val_accuracy: 0.6400\n",
      "Epoch 8/20\n",
      " 1/12 [=>............................] - ETA: 0s - loss: 0.3762 - accuracy: 0.9688\n",
      "Epoch 8: val_accuracy improved from 0.64000 to 0.67200, saving model to best_model.h5\n",
      "12/12 [==============================] - 0s 9ms/step - loss: 0.3649 - accuracy: 0.9839 - val_loss: 0.7969 - val_accuracy: 0.6720\n",
      "Epoch 9/20\n",
      " 1/12 [=>............................] - ETA: 0s - loss: 0.3264 - accuracy: 1.0000\n",
      "Epoch 9: val_accuracy improved from 0.67200 to 0.68000, saving model to best_model.h5\n",
      "12/12 [==============================] - 0s 9ms/step - loss: 0.2892 - accuracy: 0.9866 - val_loss: 0.7733 - val_accuracy: 0.6800\n",
      "Epoch 10/20\n",
      " 1/12 [=>............................] - ETA: 0s - loss: 0.2278 - accuracy: 1.0000\n",
      "Epoch 10: val_accuracy improved from 0.68000 to 0.68800, saving model to best_model.h5\n",
      "12/12 [==============================] - 0s 10ms/step - loss: 0.2305 - accuracy: 0.9866 - val_loss: 0.7598 - val_accuracy: 0.6880\n",
      "Epoch 11/20\n",
      " 1/12 [=>............................] - ETA: 0s - loss: 0.2202 - accuracy: 0.9688\n",
      "Epoch 11: val_accuracy did not improve from 0.68800\n",
      "12/12 [==============================] - 0s 7ms/step - loss: 0.1877 - accuracy: 0.9893 - val_loss: 0.7465 - val_accuracy: 0.6720\n",
      "Epoch 12/20\n",
      " 8/12 [===================>..........] - ETA: 0s - loss: 0.1646 - accuracy: 0.9883\n",
      "Epoch 12: val_accuracy did not improve from 0.68800\n",
      "12/12 [==============================] - 0s 11ms/step - loss: 0.1523 - accuracy: 0.9920 - val_loss: 0.7451 - val_accuracy: 0.6720\n",
      "Epoch 13/20\n",
      " 1/12 [=>............................] - ETA: 0s - loss: 0.1428 - accuracy: 1.0000\n",
      "Epoch 13: val_accuracy did not improve from 0.68800\n",
      "12/12 [==============================] - 0s 6ms/step - loss: 0.1244 - accuracy: 0.9920 - val_loss: 0.7427 - val_accuracy: 0.6720\n",
      "Epoch 14/20\n",
      " 1/12 [=>............................] - ETA: 0s - loss: 0.0929 - accuracy: 1.0000\n",
      "Epoch 14: val_accuracy did not improve from 0.68800\n",
      "12/12 [==============================] - 0s 6ms/step - loss: 0.1061 - accuracy: 0.9946 - val_loss: 0.7424 - val_accuracy: 0.6800\n",
      "Epoch 15/20\n",
      " 1/12 [=>............................] - ETA: 0s - loss: 0.0865 - accuracy: 1.0000\n",
      "Epoch 15: val_accuracy did not improve from 0.68800\n",
      "12/12 [==============================] - 0s 7ms/step - loss: 0.0889 - accuracy: 1.0000 - val_loss: 0.7419 - val_accuracy: 0.6800\n",
      "Epoch 15: early stopping\n"
     ]
    }
   ],
   "source": [
    "sequential = fit_sequential(X_train_vectorized, X_test_vectorized)\n"
   ]
  },
  {
   "cell_type": "markdown",
   "metadata": {
    "id": "vy23q8L4ksqP"
   },
   "source": [
    "## Using Word2vec"
   ]
  },
  {
   "cell_type": "code",
   "execution_count": null,
   "metadata": {
    "id": "_oQzMzqWksqP"
   },
   "outputs": [],
   "source": [
    "class W2VTransformer(BaseEstimator, TransformerMixin):\n",
    "    def __init__(self, size):\n",
    "        self.size = size\n",
    "        pass\n",
    "\n",
    "    def fit(self, X, y=None):\n",
    "        self.model = Word2Vec(min_count=1,\n",
    "                              window=2,\n",
    "                              size=self.size,\n",
    "                              sample=6e-5,\n",
    "                              alpha=0.03,\n",
    "                              min_alpha=0.0007,\n",
    "                              negative=20)\n",
    "        sentences = [row.split() for row in X]\n",
    "\n",
    "        self.model.build_vocab(sentences)\n",
    "        self.model.train(\n",
    "            sentences, total_examples=self.model.corpus_count, epochs=self.model.epochs)\n",
    "        return self\n",
    "\n",
    "    def get_vector(self, sentence):\n",
    "        relevant_words_vectors = [self.model.wv[x]\n",
    "                                  for x in sentence.split() if x in self.model.wv.vocab]\n",
    "        if not relevant_words_vectors:\n",
    "            return np.zeros(self.model.vector_size)  # .astype('float32')\n",
    "        return np.mean(relevant_words_vectors, axis=0)\n",
    "\n",
    "    def transform(self, X):\n",
    "        arr = np.array([])\n",
    "        for elem in X:\n",
    "            arr = np.concatenate([arr, self.get_vector(elem)])\n",
    "        return arr.reshape(-1, self.size)\n"
   ]
  },
  {
   "cell_type": "code",
   "execution_count": null,
   "metadata": {
    "id": "9iRXPJM9ksqQ"
   },
   "outputs": [],
   "source": [
    "vectorizer = W2VTransformer(4)\n",
    "X_train_vectorized = vectorizer.fit_transform(X_train)\n",
    "X_test_vectorized = vectorizer.transform(X_test)\n"
   ]
  },
  {
   "cell_type": "code",
   "execution_count": null,
   "metadata": {
    "colab": {
     "base_uri": "https://localhost:8080/"
    },
    "id": "hKEXsV6EksqQ",
    "outputId": "eb09f0b4-627d-4481-9fd8-8e6b6756ae23"
   },
   "outputs": [
    {
     "name": "stdout",
     "output_type": "stream",
     "text": [
      "Epoch 1/20\n"
     ]
    },
    {
     "name": "stderr",
     "output_type": "stream",
     "text": [
      "/usr/local/lib/python3.7/dist-packages/tensorflow/python/util/dispatch.py:1082: UserWarning: \"`sparse_categorical_crossentropy` received `from_logits=True`, but the `output` argument was produced by a sigmoid or softmax activation and thus does not represent logits. Was this intended?\"\n",
      "  return dispatch_target(*args, **kwargs)\n"
     ]
    },
    {
     "name": "stdout",
     "output_type": "stream",
     "text": [
      "\r",
      " 1/12 [=>............................] - ETA: 4s - loss: 1.0960 - accuracy: 0.4688\n",
      "Epoch 1: val_accuracy improved from -inf to 0.32000, saving model to best_model.h5\n",
      "12/12 [==============================] - 1s 19ms/step - loss: 1.0944 - accuracy: 0.3753 - val_loss: 1.1069 - val_accuracy: 0.3200\n",
      "Epoch 2/20\n",
      " 1/12 [=>............................] - ETA: 0s - loss: 1.0924 - accuracy: 0.3125\n",
      "Epoch 2: val_accuracy did not improve from 0.32000\n",
      "12/12 [==============================] - 0s 5ms/step - loss: 1.0870 - accuracy: 0.3539 - val_loss: 1.1159 - val_accuracy: 0.3040\n",
      "Epoch 3/20\n",
      " 1/12 [=>............................] - ETA: 0s - loss: 1.0830 - accuracy: 0.3750\n",
      "Epoch 3: val_accuracy improved from 0.32000 to 0.36000, saving model to best_model.h5\n",
      "12/12 [==============================] - 0s 8ms/step - loss: 1.0819 - accuracy: 0.3619 - val_loss: 1.1255 - val_accuracy: 0.3600\n",
      "Epoch 4/20\n",
      " 1/12 [=>............................] - ETA: 0s - loss: 1.0604 - accuracy: 0.5000\n",
      "Epoch 4: val_accuracy did not improve from 0.36000\n",
      "12/12 [==============================] - 0s 5ms/step - loss: 1.0816 - accuracy: 0.3995 - val_loss: 1.1328 - val_accuracy: 0.3360\n",
      "Epoch 5/20\n",
      " 1/12 [=>............................] - ETA: 0s - loss: 1.0596 - accuracy: 0.4375\n",
      "Epoch 5: val_accuracy did not improve from 0.36000\n",
      "12/12 [==============================] - 0s 6ms/step - loss: 1.0815 - accuracy: 0.3780 - val_loss: 1.1352 - val_accuracy: 0.3440\n",
      "Epoch 6/20\n",
      " 1/12 [=>............................] - ETA: 0s - loss: 1.0561 - accuracy: 0.4062\n",
      "Epoch 6: val_accuracy did not improve from 0.36000\n",
      "12/12 [==============================] - 0s 5ms/step - loss: 1.0806 - accuracy: 0.4048 - val_loss: 1.1344 - val_accuracy: 0.3600\n",
      "Epoch 7/20\n",
      " 1/12 [=>............................] - ETA: 0s - loss: 1.0972 - accuracy: 0.3438\n",
      "Epoch 7: val_accuracy did not improve from 0.36000\n",
      "12/12 [==============================] - 0s 6ms/step - loss: 1.0802 - accuracy: 0.3968 - val_loss: 1.1335 - val_accuracy: 0.3200\n",
      "Epoch 8/20\n",
      " 1/12 [=>............................] - ETA: 0s - loss: 1.0681 - accuracy: 0.3125\n",
      "Epoch 8: val_accuracy did not improve from 0.36000\n",
      "12/12 [==============================] - 0s 7ms/step - loss: 1.0803 - accuracy: 0.3807 - val_loss: 1.1389 - val_accuracy: 0.3360\n",
      "Epoch 8: early stopping\n"
     ]
    }
   ],
   "source": [
    "sequential = fit_sequential(X_train_vectorized, X_test_vectorized)\n"
   ]
  },
  {
   "cell_type": "code",
   "execution_count": null,
   "metadata": {
    "id": "xbg8MZQyksqQ"
   },
   "outputs": [],
   "source": [
    "pca = PCA(n_components=2)\n",
    "X_train_vectorized_2d = pca.fit_transform(X_train_vectorized)\n"
   ]
  },
  {
   "cell_type": "code",
   "execution_count": null,
   "metadata": {
    "colab": {
     "base_uri": "https://localhost:8080/",
     "height": 483
    },
    "id": "i2qXSFZwksqQ",
    "outputId": "0b9c4785-a11c-4615-dd84-c566835b08b2"
   },
   "outputs": [
    {
     "data": {
      "image/png": "[encoded data removed]",
      "text/plain": [
       "<Figure size 1008x576 with 1 Axes>"
      ]
     },
     "metadata": {
      "needs_background": "light"
     },
     "output_type": "display_data"
    }
   ],
   "source": [
    "plt.figure(figsize=(14, 8))\n",
    "_ = sns.scatterplot(\n",
    "    X_train_vectorized_2d[:, 0], X_train_vectorized_2d[:, 1], hue=y_train)\n"
   ]
  },
  {
   "cell_type": "markdown",
   "metadata": {
    "id": "-BXogEWRksqR"
   },
   "source": [
    "Even though the scatterplot is not showing us the \"neutral\" points we can see that indeed there is not much of a separation between the classes\n",
    "\n",
    "with the same preprocessing as before but using a neural network, the results are slightly better. It looks like we need to change the preprocessing in such a way that we start using the order between the words. A very first simple method, before we try more complex stuff like Word2Vec or LDA, would be adding 2-grams."
   ]
  },
  {
   "cell_type": "markdown",
   "metadata": {
    "id": "Y83DCjsHksqR"
   },
   "source": [
    "## Using BERT"
   ]
  },
  {
   "cell_type": "code",
   "execution_count": null,
   "metadata": {
    "colab": {
     "base_uri": "https://localhost:8080/"
    },
    "id": "FRimqEJxksqR",
    "outputId": "b889e3d5-2446-4e12-ff50-a9dbf42920aa"
   },
   "outputs": [
    {
     "name": "stderr",
     "output_type": "stream",
     "text": [
      "Some weights of the model checkpoint at distilbert-base-uncased were not used when initializing DistilBertModel: ['vocab_layer_norm.weight', 'vocab_transform.bias', 'vocab_transform.weight', 'vocab_layer_norm.bias', 'vocab_projector.bias', 'vocab_projector.weight']\n",
      "- This IS expected if you are initializing DistilBertModel from the checkpoint of a model trained on another task or with another architecture (e.g. initializing a BertForSequenceClassification model from a BertForPreTraining model).\n",
      "- This IS NOT expected if you are initializing DistilBertModel from the checkpoint of a model that you expect to be exactly identical (initializing a BertForSequenceClassification model from a BertForSequenceClassification model).\n"
     ]
    }
   ],
   "source": [
    "model_class, tokenizer_class, pretrained_weights = (\n",
    "    transformers.DistilBertModel, transformers.DistilBertTokenizer, 'distilbert-base-uncased')\n",
    "tokenizer = tokenizer_class.from_pretrained(pretrained_weights)\n",
    "model = model_class.from_pretrained(pretrained_weights)\n"
   ]
  },
  {
   "cell_type": "code",
   "execution_count": null,
   "metadata": {
    "colab": {
     "base_uri": "https://localhost:8080/"
    },
    "id": "MN_reTfLksqR",
    "outputId": "817d51a6-fc97-4daf-9301-28041d32dce7"
   },
   "outputs": [
    {
     "name": "stderr",
     "output_type": "stream",
     "text": [
      "/usr/local/lib/python3.7/dist-packages/ipykernel_launcher.py:13: UserWarning: To copy construct from a tensor, it is recommended to use sourceTensor.clone().detach() or sourceTensor.clone().detach().requires_grad_(True), rather than torch.tensor(sourceTensor).\n",
      "  del sys.path[0]\n"
     ]
    }
   ],
   "source": [
    "kaggle_test = pd.read_csv(\"test.tsv\", sep='\\t', index_col=\"PhraseId\")\n",
    "\n",
    "all_sentences = X_train.append([X_test, kaggle_test.Phrase])\n",
    "\n",
    "tokenized = all_sentences.apply(\n",
    "    lambda x: tokenizer.encode(x, add_special_tokens=True))\n",
    "\n",
    "max_len = max(tokenized.apply(len))\n",
    "padded = np.array([row + [0]*(max_len-len(row)) for row in tokenized])\n",
    "\n",
    "attention_mask = np.where(padded != 0, 1, 0)\n",
    "\n",
    "input_ids = torch.tensor(padded)\n",
    "input_ids = torch.tensor(input_ids).to(torch.int64)\n",
    "\n",
    "attention_mask = torch.tensor(attention_mask)\n",
    "\n",
    "vector_length = model(input_ids[:1], attention_mask=attention_mask[:1])[\n",
    "    0].shape[2]\n",
    "\n",
    "vectors = np.zeros(shape=(0, vector_length))\n"
   ]
  },
  {
   "cell_type": "markdown",
   "metadata": {
    "id": "lCi19GgeksqR"
   },
   "source": [
    "We're using an already trained version of distilBERT. In order to create the embedding, this has to be done in batches. For example through the below function:"
   ]
  },
  {
   "cell_type": "code",
   "execution_count": null,
   "metadata": {
    "id": "5o-axKoAksqS"
   },
   "outputs": [],
   "source": [
    "def get_vectors():\n",
    "    start = time.time()\n",
    "    k = 1000\n",
    "    for i in range(0, len(all_sentences), k):\n",
    "        with torch.no_grad():\n",
    "            last_hidden_states = model(\n",
    "                input_ids[i:i+k], attention_mask=input_ids[i:i+k])\n",
    "        vectors = np.concatenate([vectors, last_hidden_states[0].numpy(\n",
    "        )[:, 0, :]]) if i > 0 else last_hidden_states[0].numpy()[:, 0, :]\n",
    "    return vectors\n"
   ]
  },
  {
   "cell_type": "markdown",
   "metadata": {
    "id": "uZrLoSghksqS"
   },
   "source": [
    "Doing so in a CPU can be highly time consuming (A way of speeding it up could be to use much less precision-numbers). I already saved the data."
   ]
  },
  {
   "cell_type": "code",
   "execution_count": null,
   "metadata": {
    "id": "1HRLBeZhksqS"
   },
   "outputs": [],
   "source": [
    "if os.path.isfile(\"bert_vectors.csv\"):\n",
    "    bert_vectors_df = pd.read_csv(\"bert_vectors.csv\")\n",
    "    vectors = bert_vectors_df.iloc[:, 1:]\n",
    "elif os.path.isfile(\"bert_vectors.pickle\"):\n",
    "    with open('bert_vectors.pickle', 'rb') as handle:\n",
    "        vectors = pickle.load(handle)\n",
    "else:\n",
    "    vectors = get_vectors()\n",
    "    with open('bert_vectors.pickle', 'wb') as handle:\n",
    "        pickle.dump(vectors, handle)\n"
   ]
  },
  {
   "cell_type": "code",
   "execution_count": null,
   "metadata": {
    "id": "TDLMfJx7ksqS"
   },
   "outputs": [],
   "source": [
    "X_train_vectorized = vectors[:len(X_train)]\n",
    "X_test_vectorized = vectors[len(X_train):len(X_train)+len(X_test)]\n",
    "kaggle_test_vectorized = vectors[len(X_train)+len(X_test):]\n"
   ]
  },
  {
   "cell_type": "code",
   "execution_count": null,
   "metadata": {
    "colab": {
     "base_uri": "https://localhost:8080/"
    },
    "id": "5BVbPh8lksqS",
    "outputId": "93181822-f924-49b5-bf6f-31451d1ba18a"
   },
   "outputs": [
    {
     "name": "stdout",
     "output_type": "stream",
     "text": [
      "Epoch 1/10\n"
     ]
    },
    {
     "name": "stderr",
     "output_type": "stream",
     "text": [
      "/usr/local/lib/python3.7/dist-packages/tensorflow/python/util/dispatch.py:1082: UserWarning: \"`sparse_categorical_crossentropy` received `from_logits=True`, but the `output` argument was produced by a sigmoid or softmax activation and thus does not represent logits. Was this intended?\"\n",
      "  return dispatch_target(*args, **kwargs)\n"
     ]
    },
    {
     "name": "stdout",
     "output_type": "stream",
     "text": [
      "\r",
      " 1/12 [=>............................] - ETA: 4s - loss: 1.2931 - accuracy: 0.2812\n",
      "Epoch 1: val_accuracy improved from -inf to 0.32000, saving model to best_model.h5\n",
      "12/12 [==============================] - 1s 19ms/step - loss: 1.3155 - accuracy: 0.3190 - val_loss: 1.1719 - val_accuracy: 0.3200\n",
      "Epoch 2/10\n",
      " 1/12 [=>............................] - ETA: 0s - loss: 1.1718 - accuracy: 0.4688\n",
      "Epoch 2: val_accuracy improved from 0.32000 to 0.40800, saving model to best_model.h5\n",
      "12/12 [==============================] - 0s 7ms/step - loss: 1.1671 - accuracy: 0.4129 - val_loss: 1.1514 - val_accuracy: 0.4080\n",
      "Epoch 3/10\n",
      " 1/12 [=>............................] - ETA: 0s - loss: 1.1770 - accuracy: 0.3125\n",
      "Epoch 3: val_accuracy did not improve from 0.40800\n",
      "12/12 [==============================] - 0s 6ms/step - loss: 1.1286 - accuracy: 0.3834 - val_loss: 1.2273 - val_accuracy: 0.3200\n",
      "Epoch 4/10\n",
      " 1/12 [=>............................] - ETA: 0s - loss: 1.0746 - accuracy: 0.5000\n",
      "Epoch 4: val_accuracy did not improve from 0.40800\n",
      "12/12 [==============================] - 0s 6ms/step - loss: 1.0387 - accuracy: 0.4718 - val_loss: 1.1961 - val_accuracy: 0.3120\n",
      "Epoch 5/10\n",
      " 1/12 [=>............................] - ETA: 0s - loss: 0.9455 - accuracy: 0.5312\n",
      "Epoch 5: val_accuracy did not improve from 0.40800\n",
      "12/12 [==============================] - 0s 5ms/step - loss: 1.0356 - accuracy: 0.4611 - val_loss: 1.1317 - val_accuracy: 0.3040\n",
      "Epoch 6/10\n",
      " 1/12 [=>............................] - ETA: 0s - loss: 0.9315 - accuracy: 0.5938\n",
      "Epoch 6: val_accuracy did not improve from 0.40800\n",
      "12/12 [==============================] - 0s 5ms/step - loss: 0.9730 - accuracy: 0.5255 - val_loss: 1.1694 - val_accuracy: 0.3200\n",
      "Epoch 7/10\n",
      " 1/12 [=>............................] - ETA: 0s - loss: 1.0727 - accuracy: 0.4062\n",
      "Epoch 7: val_accuracy did not improve from 0.40800\n",
      "12/12 [==============================] - 0s 5ms/step - loss: 0.9515 - accuracy: 0.5603 - val_loss: 1.2311 - val_accuracy: 0.3360\n",
      "Epoch 7: early stopping\n"
     ]
    }
   ],
   "source": [
    "sequential = fit_sequential(X_train_vectorized, X_test_vectorized, epochs=10)\n"
   ]
  },
  {
   "cell_type": "code",
   "execution_count": null,
   "metadata": {
    "colab": {
     "base_uri": "https://localhost:8080/"
    },
    "id": "5WtqPL_YHZZh",
    "outputId": "f693b7e5-7cf0-4fff-e72d-fff63df79342"
   },
   "outputs": [
    {
     "name": "stdout",
     "output_type": "stream",
     "text": [
      "Epoch 1/20\n"
     ]
    },
    {
     "name": "stderr",
     "output_type": "stream",
     "text": [
      "/usr/local/lib/python3.7/dist-packages/tensorflow/python/util/dispatch.py:1082: UserWarning: \"`sparse_categorical_crossentropy` received `from_logits=True`, but the `output` argument was produced by a sigmoid or softmax activation and thus does not represent logits. Was this intended?\"\n",
      "  return dispatch_target(*args, **kwargs)\n"
     ]
    },
    {
     "name": "stdout",
     "output_type": "stream",
     "text": [
      "\r",
      " 1/12 [=>............................] - ETA: 4s - loss: 1.0985 - accuracy: 0.4062\n",
      "Epoch 1: val_accuracy improved from -inf to 0.31200, saving model to best_model.h5\n",
      "12/12 [==============================] - 1s 20ms/step - loss: 1.0953 - accuracy: 0.3861 - val_loss: 1.1041 - val_accuracy: 0.3120\n",
      "Epoch 2/20\n",
      " 1/12 [=>............................] - ETA: 0s - loss: 1.0665 - accuracy: 0.5312\n",
      "Epoch 2: val_accuracy improved from 0.31200 to 0.34400, saving model to best_model.h5\n",
      "12/12 [==============================] - 0s 7ms/step - loss: 1.0869 - accuracy: 0.3887 - val_loss: 1.1145 - val_accuracy: 0.3440\n",
      "Epoch 3/20\n",
      " 1/12 [=>............................] - ETA: 0s - loss: 1.0765 - accuracy: 0.3125\n",
      "Epoch 3: val_accuracy did not improve from 0.34400\n",
      "12/12 [==============================] - 0s 6ms/step - loss: 1.0829 - accuracy: 0.3673 - val_loss: 1.1253 - val_accuracy: 0.3200\n",
      "Epoch 4/20\n",
      " 1/12 [=>............................] - ETA: 0s - loss: 1.0734 - accuracy: 0.2812\n",
      "Epoch 4: val_accuracy improved from 0.34400 to 0.35200, saving model to best_model.h5\n",
      "12/12 [==============================] - 0s 6ms/step - loss: 1.0814 - accuracy: 0.3673 - val_loss: 1.1305 - val_accuracy: 0.3520\n",
      "Epoch 5/20\n",
      " 1/12 [=>............................] - ETA: 0s - loss: 1.1126 - accuracy: 0.3750\n",
      "Epoch 5: val_accuracy did not improve from 0.35200\n",
      "12/12 [==============================] - 0s 6ms/step - loss: 1.0803 - accuracy: 0.3807 - val_loss: 1.1336 - val_accuracy: 0.3360\n",
      "Epoch 6/20\n",
      " 1/12 [=>............................] - ETA: 0s - loss: 1.0162 - accuracy: 0.5000\n",
      "Epoch 6: val_accuracy did not improve from 0.35200\n",
      "12/12 [==============================] - 0s 6ms/step - loss: 1.0812 - accuracy: 0.3995 - val_loss: 1.1372 - val_accuracy: 0.3520\n",
      "Epoch 7/20\n",
      " 1/12 [=>............................] - ETA: 0s - loss: 1.0758 - accuracy: 0.4375\n",
      "Epoch 7: val_accuracy improved from 0.35200 to 0.36000, saving model to best_model.h5\n",
      "12/12 [==============================] - 0s 8ms/step - loss: 1.0804 - accuracy: 0.4209 - val_loss: 1.1327 - val_accuracy: 0.3600\n",
      "Epoch 8/20\n",
      " 1/12 [=>............................] - ETA: 0s - loss: 1.0529 - accuracy: 0.5000\n",
      "Epoch 8: val_accuracy did not improve from 0.36000\n",
      "12/12 [==============================] - 0s 6ms/step - loss: 1.0798 - accuracy: 0.3673 - val_loss: 1.1352 - val_accuracy: 0.3440\n",
      "Epoch 9/20\n",
      " 1/12 [=>............................] - ETA: 0s - loss: 1.1060 - accuracy: 0.2500\n",
      "Epoch 9: val_accuracy did not improve from 0.36000\n",
      "12/12 [==============================] - 0s 4ms/step - loss: 1.0805 - accuracy: 0.3807 - val_loss: 1.1353 - val_accuracy: 0.3200\n",
      "Epoch 10/20\n",
      " 1/12 [=>............................] - ETA: 0s - loss: 1.0727 - accuracy: 0.5000\n",
      "Epoch 10: val_accuracy did not improve from 0.36000\n",
      "12/12 [==============================] - 0s 6ms/step - loss: 1.0790 - accuracy: 0.3780 - val_loss: 1.1356 - val_accuracy: 0.3360\n",
      "Epoch 11/20\n",
      " 1/12 [=>............................] - ETA: 0s - loss: 1.0398 - accuracy: 0.3750\n",
      "Epoch 11: val_accuracy did not improve from 0.36000\n",
      "12/12 [==============================] - 0s 6ms/step - loss: 1.0786 - accuracy: 0.3887 - val_loss: 1.1352 - val_accuracy: 0.3280\n",
      "Epoch 12/20\n",
      " 1/12 [=>............................] - ETA: 0s - loss: 1.0441 - accuracy: 0.4375\n",
      "Epoch 12: val_accuracy improved from 0.36000 to 0.37600, saving model to best_model.h5\n",
      "12/12 [==============================] - 0s 9ms/step - loss: 1.0781 - accuracy: 0.3780 - val_loss: 1.1343 - val_accuracy: 0.3760\n",
      "Epoch 13/20\n",
      " 1/12 [=>............................] - ETA: 0s - loss: 1.1422 - accuracy: 0.2812\n",
      "Epoch 13: val_accuracy did not improve from 0.37600\n",
      "12/12 [==============================] - 0s 6ms/step - loss: 1.0785 - accuracy: 0.3995 - val_loss: 1.1347 - val_accuracy: 0.3280\n",
      "Epoch 14/20\n",
      " 1/12 [=>............................] - ETA: 0s - loss: 1.1165 - accuracy: 0.3750\n",
      "Epoch 14: val_accuracy did not improve from 0.37600\n",
      "12/12 [==============================] - 0s 6ms/step - loss: 1.0800 - accuracy: 0.3914 - val_loss: 1.1354 - val_accuracy: 0.3280\n",
      "Epoch 15/20\n",
      " 1/12 [=>............................] - ETA: 0s - loss: 1.0322 - accuracy: 0.4375\n",
      "Epoch 15: val_accuracy did not improve from 0.37600\n",
      "12/12 [==============================] - 0s 6ms/step - loss: 1.0784 - accuracy: 0.3941 - val_loss: 1.1358 - val_accuracy: 0.3280\n",
      "Epoch 16/20\n",
      " 1/12 [=>............................] - ETA: 0s - loss: 1.0638 - accuracy: 0.4062\n",
      "Epoch 16: val_accuracy did not improve from 0.37600\n",
      "12/12 [==============================] - 0s 5ms/step - loss: 1.0772 - accuracy: 0.4075 - val_loss: 1.1361 - val_accuracy: 0.3680\n",
      "Epoch 17/20\n",
      " 1/12 [=>............................] - ETA: 0s - loss: 1.0659 - accuracy: 0.3750\n",
      "Epoch 17: val_accuracy did not improve from 0.37600\n",
      "12/12 [==============================] - 0s 6ms/step - loss: 1.0783 - accuracy: 0.3914 - val_loss: 1.1336 - val_accuracy: 0.3600\n",
      "Epoch 17: early stopping\n"
     ]
    }
   ],
   "source": [
    "vectorizer = W2VTransformer(4)\n",
    "X_train_vectorized = vectorizer.fit_transform(X_train)\n",
    "X_test_vectorized = vectorizer.transform(X_test)\n",
    "sequential = fit_sequential(X_train_vectorized, X_test_vectorized)\n",
    "mapper = {0: \"negative\", 1: \"neutral\", 2: \"positive\"}\n",
    "\n",
    "\n",
    "def get_sentiment(model, vectorizer, mapper, text):\n",
    "    return mapper.get(np.argmax(max(model.predict(vectorizer.transform(pd.Series([text]))))))\n"
   ]
  },
  {
   "cell_type": "code",
   "execution_count": null,
   "metadata": {
    "colab": {
     "base_uri": "https://localhost:8080/",
     "height": 35
    },
    "id": "ket1JeQYHZlw",
    "outputId": "d31248d6-9282-43fd-dab0-a249590ac4d3"
   },
   "outputs": [
    {
     "data": {
      "application/vnd.google.colaboratory.intrinsic+json": {
       "type": "string"
      },
      "text/plain": [
       "'positive'"
      ]
     },
     "execution_count": 284,
     "metadata": {},
     "output_type": "execute_result"
    }
   ],
   "source": [
    "get_sentiment(sequential, vectorizer, mapper, \"The new big one is huge\")\n"
   ]
  }
 ],
 "metadata": {
  "colab": {
   "collapsed_sections": [],
   "name": "Lab_09_Sentiment_Analysis.ipynb",
   "provenance": []
  },
  "kernelspec": {
   "display_name": "Python 3",
   "language": "python",
   "name": "python3"
  },
  "language_info": {
   "codemirror_mode": {
    "name": "ipython",
    "version": 3
   },
   "file_extension": ".py",
   "mimetype": "text/x-python",
   "name": "python",
   "nbconvert_exporter": "python",
   "pygments_lexer": "ipython3",
   "version": "3.8.8"
  }
 },
 "nbformat": 4,
 "nbformat_minor": 1
}
