{
 "cells": [
  {
   "cell_type": "markdown",
   "metadata": {
    "id": "view-in-github"
   },
   "source": [
    "<a href=\"https://colab.research.google.com/github/bhavya2810/Bhavya_INFO5731/blob/master/INFO5731_Assignment_Four.ipynb\" target=\"_parent\"><img src=\"https://colab.research.google.com/assets/colab-badge.svg\" alt=\"Open In Colab\"/></a>"
   ]
  },
  {
   "cell_type": "markdown",
   "metadata": {
    "id": "USSdXHuqnwv9"
   },
   "source": [
    "# **INFO5731 Assignment Four**\n",
    "\n",
    "In this assignment, you are required to conduct topic modeling, sentiment analysis, and regression analysis."
   ]
  },
  {
   "cell_type": "markdown",
   "metadata": {
    "id": "YWxodXh5n4xF"
   },
   "source": [
    "# **Question 1: Topic Modeling**"
   ]
  },
  {
   "cell_type": "markdown",
   "metadata": {
    "id": "TenBkDJ5n95k"
   },
   "source": [
    "(30 points). This question is designed to help you develop a feel for the way topic modeling works, the connection to the human meanings of documents. Based on the dataset from assignment three, write a python program to **identify the top 10 topics in the dataset**. Before answering this question, please review the materials in lesson 8, especially the code for LDA and LSA. The following information should be reported:\n",
    "\n",
    "(1) Features (top n-gram phrases) used for topic modeling.\n",
    "\n",
    "(2) Top 10 clusters for topic modeling.\n",
    "\n",
    "(3) Summarize and describe the topic for each cluster. \n"
   ]
  },
  {
   "cell_type": "code",
   "execution_count": 1,
   "metadata": {
    "id": "AY6JPKRHxT2O"
   },
   "outputs": [],
   "source": [
    "import warnings\n",
    "warnings.filterwarnings(\"ignore\", category=DeprecationWarning)\n"
   ]
  },
  {
   "cell_type": "markdown",
   "metadata": {
    "id": "TjuLOeHh-m-P"
   },
   "source": [
    "# **Retreiving Dataset**"
   ]
  },
  {
   "cell_type": "code",
   "execution_count": 2,
   "metadata": {
    "colab": {
     "base_uri": "https://localhost:8080/",
     "height": 1000,
     "referenced_widgets": [
      "31f6f3dae3294db5a8b1b3ba4fe4c975",
      "c13d724c7a2340fcba10947bd2b61017",
      "b1059d8b9bfa407ba494c766dd679187",
      "94015cbe862749199c6c961391b92f41",
      "6ab04b6e0af34d7688920b45b9bd7f92",
      "c038b0012ebc40a4b381ad3e775f036a",
      "bfeec7876342461f95e57e3a56b2aecd",
      "9b2efccfa213410ba59c8ed5174569c4",
      "efeb6b88b6ed40728cd34acf8a10da69",
      "cde3ae5f9be74e9a93d8108108e3f178",
      "07b53b6b17a04a8e8b94b23ed958c7eb",
      "6435e588ade44f78ac7f0c437e15c162",
      "1143bb188599489fba3c9aab775461c5",
      "9577d21cc54b4de38169ad7202f89ec5",
      "cc99706e88b64fdaa2c41ec4e49a4f9d",
      "895e77a7bdb84a8d96e39513c95fe8f0",
      "83fdca871cfc436bb409c3b6bc2b077f",
      "fedd0f93c9514b108e016fe244cc3e3c",
      "1de3e748f0bd42019b5592b7b19482ef",
      "23a50451bf1c4679ac59e4516c2d20fe",
      "de9de1fe9cbd4bcaa47e8cf420cce6b9",
      "6be428e030ae488394ab16efba494d7b",
      "293105cf04c249f587b0fe29cbb7cc19",
      "1c3af607957e40f28f1e44d4320435d5",
      "ed6c610f72cf42e7a4ab0dc5400c715b",
      "247ef27a193f462984ffbca6ed953229",
      "0b857eb232ba42398d0d5bb491759f07",
      "077eb7c720b8452a8ae82ce88f35d935",
      "119cf60e0bdc4570b89132105c015be3",
      "99157a85fc69477bb25e068e0c2a38dd",
      "b455cd4060eb455fb8ec7e60b3f8aed7",
      "4f4102c43df5434887e2469f0461a26b",
      "8702ceeb41404af697c4bf58a1791595",
      "dc2399708a6343348e0e039d285bc83b",
      "b63debd7db294e70942baa1c41cdc3ec",
      "6b1c3a035b224a1cb471265e65e0fb4b",
      "1b46f78806294252867c4cc70c6d2598",
      "bcf98f923e9c4e709a8323a11059c5e7",
      "731c925029b74992b9c0cd23b164aed4",
      "283d27ff4d444aacb0a6a68a0bd17021",
      "f08d8c2ec72f467aa685514750175a8b",
      "0909c43d115644a9b6c95799fc057020",
      "510e83560e644d74802abe61b3cb54bc",
      "62ad79835b744fc4826b9dcc70a045e1",
      "db460b6cbe624d669f8fae2f93e03fc9",
      "ec3d3db6702449c7bf948e9b861d37e1",
      "3ae6cfb11d6f4a32b4dcf9ae055c0c88",
      "3a6679d2569641998829446845a2213b",
      "24f57cb25bf44e47b2978994e58bf9a9",
      "6e3d33827dbe4e3ba2fbd4c551c2a5ef",
      "b0805678afbf4fbcaafd65515ce6dea9",
      "4ab47032ce7b40e88a978d92c1078e51",
      "7901d9b98f1d4d0c9d6d67d98b8fa043",
      "9a166b5e85494c91a88ecd7ac615f0cf",
      "17760ecc42994e2aa2a6b94559cf6e3f"
     ]
    },
    "id": "HM2JkiggvU6g",
    "outputId": "e70eb864-9c14-4454-d0c9-f34414f4b792"
   },
   "outputs": [
    {
     "name": "stdout",
     "output_type": "stream",
     "text": [
      "Collecting datasets\n",
      "  Downloading datasets-2.1.0-py3-none-any.whl (325 kB)\n",
      "\u001b[?25l\r",
      "\u001b[K     |█                               | 10 kB 21.4 MB/s eta 0:00:01\r",
      "\u001b[K     |██                              | 20 kB 24.6 MB/s eta 0:00:01\r",
      "\u001b[K     |███                             | 30 kB 28.3 MB/s eta 0:00:01\r",
      "\u001b[K     |████                            | 40 kB 17.7 MB/s eta 0:00:01\r",
      "\u001b[K     |█████                           | 51 kB 13.4 MB/s eta 0:00:01\r",
      "\u001b[K     |██████                          | 61 kB 9.9 MB/s eta 0:00:01\r",
      "\u001b[K     |███████                         | 71 kB 11.1 MB/s eta 0:00:01\r",
      "\u001b[K     |████████                        | 81 kB 12.1 MB/s eta 0:00:01\r",
      "\u001b[K     |█████████                       | 92 kB 13.3 MB/s eta 0:00:01\r",
      "\u001b[K     |██████████                      | 102 kB 14.4 MB/s eta 0:00:01\r",
      "\u001b[K     |███████████                     | 112 kB 14.4 MB/s eta 0:00:01\r",
      "\u001b[K     |████████████                    | 122 kB 14.4 MB/s eta 0:00:01\r",
      "\u001b[K     |█████████████                   | 133 kB 14.4 MB/s eta 0:00:01\r",
      "\u001b[K     |██████████████                  | 143 kB 14.4 MB/s eta 0:00:01\r",
      "\u001b[K     |███████████████                 | 153 kB 14.4 MB/s eta 0:00:01\r",
      "\u001b[K     |████████████████▏               | 163 kB 14.4 MB/s eta 0:00:01\r",
      "\u001b[K     |█████████████████▏              | 174 kB 14.4 MB/s eta 0:00:01\r",
      "\u001b[K     |██████████████████▏             | 184 kB 14.4 MB/s eta 0:00:01\r",
      "\u001b[K     |███████████████████▏            | 194 kB 14.4 MB/s eta 0:00:01\r",
      "\u001b[K     |████████████████████▏           | 204 kB 14.4 MB/s eta 0:00:01\r",
      "\u001b[K     |█████████████████████▏          | 215 kB 14.4 MB/s eta 0:00:01\r",
      "\u001b[K     |██████████████████████▏         | 225 kB 14.4 MB/s eta 0:00:01\r",
      "\u001b[K     |███████████████████████▏        | 235 kB 14.4 MB/s eta 0:00:01\r",
      "\u001b[K     |████████████████████████▏       | 245 kB 14.4 MB/s eta 0:00:01\r",
      "\u001b[K     |█████████████████████████▏      | 256 kB 14.4 MB/s eta 0:00:01\r",
      "\u001b[K     |██████████████████████████▏     | 266 kB 14.4 MB/s eta 0:00:01\r",
      "\u001b[K     |███████████████████████████▏    | 276 kB 14.4 MB/s eta 0:00:01\r",
      "\u001b[K     |████████████████████████████▏   | 286 kB 14.4 MB/s eta 0:00:01\r",
      "\u001b[K     |█████████████████████████████▏  | 296 kB 14.4 MB/s eta 0:00:01\r",
      "\u001b[K     |██████████████████████████████▏ | 307 kB 14.4 MB/s eta 0:00:01\r",
      "\u001b[K     |███████████████████████████████▏| 317 kB 14.4 MB/s eta 0:00:01\r",
      "\u001b[K     |████████████████████████████████| 325 kB 14.4 MB/s \n",
      "\u001b[?25hRequirement already satisfied: numpy>=1.17 in /usr/local/lib/python3.7/dist-packages (from datasets) (1.21.6)\n",
      "Requirement already satisfied: multiprocess in /usr/local/lib/python3.7/dist-packages (from datasets) (0.70.12.2)\n",
      "Requirement already satisfied: pandas in /usr/local/lib/python3.7/dist-packages (from datasets) (1.3.5)\n",
      "Requirement already satisfied: dill in /usr/local/lib/python3.7/dist-packages (from datasets) (0.3.4)\n",
      "Requirement already satisfied: requests>=2.19.0 in /usr/local/lib/python3.7/dist-packages (from datasets) (2.23.0)\n",
      "Collecting fsspec[http]>=2021.05.0\n",
      "  Downloading fsspec-2022.3.0-py3-none-any.whl (136 kB)\n",
      "\u001b[K     |████████████████████████████████| 136 kB 48.2 MB/s \n",
      "\u001b[?25hCollecting huggingface-hub<1.0.0,>=0.1.0\n",
      "  Downloading huggingface_hub-0.5.1-py3-none-any.whl (77 kB)\n",
      "\u001b[K     |████████████████████████████████| 77 kB 4.8 MB/s \n",
      "\u001b[?25hRequirement already satisfied: packaging in /usr/local/lib/python3.7/dist-packages (from datasets) (21.3)\n",
      "Collecting aiohttp\n",
      "  Downloading aiohttp-3.8.1-cp37-cp37m-manylinux_2_5_x86_64.manylinux1_x86_64.manylinux_2_12_x86_64.manylinux2010_x86_64.whl (1.1 MB)\n",
      "\u001b[K     |████████████████████████████████| 1.1 MB 16.5 MB/s \n",
      "\u001b[?25hCollecting responses<0.19\n",
      "  Downloading responses-0.18.0-py3-none-any.whl (38 kB)\n",
      "Collecting xxhash\n",
      "  Downloading xxhash-3.0.0-cp37-cp37m-manylinux_2_17_x86_64.manylinux2014_x86_64.whl (212 kB)\n",
      "\u001b[K     |████████████████████████████████| 212 kB 43.2 MB/s \n",
      "\u001b[?25hRequirement already satisfied: tqdm>=4.62.1 in /usr/local/lib/python3.7/dist-packages (from datasets) (4.64.0)\n",
      "Requirement already satisfied: importlib-metadata in /usr/local/lib/python3.7/dist-packages (from datasets) (4.11.3)\n",
      "Requirement already satisfied: pyarrow>=5.0.0 in /usr/local/lib/python3.7/dist-packages (from datasets) (6.0.1)\n",
      "Requirement already satisfied: filelock in /usr/local/lib/python3.7/dist-packages (from huggingface-hub<1.0.0,>=0.1.0->datasets) (3.6.0)\n",
      "Requirement already satisfied: typing-extensions>=3.7.4.3 in /usr/local/lib/python3.7/dist-packages (from huggingface-hub<1.0.0,>=0.1.0->datasets) (4.2.0)\n",
      "Requirement already satisfied: pyyaml in /usr/local/lib/python3.7/dist-packages (from huggingface-hub<1.0.0,>=0.1.0->datasets) (3.13)\n",
      "Requirement already satisfied: pyparsing!=3.0.5,>=2.0.2 in /usr/local/lib/python3.7/dist-packages (from packaging->datasets) (3.0.8)\n",
      "Requirement already satisfied: idna<3,>=2.5 in /usr/local/lib/python3.7/dist-packages (from requests>=2.19.0->datasets) (2.10)\n",
      "Requirement already satisfied: urllib3!=1.25.0,!=1.25.1,<1.26,>=1.21.1 in /usr/local/lib/python3.7/dist-packages (from requests>=2.19.0->datasets) (1.24.3)\n",
      "Requirement already satisfied: certifi>=2017.4.17 in /usr/local/lib/python3.7/dist-packages (from requests>=2.19.0->datasets) (2021.10.8)\n",
      "Requirement already satisfied: chardet<4,>=3.0.2 in /usr/local/lib/python3.7/dist-packages (from requests>=2.19.0->datasets) (3.0.4)\n",
      "Collecting urllib3!=1.25.0,!=1.25.1,<1.26,>=1.21.1\n",
      "  Downloading urllib3-1.25.11-py2.py3-none-any.whl (127 kB)\n",
      "\u001b[K     |████████████████████████████████| 127 kB 48.4 MB/s \n",
      "\u001b[?25hCollecting multidict<7.0,>=4.5\n",
      "  Downloading multidict-6.0.2-cp37-cp37m-manylinux_2_17_x86_64.manylinux2014_x86_64.whl (94 kB)\n",
      "\u001b[K     |████████████████████████████████| 94 kB 3.3 MB/s \n",
      "\u001b[?25hCollecting asynctest==0.13.0\n",
      "  Downloading asynctest-0.13.0-py3-none-any.whl (26 kB)\n",
      "Collecting async-timeout<5.0,>=4.0.0a3\n",
      "  Downloading async_timeout-4.0.2-py3-none-any.whl (5.8 kB)\n",
      "Requirement already satisfied: charset-normalizer<3.0,>=2.0 in /usr/local/lib/python3.7/dist-packages (from aiohttp->datasets) (2.0.12)\n",
      "Requirement already satisfied: attrs>=17.3.0 in /usr/local/lib/python3.7/dist-packages (from aiohttp->datasets) (21.4.0)\n",
      "Collecting yarl<2.0,>=1.0\n",
      "  Downloading yarl-1.7.2-cp37-cp37m-manylinux_2_5_x86_64.manylinux1_x86_64.manylinux_2_12_x86_64.manylinux2010_x86_64.whl (271 kB)\n",
      "\u001b[K     |████████████████████████████████| 271 kB 13.6 MB/s \n",
      "\u001b[?25hCollecting aiosignal>=1.1.2\n",
      "  Downloading aiosignal-1.2.0-py3-none-any.whl (8.2 kB)\n",
      "Collecting frozenlist>=1.1.1\n",
      "  Downloading frozenlist-1.3.0-cp37-cp37m-manylinux_2_5_x86_64.manylinux1_x86_64.manylinux_2_17_x86_64.manylinux2014_x86_64.whl (144 kB)\n",
      "\u001b[K     |████████████████████████████████| 144 kB 48.8 MB/s \n",
      "\u001b[?25hRequirement already satisfied: zipp>=0.5 in /usr/local/lib/python3.7/dist-packages (from importlib-metadata->datasets) (3.8.0)\n",
      "Requirement already satisfied: pytz>=2017.3 in /usr/local/lib/python3.7/dist-packages (from pandas->datasets) (2022.1)\n",
      "Requirement already satisfied: python-dateutil>=2.7.3 in /usr/local/lib/python3.7/dist-packages (from pandas->datasets) (2.8.2)\n",
      "Requirement already satisfied: six>=1.5 in /usr/local/lib/python3.7/dist-packages (from python-dateutil>=2.7.3->pandas->datasets) (1.15.0)\n",
      "Installing collected packages: multidict, frozenlist, yarl, urllib3, asynctest, async-timeout, aiosignal, fsspec, aiohttp, xxhash, responses, huggingface-hub, datasets\n",
      "  Attempting uninstall: urllib3\n",
      "    Found existing installation: urllib3 1.24.3\n",
      "    Uninstalling urllib3-1.24.3:\n",
      "      Successfully uninstalled urllib3-1.24.3\n",
      "\u001b[31mERROR: pip's dependency resolver does not currently take into account all the packages that are installed. This behaviour is the source of the following dependency conflicts.\n",
      "datascience 0.10.6 requires folium==0.2.1, but you have folium 0.8.3 which is incompatible.\u001b[0m\n",
      "Successfully installed aiohttp-3.8.1 aiosignal-1.2.0 async-timeout-4.0.2 asynctest-0.13.0 datasets-2.1.0 frozenlist-1.3.0 fsspec-2022.3.0 huggingface-hub-0.5.1 multidict-6.0.2 responses-0.18.0 urllib3-1.25.11 xxhash-3.0.0 yarl-1.7.2\n"
     ]
    },
    {
     "data": {
      "application/vnd.jupyter.widget-view+json": {
       "model_id": "31f6f3dae3294db5a8b1b3ba4fe4c975",
       "version_major": 2,
       "version_minor": 0
      },
      "text/plain": [
       "Downloading builder script:   0%|          | 0.00/1.80k [00:00<?, ?B/s]"
      ]
     },
     "metadata": {},
     "output_type": "display_data"
    },
    {
     "data": {
      "application/vnd.jupyter.widget-view+json": {
       "model_id": "6435e588ade44f78ac7f0c437e15c162",
       "version_major": 2,
       "version_minor": 0
      },
      "text/plain": [
       "Downloading metadata:   0%|          | 0.00/979 [00:00<?, ?B/s]"
      ]
     },
     "metadata": {},
     "output_type": "display_data"
    },
    {
     "name": "stdout",
     "output_type": "stream",
     "text": [
      "Downloading and preparing dataset yelp_review_full/yelp_review_full (download: 187.06 MiB, generated: 496.94 MiB, post-processed: Unknown size, total: 684.00 MiB) to /root/.cache/huggingface/datasets/yelp_review_full/yelp_review_full/1.0.0/e8e18e19d7be9e75642fc66b198abadb116f73599ec89a69ba5dd8d1e57ba0bf...\n"
     ]
    },
    {
     "data": {
      "application/vnd.jupyter.widget-view+json": {
       "model_id": "293105cf04c249f587b0fe29cbb7cc19",
       "version_major": 2,
       "version_minor": 0
      },
      "text/plain": [
       "Downloading data:   0%|          | 0.00/196M [00:00<?, ?B/s]"
      ]
     },
     "metadata": {},
     "output_type": "display_data"
    },
    {
     "data": {
      "application/vnd.jupyter.widget-view+json": {
       "model_id": "dc2399708a6343348e0e039d285bc83b",
       "version_major": 2,
       "version_minor": 0
      },
      "text/plain": [
       "Generating train split:   0%|          | 0/650000 [00:00<?, ? examples/s]"
      ]
     },
     "metadata": {},
     "output_type": "display_data"
    },
    {
     "data": {
      "application/vnd.jupyter.widget-view+json": {
       "model_id": "db460b6cbe624d669f8fae2f93e03fc9",
       "version_major": 2,
       "version_minor": 0
      },
      "text/plain": [
       "Generating test split:   0%|          | 0/50000 [00:00<?, ? examples/s]"
      ]
     },
     "metadata": {},
     "output_type": "display_data"
    },
    {
     "name": "stdout",
     "output_type": "stream",
     "text": [
      "Dataset yelp_review_full downloaded and prepared to /root/.cache/huggingface/datasets/yelp_review_full/yelp_review_full/1.0.0/e8e18e19d7be9e75642fc66b198abadb116f73599ec89a69ba5dd8d1e57ba0bf. Subsequent calls will reuse this data.\n"
     ]
    }
   ],
   "source": [
    "!pip install datasets\n",
    "\n",
    "from datasets import load_dataset\n",
    "\n",
    "dataset = load_dataset(\"yelp_review_full\", split='test')"
   ]
  },
  {
   "cell_type": "markdown",
   "metadata": {
    "id": "ev5tD5Hw-vAy"
   },
   "source": [
    "# **Reading Data**"
   ]
  },
  {
   "cell_type": "code",
   "execution_count": 3,
   "metadata": {
    "id": "PuFPKhC0m1fd"
   },
   "outputs": [],
   "source": [
    "import pandas as pd\n",
    "data = pd.DataFrame(data=dataset, columns=dataset.features)\n"
   ]
  },
  {
   "cell_type": "code",
   "execution_count": 4,
   "metadata": {
    "colab": {
     "base_uri": "https://localhost:8080/",
     "height": 206
    },
    "id": "HKIBYQWrx3sm",
    "outputId": "737a8313-2705-47ff-db0f-06ca150adf41"
   },
   "outputs": [
    {
     "data": {
      "text/html": [
       "\n",
       "  <div id=\"df-8df99774-ef80-45f7-9c1a-bcecfed3546e\">\n",
       "    <div class=\"colab-df-container\">\n",
       "      <div>\n",
       "<style scoped>\n",
       "    .dataframe tbody tr th:only-of-type {\n",
       "        vertical-align: middle;\n",
       "    }\n",
       "\n",
       "    .dataframe tbody tr th {\n",
       "        vertical-align: top;\n",
       "    }\n",
       "\n",
       "    .dataframe thead th {\n",
       "        text-align: right;\n",
       "    }\n",
       "</style>\n",
       "<table border=\"1\" class=\"dataframe\">\n",
       "  <thead>\n",
       "    <tr style=\"text-align: right;\">\n",
       "      <th></th>\n",
       "      <th>label</th>\n",
       "      <th>text</th>\n",
       "    </tr>\n",
       "  </thead>\n",
       "  <tbody>\n",
       "    <tr>\n",
       "      <th>0</th>\n",
       "      <td>0</td>\n",
       "      <td>I got 'new' tires from them and within two wee...</td>\n",
       "    </tr>\n",
       "    <tr>\n",
       "      <th>1</th>\n",
       "      <td>0</td>\n",
       "      <td>Don't waste your time.  We had two different p...</td>\n",
       "    </tr>\n",
       "    <tr>\n",
       "      <th>2</th>\n",
       "      <td>0</td>\n",
       "      <td>All I can say is the worst! We were the only 2...</td>\n",
       "    </tr>\n",
       "    <tr>\n",
       "      <th>3</th>\n",
       "      <td>0</td>\n",
       "      <td>I have been to this restaurant twice and was d...</td>\n",
       "    </tr>\n",
       "    <tr>\n",
       "      <th>4</th>\n",
       "      <td>0</td>\n",
       "      <td>Food was NOT GOOD at all! My husband &amp; I ate h...</td>\n",
       "    </tr>\n",
       "  </tbody>\n",
       "</table>\n",
       "</div>\n",
       "      <button class=\"colab-df-convert\" onclick=\"convertToInteractive('df-8df99774-ef80-45f7-9c1a-bcecfed3546e')\"\n",
       "              title=\"Convert this dataframe to an interactive table.\"\n",
       "              style=\"display:none;\">\n",
       "        \n",
       "  <svg xmlns=\"http://www.w3.org/2000/svg\" height=\"24px\"viewBox=\"0 0 24 24\"\n",
       "       width=\"24px\">\n",
       "    <path d=\"M0 0h24v24H0V0z\" fill=\"none\"/>\n",
       "    <path d=\"M18.56 5.44l.94 2.06.94-2.06 2.06-.94-2.06-.94-.94-2.06-.94 2.06-2.06.94zm-11 1L8.5 8.5l.94-2.06 2.06-.94-2.06-.94L8.5 2.5l-.94 2.06-2.06.94zm10 10l.94 2.06.94-2.06 2.06-.94-2.06-.94-.94-2.06-.94 2.06-2.06.94z\"/><path d=\"M17.41 7.96l-1.37-1.37c-.4-.4-.92-.59-1.43-.59-.52 0-1.04.2-1.43.59L10.3 9.45l-7.72 7.72c-.78.78-.78 2.05 0 2.83L4 21.41c.39.39.9.59 1.41.59.51 0 1.02-.2 1.41-.59l7.78-7.78 2.81-2.81c.8-.78.8-2.07 0-2.86zM5.41 20L4 18.59l7.72-7.72 1.47 1.35L5.41 20z\"/>\n",
       "  </svg>\n",
       "      </button>\n",
       "      \n",
       "  <style>\n",
       "    .colab-df-container {\n",
       "      display:flex;\n",
       "      flex-wrap:wrap;\n",
       "      gap: 12px;\n",
       "    }\n",
       "\n",
       "    .colab-df-convert {\n",
       "      background-color: #E8F0FE;\n",
       "      border: none;\n",
       "      border-radius: 50%;\n",
       "      cursor: pointer;\n",
       "      display: none;\n",
       "      fill: #1967D2;\n",
       "      height: 32px;\n",
       "      padding: 0 0 0 0;\n",
       "      width: 32px;\n",
       "    }\n",
       "\n",
       "    .colab-df-convert:hover {\n",
       "      background-color: #E2EBFA;\n",
       "      box-shadow: 0px 1px 2px rgba(60, 64, 67, 0.3), 0px 1px 3px 1px rgba(60, 64, 67, 0.15);\n",
       "      fill: #174EA6;\n",
       "    }\n",
       "\n",
       "    [theme=dark] .colab-df-convert {\n",
       "      background-color: #3B4455;\n",
       "      fill: #D2E3FC;\n",
       "    }\n",
       "\n",
       "    [theme=dark] .colab-df-convert:hover {\n",
       "      background-color: #434B5C;\n",
       "      box-shadow: 0px 1px 3px 1px rgba(0, 0, 0, 0.15);\n",
       "      filter: drop-shadow(0px 1px 2px rgba(0, 0, 0, 0.3));\n",
       "      fill: #FFFFFF;\n",
       "    }\n",
       "  </style>\n",
       "\n",
       "      <script>\n",
       "        const buttonEl =\n",
       "          document.querySelector('#df-8df99774-ef80-45f7-9c1a-bcecfed3546e button.colab-df-convert');\n",
       "        buttonEl.style.display =\n",
       "          google.colab.kernel.accessAllowed ? 'block' : 'none';\n",
       "\n",
       "        async function convertToInteractive(key) {\n",
       "          const element = document.querySelector('#df-8df99774-ef80-45f7-9c1a-bcecfed3546e');\n",
       "          const dataTable =\n",
       "            await google.colab.kernel.invokeFunction('convertToInteractive',\n",
       "                                                     [key], {});\n",
       "          if (!dataTable) return;\n",
       "\n",
       "          const docLinkHtml = 'Like what you see? Visit the ' +\n",
       "            '<a target=\"_blank\" href=https://colab.research.google.com/notebooks/data_table.ipynb>data table notebook</a>'\n",
       "            + ' to learn more about interactive tables.';\n",
       "          element.innerHTML = '';\n",
       "          dataTable['output_type'] = 'display_data';\n",
       "          await google.colab.output.renderOutput(dataTable, element);\n",
       "          const docLink = document.createElement('div');\n",
       "          docLink.innerHTML = docLinkHtml;\n",
       "          element.appendChild(docLink);\n",
       "        }\n",
       "      </script>\n",
       "    </div>\n",
       "  </div>\n",
       "  "
      ],
      "text/plain": [
       "   label                                               text\n",
       "0      0  I got 'new' tires from them and within two wee...\n",
       "1      0  Don't waste your time.  We had two different p...\n",
       "2      0  All I can say is the worst! We were the only 2...\n",
       "3      0  I have been to this restaurant twice and was d...\n",
       "4      0  Food was NOT GOOD at all! My husband & I ate h..."
      ]
     },
     "execution_count": 4,
     "metadata": {},
     "output_type": "execute_result"
    }
   ],
   "source": [
    "data.head()\n"
   ]
  },
  {
   "cell_type": "markdown",
   "metadata": {
    "id": "lA-Y8C9j-51q"
   },
   "source": [
    "# **Data Cleaning**"
   ]
  },
  {
   "cell_type": "code",
   "execution_count": 5,
   "metadata": {
    "colab": {
     "base_uri": "https://localhost:8080/"
    },
    "id": "JZdxl8DBwcMV",
    "outputId": "1172834c-bfc6-4817-fdd7-6a959c55d984"
   },
   "outputs": [
    {
     "name": "stdout",
     "output_type": "stream",
     "text": [
      "Collecting stop_words\n",
      "  Downloading stop-words-2018.7.23.tar.gz (31 kB)\n",
      "Building wheels for collected packages: stop-words\n",
      "  Building wheel for stop-words (setup.py) ... \u001b[?25l\u001b[?25hdone\n",
      "  Created wheel for stop-words: filename=stop_words-2018.7.23-py3-none-any.whl size=32911 sha256=e82efd506d97c708c5f1f1d4911031560595753e2cba2b2c4e67d9c75fc5344d\n",
      "  Stored in directory: /root/.cache/pip/wheels/fb/86/b2/277b10b1ce9f73ce15059bf6975d4547cc4ec3feeb651978e9\n",
      "Successfully built stop-words\n",
      "Installing collected packages: stop-words\n",
      "Successfully installed stop-words-2018.7.23\n"
     ]
    }
   ],
   "source": [
    "!pip install stop_words\n",
    "from nltk.tokenize import RegexpTokenizer\n",
    "from stop_words import get_stop_words\n",
    "from nltk.stem.porter import PorterStemmer\n",
    "tokenizer = RegexpTokenizer(r'\\w+')\n",
    "en_stop = get_stop_words('en')\n",
    "p_stemmer = PorterStemmer()\n"
   ]
  },
  {
   "cell_type": "code",
   "execution_count": 6,
   "metadata": {
    "id": "1nbqy-oTwuv8"
   },
   "outputs": [],
   "source": [
    "data['Lower Case'] = data['text'].apply(\n",
    "    lambda x: \" \".join(x.lower() for x in str(x).split()))\n",
    "data['Tokenization'] = data['Lower Case'].apply(\n",
    "    lambda x: tokenizer.tokenize(x))\n",
    "data['Tokens'] = data['Tokenization'].apply(\n",
    "    lambda x: [i for i in x if not i in en_stop])\n",
    "data['Stemming'] = data['Tokens'].apply(\n",
    "    lambda x: [p_stemmer.stem(i) for i in x])\n"
   ]
  },
  {
   "cell_type": "code",
   "execution_count": 7,
   "metadata": {
    "id": "Uq2H7SD70wB4"
   },
   "outputs": [],
   "source": [
    "texts = []\n",
    "for line in data['Stemming']:\n",
    "    texts.append(line)\n"
   ]
  },
  {
   "cell_type": "markdown",
   "metadata": {
    "id": "B-cJBt_s-9Pz"
   },
   "source": [
    "# **Bigrams and Trigrams**"
   ]
  },
  {
   "cell_type": "code",
   "execution_count": 8,
   "metadata": {
    "colab": {
     "base_uri": "https://localhost:8080/"
    },
    "id": "dpHrTkjk0hq1",
    "outputId": "bff1a67e-d38a-4c1d-b86b-21b6c90d57e8"
   },
   "outputs": [
    {
     "name": "stderr",
     "output_type": "stream",
     "text": [
      "/usr/local/lib/python3.7/dist-packages/gensim/models/phrases.py:598: UserWarning: For a faster implementation, use the gensim.models.phrases.Phraser class\n",
      "  warnings.warn(\"For a faster implementation, use the gensim.models.phrases.Phraser class\")\n"
     ]
    },
    {
     "name": "stdout",
     "output_type": "stream",
     "text": [
      "['got', 'new', 'tire', 'within', 'two', 'week', 'got', 'flat', 'took', 'car', 'local', 'mechan', 'see', 'get', 'hole', 'patch', 'said', 'reason', 'flat', 'previou', 'patch', 'blown', 'wait', 'just', 'got', 'tire', 'never', 'need', 'patch', 'suppos', 'new', 'tire', 'ni', 'took', 'tire', 'flynn', 's', 'told', 'someon', 'punctur', 'tire', 'tri', 'patch', 'resent', 'tire', 'slasher', 'find', 'unlik', 'argu', 'guy', 'tell', 'logic', 'far', 'fetch', 'said', 'd', 'give', 'new', 'tire', 'time', 'ni', 'will', 'never', 'go', 'back', 'flynn', 's', 'b_c', 'way', 'guy', 'treat', 'simpl', 'fact', 'gave', 'use', 'tire']\n"
     ]
    }
   ],
   "source": [
    "from gensim import corpora, models\n",
    "bigram = models.Phrases(texts, min_count=5, threshold=100)\n",
    "trigram = models.Phrases(bigram[texts], threshold=100)\n",
    "bigram_mod = models.phrases.Phraser(bigram)\n",
    "trigram_mod = models.phrases.Phraser(trigram)\n",
    "print(trigram_mod[bigram_mod[texts[0]]])\n"
   ]
  },
  {
   "cell_type": "code",
   "execution_count": 9,
   "metadata": {
    "id": "v4ARsu4p1pSR"
   },
   "outputs": [],
   "source": [
    "def make_bigrams(texts):\n",
    "    return [bigram_mod[doc] for doc in texts]\n"
   ]
  },
  {
   "cell_type": "code",
   "execution_count": 10,
   "metadata": {
    "id": "NNnNhz6b1rdN"
   },
   "outputs": [],
   "source": [
    "def make_trigrams(texts):\n",
    "    return [trigram_mod[bigram_mod[doc]] for doc in texts]\n"
   ]
  },
  {
   "cell_type": "code",
   "execution_count": 11,
   "metadata": {
    "id": "VHDUGXON1xWi"
   },
   "outputs": [],
   "source": [
    "def lemmatization(texts, allowed_postags=['NOUN', 'ADJ', 'VERB', 'ADV']):\n",
    "    texts_out = []\n",
    "    for sent in texts:\n",
    "        doc = nlp(\" \".join(sent))\n",
    "        texts_out.append(\n",
    "            [token.lemma_ for token in doc if token.pos_ in allowed_postags])\n",
    "    return texts_out\n"
   ]
  },
  {
   "cell_type": "code",
   "execution_count": 12,
   "metadata": {
    "colab": {
     "base_uri": "https://localhost:8080/"
    },
    "id": "L8RiPV0K2vsK",
    "outputId": "7a51d882-c6ec-4b1c-a4d7-3fd5ba9c4b77"
   },
   "outputs": [
    {
     "name": "stdout",
     "output_type": "stream",
     "text": [
      "[['get', 'new', 'tire', 'week', 'get', 'flat', 'take', 'car', 'local', 'mechan', 'see', 'hole', 'patch', 'say', 'reason', 'flat', 'previou', 'patch', 'blow', 'wait', 'just', 'get', 'tire', 'never', 'need', 'take', 'tell', 'tire', 'tri', 'tire', 'slasher', 'find', 'argu', 'guy', 'tell', 'logic', 'far', 'fetch', 'say', 'give', 'new', 'tire', 'time', 'will', 'never', 'go', 'back', 'way', 'guy', 'treat', 'simpl', 'fact', 'give', 'use', 'tire']]\n"
     ]
    }
   ],
   "source": [
    "import spacy\n",
    "data_words_bigrams = make_bigrams(texts)\n",
    "nlp = spacy.load('en', disable=['parser', 'ner'])\n",
    "data_lemmatized = lemmatization(data_words_bigrams, allowed_postags=[\n",
    "                                'NOUN', 'ADJ', 'VERB', 'ADV'])\n",
    "print(data_lemmatized[:1])\n"
   ]
  },
  {
   "cell_type": "markdown",
   "metadata": {
    "id": "9OJIvxTV_BzC"
   },
   "source": [
    "# **Preparing Corpus and Dictionary**"
   ]
  },
  {
   "cell_type": "code",
   "execution_count": 13,
   "metadata": {
    "colab": {
     "base_uri": "https://localhost:8080/"
    },
    "id": "vOqMoKR3yGmx",
    "outputId": "1cc75178-0f35-4553-b98b-7509e5543378"
   },
   "outputs": [
    {
     "name": "stdout",
     "output_type": "stream",
     "text": [
      "[[(0, 1), (1, 1), (2, 1), (3, 1), (4, 1), (5, 1), (6, 1), (7, 1), (8, 2), (9, 3), (10, 2), (11, 1), (12, 2), (13, 1), (14, 1), (15, 1), (16, 1), (17, 1), (18, 1), (19, 2), (20, 2), (21, 2), (22, 1), (23, 1), (24, 2), (25, 1), (26, 1), (27, 1), (28, 2), (29, 2), (30, 1), (31, 6), (32, 1), (33, 1), (34, 1), (35, 1), (36, 1), (37, 1), (38, 1)]]\n"
     ]
    }
   ],
   "source": [
    "id2word = corpora.Dictionary(data_lemmatized)\n",
    "texts = data_lemmatized\n",
    "corpus = [id2word.doc2bow(text) for text in texts]\n",
    "print(corpus[:1])\n"
   ]
  },
  {
   "cell_type": "code",
   "execution_count": 14,
   "metadata": {
    "colab": {
     "base_uri": "https://localhost:8080/",
     "height": 36
    },
    "id": "LCfhF-wE324I",
    "outputId": "96b6a426-b16c-4ad7-8db9-b3aa9d627b84"
   },
   "outputs": [
    {
     "data": {
      "application/vnd.google.colaboratory.intrinsic+json": {
       "type": "string"
      },
      "text/plain": [
       "'argu'"
      ]
     },
     "execution_count": 14,
     "metadata": {},
     "output_type": "execute_result"
    }
   ],
   "source": [
    "id2word[0]\n"
   ]
  },
  {
   "cell_type": "code",
   "execution_count": 15,
   "metadata": {
    "colab": {
     "base_uri": "https://localhost:8080/"
    },
    "id": "vIVNxeX637TF",
    "outputId": "07fcc75a-954f-40f6-9fc7-2d8dd932e662"
   },
   "outputs": [
    {
     "data": {
      "text/plain": [
       "[[('argu', 1),\n",
       "  ('back', 1),\n",
       "  ('blow', 1),\n",
       "  ('car', 1),\n",
       "  ('fact', 1),\n",
       "  ('far', 1),\n",
       "  ('fetch', 1),\n",
       "  ('find', 1),\n",
       "  ('flat', 2),\n",
       "  ('get', 3),\n",
       "  ('give', 2),\n",
       "  ('go', 1),\n",
       "  ('guy', 2),\n",
       "  ('hole', 1),\n",
       "  ('just', 1),\n",
       "  ('local', 1),\n",
       "  ('logic', 1),\n",
       "  ('mechan', 1),\n",
       "  ('need', 1),\n",
       "  ('never', 2),\n",
       "  ('new', 2),\n",
       "  ('patch', 2),\n",
       "  ('previou', 1),\n",
       "  ('reason', 1),\n",
       "  ('say', 2),\n",
       "  ('see', 1),\n",
       "  ('simpl', 1),\n",
       "  ('slasher', 1),\n",
       "  ('take', 2),\n",
       "  ('tell', 2),\n",
       "  ('time', 1),\n",
       "  ('tire', 6),\n",
       "  ('treat', 1),\n",
       "  ('tri', 1),\n",
       "  ('use', 1),\n",
       "  ('wait', 1),\n",
       "  ('way', 1),\n",
       "  ('week', 1),\n",
       "  ('will', 1)]]"
      ]
     },
     "execution_count": 15,
     "metadata": {},
     "output_type": "execute_result"
    }
   ],
   "source": [
    "[[(id2word[id], freq) for id, freq in cp] for cp in corpus[:1]]\n"
   ]
  },
  {
   "cell_type": "markdown",
   "metadata": {
    "id": "Z7IYl6x6_I4k"
   },
   "source": [
    "# **LDA**"
   ]
  },
  {
   "cell_type": "code",
   "execution_count": 16,
   "metadata": {
    "id": "4Q-h8373ziS6"
   },
   "outputs": [],
   "source": [
    "lda_model = models.ldamodel.LdaModel(corpus=corpus,\n",
    "                                     id2word=id2word,\n",
    "                                     num_topics=20,\n",
    "                                     random_state=100,\n",
    "                                     update_every=1,\n",
    "                                     chunksize=100,\n",
    "                                     passes=10,\n",
    "                                     alpha='auto',\n",
    "                                     per_word_topics=True)\n"
   ]
  },
  {
   "cell_type": "code",
   "execution_count": 17,
   "metadata": {
    "colab": {
     "base_uri": "https://localhost:8080/"
    },
    "id": "_WLkOiLe36ok",
    "outputId": "6cab906b-ae55-4760-d072-d1fd3d752100"
   },
   "outputs": [
    {
     "name": "stdout",
     "output_type": "stream",
     "text": [
      "[(0,\n",
      "  '0.047*\"second\" + 0.039*\"free\" + 0.029*\"happen\" + 0.027*\"receiv\" + '\n",
      "  '0.026*\"late\" + 0.026*\"lack\" + 0.025*\"floor\" + 0.023*\"larg\" + 0.022*\"poor\" + '\n",
      "  '0.021*\"normal\"'),\n",
      " (1,\n",
      "  '0.060*\"fish\" + 0.043*\"tea\" + 0.042*\"dog\" + 0.036*\"avail\" + 0.034*\"soft\" + '\n",
      "  '0.032*\"patio\" + 0.023*\"compar\" + 0.020*\"tender\" + 0.019*\"wear\" + '\n",
      "  '0.019*\"plenti\"'),\n",
      " (2,\n",
      "  '0.106*\"flavor\" + 0.081*\"side\" + 0.068*\"sauc\" + 0.063*\"meat\" + 0.047*\"sweet\" '\n",
      "  '+ 0.040*\"cook\" + 0.033*\"perfect\" + 0.025*\"pork\" + 0.024*\"season\" + '\n",
      "  '0.024*\"mix\"'),\n",
      " (3,\n",
      "  '0.076*\"wife\" + 0.062*\"watch\" + 0.046*\"nee\" + 0.036*\"downtown\" + '\n",
      "  '0.036*\"game\" + 0.035*\"plan\" + 0.031*\"tv\" + 0.030*\"yelp\" + 0.024*\"avoid\" + '\n",
      "  '0.023*\"modern\"'),\n",
      " (4,\n",
      "  '0.110*\"check\" + 0.070*\"show\" + 0.058*\"stay\" + 0.041*\"hotel\" + 0.041*\"guy\" + '\n",
      "  '0.037*\"girl\" + 0.032*\"soon\" + 0.030*\"plea\" + 0.020*\"fix\" + 0.019*\"speak\"'),\n",
      " (5,\n",
      "  '0.157*\"room\" + 0.100*\"burger\" + 0.049*\"wing\" + 0.027*\"casino\" + '\n",
      "  '0.024*\"pleasant\" + 0.023*\"comfort\" + 0.023*\"serv\" + 0.020*\"bed\" + '\n",
      "  '0.019*\"standard\" + 0.019*\"brisket\"'),\n",
      " (6,\n",
      "  '0.070*\"alway\" + 0.053*\"spot\" + 0.048*\"year\" + 0.043*\"recommend\" + '\n",
      "  '0.041*\"live\" + 0.040*\"cut\" + 0.038*\"today\" + 0.031*\"steak\" + '\n",
      "  '0.029*\"regular\" + 0.028*\"type\"'),\n",
      " (7,\n",
      "  '0.124*\"food\" + 0.107*\"order\" + 0.103*\"come\" + 0.050*\"wait\" + 0.042*\"eat\" + '\n",
      "  '0.039*\"tabl\" + 0.026*\"sit\" + 0.024*\"server\" + 0.024*\"friend\" + '\n",
      "  '0.020*\"bring\"'),\n",
      " (8,\n",
      "  '0.079*\"salad\" + 0.055*\"portion\" + 0.050*\"bread\" + 0.043*\"size\" + '\n",
      "  '0.037*\"husband\" + 0.034*\"rate\" + 0.033*\"share\" + 0.031*\"beef\" + '\n",
      "  '0.029*\"chip\" + 0.027*\"warm\"'),\n",
      " (9,\n",
      "  '0.104*\"clean\" + 0.064*\"overal\" + 0.057*\"fast\" + 0.042*\"twice\" + '\n",
      "  '0.033*\"boyfriend\" + 0.028*\"everi\" + 0.027*\"window\" + 0.024*\"veggi\" + '\n",
      "  '0.024*\"shrimp\" + 0.024*\"date\"'),\n",
      " (10,\n",
      "  '0.053*\"understand\" + 0.038*\"anyon\" + 0.037*\"nail\" + 0.028*\"truck\" + '\n",
      "  '0.025*\"class\" + 0.025*\"child\" + 0.020*\"grab\" + 0.019*\"email\" + '\n",
      "  '0.019*\"system\" + 0.018*\"answer\"'),\n",
      " (11,\n",
      "  '0.053*\"tast\" + 0.051*\"delici\" + 0.049*\"menu\" + 0.041*\"fresh\" + '\n",
      "  '0.038*\"lunch\" + 0.036*\"chicken\" + 0.035*\"hot\" + 0.031*\"top\" + 0.030*\"chee\" '\n",
      "  '+ 0.028*\"special\"'),\n",
      " (12,\n",
      "  '0.132*\"good\" + 0.128*\"place\" + 0.070*\"great\" + 0.041*\"price\" + 0.039*\"love\" '\n",
      "  '+ 0.036*\"nice\" + 0.034*\"bar\" + 0.031*\"realli\" + 0.030*\"night\" + '\n",
      "  '0.028*\"also\"'),\n",
      " (13,\n",
      "  '0.064*\"wine\" + 0.039*\"hit\" + 0.038*\"mayb\" + 0.033*\"chef\" + 0.032*\"prefer\" + '\n",
      "  '0.032*\"wish\" + 0.027*\"salt\" + 0.024*\"bottl\" + 0.023*\"chain\" + 0.022*\"mani\"'),\n",
      " (14,\n",
      "  '0.092*\"say\" + 0.057*\"take\" + 0.051*\"tell\" + 0.050*\"ask\" + 0.042*\"never\" + '\n",
      "  '0.038*\"work\" + 0.031*\"call\" + 0.030*\"pay\" + 0.028*\"day\" + 0.024*\"hour\"'),\n",
      " (15,\n",
      "  '0.040*\"go\" + 0.032*\"get\" + 0.031*\"just\" + 0.030*\"time\" + 0.028*\"will\" + '\n",
      "  '0.024*\"make\" + 0.021*\"can\" + 0.020*\"back\" + 0.016*\"look\" + 0.016*\"even\"'),\n",
      " (16,\n",
      "  '0.069*\"car\" + 0.041*\"rice\" + 0.039*\"treat\" + 0.031*\"follow\" + '\n",
      "  '0.031*\"question\" + 0.031*\"concern\" + 0.027*\"break\" + 0.021*\"respon\" + '\n",
      "  '0.019*\"learn\" + 0.019*\"honest\"'),\n",
      " (17,\n",
      "  '0.143*\"pizza\" + 0.091*\"shop\" + 0.085*\"store\" + 0.038*\"slice\" + '\n",
      "  '0.027*\"limit\" + 0.025*\"box\" + 0.023*\"dip\" + 0.022*\"cashier\" + 0.022*\"crust\" '\n",
      "  '+ 0.021*\"pie\"'),\n",
      " (18,\n",
      "  '0.126*\"help\" + 0.078*\"sandwich\" + 0.074*\"locat\" + 0.033*\"extrem\" + '\n",
      "  '0.032*\"yet\" + 0.019*\"book\" + 0.018*\"eye\" + 0.017*\"especi\" + 0.017*\"doesn\" + '\n",
      "  '0.015*\"glad\"'),\n",
      " (19,\n",
      "  '0.071*\"item\" + 0.061*\"buy\" + 0.027*\"level\" + 0.027*\"sell\" + 0.026*\"juic\" + '\n",
      "  '0.024*\"build\" + 0.023*\"profession\" + 0.022*\"smoke\" + 0.020*\"allow\" + '\n",
      "  '0.017*\"daughter\"')]\n"
     ]
    }
   ],
   "source": [
    "from pprint import pprint\n",
    "pprint(lda_model.print_topics())\n",
    "doc_lda = lda_model[corpus]\n"
   ]
  },
  {
   "cell_type": "code",
   "execution_count": 18,
   "metadata": {
    "colab": {
     "base_uri": "https://localhost:8080/"
    },
    "id": "YyAwfd-447yp",
    "outputId": "0ad1d32b-5e9e-496c-c747-2f58ffc8bd36"
   },
   "outputs": [
    {
     "name": "stdout",
     "output_type": "stream",
     "text": [
      "\n",
      "Perplexity:  -7.192265111579339\n",
      "\n",
      "Coherence Score:  0.34308568127258043\n"
     ]
    }
   ],
   "source": [
    "from gensim.models import CoherenceModel\n",
    "print('\\nPerplexity: ', lda_model.log_perplexity(corpus))\n",
    "coherence_model_lda = CoherenceModel(\n",
    "    model=lda_model, texts=data_lemmatized, dictionary=id2word, coherence='c_v')\n",
    "coherence_lda = coherence_model_lda.get_coherence()\n",
    "print('\\nCoherence Score: ', coherence_lda)\n"
   ]
  },
  {
   "cell_type": "markdown",
   "metadata": {
    "id": "wGI9DXwD_NVL"
   },
   "source": [
    "# **Visualization using pyLDAvis**"
   ]
  },
  {
   "cell_type": "code",
   "execution_count": 19,
   "metadata": {
    "colab": {
     "base_uri": "https://localhost:8080/",
     "height": 1000
    },
    "id": "K9lXN_hQ5DLy",
    "outputId": "3d97d6bd-4288-48fc-d1f7-d3b5250b29fc"
   },
   "outputs": [
    {
     "name": "stdout",
     "output_type": "stream",
     "text": [
      "Collecting pyLDAvis\n",
      "  Downloading pyLDAvis-3.3.1.tar.gz (1.7 MB)\n",
      "\u001b[?25l\r",
      "\u001b[K     |▏                               | 10 kB 22.9 MB/s eta 0:00:01\r",
      "\u001b[K     |▍                               | 20 kB 28.0 MB/s eta 0:00:01\r",
      "\u001b[K     |▋                               | 30 kB 33.2 MB/s eta 0:00:01\r",
      "\u001b[K     |▉                               | 40 kB 26.4 MB/s eta 0:00:01\r",
      "\u001b[K     |█                               | 51 kB 21.1 MB/s eta 0:00:01\r",
      "\u001b[K     |█▏                              | 61 kB 24.0 MB/s eta 0:00:01\r",
      "\u001b[K     |█▍                              | 71 kB 24.4 MB/s eta 0:00:01\r",
      "\u001b[K     |█▋                              | 81 kB 26.0 MB/s eta 0:00:01\r",
      "\u001b[K     |█▉                              | 92 kB 28.0 MB/s eta 0:00:01\r",
      "\u001b[K     |██                              | 102 kB 27.0 MB/s eta 0:00:01\r",
      "\u001b[K     |██▏                             | 112 kB 27.0 MB/s eta 0:00:01\r",
      "\u001b[K     |██▍                             | 122 kB 27.0 MB/s eta 0:00:01\r",
      "\u001b[K     |██▋                             | 133 kB 27.0 MB/s eta 0:00:01\r",
      "\u001b[K     |██▊                             | 143 kB 27.0 MB/s eta 0:00:01\r",
      "\u001b[K     |███                             | 153 kB 27.0 MB/s eta 0:00:01\r",
      "\u001b[K     |███▏                            | 163 kB 27.0 MB/s eta 0:00:01\r",
      "\u001b[K     |███▍                            | 174 kB 27.0 MB/s eta 0:00:01\r",
      "\u001b[K     |███▋                            | 184 kB 27.0 MB/s eta 0:00:01\r",
      "\u001b[K     |███▊                            | 194 kB 27.0 MB/s eta 0:00:01\r",
      "\u001b[K     |████                            | 204 kB 27.0 MB/s eta 0:00:01\r",
      "\u001b[K     |████▏                           | 215 kB 27.0 MB/s eta 0:00:01\r",
      "\u001b[K     |████▍                           | 225 kB 27.0 MB/s eta 0:00:01\r",
      "\u001b[K     |████▋                           | 235 kB 27.0 MB/s eta 0:00:01\r",
      "\u001b[K     |████▊                           | 245 kB 27.0 MB/s eta 0:00:01\r",
      "\u001b[K     |█████                           | 256 kB 27.0 MB/s eta 0:00:01\r",
      "\u001b[K     |█████▏                          | 266 kB 27.0 MB/s eta 0:00:01\r",
      "\u001b[K     |█████▍                          | 276 kB 27.0 MB/s eta 0:00:01\r",
      "\u001b[K     |█████▌                          | 286 kB 27.0 MB/s eta 0:00:01\r",
      "\u001b[K     |█████▊                          | 296 kB 27.0 MB/s eta 0:00:01\r",
      "\u001b[K     |██████                          | 307 kB 27.0 MB/s eta 0:00:01\r",
      "\u001b[K     |██████▏                         | 317 kB 27.0 MB/s eta 0:00:01\r",
      "\u001b[K     |██████▍                         | 327 kB 27.0 MB/s eta 0:00:01\r",
      "\u001b[K     |██████▌                         | 337 kB 27.0 MB/s eta 0:00:01\r",
      "\u001b[K     |██████▊                         | 348 kB 27.0 MB/s eta 0:00:01\r",
      "\u001b[K     |███████                         | 358 kB 27.0 MB/s eta 0:00:01\r",
      "\u001b[K     |███████▏                        | 368 kB 27.0 MB/s eta 0:00:01\r",
      "\u001b[K     |███████▎                        | 378 kB 27.0 MB/s eta 0:00:01\r",
      "\u001b[K     |███████▌                        | 389 kB 27.0 MB/s eta 0:00:01\r",
      "\u001b[K     |███████▊                        | 399 kB 27.0 MB/s eta 0:00:01\r",
      "\u001b[K     |████████                        | 409 kB 27.0 MB/s eta 0:00:01\r",
      "\u001b[K     |████████▏                       | 419 kB 27.0 MB/s eta 0:00:01\r",
      "\u001b[K     |████████▎                       | 430 kB 27.0 MB/s eta 0:00:01\r",
      "\u001b[K     |████████▌                       | 440 kB 27.0 MB/s eta 0:00:01\r",
      "\u001b[K     |████████▊                       | 450 kB 27.0 MB/s eta 0:00:01\r",
      "\u001b[K     |█████████                       | 460 kB 27.0 MB/s eta 0:00:01\r",
      "\u001b[K     |█████████▏                      | 471 kB 27.0 MB/s eta 0:00:01\r",
      "\u001b[K     |█████████▎                      | 481 kB 27.0 MB/s eta 0:00:01\r",
      "\u001b[K     |█████████▌                      | 491 kB 27.0 MB/s eta 0:00:01\r",
      "\u001b[K     |█████████▊                      | 501 kB 27.0 MB/s eta 0:00:01\r",
      "\u001b[K     |██████████                      | 512 kB 27.0 MB/s eta 0:00:01\r",
      "\u001b[K     |██████████                      | 522 kB 27.0 MB/s eta 0:00:01\r",
      "\u001b[K     |██████████▎                     | 532 kB 27.0 MB/s eta 0:00:01\r",
      "\u001b[K     |██████████▌                     | 542 kB 27.0 MB/s eta 0:00:01\r",
      "\u001b[K     |██████████▊                     | 552 kB 27.0 MB/s eta 0:00:01\r",
      "\u001b[K     |███████████                     | 563 kB 27.0 MB/s eta 0:00:01\r",
      "\u001b[K     |███████████                     | 573 kB 27.0 MB/s eta 0:00:01\r",
      "\u001b[K     |███████████▎                    | 583 kB 27.0 MB/s eta 0:00:01\r",
      "\u001b[K     |███████████▌                    | 593 kB 27.0 MB/s eta 0:00:01\r",
      "\u001b[K     |███████████▊                    | 604 kB 27.0 MB/s eta 0:00:01\r",
      "\u001b[K     |███████████▉                    | 614 kB 27.0 MB/s eta 0:00:01\r",
      "\u001b[K     |████████████                    | 624 kB 27.0 MB/s eta 0:00:01\r",
      "\u001b[K     |████████████▎                   | 634 kB 27.0 MB/s eta 0:00:01\r",
      "\u001b[K     |████████████▌                   | 645 kB 27.0 MB/s eta 0:00:01\r",
      "\u001b[K     |████████████▊                   | 655 kB 27.0 MB/s eta 0:00:01\r",
      "\u001b[K     |████████████▉                   | 665 kB 27.0 MB/s eta 0:00:01\r",
      "\u001b[K     |█████████████                   | 675 kB 27.0 MB/s eta 0:00:01\r",
      "\u001b[K     |█████████████▎                  | 686 kB 27.0 MB/s eta 0:00:01\r",
      "\u001b[K     |█████████████▌                  | 696 kB 27.0 MB/s eta 0:00:01\r",
      "\u001b[K     |█████████████▊                  | 706 kB 27.0 MB/s eta 0:00:01\r",
      "\u001b[K     |█████████████▉                  | 716 kB 27.0 MB/s eta 0:00:01\r",
      "\u001b[K     |██████████████                  | 727 kB 27.0 MB/s eta 0:00:01\r",
      "\u001b[K     |██████████████▎                 | 737 kB 27.0 MB/s eta 0:00:01\r",
      "\u001b[K     |██████████████▌                 | 747 kB 27.0 MB/s eta 0:00:01\r",
      "\u001b[K     |██████████████▋                 | 757 kB 27.0 MB/s eta 0:00:01\r",
      "\u001b[K     |██████████████▉                 | 768 kB 27.0 MB/s eta 0:00:01\r",
      "\u001b[K     |███████████████                 | 778 kB 27.0 MB/s eta 0:00:01\r",
      "\u001b[K     |███████████████▎                | 788 kB 27.0 MB/s eta 0:00:01\r",
      "\u001b[K     |███████████████▌                | 798 kB 27.0 MB/s eta 0:00:01\r",
      "\u001b[K     |███████████████▋                | 808 kB 27.0 MB/s eta 0:00:01\r",
      "\u001b[K     |███████████████▉                | 819 kB 27.0 MB/s eta 0:00:01\r",
      "\u001b[K     |████████████████                | 829 kB 27.0 MB/s eta 0:00:01\r",
      "\u001b[K     |████████████████▎               | 839 kB 27.0 MB/s eta 0:00:01\r",
      "\u001b[K     |████████████████▍               | 849 kB 27.0 MB/s eta 0:00:01\r",
      "\u001b[K     |████████████████▋               | 860 kB 27.0 MB/s eta 0:00:01\r",
      "\u001b[K     |████████████████▉               | 870 kB 27.0 MB/s eta 0:00:01\r",
      "\u001b[K     |█████████████████               | 880 kB 27.0 MB/s eta 0:00:01\r",
      "\u001b[K     |█████████████████▎              | 890 kB 27.0 MB/s eta 0:00:01\r",
      "\u001b[K     |█████████████████▍              | 901 kB 27.0 MB/s eta 0:00:01\r",
      "\u001b[K     |█████████████████▋              | 911 kB 27.0 MB/s eta 0:00:01\r",
      "\u001b[K     |█████████████████▉              | 921 kB 27.0 MB/s eta 0:00:01\r",
      "\u001b[K     |██████████████████              | 931 kB 27.0 MB/s eta 0:00:01\r",
      "\u001b[K     |██████████████████▎             | 942 kB 27.0 MB/s eta 0:00:01\r",
      "\u001b[K     |██████████████████▍             | 952 kB 27.0 MB/s eta 0:00:01\r",
      "\u001b[K     |██████████████████▋             | 962 kB 27.0 MB/s eta 0:00:01\r",
      "\u001b[K     |██████████████████▉             | 972 kB 27.0 MB/s eta 0:00:01\r",
      "\u001b[K     |███████████████████             | 983 kB 27.0 MB/s eta 0:00:01\r",
      "\u001b[K     |███████████████████▏            | 993 kB 27.0 MB/s eta 0:00:01\r",
      "\u001b[K     |███████████████████▍            | 1.0 MB 27.0 MB/s eta 0:00:01\r",
      "\u001b[K     |███████████████████▋            | 1.0 MB 27.0 MB/s eta 0:00:01\r",
      "\u001b[K     |███████████████████▉            | 1.0 MB 27.0 MB/s eta 0:00:01\r",
      "\u001b[K     |████████████████████            | 1.0 MB 27.0 MB/s eta 0:00:01\r",
      "\u001b[K     |████████████████████▏           | 1.0 MB 27.0 MB/s eta 0:00:01\r",
      "\u001b[K     |████████████████████▍           | 1.1 MB 27.0 MB/s eta 0:00:01\r",
      "\u001b[K     |████████████████████▋           | 1.1 MB 27.0 MB/s eta 0:00:01\r",
      "\u001b[K     |████████████████████▉           | 1.1 MB 27.0 MB/s eta 0:00:01\r",
      "\u001b[K     |█████████████████████           | 1.1 MB 27.0 MB/s eta 0:00:01\r",
      "\u001b[K     |█████████████████████▏          | 1.1 MB 27.0 MB/s eta 0:00:01\r",
      "\u001b[K     |█████████████████████▍          | 1.1 MB 27.0 MB/s eta 0:00:01\r",
      "\u001b[K     |█████████████████████▋          | 1.1 MB 27.0 MB/s eta 0:00:01\r",
      "\u001b[K     |█████████████████████▉          | 1.1 MB 27.0 MB/s eta 0:00:01\r",
      "\u001b[K     |██████████████████████          | 1.1 MB 27.0 MB/s eta 0:00:01\r",
      "\u001b[K     |██████████████████████▏         | 1.1 MB 27.0 MB/s eta 0:00:01\r",
      "\u001b[K     |██████████████████████▍         | 1.2 MB 27.0 MB/s eta 0:00:01\r",
      "\u001b[K     |██████████████████████▋         | 1.2 MB 27.0 MB/s eta 0:00:01\r",
      "\u001b[K     |██████████████████████▉         | 1.2 MB 27.0 MB/s eta 0:00:01\r",
      "\u001b[K     |███████████████████████         | 1.2 MB 27.0 MB/s eta 0:00:01\r",
      "\u001b[K     |███████████████████████▏        | 1.2 MB 27.0 MB/s eta 0:00:01\r",
      "\u001b[K     |███████████████████████▍        | 1.2 MB 27.0 MB/s eta 0:00:01\r",
      "\u001b[K     |███████████████████████▋        | 1.2 MB 27.0 MB/s eta 0:00:01\r",
      "\u001b[K     |███████████████████████▊        | 1.2 MB 27.0 MB/s eta 0:00:01\r",
      "\u001b[K     |████████████████████████        | 1.2 MB 27.0 MB/s eta 0:00:01\r",
      "\u001b[K     |████████████████████████▏       | 1.2 MB 27.0 MB/s eta 0:00:01\r",
      "\u001b[K     |████████████████████████▍       | 1.3 MB 27.0 MB/s eta 0:00:01\r",
      "\u001b[K     |████████████████████████▋       | 1.3 MB 27.0 MB/s eta 0:00:01\r",
      "\u001b[K     |████████████████████████▊       | 1.3 MB 27.0 MB/s eta 0:00:01\r",
      "\u001b[K     |█████████████████████████       | 1.3 MB 27.0 MB/s eta 0:00:01\r",
      "\u001b[K     |█████████████████████████▏      | 1.3 MB 27.0 MB/s eta 0:00:01\r",
      "\u001b[K     |█████████████████████████▍      | 1.3 MB 27.0 MB/s eta 0:00:01\r",
      "\u001b[K     |█████████████████████████▌      | 1.3 MB 27.0 MB/s eta 0:00:01\r",
      "\u001b[K     |█████████████████████████▊      | 1.3 MB 27.0 MB/s eta 0:00:01\r",
      "\u001b[K     |██████████████████████████      | 1.3 MB 27.0 MB/s eta 0:00:01\r",
      "\u001b[K     |██████████████████████████▏     | 1.4 MB 27.0 MB/s eta 0:00:01\r",
      "\u001b[K     |██████████████████████████▍     | 1.4 MB 27.0 MB/s eta 0:00:01\r",
      "\u001b[K     |██████████████████████████▌     | 1.4 MB 27.0 MB/s eta 0:00:01\r",
      "\u001b[K     |██████████████████████████▊     | 1.4 MB 27.0 MB/s eta 0:00:01\r",
      "\u001b[K     |███████████████████████████     | 1.4 MB 27.0 MB/s eta 0:00:01\r",
      "\u001b[K     |███████████████████████████▏    | 1.4 MB 27.0 MB/s eta 0:00:01\r",
      "\u001b[K     |███████████████████████████▍    | 1.4 MB 27.0 MB/s eta 0:00:01\r",
      "\u001b[K     |███████████████████████████▌    | 1.4 MB 27.0 MB/s eta 0:00:01\r",
      "\u001b[K     |███████████████████████████▊    | 1.4 MB 27.0 MB/s eta 0:00:01\r",
      "\u001b[K     |████████████████████████████    | 1.4 MB 27.0 MB/s eta 0:00:01\r",
      "\u001b[K     |████████████████████████████▏   | 1.5 MB 27.0 MB/s eta 0:00:01\r",
      "\u001b[K     |████████████████████████████▎   | 1.5 MB 27.0 MB/s eta 0:00:01\r",
      "\u001b[K     |████████████████████████████▌   | 1.5 MB 27.0 MB/s eta 0:00:01\r",
      "\u001b[K     |████████████████████████████▊   | 1.5 MB 27.0 MB/s eta 0:00:01\r",
      "\u001b[K     |█████████████████████████████   | 1.5 MB 27.0 MB/s eta 0:00:01\r",
      "\u001b[K     |█████████████████████████████▏  | 1.5 MB 27.0 MB/s eta 0:00:01\r",
      "\u001b[K     |█████████████████████████████▎  | 1.5 MB 27.0 MB/s eta 0:00:01\r",
      "\u001b[K     |█████████████████████████████▌  | 1.5 MB 27.0 MB/s eta 0:00:01\r",
      "\u001b[K     |█████████████████████████████▊  | 1.5 MB 27.0 MB/s eta 0:00:01\r",
      "\u001b[K     |██████████████████████████████  | 1.5 MB 27.0 MB/s eta 0:00:01\r",
      "\u001b[K     |██████████████████████████████▏ | 1.6 MB 27.0 MB/s eta 0:00:01\r",
      "\u001b[K     |██████████████████████████████▎ | 1.6 MB 27.0 MB/s eta 0:00:01\r",
      "\u001b[K     |██████████████████████████████▌ | 1.6 MB 27.0 MB/s eta 0:00:01\r",
      "\u001b[K     |██████████████████████████████▊ | 1.6 MB 27.0 MB/s eta 0:00:01\r",
      "\u001b[K     |███████████████████████████████ | 1.6 MB 27.0 MB/s eta 0:00:01\r",
      "\u001b[K     |███████████████████████████████ | 1.6 MB 27.0 MB/s eta 0:00:01\r",
      "\u001b[K     |███████████████████████████████▎| 1.6 MB 27.0 MB/s eta 0:00:01\r",
      "\u001b[K     |███████████████████████████████▌| 1.6 MB 27.0 MB/s eta 0:00:01\r",
      "\u001b[K     |███████████████████████████████▊| 1.6 MB 27.0 MB/s eta 0:00:01\r",
      "\u001b[K     |████████████████████████████████| 1.6 MB 27.0 MB/s eta 0:00:01\r",
      "\u001b[K     |████████████████████████████████| 1.7 MB 27.0 MB/s \n",
      "\u001b[?25h  Installing build dependencies ... \u001b[?25l\u001b[?25hdone\n",
      "  Getting requirements to build wheel ... \u001b[?25l\u001b[?25hdone\n",
      "  Installing backend dependencies ... \u001b[?25l\u001b[?25hdone\n",
      "    Preparing wheel metadata ... \u001b[?25l\u001b[?25hdone\n",
      "Requirement already satisfied: sklearn in /usr/local/lib/python3.7/dist-packages (from pyLDAvis) (0.0)\n",
      "Requirement already satisfied: setuptools in /usr/local/lib/python3.7/dist-packages (from pyLDAvis) (57.4.0)\n",
      "Requirement already satisfied: joblib in /usr/local/lib/python3.7/dist-packages (from pyLDAvis) (1.1.0)\n",
      "Requirement already satisfied: pandas>=1.2.0 in /usr/local/lib/python3.7/dist-packages (from pyLDAvis) (1.3.5)\n",
      "Requirement already satisfied: gensim in /usr/local/lib/python3.7/dist-packages (from pyLDAvis) (3.6.0)\n",
      "Requirement already satisfied: jinja2 in /usr/local/lib/python3.7/dist-packages (from pyLDAvis) (2.11.3)\n",
      "Requirement already satisfied: scikit-learn in /usr/local/lib/python3.7/dist-packages (from pyLDAvis) (1.0.2)\n",
      "Requirement already satisfied: scipy in /usr/local/lib/python3.7/dist-packages (from pyLDAvis) (1.4.1)\n",
      "Requirement already satisfied: numexpr in /usr/local/lib/python3.7/dist-packages (from pyLDAvis) (2.8.1)\n",
      "Collecting funcy\n",
      "  Downloading funcy-1.17-py2.py3-none-any.whl (33 kB)\n",
      "Requirement already satisfied: numpy>=1.20.0 in /usr/local/lib/python3.7/dist-packages (from pyLDAvis) (1.21.6)\n",
      "Requirement already satisfied: future in /usr/local/lib/python3.7/dist-packages (from pyLDAvis) (0.16.0)\n",
      "Requirement already satisfied: python-dateutil>=2.7.3 in /usr/local/lib/python3.7/dist-packages (from pandas>=1.2.0->pyLDAvis) (2.8.2)\n",
      "Requirement already satisfied: pytz>=2017.3 in /usr/local/lib/python3.7/dist-packages (from pandas>=1.2.0->pyLDAvis) (2022.1)\n",
      "Requirement already satisfied: six>=1.5 in /usr/local/lib/python3.7/dist-packages (from python-dateutil>=2.7.3->pandas>=1.2.0->pyLDAvis) (1.15.0)\n",
      "Requirement already satisfied: smart-open>=1.2.1 in /usr/local/lib/python3.7/dist-packages (from gensim->pyLDAvis) (6.0.0)\n",
      "Requirement already satisfied: MarkupSafe>=0.23 in /usr/local/lib/python3.7/dist-packages (from jinja2->pyLDAvis) (2.0.1)\n",
      "Requirement already satisfied: packaging in /usr/local/lib/python3.7/dist-packages (from numexpr->pyLDAvis) (21.3)\n",
      "Requirement already satisfied: pyparsing!=3.0.5,>=2.0.2 in /usr/local/lib/python3.7/dist-packages (from packaging->numexpr->pyLDAvis) (3.0.8)\n",
      "Requirement already satisfied: threadpoolctl>=2.0.0 in /usr/local/lib/python3.7/dist-packages (from scikit-learn->pyLDAvis) (3.1.0)\n",
      "Building wheels for collected packages: pyLDAvis\n",
      "  Building wheel for pyLDAvis (PEP 517) ... \u001b[?25l\u001b[?25hdone\n",
      "  Created wheel for pyLDAvis: filename=pyLDAvis-3.3.1-py2.py3-none-any.whl size=136898 sha256=dfd33c41267ca0d61fc0987ecebbde4678181a2a53f6157314dcf4b98ebe2b80\n",
      "  Stored in directory: /root/.cache/pip/wheels/c9/21/f6/17bcf2667e8a68532ba2fbf6d5c72fdf4c7f7d9abfa4852d2f\n",
      "Successfully built pyLDAvis\n",
      "Installing collected packages: funcy, pyLDAvis\n",
      "Successfully installed funcy-1.17 pyLDAvis-3.3.1\n"
     ]
    },
    {
     "name": "stderr",
     "output_type": "stream",
     "text": [
      "/usr/local/lib/python3.7/dist-packages/past/types/oldstr.py:5: DeprecationWarning: Using or importing the ABCs from 'collections' instead of from 'collections.abc' is deprecated since Python 3.3,and in 3.9 it will stop working\n",
      "  from collections import Iterable\n",
      "/usr/local/lib/python3.7/dist-packages/pyLDAvis/_prepare.py:247: FutureWarning: In a future version of pandas all arguments of DataFrame.drop except for the argument 'labels' will be keyword-only\n",
      "  by='saliency', ascending=False).head(R).drop('saliency', 1)\n"
     ]
    },
    {
     "data": {
      "text/html": [
       "\n",
       "<link rel=\"stylesheet\" type=\"text/css\" href=\"https://cdn.jsdelivr.net/gh/bmabey/pyLDAvis@3.3.1/pyLDAvis/js/ldavis.v1.0.0.css\">\n",
       "\n",
       "\n",
       "<div id=\"ldavis_el601397771213465123371575904\"></div>\n",
       "<script type=\"text/javascript\">\n",
       "\n",
       "var ldavis_el601397771213465123371575904_data = {\"mdsDat\": {\"x\": [-0.2779651522043201, -0.1961849996044132, -0.24331688936300488, -0.21363333110547988, -0.05517971450508437, 0.007245096766085364, 0.03356424058785181, 0.0320815199265932, 0.038756971676626645, 0.026559729673718436, 0.07406019593961416, 0.07259477681905659, 0.07905691163475576, 0.08052113259038868, 0.08773034619467088, 0.09029175471567832, 0.0867410985142606, 0.08778593019811973, 0.09347759140073189, 0.09581279014415045], \"y\": [-0.15522546416305824, -0.2632005090083948, 0.20740242357109998, 0.2864778941355001, -0.1224420334730589, -0.04093607097116318, -0.006567147712237225, -0.01697931286278658, -0.0035530382524507176, -0.024875840043618917, 0.012939183122305275, 0.010563218700586253, 0.012443018858532679, 0.011599429537706804, 0.011820346207932144, 0.015248979662189875, 0.014179503509513294, 0.019372233079661447, 0.01772356100961923, 0.014009625092121314], \"topics\": [1, 2, 3, 4, 5, 6, 7, 8, 9, 10, 11, 12, 13, 14, 15, 16, 17, 18, 19, 20], \"cluster\": [1, 1, 1, 1, 1, 1, 1, 1, 1, 1, 1, 1, 1, 1, 1, 1, 1, 1, 1, 1], \"Freq\": [37.71377761413442, 10.348310291820436, 9.878466250798661, 8.50569602392495, 4.876249134001482, 2.8293284363162914, 2.7533713456213538, 2.738167565062068, 2.605474712821181, 2.3554594425739794, 1.9446919940886531, 1.8160170726047125, 1.6099109828130949, 1.5697190426118959, 1.5007910054353746, 1.4374674210365161, 1.3951448937588686, 1.3923956757558873, 1.372134320792688, 1.3574267740274801]}, \"tinfo\": {\"Term\": [\"good\", \"place\", \"food\", \"order\", \"come\", \"say\", \"great\", \"go\", \"take\", \"get\", \"just\", \"wait\", \"time\", \"check\", \"flavor\", \"tell\", \"ask\", \"room\", \"will\", \"eat\", \"price\", \"love\", \"help\", \"never\", \"tabl\", \"make\", \"pizza\", \"nice\", \"side\", \"bar\", \"go\", \"get\", \"just\", \"time\", \"will\", \"make\", \"can\", \"look\", \"even\", \"want\", \"think\", \"see\", \"tri\", \"know\", \"first\", \"much\", \"thing\", \"find\", \"bad\", \"t\", \"feel\", \"staff\", \"open\", \"peopl\", \"seem\", \"sure\", \"still\", \"way\", \"need\", \"right\", \"well\", \"give\", \"back\", \"good\", \"place\", \"great\", \"price\", \"love\", \"nice\", \"bar\", \"definit\", \"pretti\", \"bit\", \"beer\", \"enjoy\", \"nthe\", \"select\", \"local\", \"music\", \"decent\", \"play\", \"bartend\", \"cheap\", \"expen\", \"quick\", \"suggest\", \"space\", \"liter\", \"pricey\", \"nthi\", \"tap\", \"mexican\", \"noveral\", \"night\", \"light\", \"high\", \"littl\", \"realli\", \"worth\", \"drink\", \"also\", \"food\", \"order\", \"eat\", \"tabl\", \"sit\", \"server\", \"friend\", \"bring\", \"seat\", \"meal\", \"servic\", \"dinner\", \"water\", \"plate\", \"waitress\", \"parti\", \"slow\", \"cold\", \"group\", \"waiter\", \"glass\", \"breakfast\", \"cocktail\", \"restaur\", \"tip\", \"forget\", \"finish\", \"attent\", \"incre\", \"event\", \"come\", \"wait\", \"disappoint\", \"half\", \"drink\", \"minut\", \"take\", \"say\", \"tell\", \"ask\", \"work\", \"call\", \"pay\", \"hour\", \"custom\", \"return\", \"leave\", \"owner\", \"do\", \"later\", \"someon\", \"problem\", \"care\", \"talk\", \"job\", \"month\", \"phone\", \"send\", \"sign\", \"ladi\", \"number\", \"other\", \"explain\", \"man\", \"rude\", \"appoint\", \"dollar\", \"day\", \"never\", \"take\", \"final\", \"front\", \"person\", \"door\", \"money\", \"anoth\", \"tast\", \"delici\", \"fresh\", \"lunch\", \"chicken\", \"hot\", \"top\", \"chee\", \"special\", \"dish\", \"option\", \"huge\", \"super\", \"awesom\", \"roll\", \"best\", \"soup\", \"style\", \"ok\", \"dessert\", \"bite\", \"egg\", \"fan\", \"present\", \"green\", \"basic\", \"prepar\", \"nit\", \"red\", \"thin\", \"menu\", \"flavor\", \"side\", \"sauc\", \"meat\", \"sweet\", \"cook\", \"perfect\", \"pork\", \"season\", \"mix\", \"tasti\", \"ingredi\", \"fall\", \"sampl\", \"white\", \"thick\", \"simpl\", \"oil\", \"spici\", \"true\", \"dumpl\", \"joke\", \"tough\", \"fat\", \"somewhat\", \"pepper\", \"textur\", \"tomato\", \"bake\", \"wall\", \"second\", \"free\", \"happen\", \"receiv\", \"late\", \"lack\", \"floor\", \"larg\", \"poor\", \"normal\", \"raman\", \"read\", \"forward\", \"piec\", \"noth\", \"reserv\", \"wor\", \"drop\", \"hostess\", \"cute\", \"comment\", \"corner\", \"weird\", \"smell\", \"establish\", \"tini\", \"sort\", \"non\", \"mine\", \"yesterday\", \"check\", \"show\", \"stay\", \"hotel\", \"guy\", \"girl\", \"soon\", \"plea\", \"fix\", \"speak\", \"view\", \"mess\", \"request\", \"touch\", \"bag\", \"club\", \"perform\", \"discount\", \"suck\", \"blow\", \"sale\", \"refund\", \"sick\", \"doubt\", \"approach\", \"left\", \"center\", \"sport\", \"snack\", \"refer\", \"vega\", \"alway\", \"spot\", \"year\", \"recommend\", \"live\", \"cut\", \"today\", \"steak\", \"regular\", \"type\", \"hair\", \"park\", \"product\", \"color\", \"birthday\", \"ice\", \"concept\", \"neighborhood\", \"photo\", \"fantast\", \"shake\", \"heat\", \"everyon\", \"son\", \"happi\", \"haven\", \"post\", \"mom\", \"pink\", \"bright\", \"salad\", \"portion\", \"bread\", \"size\", \"husband\", \"rate\", \"share\", \"beef\", \"chip\", \"warm\", \"excit\", \"potato\", \"gener\", \"onion\", \"noodl\", \"corn\", \"italian\", \"complaint\", \"casual\", \"believ\", \"solid\", \"bland\", \"dress\", \"grill\", \"french\", \"gross\", \"pasta\", \"split\", \"movi\", \"crazi\", \"item\", \"buy\", \"level\", \"sell\", \"juic\", \"build\", \"profession\", \"smoke\", \"allow\", \"daughter\", \"market\", \"purcha\", \"screen\", \"street\", \"rich\", \"beat\", \"lead\", \"slightli\", \"world\", \"team\", \"ride\", \"display\", \"nnow\", \"smoothi\", \"speed\", \"venu\", \"particular\", \"bacon\", \"current\", \"temp\", \"help\", \"sandwich\", \"locat\", \"extrem\", \"yet\", \"book\", \"eye\", \"especi\", \"doesn\", \"glad\", \"cash\", \"lol\", \"fair\", \"large\", \"pictur\", \"tradit\", \"attitud\", \"fail\", \"posit\", \"famili\", \"afford\", \"polit\", \"raw\", \"kink\", \"ruin\", \"form\", \"remain\", \"hurt\", \"mood\", \"wash\", \"room\", \"burger\", \"wing\", \"casino\", \"pleasant\", \"comfort\", \"serv\", \"bed\", \"standard\", \"brisket\", \"mile\", \"frequent\", \"difficult\", \"boy\", \"band\", \"dine\", \"waffl\", \"provid\", \"toast\", \"elev\", \"margarita\", \"organ\", \"shower\", \"resid\", \"talent\", \"greasi\", \"knife\", \"mostli\", \"road\", \"sing\", \"clean\", \"overal\", \"fast\", \"twice\", \"boyfriend\", \"everi\", \"window\", \"veggi\", \"shrimp\", \"date\", \"bathroom\", \"wrap\", \"be\", \"shot\", \"elsewher\", \"finger\", \"kitchen\", \"improv\", \"tax\", \"milk\", \"effort\", \"vegetarian\", \"coat\", \"uncomfort\", \"match\", \"support\", \"choos\", \"regardless\", \"noon\", \"tag\", \"fish\", \"tea\", \"dog\", \"avail\", \"soft\", \"patio\", \"compar\", \"tender\", \"wear\", \"plenti\", \"coupon\", \"soda\", \"brew\", \"fit\", \"doubl\", \"afternoon\", \"cloth\", \"roast\", \"decor\", \"classic\", \"giant\", \"rave\", \"theater\", \"batter\", \"execut\", \"snow\", \"onion_ring\", \"pub\", \"scratch\", \"typic\", \"wife\", \"watch\", \"nee\", \"downtown\", \"game\", \"plan\", \"tv\", \"yelp\", \"avoid\", \"modern\", \"worker\", \"dark\", \"paint\", \"dirti\", \"sleep\", \"commun\", \"claim\", \"quiet\", \"gem\", \"draw\", \"gift\", \"carpet\", \"compliment\", \"grand\", \"nearbi\", \"exist\", \"chill\", \"polish\", \"mother\", \"busy\", \"pizza\", \"shop\", \"store\", \"slice\", \"limit\", \"box\", \"dip\", \"cashier\", \"crust\", \"pie\", \"grow\", \"major\", \"vibe\", \"section\", \"hang\", \"admit\", \"version\", \"pair\", \"crepe\", \"bone\", \"laugh\", \"sub\", \"oven\", \"squar\", \"inch\", \"patti\", \"mall\", \"nnext\", \"brow\", \"link\", \"understand\", \"anyon\", \"nail\", \"truck\", \"class\", \"child\", \"grab\", \"email\", \"system\", \"answer\", \"process\", \"theme\", \"shoot\", \"test\", \"doctor\", \"vanilla\", \"patient\", \"updat\", \"alcohol\", \"assum\", \"repair\", \"pure\", \"contact\", \"otherwis\", \"access\", \"entertain\", \"driver\", \"opportun\", \"instructor\", \"asid\", \"car\", \"rice\", \"treat\", \"follow\", \"question\", \"concern\", \"break\", \"respon\", \"learn\", \"honest\", \"flat\", \"situat\", \"indian\", \"detail\", \"replac\", \"load\", \"hole\", \"rent\", \"tire\", \"dozen\", \"1st\", \"immedi\", \"airport\", \"imagin\", \"lay\", \"proper\", \"quarter\", \"skill\", \"happy\", \"tasteless\", \"wine\", \"hit\", \"mayb\", \"chef\", \"prefer\", \"wish\", \"salt\", \"bottl\", \"chain\", \"mani\", \"joint\", \"similar\", \"excel\", \"qualiti\", \"station\", \"pour\", \"luck\", \"ambianc\", \"damn\", \"stomach\", \"cream\", \"certainli\", \"somewher\", \"passion\", \"condiment\", \"groupon\", \"own\", \"tune\", \"chewi\", \"pretzel\"], \"Freq\": [28999.0, 27979.0, 25992.0, 22428.0, 21515.0, 16527.0, 15353.0, 31783.0, 13323.0, 25529.0, 24634.0, 10506.0, 23986.0, 6367.0, 6336.0, 9155.0, 9009.0, 5347.0, 22033.0, 8840.0, 8980.0, 8584.0, 4831.0, 7986.0, 8230.0, 19003.0, 4231.0, 7862.0, 4878.0, 7562.0, 31782.703564651416, 25528.553632068382, 24633.2994691098, 23985.815578237583, 22032.489126194458, 19002.376478927283, 17120.425067277072, 12882.88899355278, 12677.876782774656, 11382.006489573994, 10077.440688220804, 10007.089436586155, 9395.137563112086, 9232.436250092996, 9161.085762773497, 8351.909466989904, 7735.38476959991, 7733.119934585253, 7643.493032252601, 7254.497946062406, 6892.279846515604, 6871.133698042685, 6858.488865232535, 6715.866758041483, 6226.0336873895785, 6031.049175005029, 6019.097408494535, 5970.000190049336, 5871.45717391966, 5714.767271709019, 9845.662651287204, 12573.414615869979, 15849.788637257125, 28998.387689536838, 27978.72348727962, 15352.494086181767, 8979.947236221902, 8583.539911707549, 7861.83592989359, 7561.981145342587, 5717.008478052706, 5034.536672473328, 4958.86843530801, 3620.503435362502, 3499.0194116881944, 5302.343925194892, 2432.5359980739745, 2234.980734050224, 2221.877618364533, 2204.1787556282584, 1926.124728431288, 1916.975494542437, 1730.1430958884087, 1598.3718749269137, 1547.0196943709575, 1399.55247933472, 1152.4279257413193, 1004.8943601301878, 886.4605234226633, 840.031147212615, 763.3525439083721, 638.0505550379501, 580.1100175895342, 6596.760754197967, 2204.327380916021, 3181.3612367260075, 5593.12276772285, 6882.242575137614, 2762.6735933178484, 5666.3619613802, 6082.515216983022, 25991.322770950093, 22427.085413553657, 8839.770137204361, 8229.537341439942, 5403.756300592526, 5119.345017607112, 4992.197269438147, 4278.850888919724, 4073.258659118553, 3953.3197567924035, 3896.8596240151514, 3591.2205409599105, 3166.5754765044344, 3008.5433099495685, 2322.601262382735, 1973.5974343958228, 1918.525087270009, 1829.724150462538, 1760.0144747420666, 1740.5190193788303, 1682.4426941556612, 1517.9311413413714, 1472.5421119606779, 1356.7913171544553, 1339.923319473102, 1313.500531590109, 1178.6498032546053, 1136.1641906180662, 1074.3012237423986, 1013.2540511002545, 21458.416095894834, 10413.898314759377, 2843.7704145487633, 2277.355279578106, 4246.386332061438, 2007.2194212476334, 3027.171131311934, 16526.68974788849, 9154.166824574308, 9008.981650042193, 6817.409889972964, 5518.531763917138, 5441.917255606446, 4321.592421721569, 4182.502551763272, 3310.354812805987, 3309.4332344357795, 3193.9691301466337, 2634.6813065154697, 2290.423457753829, 2125.1713001591465, 2022.4500472638786, 1965.4892213009286, 1956.3915714613142, 1817.0404310145955, 1801.9917878535982, 1668.281371535525, 1401.943460605885, 1372.0117127147373, 1339.5017436165517, 1309.782770920856, 1183.145535715637, 1174.6288225689682, 1109.6781873345226, 1089.498943541863, 958.2555784253171, 941.4785563107263, 5044.18067716011, 7605.703729860729, 10255.020043214807, 2695.138492078136, 1592.1613809700993, 2924.747427323112, 1606.2089067682675, 1819.2767520160073, 1846.0745125744572, 5443.738271181678, 5234.933333432464, 4225.524313559792, 3886.3875748825326, 3767.7968645718424, 3586.8935635417447, 3167.133412270839, 3092.344181159724, 2918.414653899235, 2764.1510301401813, 2651.848375734649, 2332.2803779545748, 2248.441748965631, 2172.303208263216, 1903.888531803518, 1661.6779363059081, 1645.964530584892, 1633.3160759246791, 1625.414735986575, 1547.973639183618, 1411.2716270394953, 1339.3788035410191, 1287.6466432208676, 1147.0485068469109, 1065.7930563226469, 1027.3743853985318, 880.9467813713584, 832.6581214661927, 823.3407087215908, 797.2985333663864, 5034.856098760471, 6335.189839635546, 4877.654878415701, 4074.367743680415, 3762.80570067727, 2833.412023096814, 2406.761488763741, 2005.1147955810454, 1493.8730077507794, 1447.5441864943748, 1423.4485062530155, 1281.053452805245, 1038.48283673452, 747.771431403177, 723.2222847066937, 708.4878065483449, 662.8917098311343, 585.6039232042314, 556.4166251510192, 551.1178104556827, 545.0349743634149, 525.0294789364469, 496.6991565707677, 490.7274543672433, 470.3180031628588, 419.734863892741, 403.98586338639797, 396.5129047766962, 394.4922327995986, 347.4430228098325, 332.1839938129772, 2761.0933564408306, 2279.956289089663, 1677.8084843831375, 1558.9547788995126, 1545.1486885281397, 1513.8875333956798, 1481.6815428973944, 1343.5038520135774, 1266.5449092980334, 1214.5294246896706, 1195.2971307979017, 1161.979109161915, 1045.0790629152268, 993.4686939880372, 976.4283051601864, 938.8182735440149, 928.1151368024807, 854.7456341797125, 771.9759593963032, 740.8623363354532, 730.9707346270012, 699.6446132362036, 675.6377339135204, 669.5570333641011, 661.4087110275841, 654.4252184935714, 649.6978911268325, 647.2706734950891, 572.042082083349, 570.6385175773376, 6366.867804887593, 4077.0125524403247, 3373.4050839767892, 2380.3986978982016, 2369.4659814673123, 2130.460715391819, 1860.0250780102094, 1739.6090804307325, 1144.5292851939014, 1084.0821413351875, 976.829872463241, 944.7237151140066, 769.656613923327, 766.3749731292914, 743.2106913769672, 703.3180851035847, 627.877242273818, 574.2098368117103, 531.6232697093668, 526.3382555184425, 482.30639220637676, 476.7889313852736, 449.65544650823375, 427.9682245302484, 420.68318616183353, 418.589626929694, 396.85489465395307, 370.61016835999885, 370.136010726628, 358.3101331097345, 633.571941624695, 3846.2523919680357, 2898.9189708922745, 2633.285107712939, 2378.284025600053, 2268.535730234676, 2187.432863398494, 2080.6592958915185, 1722.9442615744092, 1619.2784499134211, 1568.6747679218442, 1324.7064760714625, 1302.386250781965, 1253.1708299529487, 926.215073841025, 850.505854518493, 840.8534609355123, 793.0667545249418, 792.912189162241, 734.6873604908571, 693.0785396181217, 682.0708848602269, 670.647954556852, 641.4252318512379, 632.2003474540176, 585.3350706050608, 569.4023475973601, 568.5386937150531, 482.9710621950728, 479.63456811695454, 431.94059064363444, 3946.3807307249044, 2737.7209725953235, 2517.8881388763434, 2125.045645290445, 1846.1205880722023, 1700.312656282592, 1632.7018393784626, 1570.5385429726296, 1459.3623393667242, 1334.4322942979961, 1173.4096145264257, 1146.8881991738506, 975.5122192352603, 939.661783297535, 861.8679302853625, 731.9670483201356, 723.0542545844007, 722.644765805005, 719.5313592309327, 707.1385149731644, 693.082064462291, 609.1662333775885, 592.8653085084756, 570.0767374772881, 519.8074358005339, 511.5995371277417, 501.148418771817, 500.77382854817785, 460.4935065629034, 438.5890632571791, 2927.2264607872257, 2498.6353471658917, 1119.0775256029028, 1111.4300211718394, 1058.3901052733663, 1007.7396028958865, 937.8195623833058, 913.066573430904, 838.7462982434715, 720.6918522951865, 699.5470005296078, 643.0625386333534, 619.4139053039734, 586.6085007082318, 493.39405703710156, 488.4158436420546, 486.6916139943269, 466.0203863443014, 460.85874671219807, 434.19299924177056, 425.981941579977, 391.21263703680245, 389.57933401150177, 379.4382149174569, 379.24124560119515, 377.8047584295023, 347.70240665363207, 346.861277847687, 326.6932158740878, 323.3193010627572, 4831.003013551186, 3001.6878196485563, 2839.0685536404926, 1287.8746522592435, 1229.4118259210584, 719.8855033240975, 710.2825472580615, 644.0091236641183, 639.609410876532, 587.7656794963235, 587.4922111426246, 568.8320534232208, 520.2480160942301, 517.5956990900788, 510.0888799256365, 492.1833486878207, 450.43730997737265, 442.4686434989603, 437.8900101089408, 435.95606254799895, 432.7544084198772, 420.8808732389421, 417.67706948403907, 349.4650049773481, 348.93329479298467, 325.13875350636, 287.1085417365727, 280.798975121552, 274.3731316112175, 267.78841276818576, 5346.212694611797, 3408.2094113069575, 1678.0581698389553, 929.2957292347837, 833.5632126454744, 794.3933618699679, 769.4210455636861, 681.2630120091914, 659.308368930899, 649.18614797186, 564.2717987038565, 551.4366827795296, 479.16234180061167, 464.598698636706, 408.13382484779453, 405.4778455397347, 367.7171019341959, 362.13587381920354, 336.927922880681, 320.9702272463199, 314.3624845991778, 310.8893273085164, 290.6797589348785, 257.6039171258978, 250.90127270208285, 240.5776236748851, 234.4552362821689, 231.82493571789752, 225.91649021529767, 224.52688428056322, 3461.7861430754792, 2116.8656754322765, 1882.844605750826, 1405.074907423713, 1103.7800917646764, 928.5212004191965, 888.1604212538779, 801.1259027267193, 800.9131522457374, 794.05094277255, 680.9363740177664, 650.4153200818877, 576.447459188723, 493.38737977790026, 465.33689467343066, 458.48038332084025, 448.2441122531216, 419.5516285720527, 414.65000613685214, 400.2436708016531, 310.5351233761202, 303.24728906878204, 294.82565263484815, 277.7572110992628, 265.7491961424698, 247.79876915221092, 238.21759614485518, 224.55402941028973, 220.09672102543692, 211.27277869653406, 1904.3273782375584, 1351.8342132856915, 1348.2366977309114, 1131.4216027990099, 1092.2530245023584, 1030.301641696967, 741.2217372972057, 651.499810687848, 609.5725765504837, 608.1876822872555, 590.4110333783493, 515.2460408414398, 507.90575186949036, 421.0162055356905, 388.2588698991149, 375.3733190985536, 371.9884792929669, 369.07775570230876, 345.2830907273733, 311.0527171960299, 303.5410559233244, 288.0003595729009, 285.9109676379052, 268.86451632423854, 257.9398578413127, 236.11701061230892, 233.42786003697705, 229.0811828305244, 228.35632951660594, 225.71690592453598, 2324.393265163225, 1879.736301455842, 1403.9517780696585, 1099.2108736561743, 1083.2340175885056, 1071.6077622575567, 950.9079433099627, 911.9195707989753, 731.0517365783332, 698.4286401719512, 495.7525023469961, 483.3035543494225, 470.65459079246574, 422.15948129630243, 396.38535096770556, 362.9449500921017, 318.11789851637667, 317.36292698342646, 301.13024497485395, 285.7102449293103, 270.20610392747994, 266.20420463953025, 260.5526945372097, 247.0583511666685, 243.63072028613524, 243.39460380415255, 240.35171857712146, 239.50514768832164, 224.95381014092976, 219.68021118908982, 4230.259251357524, 2689.245895347247, 2518.2768532003884, 1137.6825986039446, 803.856546223824, 734.0432974052376, 678.1032894605246, 661.6899157132635, 653.0585063364989, 609.9705446372307, 519.2438617789576, 436.0304817427982, 418.6967612221719, 372.40170561679315, 358.2490688431521, 330.47233824368186, 294.7173697872368, 287.8941756632685, 247.71833339884577, 246.2357818526843, 236.12878449616952, 235.08664412055106, 209.65203889738157, 209.6402723968249, 203.55949629102065, 195.29752750775728, 191.19783099801515, 178.72967543447461, 164.12254897558938, 159.67592648627664, 1570.8187475887728, 1107.4482912853985, 1092.4680530245314, 817.4340364763494, 746.7381877046108, 740.6263902602153, 578.9718585902133, 572.1254653524499, 557.6099601568808, 542.3661222687174, 505.5878759785449, 495.4223689676507, 494.74738251059296, 460.9998177210823, 455.80072986573947, 388.1809426055311, 377.91008914083517, 374.34465420701594, 370.84984397534123, 370.6559625487617, 328.0622349021101, 306.6345739106547, 288.7983067575408, 276.5979512689888, 264.62221584633954, 258.54286016516176, 250.56246111101154, 246.102803723318, 235.57749805482405, 232.6984495202601, 2010.484248602453, 1204.9376330688337, 1134.1402288825373, 902.7529318864447, 898.9121297221525, 886.8178420691535, 798.878187767615, 607.8308994634808, 566.7090545665305, 550.3963921646805, 541.6416782578713, 518.6321104330802, 433.817662420238, 399.479130437619, 395.77232485302045, 390.28853513157213, 377.6680334356107, 372.5020186331569, 357.36562964088785, 317.1366080149385, 315.3560777059796, 306.4079214641218, 299.51535396481205, 280.090830792203, 265.2248712607701, 243.3823730400861, 231.25010615449912, 209.29159937981981, 188.93224027122318, 183.23906397524354, 1835.1050982375732, 1121.0221740870222, 1099.0373018100358, 953.7155360867757, 928.8088739949554, 919.7888816442407, 781.0611743394272, 698.4858518124519, 650.2998325845251, 638.6034074937263, 637.3316855153678, 621.8926143496135, 604.3877983648182, 577.5474161623739, 531.5558457593002, 462.7917002854513, 412.7795892031131, 391.06562198704904, 386.80098288644155, 371.65075928762167, 366.7054564925242, 366.00213703671153, 322.85718538223915, 315.15031667300934, 255.4348179997751, 227.14438673310016, 222.69350709807355, 207.0344929444433, 184.25653512186463, 169.44889287850614], \"Total\": [28999.0, 27979.0, 25992.0, 22428.0, 21515.0, 16527.0, 15353.0, 31783.0, 13323.0, 25529.0, 24634.0, 10506.0, 23986.0, 6367.0, 6336.0, 9155.0, 9009.0, 5347.0, 22033.0, 8840.0, 8980.0, 8584.0, 4831.0, 7986.0, 8230.0, 19003.0, 4231.0, 7862.0, 4878.0, 7562.0, 31783.66408007863, 25529.514147495596, 24634.259984537013, 23986.776093664797, 22033.44964162167, 19003.336994354497, 17121.385582704286, 12883.84950897999, 12678.837298201866, 11382.967005001205, 10078.401203648014, 10008.049952013365, 9396.098078539297, 9233.396765520207, 9162.046278200707, 8352.869982417114, 7736.345285027121, 7734.080450012463, 7644.4535512988405, 7255.458461489617, 6893.240361942814, 6872.094213469895, 6859.449380659746, 6716.827273468693, 6226.994202816789, 6032.009690432239, 6020.057923921745, 5970.9607054765465, 5872.41768934687, 5715.727787136229, 9854.499275917053, 12860.55742464174, 16400.936229629147, 28999.349148891757, 27979.68494663454, 15353.455545536684, 8980.90869557682, 8584.501371062466, 7862.797389248507, 7562.942604697504, 5717.969937407623, 5035.498131828244, 4959.829894662927, 3621.4648947174182, 3499.9808710431107, 5303.953664714247, 2433.497457428891, 2235.94219340514, 2222.8390777194495, 2205.1402149831747, 1927.0861877862044, 1917.9369538973533, 1731.104555243325, 1599.33333428183, 1547.9811537258738, 1400.5139386896362, 1153.3893850962356, 1005.8558194851041, 887.4219827775796, 840.9926065675313, 764.3140032632884, 639.0120143928664, 581.0714769444505, 6621.613389605212, 2209.8655823918525, 3206.1176995783794, 6053.423326979249, 7863.564235032472, 3439.5142638321768, 9913.66237704043, 11238.572342136093, 25992.286441937256, 22428.04908454082, 8840.733808191522, 8230.501012427103, 5404.719971579688, 5120.308688594274, 4993.160940425309, 4279.814559906886, 4074.2223301057134, 3954.2834277795637, 3897.8232950023116, 3592.1842119470707, 3167.5391474915946, 3009.5069809367287, 2323.5649333698952, 1974.5611053829834, 1919.4887582571696, 1830.6878214496987, 1760.9781457292272, 1741.482690365991, 1683.4063651428219, 1518.894812328532, 1473.5057829478385, 1357.754988141616, 1340.8869904602627, 1314.4642025772696, 1179.613474241766, 1137.1278616052268, 1075.2648947295593, 1014.217722087415, 21515.938933006168, 10506.023269126541, 2851.8389281185046, 2291.9209525673837, 9913.66237704043, 2937.5437314554288, 13323.25055307883, 16527.650354583322, 9155.127395399224, 9009.942433893202, 6818.37046079788, 5519.492334742054, 5442.877826431361, 4322.552992546484, 4183.463122588188, 3311.3153836309016, 3310.393805260694, 3194.9297009715483, 2635.6418773403843, 2291.3840285787437, 2126.131870984061, 2023.4106180887936, 1966.4497921258437, 1957.3521422862293, 1818.0010018395105, 1802.9523586785133, 1669.2419423604401, 1402.9040314308002, 1372.9722835396524, 1340.4623144414668, 1310.743341745771, 1184.106106540552, 1175.5893933938833, 1110.6387581594377, 1090.459514366778, 959.2161492502319, 942.439127135641, 5050.3488573933955, 7986.191914867458, 13323.25055307883, 3097.599041428329, 1744.7395100196438, 4001.161787014646, 1840.1032459464213, 2628.52539968619, 3011.974315438083, 5444.701296414144, 5235.89635866493, 4226.487338792258, 3887.350600114997, 3768.759889804307, 3587.8565887742093, 3168.0964375033036, 3093.3072063921886, 2919.3776791316996, 2765.114055372646, 2652.81140110335, 2333.2434031870393, 2249.4047741980958, 2173.266233495681, 1904.8515570359828, 1662.640961538373, 1646.9275558173567, 1634.279101157144, 1626.3777612190397, 1548.9366644160827, 1412.2346522719602, 1340.341828773484, 1288.6096684533325, 1148.0115320793757, 1066.7560815551117, 1028.3374106309966, 881.909806603823, 833.6211466986573, 824.3037339540554, 798.261558598851, 5174.345134602192, 6336.155946300775, 4878.62098508093, 4075.3338503456425, 3763.7718073424976, 2834.3781297620417, 2407.7275954289685, 2006.0809022462734, 1494.8391144160073, 1448.5102931596027, 1424.4146129182434, 1282.0195594704728, 1039.448943399748, 748.7375380684047, 724.1883913719214, 709.4539132135726, 663.857816496362, 586.5700298694591, 557.3827318162469, 552.0839171209104, 546.0010810286426, 525.9955856016746, 497.6652632411165, 491.69356103247117, 471.2841098280867, 420.70097055796884, 404.95197005162584, 397.47901144192406, 395.45833946482645, 348.40912947506035, 333.15010047820505, 2762.052890253701, 2280.915822902534, 1678.7680181960084, 1559.9143127123834, 1546.1082223410106, 1514.8470672085507, 1482.6410767102652, 1344.4633858264483, 1267.5044431109043, 1215.4889585025414, 1196.2566646107725, 1162.9386429747858, 1046.0385967280977, 994.428227800908, 977.3878389730571, 939.7778073568857, 929.0746706153515, 855.7051679925833, 772.935493209174, 741.8218701483239, 731.930268439872, 700.6041470490743, 676.5972677263911, 670.5165671769719, 662.3682448404548, 655.3847523064421, 650.6574249397032, 648.2302073079599, 573.0016158962197, 571.5980513902083, 6367.825073950437, 4077.969821503168, 3374.3623530396326, 2381.355966961045, 2370.4232505301557, 2131.4179844546625, 1860.982347073053, 1740.5663494935761, 1145.486554256745, 1085.0394103980311, 977.7871415260844, 945.68098417685, 770.6138829861703, 767.3322421921348, 744.1679604398106, 704.2753541664281, 628.8345113366613, 575.1671058745536, 532.5805387722102, 527.2955245812858, 483.2636612692203, 477.7462004481171, 450.6127155710773, 428.9254935930919, 421.64045522467705, 419.54689599253754, 397.8121637167966, 371.5674374294193, 371.0932797894715, 359.26740217257804, 1730.0870374678116, 3847.2107241251697, 2899.8773030494085, 2634.243439870073, 2379.242357757187, 2269.49406239181, 2188.391195555628, 2081.6176280486525, 1723.9025937315437, 1620.2367820705556, 1569.6331000789787, 1325.664808228597, 1303.3445829390994, 1254.1291621100831, 927.173405998159, 851.464186675627, 841.8117930926463, 794.0250866820758, 793.870521319375, 735.6456926479912, 694.0368717752557, 683.0292170173609, 671.606286713986, 642.3835640083719, 633.1586796111516, 586.2934027621948, 570.3606797544941, 569.4970258721871, 483.92939435220705, 480.5929002740888, 432.8989228007687, 3947.3437334984988, 2738.683975368918, 2518.8511416499377, 2126.0086480640393, 1847.0835908457968, 1701.2756590561864, 1633.6648421520572, 1571.501545746224, 1460.3253421403188, 1335.3952970715907, 1174.3726173000202, 1147.8512019474451, 976.4752220088544, 940.624786071129, 862.8309330589566, 732.9300510937297, 724.0172573579948, 723.6077685785991, 720.4943620074627, 708.1015177467585, 694.0450672358851, 610.1292361511826, 593.8283112820696, 571.0397402508822, 520.770438574128, 512.5625399013359, 502.1114215454113, 501.7368313217722, 461.456509340112, 439.5520660307734, 2928.1862086716874, 2499.5950950503534, 1120.0372734873647, 1112.3897690563012, 1059.3498531578282, 1008.6993507803479, 938.7793102677672, 914.0263213153654, 839.706046127933, 721.651600179648, 700.5067484140692, 644.0222865178148, 620.3736531884348, 587.5682485926932, 494.35380492156315, 489.3755915265162, 487.65136187878846, 466.980134228763, 461.81849459665966, 435.15274712623216, 426.9416894644386, 392.17238492126404, 390.53908189596336, 380.3979628019185, 380.2009934895338, 378.76450631396386, 348.66215453809366, 347.8210257321486, 327.6529637585494, 324.27904894721877, 4831.961867061452, 3002.6466731588216, 2840.027407150758, 1288.833505769509, 1230.3706794313239, 720.8443568343627, 711.2414007683267, 644.9679771743835, 640.5682643867972, 588.7245330065887, 588.4510646528897, 569.790906933486, 521.2068696044953, 518.554552600344, 511.04773343590176, 493.14220219808595, 451.3961634876379, 443.4274970092256, 438.8488636192061, 436.9149160582642, 433.7132619301425, 421.8397267492074, 418.63592299430434, 350.4238612410337, 349.89214830324994, 326.09760701662526, 288.067395246838, 281.75782863517054, 275.3319851214828, 268.74726627845104, 5347.1726209426715, 3409.1693376378316, 1679.0180961698295, 930.2556555656577, 834.5231389763484, 795.3532882008418, 770.38097189456, 682.2229383400653, 660.2682952617729, 650.1460743061408, 565.2317250347304, 552.3966091104036, 480.1222681314857, 465.55862496758004, 409.0937511786686, 406.43777187060874, 368.67702826506996, 363.0958001500776, 337.8878492115551, 321.93015357719395, 315.32241093302554, 311.84925363939044, 291.6396852657526, 258.5638434614551, 251.86119903295682, 241.53755000575907, 235.41516261304287, 232.7848620487715, 226.87641654617164, 225.4868106114372, 3462.7462803724025, 2117.8258127291997, 1883.804743047749, 1406.035044720636, 1104.7402290615994, 929.4813377161194, 889.1205585508008, 802.0860400236422, 801.8732895426602, 795.0110800694729, 681.8965113146893, 651.3754573788106, 577.4075964856459, 494.34751707482326, 466.29703197035366, 459.44052061776324, 449.2042495500446, 420.5117658689757, 415.61014343377514, 401.2038080985761, 311.4952606730432, 304.20742636570503, 295.78578993177115, 278.7173483961858, 266.7093334427997, 248.7589064491339, 239.17773344177814, 225.5141667072127, 221.0568583223599, 212.23291599345703, 1905.2861659682178, 1352.793001016351, 1349.1954854615708, 1132.3803905296693, 1093.2118122330178, 1031.2604294276264, 742.180525027865, 652.4585984219142, 610.531364281143, 609.1464700179148, 591.3698211090086, 516.2048285720991, 508.8645396001497, 421.9749932663499, 389.2176576297743, 376.332106829213, 372.94726702362624, 370.03654343296813, 346.24187845803266, 312.01150492668927, 304.49984365398376, 288.95914730356026, 286.86975536856454, 269.8233040548979, 258.89864557197205, 237.0757983429683, 234.38664776763645, 230.0399705611838, 229.31511724726533, 226.67569365519537, 2325.352865072438, 1880.6959013650549, 1404.9113779788713, 1100.170473565387, 1084.1936174977184, 1072.5673621667695, 951.8675432191753, 912.879170708188, 732.0113364875459, 699.3882400811639, 496.7121022562088, 484.2631542586352, 471.61419070167847, 423.11908120551516, 397.34495088409244, 363.9045500013144, 319.0774984255894, 318.3225268926392, 302.0898448840667, 286.66984483852303, 271.16570383669267, 267.163804548743, 261.5122944464224, 248.0179510792881, 244.59032019534797, 244.35420371336528, 241.3113184863342, 240.4647476008876, 225.9134100501425, 220.6398111284613, 4231.2207884451, 2690.207432434823, 2519.2383902879646, 1138.644135691521, 804.8180833114002, 735.0048344928138, 679.0648265515076, 662.6514528008397, 654.0200434240751, 610.9320817248068, 520.2053988665338, 436.9920188303744, 419.6582983097481, 373.3632427043693, 359.21060593072826, 331.43387533125804, 295.678906874813, 288.8557127508447, 248.67987048642198, 247.1973189436674, 237.09032158374572, 236.04818120812726, 210.61357598495778, 210.60180948440112, 204.52103337859685, 196.25906459533348, 192.15936808559135, 179.69121252205082, 165.08408606316559, 160.63746358188936, 1571.7802562502168, 1108.4097999468424, 1093.4295616859754, 818.3955451377934, 747.6996963660548, 741.5878989216593, 579.9333672516573, 573.0869740138938, 558.5714688183248, 543.3276309301614, 506.5493846399889, 496.3838776290947, 495.70889117203694, 461.9613263825263, 456.76223852718346, 389.1424512703819, 378.87159780227915, 375.3061628684599, 371.8113526367852, 371.6174712102057, 329.0237435635541, 307.59608257550553, 289.7598154189848, 277.5594599304328, 265.58372451634386, 259.5043688304828, 251.52396977245553, 247.06431238863908, 236.53900671626803, 233.6599581974588, 2011.4409608370179, 1205.8943453033987, 1135.0969411171022, 903.7096441210095, 899.8688419567173, 887.7745543037183, 799.8349000021799, 608.7876116980457, 567.6657668010954, 551.3531043992454, 542.5983904924361, 519.5888226676451, 434.7743746548029, 400.4358426721839, 396.72903708758537, 391.24524736613705, 378.6247456701756, 373.45873086772184, 358.32234187545276, 318.0933202495034, 316.3127899405445, 307.3646336986867, 300.47206619937697, 281.0475430267679, 266.181583495335, 244.33908527465098, 232.206818389064, 210.2483116143847, 189.88895250578807, 184.19577620980843, 1836.0646894156705, 1121.9817652651195, 1099.9968929881331, 954.675127264873, 929.7684651730527, 920.748472822338, 782.0207655175245, 699.4454429905492, 651.2594237626224, 639.5629986718236, 638.2912766934651, 622.8522055277108, 605.3473895429155, 578.5070073404712, 532.5154369373975, 463.7512914635487, 413.7391803812105, 392.0252131651464, 387.7605740645389, 372.610350465719, 367.66504767062156, 366.9617282148089, 323.8167765603365, 316.10990785971507, 256.39440917787243, 228.10397791119752, 223.6530982761709, 207.99408412254064, 185.21612629996199, 170.4084840566035], \"Category\": [\"Default\", \"Default\", \"Default\", \"Default\", \"Default\", \"Default\", \"Default\", \"Default\", \"Default\", \"Default\", \"Default\", \"Default\", \"Default\", \"Default\", \"Default\", \"Default\", \"Default\", \"Default\", \"Default\", \"Default\", \"Default\", \"Default\", \"Default\", \"Default\", \"Default\", \"Default\", \"Default\", \"Default\", \"Default\", \"Default\", \"Topic1\", \"Topic1\", \"Topic1\", \"Topic1\", \"Topic1\", \"Topic1\", \"Topic1\", \"Topic1\", \"Topic1\", \"Topic1\", \"Topic1\", \"Topic1\", \"Topic1\", \"Topic1\", \"Topic1\", \"Topic1\", \"Topic1\", \"Topic1\", \"Topic1\", \"Topic1\", \"Topic1\", \"Topic1\", \"Topic1\", \"Topic1\", \"Topic1\", \"Topic1\", \"Topic1\", \"Topic1\", \"Topic1\", \"Topic1\", \"Topic1\", \"Topic1\", \"Topic1\", \"Topic2\", \"Topic2\", \"Topic2\", \"Topic2\", \"Topic2\", \"Topic2\", \"Topic2\", \"Topic2\", \"Topic2\", \"Topic2\", \"Topic2\", \"Topic2\", \"Topic2\", \"Topic2\", \"Topic2\", \"Topic2\", \"Topic2\", \"Topic2\", \"Topic2\", \"Topic2\", \"Topic2\", \"Topic2\", \"Topic2\", \"Topic2\", \"Topic2\", \"Topic2\", \"Topic2\", \"Topic2\", \"Topic2\", \"Topic2\", \"Topic2\", \"Topic2\", \"Topic2\", \"Topic2\", \"Topic2\", \"Topic2\", \"Topic2\", \"Topic2\", \"Topic3\", \"Topic3\", \"Topic3\", \"Topic3\", \"Topic3\", \"Topic3\", \"Topic3\", \"Topic3\", \"Topic3\", \"Topic3\", \"Topic3\", \"Topic3\", \"Topic3\", \"Topic3\", \"Topic3\", \"Topic3\", \"Topic3\", \"Topic3\", \"Topic3\", \"Topic3\", \"Topic3\", \"Topic3\", \"Topic3\", \"Topic3\", \"Topic3\", \"Topic3\", \"Topic3\", \"Topic3\", \"Topic3\", \"Topic3\", \"Topic3\", \"Topic3\", \"Topic3\", \"Topic3\", \"Topic3\", \"Topic3\", \"Topic3\", \"Topic4\", \"Topic4\", \"Topic4\", \"Topic4\", \"Topic4\", \"Topic4\", \"Topic4\", \"Topic4\", \"Topic4\", \"Topic4\", \"Topic4\", \"Topic4\", \"Topic4\", \"Topic4\", \"Topic4\", \"Topic4\", \"Topic4\", \"Topic4\", \"Topic4\", \"Topic4\", \"Topic4\", \"Topic4\", \"Topic4\", \"Topic4\", \"Topic4\", \"Topic4\", \"Topic4\", \"Topic4\", \"Topic4\", \"Topic4\", \"Topic4\", \"Topic4\", \"Topic4\", \"Topic4\", \"Topic4\", \"Topic4\", \"Topic4\", \"Topic4\", \"Topic4\", \"Topic5\", \"Topic5\", \"Topic5\", \"Topic5\", \"Topic5\", \"Topic5\", \"Topic5\", \"Topic5\", \"Topic5\", \"Topic5\", \"Topic5\", \"Topic5\", \"Topic5\", \"Topic5\", \"Topic5\", \"Topic5\", \"Topic5\", \"Topic5\", \"Topic5\", \"Topic5\", \"Topic5\", \"Topic5\", \"Topic5\", \"Topic5\", \"Topic5\", \"Topic5\", \"Topic5\", \"Topic5\", \"Topic5\", \"Topic5\", \"Topic5\", \"Topic6\", \"Topic6\", \"Topic6\", \"Topic6\", \"Topic6\", \"Topic6\", \"Topic6\", \"Topic6\", \"Topic6\", \"Topic6\", \"Topic6\", \"Topic6\", \"Topic6\", \"Topic6\", \"Topic6\", \"Topic6\", \"Topic6\", \"Topic6\", \"Topic6\", \"Topic6\", \"Topic6\", \"Topic6\", \"Topic6\", \"Topic6\", \"Topic6\", \"Topic6\", \"Topic6\", \"Topic6\", \"Topic6\", \"Topic6\", \"Topic7\", \"Topic7\", \"Topic7\", \"Topic7\", \"Topic7\", \"Topic7\", \"Topic7\", \"Topic7\", \"Topic7\", \"Topic7\", \"Topic7\", \"Topic7\", \"Topic7\", \"Topic7\", \"Topic7\", \"Topic7\", \"Topic7\", \"Topic7\", \"Topic7\", \"Topic7\", \"Topic7\", \"Topic7\", \"Topic7\", \"Topic7\", \"Topic7\", \"Topic7\", \"Topic7\", \"Topic7\", \"Topic7\", \"Topic7\", \"Topic8\", \"Topic8\", \"Topic8\", \"Topic8\", \"Topic8\", \"Topic8\", \"Topic8\", \"Topic8\", \"Topic8\", \"Topic8\", \"Topic8\", \"Topic8\", \"Topic8\", \"Topic8\", \"Topic8\", \"Topic8\", \"Topic8\", \"Topic8\", \"Topic8\", \"Topic8\", \"Topic8\", \"Topic8\", \"Topic8\", \"Topic8\", \"Topic8\", \"Topic8\", \"Topic8\", \"Topic8\", \"Topic8\", \"Topic8\", \"Topic8\", \"Topic9\", \"Topic9\", \"Topic9\", \"Topic9\", \"Topic9\", \"Topic9\", \"Topic9\", \"Topic9\", \"Topic9\", \"Topic9\", \"Topic9\", \"Topic9\", \"Topic9\", \"Topic9\", \"Topic9\", \"Topic9\", \"Topic9\", \"Topic9\", \"Topic9\", \"Topic9\", \"Topic9\", \"Topic9\", \"Topic9\", \"Topic9\", \"Topic9\", \"Topic9\", \"Topic9\", \"Topic9\", \"Topic9\", \"Topic9\", \"Topic10\", \"Topic10\", \"Topic10\", \"Topic10\", \"Topic10\", \"Topic10\", \"Topic10\", \"Topic10\", \"Topic10\", \"Topic10\", \"Topic10\", \"Topic10\", \"Topic10\", \"Topic10\", \"Topic10\", \"Topic10\", \"Topic10\", \"Topic10\", \"Topic10\", \"Topic10\", \"Topic10\", \"Topic10\", \"Topic10\", \"Topic10\", \"Topic10\", \"Topic10\", \"Topic10\", \"Topic10\", \"Topic10\", \"Topic10\", \"Topic11\", \"Topic11\", \"Topic11\", \"Topic11\", \"Topic11\", \"Topic11\", \"Topic11\", \"Topic11\", \"Topic11\", \"Topic11\", \"Topic11\", \"Topic11\", \"Topic11\", \"Topic11\", \"Topic11\", \"Topic11\", \"Topic11\", \"Topic11\", \"Topic11\", \"Topic11\", \"Topic11\", \"Topic11\", \"Topic11\", \"Topic11\", \"Topic11\", \"Topic11\", \"Topic11\", \"Topic11\", \"Topic11\", \"Topic11\", \"Topic12\", \"Topic12\", \"Topic12\", \"Topic12\", \"Topic12\", \"Topic12\", \"Topic12\", \"Topic12\", \"Topic12\", \"Topic12\", \"Topic12\", \"Topic12\", \"Topic12\", \"Topic12\", \"Topic12\", \"Topic12\", \"Topic12\", \"Topic12\", \"Topic12\", \"Topic12\", \"Topic12\", \"Topic12\", \"Topic12\", \"Topic12\", \"Topic12\", \"Topic12\", \"Topic12\", \"Topic12\", \"Topic12\", \"Topic12\", \"Topic13\", \"Topic13\", \"Topic13\", \"Topic13\", \"Topic13\", \"Topic13\", \"Topic13\", \"Topic13\", \"Topic13\", \"Topic13\", \"Topic13\", \"Topic13\", \"Topic13\", \"Topic13\", \"Topic13\", \"Topic13\", \"Topic13\", \"Topic13\", \"Topic13\", \"Topic13\", \"Topic13\", \"Topic13\", \"Topic13\", \"Topic13\", \"Topic13\", \"Topic13\", \"Topic13\", \"Topic13\", \"Topic13\", \"Topic13\", \"Topic14\", \"Topic14\", \"Topic14\", \"Topic14\", \"Topic14\", \"Topic14\", \"Topic14\", \"Topic14\", \"Topic14\", \"Topic14\", \"Topic14\", \"Topic14\", \"Topic14\", \"Topic14\", \"Topic14\", \"Topic14\", \"Topic14\", \"Topic14\", \"Topic14\", \"Topic14\", \"Topic14\", \"Topic14\", \"Topic14\", \"Topic14\", \"Topic14\", \"Topic14\", \"Topic14\", \"Topic14\", \"Topic14\", \"Topic14\", \"Topic15\", \"Topic15\", \"Topic15\", \"Topic15\", \"Topic15\", \"Topic15\", \"Topic15\", \"Topic15\", \"Topic15\", \"Topic15\", \"Topic15\", \"Topic15\", \"Topic15\", \"Topic15\", \"Topic15\", \"Topic15\", \"Topic15\", \"Topic15\", \"Topic15\", \"Topic15\", \"Topic15\", \"Topic15\", \"Topic15\", \"Topic15\", \"Topic15\", \"Topic15\", \"Topic15\", \"Topic15\", \"Topic15\", \"Topic15\", \"Topic16\", \"Topic16\", \"Topic16\", \"Topic16\", \"Topic16\", \"Topic16\", \"Topic16\", \"Topic16\", \"Topic16\", \"Topic16\", \"Topic16\", \"Topic16\", \"Topic16\", \"Topic16\", \"Topic16\", \"Topic16\", \"Topic16\", \"Topic16\", \"Topic16\", \"Topic16\", \"Topic16\", \"Topic16\", \"Topic16\", \"Topic16\", \"Topic16\", \"Topic16\", \"Topic16\", \"Topic16\", \"Topic16\", \"Topic16\", \"Topic17\", \"Topic17\", \"Topic17\", \"Topic17\", \"Topic17\", \"Topic17\", \"Topic17\", \"Topic17\", \"Topic17\", \"Topic17\", \"Topic17\", \"Topic17\", \"Topic17\", \"Topic17\", \"Topic17\", \"Topic17\", \"Topic17\", \"Topic17\", \"Topic17\", \"Topic17\", \"Topic17\", \"Topic17\", \"Topic17\", \"Topic17\", \"Topic17\", \"Topic17\", \"Topic17\", \"Topic17\", \"Topic17\", \"Topic17\", \"Topic18\", \"Topic18\", \"Topic18\", \"Topic18\", \"Topic18\", \"Topic18\", \"Topic18\", \"Topic18\", \"Topic18\", \"Topic18\", \"Topic18\", \"Topic18\", \"Topic18\", \"Topic18\", \"Topic18\", \"Topic18\", \"Topic18\", \"Topic18\", \"Topic18\", \"Topic18\", \"Topic18\", \"Topic18\", \"Topic18\", \"Topic18\", \"Topic18\", \"Topic18\", \"Topic18\", \"Topic18\", \"Topic18\", \"Topic18\", \"Topic19\", \"Topic19\", \"Topic19\", \"Topic19\", \"Topic19\", \"Topic19\", \"Topic19\", \"Topic19\", \"Topic19\", \"Topic19\", \"Topic19\", \"Topic19\", \"Topic19\", \"Topic19\", \"Topic19\", \"Topic19\", \"Topic19\", \"Topic19\", \"Topic19\", \"Topic19\", \"Topic19\", \"Topic19\", \"Topic19\", \"Topic19\", \"Topic19\", \"Topic19\", \"Topic19\", \"Topic19\", \"Topic19\", \"Topic19\", \"Topic20\", \"Topic20\", \"Topic20\", \"Topic20\", \"Topic20\", \"Topic20\", \"Topic20\", \"Topic20\", \"Topic20\", \"Topic20\", \"Topic20\", \"Topic20\", \"Topic20\", \"Topic20\", \"Topic20\", \"Topic20\", \"Topic20\", \"Topic20\", \"Topic20\", \"Topic20\", \"Topic20\", \"Topic20\", \"Topic20\", \"Topic20\", \"Topic20\", \"Topic20\", \"Topic20\", \"Topic20\", \"Topic20\", \"Topic20\"], \"logprob\": [30.0, 29.0, 28.0, 27.0, 26.0, 25.0, 24.0, 23.0, 22.0, 21.0, 20.0, 19.0, 18.0, 17.0, 16.0, 15.0, 14.0, 13.0, 12.0, 11.0, 10.0, 9.0, 8.0, 7.0, 6.0, 5.0, 4.0, 3.0, 2.0, 1.0, -3.2243, -3.4434, -3.4791, -3.5058, -3.5907, -3.7387, -3.843, -4.1273, -4.1434, -4.2512, -4.3729, -4.3799, -4.443, -4.4605, -4.4683, -4.5607, -4.6374, -4.6377, -4.6494, -4.7016, -4.7528, -4.7559, -4.7577, -4.7788, -4.8545, -4.8863, -4.8883, -4.8965, -4.9131, -4.9402, -4.3962, -4.1516, -3.9201, -2.0228, -2.0586, -2.6588, -3.195, -3.2402, -3.328, -3.3669, -3.6466, -3.7737, -3.7889, -4.1034, -4.1375, -3.7219, -4.5011, -4.5858, -4.5917, -4.5997, -4.7345, -4.7393, -4.8418, -4.921, -4.9537, -5.0539, -5.2482, -5.3851, -5.5106, -5.5643, -5.6601, -5.8394, -5.9346, -3.5035, -4.5996, -4.2327, -3.6685, -3.4611, -4.3738, -3.6555, -3.5846, -2.0858, -2.2333, -3.1643, -3.2358, -3.6565, -3.7105, -3.7357, -3.8899, -3.9391, -3.969, -3.9834, -4.0651, -4.1909, -4.2421, -4.5009, -4.6637, -4.692, -4.7394, -4.7782, -4.7894, -4.8233, -4.9262, -4.9566, -5.0384, -5.051, -5.0709, -5.1792, -5.2159, -5.2719, -5.3304, -2.2774, -3.0004, -4.2984, -4.5206, -3.8975, -4.6468, -4.2359, -2.389, -2.9797, -2.9957, -3.2745, -3.4858, -3.4998, -3.7303, -3.763, -3.9969, -3.9972, -4.0327, -4.2252, -4.3652, -4.4401, -4.4896, -4.5182, -4.5228, -4.5967, -4.6051, -4.6822, -4.8561, -4.8777, -4.9016, -4.9241, -5.0258, -5.033, -5.0899, -5.1082, -5.2366, -5.2542, -3.5757, -3.165, -2.8662, -4.2025, -4.7289, -4.1207, -4.7201, -4.5955, -4.5809, -2.9431, -2.9822, -3.1964, -3.2801, -3.3111, -3.3603, -3.4848, -3.5087, -3.5665, -3.6209, -3.6623, -3.7907, -3.8273, -3.8618, -3.9937, -4.1298, -4.1393, -4.147, -4.1518, -4.2006, -4.2931, -4.3454, -4.3848, -4.5004, -4.5739, -4.6106, -4.7643, -4.8207, -4.832, -4.8641, -3.0212, -2.2471, -2.5086, -2.6885, -2.7681, -3.0518, -3.215, -3.3975, -3.6919, -3.7234, -3.7402, -3.8456, -4.0555, -4.3839, -4.4173, -4.4379, -4.5044, -4.6284, -4.6795, -4.6891, -4.7002, -4.7375, -4.793, -4.8051, -4.8476, -4.9614, -4.9996, -5.0183, -5.0234, -5.1504, -5.1953, -3.0504, -3.2419, -3.5485, -3.622, -3.6309, -3.6514, -3.6729, -3.7708, -3.8297, -3.8717, -3.8876, -3.9159, -4.0219, -4.0726, -4.0899, -4.1292, -4.1406, -4.223, -4.3248, -4.366, -4.3794, -4.4232, -4.4581, -4.4672, -4.4794, -4.49, -4.4973, -4.501, -4.6246, -4.627, -2.2094, -2.6551, -2.8446, -3.1932, -3.1978, -3.3042, -3.4399, -3.5068, -3.9255, -3.9798, -4.0839, -4.1174, -4.3223, -4.3266, -4.3573, -4.4124, -4.5259, -4.6153, -4.6923, -4.7023, -4.7897, -4.8012, -4.8598, -4.9092, -4.9264, -4.9314, -4.9847, -5.0531, -5.0544, -5.0869, -4.5169, -2.6637, -2.9465, -3.0426, -3.1444, -3.1917, -3.2281, -3.2781, -3.4668, -3.5288, -3.5606, -3.7296, -3.7466, -3.7851, -4.0875, -4.1727, -4.1842, -4.2427, -4.2429, -4.3191, -4.3774, -4.3934, -4.4103, -4.4549, -4.4694, -4.5464, -4.574, -4.5755, -4.7386, -4.7456, -4.8503, -2.5371, -2.9028, -2.9865, -3.1562, -3.2969, -3.3791, -3.4197, -3.4585, -3.5319, -3.6214, -3.75, -3.7729, -3.9347, -3.9722, -4.0586, -4.222, -4.2342, -4.2348, -4.2391, -4.2565, -4.2766, -4.4056, -4.4327, -4.4719, -4.5642, -4.5802, -4.6008, -4.6015, -4.6854, -4.7341, -2.6443, -2.8026, -3.6058, -3.6127, -3.6616, -3.7106, -3.7825, -3.8093, -3.8942, -4.0459, -4.0756, -4.1598, -4.1973, -4.2517, -4.4248, -4.4349, -4.4384, -4.4818, -4.493, -4.5526, -4.5717, -4.6568, -4.661, -4.6874, -4.6879, -4.6917, -4.7747, -4.7771, -4.837, -4.8474, -2.0748, -2.5507, -2.6064, -3.3969, -3.4433, -3.9785, -3.9919, -4.0899, -4.0968, -4.1813, -4.1817, -4.214, -4.3033, -4.3084, -4.323, -4.3588, -4.4474, -4.4652, -4.4756, -4.4801, -4.4874, -4.5153, -4.5229, -4.7012, -4.7027, -4.7734, -4.8977, -4.92, -4.9431, -4.9674, -1.853, -2.3032, -3.0118, -3.6027, -3.7114, -3.7596, -3.7915, -3.9132, -3.946, -3.9614, -4.1016, -4.1246, -4.2651, -4.296, -4.4255, -4.4321, -4.5298, -4.5451, -4.6173, -4.6658, -4.6866, -4.6977, -4.7649, -4.8857, -4.9121, -4.9541, -4.9799, -4.9912, -5.017, -5.0231, -2.2623, -2.7542, -2.8713, -3.164, -3.4054, -3.5783, -3.6227, -3.7258, -3.7261, -3.7347, -3.8884, -3.9342, -4.055, -4.2106, -4.2691, -4.2839, -4.3065, -4.3727, -4.3844, -4.4198, -4.6736, -4.6973, -4.7255, -4.7851, -4.8293, -4.8992, -4.9387, -4.9977, -5.0178, -5.0587, -2.8151, -3.1577, -3.1604, -3.3357, -3.371, -3.4293, -3.7587, -3.8877, -3.9542, -3.9565, -3.9861, -4.1223, -4.1367, -4.3243, -4.4053, -4.439, -4.4481, -4.4559, -4.5226, -4.627, -4.6514, -4.704, -4.7113, -4.7727, -4.8142, -4.9026, -4.9141, -4.9329, -4.936, -4.9477, -2.5726, -2.785, -3.0768, -3.3215, -3.3361, -3.3469, -3.4664, -3.5083, -3.7294, -3.775, -4.1178, -4.1432, -4.1697, -4.2785, -4.3415, -4.4296, -4.5614, -4.5638, -4.6163, -4.6689, -4.7247, -4.7396, -4.761, -4.8142, -4.8282, -4.8292, -4.8417, -4.8453, -4.908, -4.9317, -1.9439, -2.3969, -2.4626, -3.2572, -3.6045, -3.6954, -3.7747, -3.7992, -3.8123, -3.8806, -4.0416, -4.2163, -4.2568, -4.374, -4.4127, -4.4934, -4.6079, -4.6314, -4.7817, -4.7877, -4.8296, -4.834, -4.9485, -4.9486, -4.978, -5.0194, -5.0407, -5.1081, -5.1933, -5.2208, -2.9326, -3.2822, -3.2958, -3.5858, -3.6763, -3.6845, -3.9307, -3.9426, -3.9683, -3.996, -4.0663, -4.0866, -4.0879, -4.1586, -4.1699, -4.3305, -4.3573, -4.3668, -4.3762, -4.3767, -4.4988, -4.5663, -4.6263, -4.6694, -4.7137, -4.7369, -4.7683, -4.7862, -4.8299, -4.8422, -2.6712, -3.1831, -3.2437, -3.4719, -3.4761, -3.4897, -3.5941, -3.8674, -3.9375, -3.9667, -3.9827, -4.0261, -4.2047, -4.2872, -4.2965, -4.3104, -4.3433, -4.3571, -4.3986, -4.518, -4.5236, -4.5524, -4.5752, -4.6422, -4.6968, -4.7827, -4.8338, -4.9336, -5.0359, -5.0665, -2.7517, -3.2446, -3.2644, -3.4062, -3.4327, -3.4424, -3.6059, -3.7176, -3.7891, -3.8073, -3.8093, -3.8338, -3.8623, -3.9078, -3.9907, -4.1293, -4.2436, -4.2977, -4.3086, -4.3486, -4.362, -4.3639, -4.4893, -4.5135, -4.7236, -4.841, -4.8608, -4.9337, -5.0502, -5.134], \"loglift\": [30.0, 29.0, 28.0, 27.0, 26.0, 25.0, 24.0, 23.0, 22.0, 21.0, 20.0, 19.0, 18.0, 17.0, 16.0, 15.0, 14.0, 13.0, 12.0, 11.0, 10.0, 9.0, 8.0, 7.0, 6.0, 5.0, 4.0, 3.0, 2.0, 1.0, 0.9751, 0.9751, 0.9751, 0.9751, 0.9751, 0.9751, 0.9751, 0.9751, 0.9751, 0.9751, 0.975, 0.975, 0.975, 0.975, 0.975, 0.975, 0.975, 0.975, 0.975, 0.975, 0.975, 0.975, 0.975, 0.975, 0.975, 0.975, 0.975, 0.975, 0.975, 0.975, 0.9742, 0.9526, 0.941, 2.2683, 2.2683, 2.2683, 2.2682, 2.2682, 2.2682, 2.2682, 2.2682, 2.2682, 2.2682, 2.2681, 2.2681, 2.268, 2.268, 2.2679, 2.2679, 2.2679, 2.2678, 2.2678, 2.2678, 2.2677, 2.2677, 2.2677, 2.2675, 2.2674, 2.2673, 2.2672, 2.2671, 2.2668, 2.2667, 2.2646, 2.2658, 2.2606, 2.1893, 2.1351, 2.0492, 1.709, 1.6544, 2.3148, 2.3148, 2.3147, 2.3147, 2.3146, 2.3146, 2.3146, 2.3146, 2.3146, 2.3146, 2.3146, 2.3145, 2.3145, 2.3145, 2.3144, 2.3143, 2.3143, 2.3143, 2.3143, 2.3143, 2.3142, 2.3142, 2.3142, 2.3141, 2.3141, 2.3141, 2.314, 2.314, 2.3139, 2.3139, 2.3121, 2.306, 2.312, 2.3084, 1.467, 1.934, 0.8329, 2.4644, 2.4643, 2.4643, 2.4643, 2.4643, 2.4643, 2.4642, 2.4642, 2.4641, 2.4641, 2.4641, 2.4641, 2.464, 2.464, 2.464, 2.4639, 2.4639, 2.4639, 2.4639, 2.4639, 2.4637, 2.4637, 2.4637, 2.4637, 2.4636, 2.4636, 2.4636, 2.4636, 2.4634, 2.4634, 2.4632, 2.4156, 2.2027, 2.3253, 2.3729, 2.1511, 2.3285, 2.0965, 1.9749, 3.0206, 3.0206, 3.0206, 3.0205, 3.0205, 3.0205, 3.0205, 3.0205, 3.0205, 3.0204, 3.0204, 3.0204, 3.0204, 3.0204, 3.0203, 3.0202, 3.0202, 3.0202, 3.0202, 3.0202, 3.0201, 3.0201, 3.02, 3.02, 3.0199, 3.0199, 3.0197, 3.0196, 3.0196, 3.0196, 2.9935, 3.565, 3.5649, 3.5649, 3.5649, 3.5648, 3.5647, 3.5646, 3.5645, 3.5645, 3.5645, 3.5644, 3.5642, 3.5638, 3.5638, 3.5638, 3.5637, 3.5635, 3.5634, 3.5634, 3.5634, 3.5633, 3.5632, 3.5632, 3.5631, 3.5628, 3.5627, 3.5627, 3.5627, 3.5624, 3.5622, 3.592, 3.5919, 3.5918, 3.5917, 3.5917, 3.5917, 3.5917, 3.5916, 3.5916, 3.5916, 3.5915, 3.5915, 3.5914, 3.5914, 3.5914, 3.5913, 3.5913, 3.5912, 3.5911, 3.591, 3.591, 3.591, 3.5909, 3.5909, 3.5909, 3.5909, 3.5909, 3.5909, 3.5907, 3.5907, 3.5977, 3.5976, 3.5976, 3.5975, 3.5975, 3.5974, 3.5974, 3.5973, 3.597, 3.597, 3.5969, 3.5969, 3.5966, 3.5966, 3.5966, 3.5965, 3.5964, 3.5962, 3.5961, 3.5961, 3.5959, 3.5959, 3.5958, 3.5956, 3.5956, 3.5956, 3.5955, 3.5953, 3.5953, 3.5952, 2.5933, 3.6473, 3.6472, 3.6472, 3.6472, 3.6471, 3.6471, 3.6471, 3.647, 3.647, 3.6469, 3.6468, 3.6468, 3.6468, 3.6465, 3.6464, 3.6464, 3.6463, 3.6463, 3.6463, 3.6462, 3.6462, 3.6461, 3.6461, 3.646, 3.6459, 3.6459, 3.6459, 3.6456, 3.6456, 3.6453, 3.7482, 3.7481, 3.7481, 3.748, 3.7479, 3.7479, 3.7478, 3.7478, 3.7478, 3.7477, 3.7476, 3.7476, 3.7474, 3.7474, 3.7473, 3.7471, 3.7471, 3.7471, 3.7471, 3.7471, 3.747, 3.7469, 3.7468, 3.7467, 3.7466, 3.7466, 3.7465, 3.7465, 3.7463, 3.7462, 3.9397, 3.9397, 3.9392, 3.9392, 3.9392, 3.9391, 3.939, 3.939, 3.9389, 3.9387, 3.9387, 3.9386, 3.9385, 3.9384, 3.9381, 3.9381, 3.9381, 3.938, 3.938, 3.9379, 3.9378, 3.9376, 3.9376, 3.9375, 3.9375, 3.9375, 3.9373, 3.9373, 3.9371, 3.9371, 4.0083, 4.0082, 4.0082, 4.0078, 4.0077, 4.0072, 4.0072, 4.007, 4.007, 4.0069, 4.0069, 4.0068, 4.0067, 4.0067, 4.0066, 4.0066, 4.0064, 4.0064, 4.0063, 4.0063, 4.0063, 4.0062, 4.0062, 4.0058, 4.0058, 4.0056, 4.0052, 4.0051, 4.005, 4.005, 4.1288, 4.1287, 4.1284, 4.128, 4.1278, 4.1278, 4.1277, 4.1276, 4.1275, 4.1275, 4.1273, 4.1273, 4.127, 4.1269, 4.1266, 4.1266, 4.1264, 4.1263, 4.1261, 4.126, 4.1259, 4.1259, 4.1257, 4.1253, 4.1252, 4.125, 4.1249, 4.1249, 4.1248, 4.1247, 4.154, 4.1538, 4.1538, 4.1536, 4.1534, 4.1532, 4.1532, 4.1531, 4.1531, 4.1531, 4.1529, 4.1528, 4.1526, 4.1523, 4.1522, 4.1522, 4.1521, 4.152, 4.152, 4.1519, 4.1512, 4.1511, 4.151, 4.1508, 4.1507, 4.1504, 4.1503, 4.15, 4.1499, 4.1497, 4.1987, 4.1985, 4.1985, 4.1983, 4.1983, 4.1982, 4.1979, 4.1977, 4.1976, 4.1976, 4.1976, 4.1973, 4.1973, 4.1969, 4.1967, 4.1966, 4.1966, 4.1966, 4.1964, 4.1961, 4.196, 4.1959, 4.1958, 4.1956, 4.1955, 4.1951, 4.1951, 4.195, 4.195, 4.1949, 4.2419, 4.2418, 4.2416, 4.2414, 4.2414, 4.2414, 4.2413, 4.2412, 4.241, 4.2409, 4.2404, 4.2403, 4.2403, 4.24, 4.2399, 4.2396, 4.2393, 4.2393, 4.2391, 4.2389, 4.2387, 4.2387, 4.2386, 4.2384, 4.2384, 4.2384, 4.2383, 4.2383, 4.238, 4.2379, 4.2719, 4.2718, 4.2718, 4.2713, 4.271, 4.2709, 4.2708, 4.2707, 4.2707, 4.2706, 4.2703, 4.27, 4.2699, 4.2696, 4.2695, 4.2693, 4.2689, 4.2688, 4.2683, 4.2683, 4.2681, 4.2681, 4.2676, 4.2676, 4.2675, 4.2673, 4.2672, 4.2668, 4.2663, 4.2662, 4.2735, 4.2733, 4.2733, 4.273, 4.2729, 4.2728, 4.2725, 4.2725, 4.2724, 4.2724, 4.2722, 4.2722, 4.2722, 4.2721, 4.272, 4.2717, 4.2716, 4.2716, 4.2716, 4.2716, 4.2712, 4.271, 4.2708, 4.2707, 4.2705, 4.2704, 4.2703, 4.2702, 4.2701, 4.27, 4.2883, 4.288, 4.288, 4.2877, 4.2877, 4.2877, 4.2876, 4.2872, 4.2871, 4.2871, 4.287, 4.287, 4.2866, 4.2864, 4.2864, 4.2864, 4.2863, 4.2862, 4.2861, 4.2858, 4.2858, 4.2857, 4.2856, 4.2854, 4.2852, 4.2849, 4.2847, 4.2842, 4.2838, 4.2836, 4.2991, 4.2987, 4.2987, 4.2986, 4.2985, 4.2985, 4.2984, 4.2982, 4.2981, 4.2981, 4.2981, 4.298, 4.298, 4.2979, 4.2978, 4.2975, 4.2973, 4.2971, 4.2971, 4.297, 4.297, 4.297, 4.2966, 4.2965, 4.2958, 4.2954, 4.2953, 4.295, 4.2944, 4.2939]}, \"token.table\": {\"Topic\": [19, 18, 17, 12, 15, 19, 18, 11, 1, 2, 5, 9, 20, 1, 4, 18, 18, 4, 8, 18, 4, 18, 3, 12, 15, 16, 5, 1, 3, 11, 1, 8, 6, 13, 2, 2, 5, 14, 15, 14, 11, 13, 10, 2, 10, 5, 9, 2, 5, 10, 8, 17, 12, 20, 17, 13, 14, 10, 19, 3, 15, 9, 3, 13, 17, 11, 13, 16, 11, 4, 1, 19, 4, 16, 12, 17, 13, 10, 8, 20, 20, 2, 8, 5, 20, 20, 5, 18, 16, 10, 14, 16, 18, 15, 14, 15, 8, 14, 3, 3, 9, 1, 3, 13, 7, 16, 15, 10, 16, 9, 19, 20, 18, 6, 10, 7, 15, 10, 20, 17, 17, 11, 4, 9, 7, 20, 16, 14, 11, 1, 4, 2, 15, 2, 5, 5, 19, 13, 13, 3, 17, 16, 1, 3, 8, 5, 11, 4, 18, 12, 15, 4, 1, 4, 15, 8, 16, 19, 16, 10, 2, 3, 18, 7, 6, 3, 14, 5, 13, 14, 18, 2, 18, 12, 7, 1, 3, 14, 9, 20, 10, 15, 16, 2, 4, 12, 12, 12, 12, 6, 12, 5, 9, 14, 6, 1, 3, 4, 1, 14, 3, 1, 15, 15, 8, 19, 6, 7, 19, 3, 3, 12, 7, 7, 10, 13, 5, 3, 1, 4, 16, 16, 10, 1, 15, 16, 8, 1, 4, 12, 3, 1, 2, 18, 16, 13, 2, 5, 10, 10, 3, 20, 17, 8, 9, 1, 3, 17, 7, 9, 19, 9, 9, 12, 1, 2, 20, 19, 19, 7, 5, 8, 4, 5, 12, 10, 9, 19, 19, 14, 17, 3, 19, 6, 18, 10, 11, 4, 20, 6, 11, 1, 12, 14, 13, 1, 7, 4, 7, 12, 7, 4, 17, 19, 11, 19, 4, 8, 11, 1, 2, 17, 17, 2, 1, 2, 9, 19, 2, 12, 12, 1, 2, 20, 5, 17, 1, 17, 4, 20, 13, 11, 14, 20, 3, 6, 3, 5, 8, 2, 13, 14, 7, 3, 4, 6, 16, 9, 1, 4, 4, 12, 13, 16, 10, 1, 2, 18, 16, 16, 1, 9, 1, 4, 2, 2, 8, 5, 17, 11, 7, 10, 14, 7, 7, 2, 1, 2, 2, 4, 6, 5, 10, 15, 1, 18, 5, 3, 13, 4, 18, 17, 14, 20, 4, 16, 17, 9, 3, 11, 20, 10, 18, 15, 17, 4, 1, 6, 6, 8, 1, 4, 4, 9, 12, 17, 7, 9, 17, 2, 16, 3, 2, 8, 13, 15, 16, 12, 7, 6, 10, 12, 9, 10, 20, 20, 5, 5, 2, 20, 2, 2, 4, 18, 9, 11, 19, 13, 15, 11, 18, 20, 19, 19, 2, 16, 7, 10, 15, 12, 7, 1, 2, 7, 9, 5, 8, 8, 14, 9, 12, 19, 18, 19, 8, 7, 13, 19, 3, 4, 19, 11, 11, 1, 13, 15, 5, 13, 4, 12, 10, 8, 20, 6, 12, 6, 4, 15, 11, 6, 3, 7, 17, 1, 1, 2, 11, 4, 13, 3, 3, 9, 10, 18, 17, 14, 8, 13, 14, 8, 6, 4, 20, 6, 13, 3, 19, 10, 19, 16, 17, 11, 3, 7, 11, 11, 8, 15, 15, 15, 10, 4, 6, 20, 9, 8, 7, 5, 2, 8, 5, 11, 6, 10, 8, 9, 17, 1, 13, 20, 8, 9, 1, 20, 17, 11, 5, 17, 8, 2, 5, 14, 1, 6, 18, 1, 3, 14, 1, 3, 4, 13, 4, 2, 5, 19, 6, 14, 15, 11, 4, 11, 15, 18, 6, 15, 18, 6, 5, 1, 1, 1, 7, 3, 19, 13, 9, 6, 5, 8, 6, 12, 19, 1, 18, 6, 20, 16, 14, 9, 15, 14, 18, 18, 18, 1, 8, 14, 14, 11, 17, 17, 8, 13, 3, 4, 3, 3, 6, 1, 10, 12, 16, 3, 1, 15, 7, 1, 2, 6, 16, 1, 14, 20, 13, 20, 7, 4, 16, 11, 1, 2, 14, 9, 16, 7, 12], \"Freq\": [0.9958497095840124, 0.9978021073489842, 0.9956737212518638, 0.9983554528008476, 0.996460289183305, 0.9984289181841491, 0.9978178379142236, 0.9991591746526196, 0.45432816950035426, 0.5412609195203006, 0.004359984391993216, 0.9996852982038188, 0.9973848284989912, 0.38678948689194054, 0.6128870324485169, 0.9975564818452386, 0.9987280878002792, 0.9987321426446141, 0.9984810394336194, 0.9971755614331614, 0.9998954006754075, 0.9983384225499549, 0.9990081488253795, 0.9969070107356458, 0.998780983368121, 0.998618414173203, 0.9994173592373705, 0.966408245119943, 0.033534670966307176, 0.9976395166726325, 0.9998098554345204, 0.9984305150155613, 0.9959555322870458, 0.997326404582037, 0.9998753653509259, 0.9995114782602997, 0.998699443765081, 0.9986852677791813, 0.9969487288809924, 0.9975622134273725, 0.9971890884009452, 0.9982074212528813, 0.9996808493459127, 0.9998716279928334, 0.9984444070247672, 0.9996144919118437, 0.9994548371113067, 0.9998326767892142, 0.9991257456613362, 0.9981491853130887, 0.997543076849904, 0.9951564242331437, 0.9988286558306835, 0.9979334442664047, 0.9986328872333103, 0.9988000974794121, 0.9993299519270443, 0.9996620913257382, 0.9989561595747102, 0.9994108793306363, 0.9983010417648103, 0.9979234810866406, 0.9998096740184688, 0.9982372049121977, 0.993433127995446, 0.9993066806478988, 0.99965700218381, 0.9971002008876413, 0.9997619234205045, 0.999910800720031, 0.999919072980537, 0.9992836176327948, 0.9992627362612313, 0.9956438539617718, 0.997534094608622, 0.9990168997621809, 0.9986502037819979, 0.9993138572159187, 0.9979584241235651, 0.9973792138502086, 0.9980661719175653, 0.9993619361465029, 0.9998704308078731, 0.999577408157364, 0.9992928198864809, 0.9934340150382346, 0.9997983713936346, 0.9992072431029225, 0.9945658641519194, 0.9990924336501781, 0.9950759068378544, 0.9966230823831012, 0.9990642013505483, 0.9967581165735316, 0.9997844830917493, 0.9974600510383517, 0.9981891256610312, 0.9973433817359773, 0.9996567485830787, 0.9996242825010143, 0.9987344266017901, 0.0026491988184889344, 0.9973071622304482, 0.9982985068133646, 0.9987290203999148, 0.9975143207159374, 0.9984093829088002, 0.9991600856085432, 0.9980410311205182, 0.9987089996282621, 0.9991275326602194, 0.994561468082149, 0.9973777750448726, 0.9996978082444419, 0.9987310506748334, 0.9991376770297193, 0.9976836472540317, 0.9987440258539594, 0.9981911588418996, 0.9972660815485703, 0.9984403483741343, 0.9980071483222396, 0.9998892968398151, 0.9993642838819432, 0.9988920923183896, 0.9980385471979101, 0.9973915953598225, 0.9987282188955348, 0.9990970709695846, 0.0009900306179206437, 0.9987428873583453, 0.9994829285795854, 0.9964132632841431, 0.9998303703205438, 0.9998288051169221, 0.9993952855287108, 0.9964143003218636, 0.9976625368036911, 0.9964625042992646, 0.9996703365202897, 0.9984319220936312, 0.9973551625175429, 0.002454556577856323, 0.9972512724890545, 0.9979708403651162, 0.9995971032838659, 0.9970105367783624, 0.9997564626112891, 0.9983312137850071, 0.9991128745859098, 0.9991139271703375, 0.9984729760318686, 0.12662332970352486, 0.8727771137504761, 0.9968715252098543, 0.9978422975390455, 0.998936098001618, 0.9965628946604543, 0.9976633578641648, 0.9986051333923751, 0.5715344929561235, 0.42829782158342755, 0.997916819725255, 0.9991759217789492, 0.9981072358230235, 0.9999169969136676, 0.9984100539058824, 0.9989988906227661, 0.9971106975632498, 0.9972184425775283, 0.9981033000867553, 0.9997197495988547, 0.9980564148774995, 0.9984991856826377, 0.9979343139543406, 0.9999339609632829, 0.9987993484427498, 0.9994821437541693, 0.9978462026647466, 0.9977741879023665, 0.9988311909867449, 0.9965289676584181, 0.9944580298076074, 0.9991663187071451, 0.9994986400887969, 0.9993532867001225, 0.9982545999614397, 0.9967807656970901, 0.9976844710327569, 0.9990149578044298, 0.9979059628668245, 0.9995268788770891, 0.9985060278244245, 0.9995728097348098, 0.9972752957264884, 0.9998200611210858, 0.12977793272257548, 0.8700286783267187, 0.9998603001327118, 0.9968646200038553, 0.9994799362204977, 0.9998858029997953, 0.9993249486658797, 0.9976894524985881, 0.9995752422802896, 0.9988971760644313, 0.9998175634705693, 0.9995676116625019, 0.9992147432246341, 0.9999505067805354, 0.999646850346811, 0.9966341150839254, 0.9990071143346466, 0.9995984845677609, 0.9985205792858799, 0.9974717275823747, 0.9998846941317474, 0.9997674938903112, 0.08711902213889147, 0.9124571266126001, 0.9988990734879318, 0.9963923153905259, 0.9995133291678648, 0.9999798606627363, 0.9983584764839756, 0.995701138380705, 0.9993347224875625, 0.977640360744336, 0.02223853838963494, 0.9987693174549929, 0.9991645718039669, 0.9999791062453669, 0.9999534765802904, 0.9983905612189887, 0.9958956556375926, 0.997774466099593, 0.9999051975281807, 0.9992912329555136, 0.9981792155999065, 0.9989024950956342, 0.9994445440838664, 0.9951601987772992, 0.9976828405296059, 0.9993995795772601, 0.9994985095595279, 0.006108413112728587, 0.9934897612630709, 0.9966298157383423, 0.9995425108247931, 0.9977939326008084, 0.9953185664881637, 0.9976143521059696, 0.9990972587273528, 0.999800936537184, 0.0074856890011106335, 0.9921656963555385, 0.999124972173779, 0.9983499608059959, 0.9975458478632859, 0.9987896878621917, 0.9997612533408138, 0.9994305903947761, 0.9998720680700878, 0.9994670923807859, 0.997310354644478, 0.9994133504021327, 0.9990356596340092, 0.9962727194997462, 0.9955602123697014, 0.9987829927471396, 0.9974524215432046, 0.9988236436102776, 0.9982189045630444, 0.9986060465894467, 0.9977212776710668, 0.9985949818907537, 0.99959489985023, 0.9994493942310826, 0.9979769789426635, 0.9986632315127162, 0.998725772081995, 0.99994885234881, 0.9959367457570067, 0.9973191492483634, 0.9939886513793973, 0.9998487267951679, 0.9994408232838239, 0.999655108214169, 0.9996553377121806, 0.9989305800179303, 0.999283218131178, 0.9993959857616699, 0.995401239593154, 0.9955609870532018, 0.9986642877889668, 0.9988271852205443, 0.9995789608902484, 0.9986964604010626, 0.999073893778432, 0.0022625810546305896, 0.9973457288811639, 0.9989835177310701, 0.9960316630524709, 0.999149162863578, 0.07582486391696779, 0.9239400084697186, 0.9997823028489048, 0.9968172204658841, 0.9995786145957086, 0.9996382404098738, 0.9986119347924618, 0.9999340640404564, 0.9999415957851487, 0.9982134145948435, 0.9996525653963506, 0.9977298925663916, 0.9999296442327527, 0.9939666325033139, 0.9994248731599317, 0.9991197135028249, 0.9958061625587836, 0.99927659738437, 0.9973404251225734, 0.9990937310873442, 0.9996754335385908, 0.9997949377959121, 0.026863302772455366, 0.9730699961101638, 0.9992799007400548, 0.9984162826831544, 0.9978208494318773, 0.9969995097895973, 0.9982519841682241, 0.6832238711917376, 0.3162506110299573, 0.9990068812090145, 0.9980150651646605, 0.9980794835712529, 0.30739668716781815, 0.6920229875721055, 0.9994717782342228, 0.9951622579523586, 0.9966283802053801, 0.9959568134979692, 0.9968436693152409, 0.9998958462876897, 0.9996225198090766, 0.9986925891378214, 0.9975864940408251, 0.99935129148133, 0.9997585850629389, 0.9989034467258864, 0.04758212725799573, 0.9523938419060936, 0.9998985870792503, 0.9962828712343956, 0.0036244943018986656, 0.9992548813077533, 0.9961533315271831, 0.9986196467371555, 0.9981022061389753, 0.9990369688578379, 0.9952190656721507, 0.999597726907249, 0.998580052955728, 0.99815603245562, 0.00018853860029975874, 0.9996316587893209, 0.9988197202213435, 0.9994328853543663, 0.9975192417394396, 0.9991528651879702, 0.9993357754543778, 0.9940839302031781, 0.999788703060652, 0.995692164609493, 0.9996941353980112, 0.9999532244406606, 0.9972767174220257, 0.9990658721085532, 0.9979843600698278, 0.9970867215843597, 0.9996100657928352, 0.9970798603676644, 0.9997090073777631, 0.9986976840099645, 0.9970375771948716, 0.9989683595906255, 0.9997158328595384, 0.9981008706294181, 0.9964888545657112, 0.9977865041548138, 0.9976994902565011, 0.9987777777643171, 0.9935846805449239, 0.9998387201661778, 0.9998768356792557, 0.9976491778728611, 0.9994611871111165, 0.9986729237635392, 0.2689218925093321, 0.7310376724812235, 0.9992559842112019, 0.9991222776746412, 0.9979498325354902, 0.998474328402962, 0.9985637698518812, 0.9987663149544018, 0.9997114807980634, 0.9999755198589316, 0.9994710242108958, 0.9998315402024517, 0.9994363574431239, 0.9996746176934072, 0.9993731282550294, 0.998117907474895, 0.9980672942478082, 0.9980093701565793, 0.9996020186645924, 0.9994386590450337, 0.999750253999706, 0.9980657039596605, 0.9991272546657712, 0.9992584387715054, 0.9983799690105926, 0.9991734875919784, 0.9989683677434923, 0.999118883346456, 0.9999010759580873, 0.9917346600176571, 0.999898819194402, 0.9983976250248738, 0.9993028512966261, 0.9989154371584533, 0.9990996444830424, 0.9991698685098366, 0.9945195617265008, 0.9969820632746932, 0.9954791745162948, 0.9984126535071601, 0.9980621255949864, 0.9991235934326845, 0.994802829660919, 0.999034479341647, 0.9993661720470484, 0.9958453242202201, 0.9989495025206974, 0.9992501749793481, 0.9966806819839047, 0.998480964104189, 0.9991928697352556, 0.12462542057379825, 0.8751756575396731, 0.9994138699126405, 0.9994778347177887, 0.9984183815984897, 0.9964722594788346, 0.9984380818781663, 0.9977200248005694, 0.9992366658477071, 0.9962946336015454, 0.9987716691837516, 0.996888541986465, 0.9981623803164565, 0.9992033844708436, 0.9991723497290564, 0.9978193259587002, 0.9987062619493047, 0.9994439437540573, 0.9996027609941947, 0.9992583551727546, 0.9972614655574908, 0.9977943370542711, 0.9998726693846639, 0.9961370310783568, 0.9971988079248829, 0.9995529535974406, 0.9997807026206562, 0.9986615602435955, 0.9974502191387367, 0.9996595853846992, 0.9973851514804538, 0.9986947079124567, 0.998359002455604, 0.9997846322830447, 0.9996727015762085, 0.9999606505117564, 0.9942650215866612, 0.9977857647864721, 0.999647711747709, 0.9996999844371082, 0.9996188015597325, 0.9963487495595577, 0.9998950892513128, 0.999840339851876, 0.9997955792280069, 0.9987506455965698, 0.9993555999480035, 0.9982074169210542, 0.9997444121685106, 0.9997887808297089, 0.9984931581377218, 0.9995930363836554, 0.9985699446093032, 0.9995511749687903, 0.9972741502115823, 0.9997621803138281, 0.9978065904673787, 0.9989109382317021, 0.9986402612489513, 0.9998727129894228, 0.9992918403733936, 0.9986317692702256, 0.9990281981000871, 0.99784106835288, 0.9998667883658221, 0.9988667526283148, 0.999525567280755, 0.9940626794821819, 0.9966151554685673, 0.9994342958688057, 0.9979011222171544, 0.9997453706071124, 0.9992295981900242, 0.9988771424942244, 0.9963249992412645, 0.9970538949395911, 0.9954622177780795, 0.9976659874038144, 0.9988915119472205, 0.9984942372113569, 0.9994676383908693, 0.998333803325818, 0.9974776582948773, 0.9981700012201314, 0.999472135200746, 0.9989895989586776, 0.9994367962245332, 0.9987953893852425, 0.9990420528617944, 0.9995280915033544, 0.9968411616221438, 0.9980366804985681, 0.9985314386431806, 0.9984728547976515, 0.9996974689072238, 0.9971424296596764, 0.9998407743788276, 0.9980791213649445, 0.9990320713698708, 0.9995962635612013, 0.9994764241698889, 0.9998242668201678, 0.9983619605173175, 0.999508426716289, 0.9990328807010007, 0.9992173300409715, 0.9955594607729552, 0.9989099512093541, 0.9996330356482441, 0.9993754907012694, 0.996949229034784, 0.9998326112715236, 0.9995137805546935, 0.9989769101176368, 0.999798984240988, 0.9999391273476127, 0.9941907409240184, 0.0030022703424095348, 0.22719680816184154, 0.7697070590352445, 0.9965806601562152, 0.9993091982495036, 0.9982808070273759, 0.9998711965310924, 0.9935081236149174, 0.999204723935028, 0.9985319332470229, 0.9994138046133036, 0.9973509368058804, 0.9998768563941786, 0.9960557151275383, 0.9977644582729969, 0.9979190327682749, 0.9987948761365125, 0.996968117578491, 0.9972120818353235, 0.9987078309917486, 0.9984196174984733, 0.9998261084559237, 0.9998609696498779, 0.9999676449364531, 0.997887115466802, 0.9993385046863955, 0.9963096304055962, 0.9973723553136734, 0.9997032941879765, 0.9963122804116357, 0.9996539128385348, 0.9982638000609373, 0.9985894445495386, 0.9976838279242888, 0.9990336145950471, 0.9998831346235301, 0.9982947791613914, 0.9981665218926735, 0.9952206134768959, 0.9990885882963911, 0.9992638556737811, 0.9995966572831912, 0.9970191172935233, 0.9974262513606935, 0.9995035843928475, 0.996519740420789, 0.9970641823665028, 0.633494140042877, 0.3664555518131241, 0.9960309109474089, 0.9986459806436598, 0.997981578787823, 0.997703904948822, 0.9984313468543348, 0.9991949766031328, 0.9981636277468766, 0.9912409037397657, 0.008661697929740607, 0.999722827927799, 0.9997568678362365, 0.9965478008964902, 0.9999150480713175, 0.9989551430391806, 0.997219446028981, 0.999629976667387, 0.9998297897937516, 0.9998391037014085, 0.9991296691501366, 0.999117247800308, 0.9991375233100048, 0.0008118119222506641, 0.9979506586876279, 0.9994182108475843, 0.999934207232855, 0.9987397001002573, 0.999420124235378, 0.9993936359756026, 0.9991871039220475, 0.9988432892970383, 0.9997990046440335, 0.9985663682181806, 0.998227670380818, 0.19653937973405186, 0.8033111038538243, 0.9978883800990208, 0.9995279707823305, 0.999036925437234, 0.9989537203831368, 0.9988859622110327], \"Term\": [\"1st\", \"access\", \"admit\", \"afford\", \"afternoon\", \"airport\", \"alcohol\", \"allow\", \"also\", \"also\", \"also\", \"alway\", \"ambianc\", \"anoth\", \"anoth\", \"answer\", \"anyon\", \"appoint\", \"approach\", \"asid\", \"ask\", \"assum\", \"attent\", \"attitud\", \"avail\", \"avoid\", \"awesom\", \"back\", \"back\", \"bacon\", \"bad\", \"bag\", \"bake\", \"band\", \"bar\", \"bartend\", \"basic\", \"bathroom\", \"batter\", \"be\", \"beat\", \"bed\", \"beef\", \"beer\", \"believ\", \"best\", \"birthday\", \"bit\", \"bite\", \"bland\", \"blow\", \"bone\", \"book\", \"bottl\", \"box\", \"boy\", \"boyfriend\", \"bread\", \"break\", \"breakfast\", \"brew\", \"bright\", \"bring\", \"brisket\", \"brow\", \"build\", \"burger\", \"busy\", \"buy\", \"call\", \"can\", \"car\", \"care\", \"carpet\", \"cash\", \"cashier\", \"casino\", \"casual\", \"center\", \"certainli\", \"chain\", \"cheap\", \"check\", \"chee\", \"chef\", \"chewi\", \"chicken\", \"child\", \"chill\", \"chip\", \"choos\", \"claim\", \"class\", \"classic\", \"clean\", \"cloth\", \"club\", \"coat\", \"cocktail\", \"cold\", \"color\", \"come\", \"come\", \"comfort\", \"comment\", \"commun\", \"compar\", \"complaint\", \"compliment\", \"concept\", \"concern\", \"condiment\", \"contact\", \"cook\", \"corn\", \"corner\", \"coupon\", \"crazi\", \"cream\", \"crepe\", \"crust\", \"current\", \"custom\", \"cut\", \"cute\", \"damn\", \"dark\", \"date\", \"daughter\", \"day\", \"day\", \"decent\", \"decor\", \"definit\", \"delici\", \"dessert\", \"detail\", \"difficult\", \"dine\", \"dinner\", \"dip\", \"dirti\", \"disappoint\", \"disappoint\", \"discount\", \"dish\", \"display\", \"do\", \"doctor\", \"doesn\", \"dog\", \"dollar\", \"door\", \"door\", \"doubl\", \"doubt\", \"downtown\", \"dozen\", \"draw\", \"dress\", \"drink\", \"drink\", \"driver\", \"drop\", \"dumpl\", \"eat\", \"effort\", \"egg\", \"elev\", \"elsewher\", \"email\", \"enjoy\", \"entertain\", \"especi\", \"establish\", \"even\", \"event\", \"everi\", \"everyon\", \"excel\", \"excit\", \"execut\", \"exist\", \"expen\", \"explain\", \"extrem\", \"eye\", \"fail\", \"fair\", \"fall\", \"famili\", \"fan\", \"fantast\", \"fast\", \"fat\", \"feel\", \"final\", \"final\", \"find\", \"finger\", \"finish\", \"first\", \"fish\", \"fit\", \"fix\", \"flat\", \"flavor\", \"floor\", \"follow\", \"food\", \"forget\", \"form\", \"forward\", \"free\", \"french\", \"frequent\", \"fresh\", \"friend\", \"front\", \"front\", \"game\", \"gem\", \"gener\", \"get\", \"giant\", \"gift\", \"girl\", \"give\", \"give\", \"glad\", \"glass\", \"go\", \"good\", \"grab\", \"grand\", \"greasi\", \"great\", \"green\", \"grill\", \"gross\", \"group\", \"groupon\", \"grow\", \"guy\", \"hair\", \"half\", \"half\", \"hang\", \"happen\", \"happi\", \"happy\", \"haven\", \"heat\", \"help\", \"high\", \"high\", \"hit\", \"hole\", \"honest\", \"hostess\", \"hot\", \"hotel\", \"hour\", \"huge\", \"hurt\", \"husband\", \"ice\", \"imagin\", \"immedi\", \"improv\", \"inch\", \"incre\", \"indian\", \"ingredi\", \"instructor\", \"italian\", \"item\", \"job\", \"joint\", \"joke\", \"juic\", \"just\", \"kink\", \"kitchen\", \"knife\", \"know\", \"lack\", \"ladi\", \"larg\", \"large\", \"late\", \"later\", \"laugh\", \"lay\", \"lead\", \"learn\", \"leave\", \"left\", \"level\", \"light\", \"light\", \"limit\", \"link\", \"liter\", \"littl\", \"littl\", \"live\", \"load\", \"local\", \"locat\", \"lol\", \"look\", \"love\", \"luck\", \"lunch\", \"major\", \"make\", \"mall\", \"man\", \"mani\", \"margarita\", \"market\", \"match\", \"mayb\", \"meal\", \"meat\", \"menu\", \"menu\", \"mess\", \"mexican\", \"mile\", \"milk\", \"mine\", \"minut\", \"minut\", \"mix\", \"modern\", \"mom\", \"money\", \"money\", \"month\", \"mood\", \"mostli\", \"mother\", \"movi\", \"much\", \"music\", \"nail\", \"nearbi\", \"nee\", \"need\", \"neighborhood\", \"never\", \"never\", \"nice\", \"night\", \"night\", \"nit\", \"nnext\", \"nnow\", \"non\", \"noodl\", \"noon\", \"normal\", \"noth\", \"noveral\", \"nthe\", \"nthe\", \"nthi\", \"number\", \"oil\", \"ok\", \"onion\", \"onion_ring\", \"open\", \"opportun\", \"option\", \"order\", \"organ\", \"other\", \"otherwis\", \"oven\", \"overal\", \"own\", \"owner\", \"paint\", \"pair\", \"park\", \"parti\", \"particular\", \"passion\", \"pasta\", \"patient\", \"patio\", \"patti\", \"pay\", \"peopl\", \"pepper\", \"perfect\", \"perform\", \"person\", \"person\", \"phone\", \"photo\", \"pictur\", \"pie\", \"piec\", \"pink\", \"pizza\", \"place\", \"plan\", \"plate\", \"play\", \"plea\", \"pleasant\", \"plenti\", \"polish\", \"polit\", \"poor\", \"pork\", \"portion\", \"posit\", \"post\", \"potato\", \"pour\", \"prefer\", \"prepar\", \"present\", \"pretti\", \"pretzel\", \"price\", \"pricey\", \"problem\", \"process\", \"product\", \"profession\", \"proper\", \"provid\", \"pub\", \"purcha\", \"pure\", \"qualiti\", \"quarter\", \"question\", \"quick\", \"quiet\", \"raman\", \"rate\", \"rave\", \"raw\", \"read\", \"realli\", \"realli\", \"receiv\", \"recommend\", \"red\", \"refer\", \"refund\", \"regardless\", \"regular\", \"remain\", \"rent\", \"repair\", \"replac\", \"request\", \"reserv\", \"resid\", \"respon\", \"restaur\", \"return\", \"rice\", \"rich\", \"ride\", \"right\", \"road\", \"roast\", \"roll\", \"room\", \"rude\", \"ruin\", \"salad\", \"sale\", \"salt\", \"sampl\", \"sandwich\", \"sauc\", \"say\", \"scratch\", \"screen\", \"season\", \"seat\", \"second\", \"section\", \"see\", \"seem\", \"select\", \"sell\", \"send\", \"serv\", \"server\", \"servic\", \"shake\", \"share\", \"shoot\", \"shop\", \"shot\", \"show\", \"shower\", \"shrimp\", \"sick\", \"side\", \"sign\", \"similar\", \"simpl\", \"sing\", \"sit\", \"situat\", \"size\", \"skill\", \"sleep\", \"slice\", \"slightli\", \"slow\", \"smell\", \"smoke\", \"smoothi\", \"snack\", \"snow\", \"soda\", \"soft\", \"solid\", \"someon\", \"somewhat\", \"somewher\", \"son\", \"soon\", \"sort\", \"soup\", \"space\", \"speak\", \"special\", \"speed\", \"spici\", \"split\", \"sport\", \"spot\", \"squar\", \"staff\", \"standard\", \"station\", \"stay\", \"steak\", \"still\", \"stomach\", \"store\", \"street\", \"style\", \"sub\", \"suck\", \"suggest\", \"super\", \"support\", \"sure\", \"sweet\", \"system\", \"t\", \"tabl\", \"tag\", \"take\", \"take\", \"take\", \"talent\", \"talk\", \"tap\", \"tast\", \"tasteless\", \"tasti\", \"tax\", \"tea\", \"team\", \"tell\", \"temp\", \"tender\", \"test\", \"textur\", \"theater\", \"theme\", \"thick\", \"thin\", \"thing\", \"think\", \"time\", \"tini\", \"tip\", \"tire\", \"toast\", \"today\", \"tomato\", \"top\", \"touch\", \"tough\", \"tradit\", \"treat\", \"tri\", \"truck\", \"true\", \"tune\", \"tv\", \"twice\", \"type\", \"typic\", \"uncomfort\", \"understand\", \"updat\", \"vanilla\", \"vega\", \"vega\", \"vegetarian\", \"veggi\", \"venu\", \"version\", \"vibe\", \"view\", \"waffl\", \"wait\", \"wait\", \"waiter\", \"waitress\", \"wall\", \"want\", \"warm\", \"wash\", \"watch\", \"water\", \"way\", \"wear\", \"weird\", \"well\", \"well\", \"white\", \"wife\", \"will\", \"window\", \"wine\", \"wing\", \"wish\", \"wor\", \"work\", \"worker\", \"world\", \"worth\", \"worth\", \"wrap\", \"year\", \"yelp\", \"yesterday\", \"yet\"]}, \"R\": 30, \"lambda.step\": 0.01, \"plot.opts\": {\"xlab\": \"PC1\", \"ylab\": \"PC2\"}, \"topic.order\": [16, 13, 8, 15, 12, 3, 1, 5, 7, 9, 20, 19, 6, 10, 2, 4, 18, 11, 17, 14]};\n",
       "\n",
       "function LDAvis_load_lib(url, callback){\n",
       "  var s = document.createElement('script');\n",
       "  s.src = url;\n",
       "  s.async = true;\n",
       "  s.onreadystatechange = s.onload = callback;\n",
       "  s.onerror = function(){console.warn(\"failed to load library \" + url);};\n",
       "  document.getElementsByTagName(\"head\")[0].appendChild(s);\n",
       "}\n",
       "\n",
       "if(typeof(LDAvis) !== \"undefined\"){\n",
       "   // already loaded: just create the visualization\n",
       "   !function(LDAvis){\n",
       "       new LDAvis(\"#\" + \"ldavis_el601397771213465123371575904\", ldavis_el601397771213465123371575904_data);\n",
       "   }(LDAvis);\n",
       "}else if(typeof define === \"function\" && define.amd){\n",
       "   // require.js is available: use it to load d3/LDAvis\n",
       "   require.config({paths: {d3: \"https://d3js.org/d3.v5\"}});\n",
       "   require([\"d3\"], function(d3){\n",
       "      window.d3 = d3;\n",
       "      LDAvis_load_lib(\"https://cdn.jsdelivr.net/gh/bmabey/pyLDAvis@3.3.1/pyLDAvis/js/ldavis.v3.0.0.js\", function(){\n",
       "        new LDAvis(\"#\" + \"ldavis_el601397771213465123371575904\", ldavis_el601397771213465123371575904_data);\n",
       "      });\n",
       "    });\n",
       "}else{\n",
       "    // require.js not available: dynamically load d3 & LDAvis\n",
       "    LDAvis_load_lib(\"https://d3js.org/d3.v5.js\", function(){\n",
       "         LDAvis_load_lib(\"https://cdn.jsdelivr.net/gh/bmabey/pyLDAvis@3.3.1/pyLDAvis/js/ldavis.v3.0.0.js\", function(){\n",
       "                 new LDAvis(\"#\" + \"ldavis_el601397771213465123371575904\", ldavis_el601397771213465123371575904_data);\n",
       "            })\n",
       "         });\n",
       "}\n",
       "</script>"
      ],
      "text/plain": [
       "PreparedData(topic_coordinates=              x         y  topics  cluster       Freq\n",
       "topic                                                \n",
       "15    -0.277965 -0.155225       1        1  37.713778\n",
       "12    -0.196185 -0.263201       2        1  10.348310\n",
       "7     -0.243317  0.207402       3        1   9.878466\n",
       "14    -0.213633  0.286478       4        1   8.505696\n",
       "11    -0.055180 -0.122442       5        1   4.876249\n",
       "2      0.007245 -0.040936       6        1   2.829328\n",
       "0      0.033564 -0.006567       7        1   2.753371\n",
       "4      0.032082 -0.016979       8        1   2.738168\n",
       "6      0.038757 -0.003553       9        1   2.605475\n",
       "8      0.026560 -0.024876      10        1   2.355459\n",
       "19     0.074060  0.012939      11        1   1.944692\n",
       "18     0.072595  0.010563      12        1   1.816017\n",
       "5      0.079057  0.012443      13        1   1.609911\n",
       "9      0.080521  0.011599      14        1   1.569719\n",
       "1      0.087730  0.011820      15        1   1.500791\n",
       "3      0.090292  0.015249      16        1   1.437467\n",
       "17     0.086741  0.014180      17        1   1.395145\n",
       "10     0.087786  0.019372      18        1   1.392396\n",
       "16     0.093478  0.017724      19        1   1.372134\n",
       "13     0.095813  0.014010      20        1   1.357427, topic_info=         Term          Freq         Total Category  logprob  loglift\n",
       "68       good  28999.000000  28999.000000  Default  30.0000  30.0000\n",
       "77      place  27979.000000  27979.000000  Default  29.0000  29.0000\n",
       "67       food  25992.000000  25992.000000  Default  28.0000  28.0000\n",
       "117     order  22428.000000  22428.000000  Default  27.0000  27.0000\n",
       "40       come  21515.000000  21515.000000  Default  26.0000  26.0000\n",
       "...       ...           ...           ...      ...      ...      ...\n",
       "4623  groupon    227.144387    228.103978  Topic20  -4.8410   4.2954\n",
       "877       own    222.693507    223.653098  Topic20  -4.8608   4.2953\n",
       "1611     tune    207.034493    207.994084  Topic20  -4.9337   4.2950\n",
       "3674    chewi    184.256535    185.216126  Topic20  -5.0502   4.2944\n",
       "2428  pretzel    169.448893    170.408484  Topic20  -5.1340   4.2939\n",
       "\n",
       "[659 rows x 6 columns], token_table=      Topic      Freq       Term\n",
       "term                            \n",
       "4285     19  0.995850        1st\n",
       "2113     18  0.997802     access\n",
       "763      17  0.995674      admit\n",
       "1851     12  0.998355     afford\n",
       "1350     15  0.996460  afternoon\n",
       "...     ...       ...        ...\n",
       "2136     14  0.997888       wrap\n",
       "188       9  0.999528       year\n",
       "1117     16  0.999037       yelp\n",
       "671       7  0.998954  yesterday\n",
       "820      12  0.998886        yet\n",
       "\n",
       "[657 rows x 3 columns], R=30, lambda_step=0.01, plot_opts={'xlab': 'PC1', 'ylab': 'PC2'}, topic_order=[16, 13, 8, 15, 12, 3, 1, 5, 7, 9, 20, 19, 6, 10, 2, 4, 18, 11, 17, 14])"
      ]
     },
     "execution_count": 19,
     "metadata": {},
     "output_type": "execute_result"
    }
   ],
   "source": [
    "!pip install pyLDAvis\n",
    "import pyLDAvis\n",
    "import pyLDAvis.gensim_models\n",
    "import matplotlib.pyplot as plt\n",
    "%matplotlib inline\n",
    "pyLDAvis.enable_notebook()\n",
    "vis = pyLDAvis.gensim_models.prepare(lda_model, corpus, id2word)\n",
    "vis\n"
   ]
  },
  {
   "cell_type": "markdown",
   "metadata": {
    "id": "KW3vdB36_SfG"
   },
   "source": [
    "# **LSA**"
   ]
  },
  {
   "cell_type": "code",
   "execution_count": 20,
   "metadata": {
    "id": "_TYdP9Ov6HMu"
   },
   "outputs": [],
   "source": [
    "lsamodel = models.LsiModel(corpus, num_topics=20, id2word=id2word)\n"
   ]
  },
  {
   "cell_type": "code",
   "execution_count": 21,
   "metadata": {
    "colab": {
     "base_uri": "https://localhost:8080/"
    },
    "id": "N6UgkV6MD7wO",
    "outputId": "7d8b6cb5-ab1c-40db-e3f8-af1cbce6a165"
   },
   "outputs": [
    {
     "name": "stdout",
     "output_type": "stream",
     "text": [
      "[(0,\n",
      "  '0.296*\"go\" + 0.247*\"get\" + 0.227*\"good\" + 0.215*\"just\" + 0.211*\"place\" + '\n",
      "  '0.207*\"time\" + 0.194*\"food\" + 0.189*\"come\" + 0.187*\"order\" + 0.160*\"say\"'),\n",
      " (1,\n",
      "  '-0.426*\"food\" + -0.418*\"good\" + -0.278*\"order\" + 0.244*\"go\" + 0.227*\"room\" '\n",
      "  '+ -0.211*\"place\" + 0.173*\"get\" + 0.173*\"call\" + 0.170*\"say\" + 0.169*\"tell\"'),\n",
      " (2,\n",
      "  '0.533*\"order\" + -0.373*\"good\" + -0.275*\"place\" + 0.272*\"come\" + '\n",
      "  '-0.213*\"room\" + 0.184*\"take\" + 0.151*\"wait\" + -0.147*\"can\" + 0.141*\"food\" + '\n",
      "  '0.140*\"ask\"'),\n",
      " (3,\n",
      "  '-0.809*\"go\" + 0.313*\"room\" + 0.220*\"get\" + 0.160*\"stay\" + 0.145*\"come\" + '\n",
      "  '0.132*\"hotel\" + -0.130*\"place\" + -0.095*\"back\" + 0.082*\"check\" + '\n",
      "  '-0.081*\"food\"'),\n",
      " (4,\n",
      "  '-0.741*\"place\" + 0.591*\"good\" + -0.136*\"food\" + 0.125*\"go\" + 0.076*\"get\" + '\n",
      "  '-0.075*\"room\" + 0.065*\"time\" + -0.051*\"can\" + -0.050*\"stay\" + 0.050*\"back\"'),\n",
      " (5,\n",
      "  '0.640*\"get\" + 0.346*\"food\" + -0.277*\"just\" + 0.208*\"go\" + -0.203*\"say\" + '\n",
      "  '0.200*\"room\" + -0.181*\"make\" + -0.180*\"can\" + -0.175*\"will\" + 0.102*\"wait\"'),\n",
      " (6,\n",
      "  '-0.552*\"get\" + 0.418*\"time\" + 0.360*\"room\" + 0.316*\"food\" + -0.309*\"just\" + '\n",
      "  '0.192*\"stay\" + 0.151*\"hotel\" + -0.131*\"place\" + -0.106*\"say\" + '\n",
      "  '0.095*\"check\"'),\n",
      " (7,\n",
      "  '-0.694*\"time\" + 0.354*\"food\" + -0.262*\"place\" + 0.252*\"just\" + 0.227*\"room\" '\n",
      "  '+ -0.220*\"get\" + 0.167*\"say\" + 0.129*\"go\" + -0.116*\"good\" + 0.091*\"hotel\"'),\n",
      " (8,\n",
      "  '-0.509*\"food\" + 0.501*\"order\" + 0.295*\"room\" + -0.276*\"time\" + 0.221*\"go\" + '\n",
      "  '-0.212*\"just\" + 0.189*\"good\" + 0.186*\"place\" + 0.140*\"stay\" + -0.121*\"can\"'),\n",
      " (9,\n",
      "  '-0.505*\"just\" + 0.340*\"say\" + 0.296*\"good\" + 0.266*\"come\" + 0.266*\"place\" + '\n",
      "  '-0.260*\"order\" + -0.224*\"time\" + 0.185*\"tell\" + 0.168*\"call\" + -0.131*\"go\"'),\n",
      " (10,\n",
      "  '-0.577*\"come\" + -0.407*\"just\" + 0.312*\"order\" + 0.305*\"can\" + 0.254*\"make\" '\n",
      "  '+ -0.183*\"back\" + 0.149*\"will\" + -0.134*\"time\" + 0.120*\"food\" + '\n",
      "  '0.115*\"call\"'),\n",
      " (11,\n",
      "  '-0.406*\"come\" + 0.398*\"just\" + -0.271*\"can\" + -0.269*\"make\" + 0.251*\"good\" '\n",
      "  '+ 0.231*\"say\" + 0.178*\"order\" + -0.175*\"great\" + 0.169*\"place\" + '\n",
      "  '0.159*\"call\"'),\n",
      " (12,\n",
      "  '0.351*\"wait\" + 0.344*\"tabl\" + 0.315*\"drink\" + -0.312*\"will\" + -0.262*\"come\" '\n",
      "  '+ 0.237*\"bar\" + 0.169*\"can\" + -0.166*\"back\" + -0.164*\"get\" + 0.161*\"take\"'),\n",
      " (13,\n",
      "  '-0.674*\"can\" + 0.500*\"make\" + -0.245*\"say\" + 0.204*\"will\" + -0.158*\"come\" + '\n",
      "  '0.141*\"take\" + 0.139*\"great\" + -0.129*\"eat\" + -0.124*\"t\" + -0.114*\"time\"'),\n",
      " (14,\n",
      "  '-0.743*\"will\" + 0.410*\"make\" + -0.183*\"wait\" + 0.180*\"say\" + -0.136*\"drink\" '\n",
      "  '+ -0.133*\"back\" + 0.124*\"time\" + -0.107*\"tabl\" + 0.101*\"come\" + '\n",
      "  '0.098*\"look\"'),\n",
      " (15,\n",
      "  '0.570*\"great\" + 0.512*\"say\" + -0.269*\"take\" + 0.212*\"drink\" + 0.202*\"bar\" + '\n",
      "  '-0.173*\"can\" + -0.166*\"make\" + -0.165*\"wait\" + -0.139*\"come\" + '\n",
      "  '0.099*\"night\"'),\n",
      " (16,\n",
      "  '-0.602*\"take\" + -0.403*\"great\" + 0.380*\"make\" + 0.252*\"will\" + '\n",
      "  '-0.235*\"look\" + 0.175*\"say\" + 0.118*\"drink\" + -0.114*\"find\" + 0.098*\"time\" '\n",
      "  '+ -0.094*\"car\"'),\n",
      " (17,\n",
      "  '-0.416*\"great\" + 0.414*\"look\" + -0.268*\"make\" + -0.264*\"can\" + '\n",
      "  '-0.201*\"wait\" + 0.196*\"think\" + -0.188*\"just\" + -0.181*\"call\" + '\n",
      "  '0.179*\"even\" + 0.165*\"see\"'),\n",
      " (18,\n",
      "  '-0.444*\"wait\" + 0.369*\"drink\" + -0.241*\"tabl\" + 0.222*\"take\" + -0.209*\"eat\" '\n",
      "  '+ 0.198*\"bar\" + -0.175*\"great\" + 0.174*\"look\" + 0.164*\"food\" + '\n",
      "  '-0.155*\"even\"'),\n",
      " (19,\n",
      "  '0.498*\"look\" + -0.454*\"take\" + 0.272*\"wait\" + -0.228*\"eat\" + 0.202*\"order\" '\n",
      "  '+ -0.184*\"drink\" + 0.172*\"store\" + -0.171*\"even\" + 0.136*\"find\" + '\n",
      "  '0.131*\"see\"')]\n"
     ]
    }
   ],
   "source": [
    "pprint(lsamodel.print_topics(num_topics=20))\n"
   ]
  },
  {
   "cell_type": "code",
   "execution_count": 22,
   "metadata": {
    "id": "N5IB1qi8EG1o"
   },
   "outputs": [],
   "source": [
    "coherence_values = []\n",
    "model_list = []\n",
    "for num_topics in range(2, 12, 1):\n",
    "    model = models.LsiModel(corpus, num_topics=20, id2word=id2word)\n",
    "    model_list.append(model)\n",
    "    coherencemodel = CoherenceModel(\n",
    "        model=model, texts=data['Stemming'], dictionary=id2word, coherence='c_v')\n",
    "    coherence_values.append(coherencemodel.get_coherence())\n"
   ]
  },
  {
   "cell_type": "code",
   "execution_count": 23,
   "metadata": {
    "colab": {
     "base_uri": "https://localhost:8080/",
     "height": 279
    },
    "id": "V7b1zJEkIScK",
    "outputId": "fc0e6f00-1448-4192-c80c-dcb1368134bc"
   },
   "outputs": [
    {
     "data": {
      "image/png": "[encoded data removed]",
      "text/plain": [
       "<Figure size 432x288 with 1 Axes>"
      ]
     },
     "metadata": {
      "needs_background": "light"
     },
     "output_type": "display_data"
    }
   ],
   "source": [
    "x = range(2, 12, 1)\n",
    "plt.plot(x, coherence_values)\n",
    "plt.xlabel(\"Number of Topics\")\n",
    "plt.ylabel(\"Coherence score\")\n",
    "plt.legend((\"coherence_values\"), loc='best')\n",
    "plt.show()\n"
   ]
  },
  {
   "cell_type": "markdown",
   "metadata": {
    "id": "vz-aNU3yB4iz"
   },
   "source": [
    "# **Summarization of Topics**\n",
    "\n",
    "**LDA**\n",
    "\n",
    "Reviews of hotels on Weekends\n",
    "\n",
    "Good places to spend great time\n",
    "\n",
    "Reviews of cloth store\n",
    "\n",
    "Reviews of children doctor fee\n",
    "\n",
    "Reviews of pool pffice cashier\n",
    "\n",
    "Reviews of birthday products and burger deals\n",
    "\n",
    "Reviews of last week wine prices\n",
    "\n",
    "Reviews of door and nail fix expenses\n",
    "\n",
    "Reviews of customer care phone calls\n",
    "\n",
    "Reviews of car problems\n",
    "\n",
    "Sandwich reviews\n",
    "\n",
    "Reviews of meat, fish and steak\n",
    "\n",
    "Reviews of Green veggie pasta kid buffets\n",
    "\n",
    "Reviews of spinach pizza\n",
    "\n",
    "Reviews of house treat\n",
    "\n",
    "Reviews of delicious lunch\n",
    "\n",
    "Reviews of walk, help\n",
    "\n",
    "Reviews of chicken flavor breakfast\n",
    "\n",
    "Reviews of need to pay per use\n",
    "\n",
    "Recommendations of new game\n",
    "\n",
    "**LSA**\n",
    "\n",
    "Reviews of order and get food\n",
    "\n",
    "Good food place to spend great time\n",
    "\n",
    "great food and great place\n",
    "\n",
    "Go and get good food place\n",
    "\n",
    "Great place to order food\n",
    "\n",
    "Reviews about hostel stay\n",
    "\n",
    "Reviews about good place to eat\n",
    "\n",
    "Reviews about room stay\n",
    "\n",
    "Car Reviews\n",
    "\n",
    "Good place and price to drink and as well as to work\n",
    "\n",
    "Come, place and order\n",
    "\n",
    "Good prices for drink\n",
    "\n",
    "Reviews about eat drink and call\n"
   ]
  },
  {
   "cell_type": "markdown",
   "metadata": {
    "id": "AfpMRCrRwN6Z"
   },
   "source": [
    "# **Question 2: Yelp Review Sentiment Analysis**"
   ]
  },
  {
   "cell_type": "markdown",
   "metadata": {
    "id": "1dCQEbDawWCw"
   },
   "source": [
    "(30 points). Sentiment analysis also known as opinion mining is a sub field within Natural Language Processing (NLP) that builds machine learning algorithms to classify a text according to the sentimental polarities of opinions it contains, e.g., positive, negative, neutral. The purpose of this question is to develop a machine learning classifier for sentiment analysis. Based on the dataset from assignment three, write a python program to implement a sentiment classifier and evaluate its performance. Notice: **80% data for training and 20% data for testing**.\n",
    "\n",
    "The sentiment of can be accessed based on the star rating, if no star information avaliable for a record, just remove that record. Detail star and sentiment level can be matched blew:\n",
    "\n",
    "Very positive = 5 stars\n",
    "\n",
    "Positive = 4 stars\n",
    "\n",
    "Neutral = 3 stars\n",
    "\n",
    "Negative = 2 stars\n",
    "\n",
    "Very negative = 1 star\n",
    "\n",
    "Here is code for yelp data preprocessing: https://github.com/Yelp/dataset-examples. \n",
    "\n",
    "Answer the following questions:\n",
    "\n",
    "(1) Features used for sentiment classification and explain why you select these features (tf-idf, sentiment lexicon, word2vec, etc). Considering achieve the best performance as you can. \n",
    "\n",
    "(2) Select two of the supervised learning algorithm from scikit-learn library: https://scikit-learn.org/stable/supervised_learning.html#supervised-learning, to build a sentiment classifier respectively. \n",
    "\n",
    "(3) Compare the performance over accuracy, precision, recall, and F1 score for the two algorithms you selected. Here is the reference of how to calculate these metrics: https://towardsdatascience.com/accuracy-precision-recall-or-f1-331fb37c5cb9. "
   ]
  },
  {
   "cell_type": "markdown",
   "metadata": {
    "id": "N5-aoBhN_XGq"
   },
   "source": [
    "# **Classifying Ratings**"
   ]
  },
  {
   "cell_type": "code",
   "execution_count": 24,
   "metadata": {
    "id": "vATjQNTY8buA"
   },
   "outputs": [],
   "source": [
    "data = data.dropna()\n",
    "\n",
    "\n",
    "def review_classification(rating):\n",
    "    if rating == 5:\n",
    "        return 'Very Positive'\n",
    "    elif rating == 4:\n",
    "        return 'Positive'\n",
    "    elif rating == 3:\n",
    "        return 'Neutral'\n",
    "    elif rating == 2:\n",
    "        return 'Negative'\n",
    "    elif rating == 1:\n",
    "        return 'Very Negative'\n",
    "\n",
    "\n",
    "rating_classification = data['label'].map(review_classification)\n",
    "data['Rating'] = rating_classification\n"
   ]
  },
  {
   "cell_type": "code",
   "execution_count": 25,
   "metadata": {
    "colab": {
     "base_uri": "https://localhost:8080/",
     "height": 438
    },
    "id": "j7eHf6VQ63-Q",
    "outputId": "2c4578af-165b-4e11-eba9-056c9807134c"
   },
   "outputs": [
    {
     "name": "stdout",
     "output_type": "stream",
     "text": [
      "Negative         10000\n",
      "Very Negative    10000\n",
      "Neutral          10000\n",
      "Positive         10000\n",
      "Name: Rating, dtype: int64\n"
     ]
    },
    {
     "name": "stderr",
     "output_type": "stream",
     "text": [
      "/usr/local/lib/python3.7/dist-packages/seaborn/_decorators.py:43: FutureWarning: Pass the following variable as a keyword arg: x. From version 0.12, the only valid positional argument will be `data`, and passing other arguments without an explicit keyword will result in an error or misinterpretation.\n",
      "  FutureWarning\n"
     ]
    },
    {
     "data": {
      "text/plain": [
       "<matplotlib.axes._subplots.AxesSubplot at 0x7f205e2a2210>"
      ]
     },
     "execution_count": 25,
     "metadata": {},
     "output_type": "execute_result"
    },
    {
     "data": {
      "image/png": "[encoded data removed]",
      "text/plain": [
       "<Figure size 432x288 with 1 Axes>"
      ]
     },
     "metadata": {
      "needs_background": "light"
     },
     "output_type": "display_data"
    }
   ],
   "source": [
    "import seaborn as sns\n",
    "print(data['Rating'].value_counts())\n",
    "sns.countplot(data.Rating)\n"
   ]
  },
  {
   "cell_type": "markdown",
   "metadata": {
    "id": "kAhkBTp7_b2S"
   },
   "source": [
    "# **Data Cleaning**"
   ]
  },
  {
   "cell_type": "code",
   "execution_count": 26,
   "metadata": {
    "colab": {
     "base_uri": "https://localhost:8080/"
    },
    "id": "qzkDFuBi7rRw",
    "outputId": "cf8132c9-8e35-4819-feac-41ec41fe4285"
   },
   "outputs": [
    {
     "name": "stderr",
     "output_type": "stream",
     "text": [
      "<input>:7: DeprecationWarning: invalid escape sequence \\w\n",
      "<input>:7: DeprecationWarning: invalid escape sequence \\w\n",
      "<input>:7: DeprecationWarning: invalid escape sequence \\w\n",
      "<ipython-input-26-36d36c509d52>:7: DeprecationWarning: invalid escape sequence \\w\n",
      "  data['Cleaned Text'] = data['Cleaned Text'].str.replace('[^\\w\\s]', '')\n"
     ]
    },
    {
     "name": "stdout",
     "output_type": "stream",
     "text": [
      "[nltk_data] Downloading package stopwords to /root/nltk_data...\n",
      "[nltk_data]   Unzipping corpora/stopwords.zip.\n"
     ]
    },
    {
     "name": "stderr",
     "output_type": "stream",
     "text": [
      "/usr/local/lib/python3.7/dist-packages/ipykernel_launcher.py:7: FutureWarning: The default value of regex will change from True to False in a future version.\n",
      "  import sys\n"
     ]
    }
   ],
   "source": [
    "import nltk\n",
    "from nltk.corpus import stopwords\n",
    "from textblob import TextBlob\n",
    "nltk.download('stopwords')\n",
    "data['Cleaned Text'] = data['text'].apply(\n",
    "    lambda x: \" \".join(x.lower() for x in x.split()))\n",
    "data['Cleaned Text'] = data['Cleaned Text'].str.replace('[^\\w\\s]', '')\n",
    "stop = stopwords.words('english')\n",
    "data['Cleaned Text'] = data['Cleaned Text'].apply(\n",
    "    lambda x: \" \".join(x for x in x.split() if x not in stop))\n"
   ]
  },
  {
   "cell_type": "markdown",
   "metadata": {
    "id": "S7xrjEBC_fb_"
   },
   "source": [
    "# **Feature Selection**"
   ]
  },
  {
   "cell_type": "code",
   "execution_count": 27,
   "metadata": {
    "id": "KZq-XgBK1LrA"
   },
   "outputs": [],
   "source": [
    "from sklearn.preprocessing import LabelEncoder\n",
    "from sklearn.feature_extraction.text import TfidfVectorizer\n",
    "Tfidfvector = TfidfVectorizer(ngram_range=(1, 2), max_features=1000)\n",
    "Tfidfvector.fit(data['text'])\n",
    "x_values = Tfidfvector.transform(data['text'])\n",
    "encoder = LabelEncoder()\n",
    "y_values = encoder.fit_transform(data['Rating'])\n"
   ]
  },
  {
   "cell_type": "markdown",
   "metadata": {
    "id": "8h7v6zU1QaaF"
   },
   "source": [
    "I have used the Tdidf Vector to improve the performance of the model. It improves the performance model by making it possible to have the words with similar meaning have similar representations and also reduce the computational complexity.\n",
    "\n",
    "Feature selection improves the accuracy of the model and also reduce the overfitting of the model.\n",
    "\n"
   ]
  },
  {
   "cell_type": "markdown",
   "metadata": {
    "id": "YlPmQXCb_mRN"
   },
   "source": [
    "# **Splitting into training and testing data**"
   ]
  },
  {
   "cell_type": "code",
   "execution_count": 28,
   "metadata": {
    "id": "9_SxLbng3hz9"
   },
   "outputs": [],
   "source": [
    "from sklearn import model_selection\n",
    "X_train, x_test, y_train, y_test = model_selection.train_test_split(\n",
    "    x_values, y_values, test_size=0.2)\n"
   ]
  },
  {
   "cell_type": "markdown",
   "metadata": {
    "id": "CV0hkmC7_rLs"
   },
   "source": [
    "# **SVM**"
   ]
  },
  {
   "cell_type": "code",
   "execution_count": 29,
   "metadata": {
    "colab": {
     "base_uri": "https://localhost:8080/"
    },
    "id": "poIXyfVC4m6U",
    "outputId": "483acca7-36f3-4783-b9c5-ee746fb53b62"
   },
   "outputs": [
    {
     "name": "stdout",
     "output_type": "stream",
     "text": [
      "Accuracy score is 0.541\n"
     ]
    },
    {
     "data": {
      "text/plain": [
       "{'0': {'f1-score': 0.4605,\n",
       "  'precision': 0.46917982679572084,\n",
       "  'recall': 0.4521354933726068,\n",
       "  'support': 2037},\n",
       " '1': {'f1-score': 0.45790911348398317,\n",
       "  'precision': 0.4508557457212714,\n",
       "  'recall': 0.4651866801210898,\n",
       "  'support': 1982},\n",
       " '2': {'f1-score': 0.6357285429141716,\n",
       "  'precision': 0.6431095406360424,\n",
       "  'recall': 0.6285150468672915,\n",
       "  'support': 2027},\n",
       " '3': {'f1-score': 0.47125256673511295,\n",
       "  'precision': 0.4722222222222222,\n",
       "  'recall': 0.4702868852459016,\n",
       "  'support': 1952},\n",
       " '4': {'f1-score': 0.6758417301548292,\n",
       "  'precision': 0.6652152878567973,\n",
       "  'recall': 0.6868131868131868,\n",
       "  'support': 2002},\n",
       " 'accuracy': 0.541,\n",
       " 'macro avg': {'f1-score': 0.5402463906576194,\n",
       "  'precision': 0.5401165246464108,\n",
       "  'recall': 0.5405874584840153,\n",
       "  'support': 10000},\n",
       " 'weighted avg': {'f1-score': 0.5407156273449188,\n",
       "  'precision': 0.5406437218138788,\n",
       "  'recall': 0.541,\n",
       "  'support': 10000}}"
      ]
     },
     "execution_count": 29,
     "metadata": {},
     "output_type": "execute_result"
    }
   ],
   "source": [
    "from sklearn.metrics import accuracy_score\n",
    "from sklearn.metrics import classification_report\n",
    "from sklearn import svm\n",
    "svm_model = svm.SVC(kernel='linear')\n",
    "svm_model.fit(X_train, y_train)\n",
    "predicted = svm_model.predict(x_test)\n",
    "print(\"Accuracy score is {0}\".format(accuracy_score(y_test, predicted)))\n",
    "report = classification_report(y_test, predicted, output_dict=True)\n",
    "report\n"
   ]
  },
  {
   "cell_type": "markdown",
   "metadata": {
    "id": "RFWQ9sm1_t-C"
   },
   "source": [
    "# **Naive Bayes**"
   ]
  },
  {
   "cell_type": "code",
   "execution_count": 30,
   "metadata": {
    "colab": {
     "base_uri": "https://localhost:8080/"
    },
    "id": "S-Pb85MfHdsG",
    "outputId": "1e7909a6-92d6-4c7c-8e72-79b984a964d3"
   },
   "outputs": [
    {
     "name": "stdout",
     "output_type": "stream",
     "text": [
      "Accuracy score is 0.5077\n"
     ]
    },
    {
     "data": {
      "text/plain": [
       "{'0': {'f1-score': 0.4295506473724296,\n",
       "  'precision': 0.444794952681388,\n",
       "  'recall': 0.41531664212076586,\n",
       "  'support': 2037},\n",
       " '1': {'f1-score': 0.4572264196929076,\n",
       "  'precision': 0.44224422442244227,\n",
       "  'recall': 0.47325933400605447,\n",
       "  'support': 1982},\n",
       " '2': {'f1-score': 0.6038022813688213,\n",
       "  'precision': 0.6209593326381647,\n",
       "  'recall': 0.5875678342377898,\n",
       "  'support': 2027},\n",
       " '3': {'f1-score': 0.4127320954907162,\n",
       "  'precision': 0.42794279427942794,\n",
       "  'recall': 0.3985655737704918,\n",
       "  'support': 1952},\n",
       " '4': {'f1-score': 0.6240867310864954,\n",
       "  'precision': 0.5908076751450245,\n",
       "  'recall': 0.6613386613386614,\n",
       "  'support': 2002},\n",
       " 'accuracy': 0.5077,\n",
       " 'macro avg': {'f1-score': 0.505479635002274,\n",
       "  'precision': 0.5053497958332895,\n",
       "  'recall': 0.5072096090947527,\n",
       "  'support': 10000},\n",
       " 'weighted avg': {'f1-score': 0.5060199342896624,\n",
       "  'precision': 0.505940123874861,\n",
       "  'recall': 0.5077,\n",
       "  'support': 10000}}"
      ]
     },
     "execution_count": 30,
     "metadata": {},
     "output_type": "execute_result"
    }
   ],
   "source": [
    "from sklearn import naive_bayes\n",
    "nb = naive_bayes.MultinomialNB()\n",
    "nb.fit(X_train, y_train)\n",
    "predicted_nb = nb.predict(x_test)\n",
    "print(\"Accuracy score is {0}\".format(accuracy_score(y_test, predicted_nb)))\n",
    "report_nb = classification_report(y_test, predicted_nb, output_dict=True)\n",
    "report_nb\n"
   ]
  },
  {
   "cell_type": "markdown",
   "metadata": {
    "id": "p4rG2biNTZUe"
   },
   "source": [
    "I have selected the Naive Bayes and SVM. Below are metrics of the two models -\n",
    "![image.png](data:image/png;base64,iVBORw0KGgoAAAANSUhEUgAAAegAAACfCAYAAAAyAErBAAAgAElEQVR4Ae2dzZHkyJGFRwXKQBWoA1cDykAVeOFxjRpQAx73RAmoAG97oq0CNKMIvfZN2zfj5R3IdKASiayqF2awACL8L148uANZM42fvqUFgSAQBIJAEAgCL4fATy8XUQIKAkEgCASBIBAEvqVAhwRBIAgEgSAQBF4QgRToF9yUhBQEgkAQCAJBIAU6HAgCQSAIBIEg8IIIpEC/4KYkpCAQBIJAEAgCbwr0Tz/99C1HMAgHwoFwIBwIB87nwL1HkB8K9D2FzAeBMxEgKaQFgasRCA+v3oHP73/CsTfZcKLw+WHLCq9EIBy8Ev34FoHwUCTSn4XAhGMp0GehH7uHEJiQ9pDhKAWBHQiEhzvAiughBCYcS4E+BG2UzkJgQtqzfMduEBCB8FAk0p+FwIRjKdBnoR+7hxCYkPaQ4SgFgR0IhIc7wIroIQQmHEuBPgRtlM5CYELas3zHbhAQgfBQJNKfhcCEYynQZ6Efu4cQmJD2kOEoBYEdCISHO8CK6CEEJhx7V4H+17/+9e03v/nNz//v9G9/+9tv//73v28G2uVvCp80+Yc//OHneP/5z3+e5CFm34PAhLQr+//4xz++ubfY4Pj973//jXHan/70p5/H/va3v63Ufxn73e9+97OcA+ph769//avDm32Vv+dr00gmLkfgCA9rfvvjH/+4XAMcwra8XArdGJTjV+Qv+Ezs/SCmo+u5sdRPPzXh2LsKNJtSN+svf/nLTVBNXhTzSXBbxiAn+vf8rfSvJPgqnoy9ReAIL+QhD4twDF7QU2zliDLs/1YjweK/ylDkGePA/q2HUOaQk9/63vKX8ddFgH3c2+SYfOG6NzjB/Gquy66ur8xfxs49wTkHDyK31rtaQ8a+IzDh2BsWThQquBKSDSN5kZhuNWSQNendkr01p18Ikva5ENjLQVZv0rqX9CycW0XWt5v65itX9VHnOvLqm8jCz47Qx7k+wkPzkpyh701u3ONq13uFa2PvvPbNuj7YvkK8rx7DhGMPK9C+Hf/9739f4uIm0kvgpeBg0BuhE2WgGpEXR2BC2r4EHvwmenJ0q8j683Yt4HIVXuMDma3GAwBH+LmF0McZn/Cpr6buu7zpXLPIfaYCDQ7gtXog6Rjl+lcEJhx7WIH2Z+etpygSG4mUJnl/DfX7GT8x8pOJCZee65owfQticfWofx9knBuBm0Nb3ijeIP1vOFz7loQ+fvoDAEnaJI4M5x/xRuu4v9I1uO5t8qlyYGVDjq6K7OrnbWxom32WH507yFnAiaEm6lUcGXt9BI7wsO67fCKP1Gb+6XlDfpmvVrkPO+rLQfNqzZH6U7b6muRY9XuvPfra8A1evUDrq+Zs7iFjx4b3zepv9tgFh2qXMfzfsmlsKzliepU24dibbDhRqIuTkAJo8eogmBjdWJNetYUMm8Hh3xFNiDWhUmj9uwd2sMlRN511GAuy2OsFupLWdVTfxqicRLJw4xMfrqmuJefHEdjLQTy5N+iy351/NRpv7C7jz9PYqq3yQD+rZAJX4Q8JRD6FGxXJj3V+hId9381T9cERTmDbvAIq5ke4ae6Td/S1dX2vqw/lsQcnbdMcq3zv9UVfm/dOH8c3BzgwJx7eJ9pQzmt7cjZYuTburZrXtal+vaf9tQz8kOMaPCru+rmqn3DsoQW6A+rC3RgBlHzO0zMG0LXQMu7mW2AZ6zdCtcM5C68bW+fZLObqRrnp3TcyxuwaIEnaeQhMSLvyDj/gj3vPfrl3Vd7996Z3Dg6g35tclS896SGPH/zik3aPn91Hrl8PgSM87PsOLywe5g35J59YOXL9wZBx85K6jHV9uYdsbRZ9OcncnhxbbXmub+xwzmFe5AG1xolOv8cYs3DW9WqjjiHrvadd/ddagNxqrdynHRNkX6lNOPbQAg2QEBJwbIwRCBtoE3ivlQFQiFsPCzQba2Mem2zYqjG3tTluMjZoEpyYbrVVHLfkM3cMgQlptyzDI/bXQk3fb3r3u/LDsZrM9CFX5Yv8qUnCpOMD3j1+ajv96yJwhIerfZcv9DSv5dMtBFayqzE5Co9tFj05uTfHaqf2+gabfpDz6z1R9er5CiMLbK0R3pN1jHsWv9joB+P1nkaPsX7/11iuPie+e+2NxEShGhTsWtwkBnM0C1sFSkJpSzv43zrqRikPYVYNGzWmKiPJjO+eLXUhuHGT+EnK9YZQLv37ENjLwZU39koesldc1+aN7v6tOKq8ey5fTByVX/ioyWHKKX2kfz0EjvBwte9wD35gD+70/OPKkYOH8BZucVD00JN7yK70KYzI1XyIz/qiZGzIbR01xxpX7fVd/TBPbneNNc8zR2zkStfkvddtuFbvVe/JWvS34nacGGwUfW3SY0/bylzdE/e99kZiolANuuk1WTkG0WiAw1Eb8tWXOmwe56vDZIod5fsm6wPbNSbH6SUZNmj3bFVdziGgyR8/lUBdNtf7Eai82K/9VsNk4F47681PT0Ouc1RZuVptOAYnTY6VB3s5pa/0r4PAER5u7bscIW/0/MOKKSYWOPz2o3Jvpe9DgBwmR2FDfuPD2KY5drUT+qbvTZ8WeWLy/uvr4brb8J70PkK3Flz8aYe1rA5/LTA2YsCe9yv2uoyyV/Ss5157IzFRqAbd9F4MIQq2JGbfDAHT1uqtxLlVr99uV1l895icQ4d5bNDYsFvy6vXem6qTqMvleh8C7MWjmjxzr7Ur30gCntc/oShHv7Ihr9ExkdSn83v8rPZz/poIHOHhrX03J/pwXznpz7H9V7meq0BqNca4dslLnsNtmzzfyovK3er1Td+ba9e+BZfrWhSV6za4f8C83pOsozYxrGPTc+9ZHyCmemfKTTj2JhtOFGrAgu2mOOfm+FRYiYIM8t2X4Ffiao+ns2rDoroFNrZ7TNqSZNWPviuRkEem+tWGvcnZ6/TvR6Dz4p5F9sibuspyw8M/jlo8lalJEZ9975WTq5UvzGkb3Z5IkGW8JyFtpn99BPbykBXd2nfnzDWVT3Ks8pRzOVplV/kL377BUuTh5io3rny7Ez3HOl57fa947ZwPul5jtzbHVzZcrw8Y/Z50fKWLbMWp+uQcPNnTFS5d9lnXE46dUqB9WtsCREJWICQwOmwEm8BB8mWsbxYkZBxCcFQiML6nQEtubGILv5LFTcceh3G5BglZ15Lz4wiwd3saXJML7Bn7w544xpPzqvlEjT8S11Zzn+WBciYL9Ds35TKxpH1MBPbykFXe23e5hO3KJ3giD+UvnJTDK9k6JsIWYGyteG98zE9yrHbtjbPmQcZcF7nahwx91ZzqCw3+0evNPCwWfR7bYlJjMFfXn/SRMx/gS2xqnej2n33NOu+1NxIThWqQxIQOQPQmaCsiAS4A9oY99NwEQV7ZAGhBR67KbMWEP0nWkyr2fBhAn3NkJVzdZObxzVjaYxEA272NIk3CkQ/uf+VEt1lv9lv7KI87X+Q+XO4Nv8RQE0aXyfVrI3CEh3Jii0/Mm9s6n2p+QcaXDuKossj1MZF0Dv2thq1pju026kMtMXhw3xGvuVK9nlPx68vb1r3hPbw1j49+r3MP9geSukbiJJ+/UnEGI+K6195ITBTuGcx8EHgPAuHge9CL7qMQCA8fheQ+OxRbsKeQf/Y24VgK9GdnwQdb34S0H2xJCfcDIhAePn/TfLvmbfcrtAnHUqC/AhM+0BonpP1Ay0moHxSB8PD5G+dP9P3n6udH8hyPE46lQD9nL+JliMCEtENTEQsChxEIDw9Dd1iRN2f+ft7/ln3Y4IsrTjiWAv3im/jVwpuQ9qthkvU+H4Hw8PmYfzWPE46lQH81Vrz4eiekffElJLxPgEB4+Ak28cWXMOHYDwUapRzBIBwIB8KBcCAcOJcD954hfijQ9xQyHwTORICEkBYErkYgPLx6Bz6//wnH3mTDicLnhy0rvBKBcPBK9ONbBMJDkUh/FgITjqVAn4V+7B5CYELaQ4ajFAR2IBAe7gAroocQmHAsBfoQtFE6C4EJac/yHbtBQATCQ5FIfxYCE46lQJ+FfuweQmBC2kOGoxQEdiAQHu4AK6KHEJhwLAX6ELRROguBCWnP8h27QUAEwkORSH8WAhOOpUCfhX7sHkJgQtpDhqMUBHYgEB7uACuihxCYcOyhBdpPheUbyYf2K0rDT7BtAcU/EVg/28cNwD8fuPXZSf5xfr+esyWz5ctxPovHP0+4+uwkMnzeTx9+RlDd2vuJylf7JF6N8SudT5Jnx4O9Rm91rD4BydhKlrH6icnuZ+vaf8t6pR8ebqF23Tj7dK+9kZgobBk0wWBjRcYtvYwHgYrAUQ5SbH1A5FuwJCsOiiN9bxTCmiD3FmgeBvBDvBxbBZpxv0VLMUe2fwwAW8SCvbTXQOAID82Bck4O0q++b4wPOFvlPN/771H7JSg53fkcHr4Gr2oUE449rEDzEW0cmrR6EqqB5TwIbCEwIe1KlwREcpq8eZAE5Sq/9nDeE9rKh2M+DOCPQo8+/nszadZ7gWLdZbkmUe9Nyt1frh+HwBEeWqDh16Rt8Wai22Xk/4rP4WFH6zWuJxx7WIH2DUAy5G3gNUjw0aKYkLavyZ8Wp4mRIukbjcV6T4GmKGMDrtO2Eq0Ju9omkdYC7Vv15MGirzvX5yFwhIfu95SHW7zZuyr98iC44rPz4eFeZM+Vn3DsIQUaYuDMNwWSF9dbbwQkI9+0kfNnngoHuryVU/iRoedamybl1YOAJK1Jr5LUp0xsKkOyxb4/k+IT285PYyM+11R1PCc5M5+2RuAINu63BXNt+ddROcSIujV5/Sq5Pqv6SBBzLbpq+bDqfcE494aclcM+LKiX/noEjvDQHAOnJm2LNxPdKkPOgle0FZ/Dw4rW65xPOPamUkwUVssj4VDsbBbsVeKRxMhTKCGURcskSQJknngomsjQcy35tbNKjCuSKg+R9Y1NCzBjHN0fYzUhT2IDD2LVtrh4o5igHU//KwJHOCh/4J3YY2f14Perp+9nK650mXvX+FrxED2TJ/zzbZk44RFzW3r3fGb+XASO8NAcw57CKw72euvBsXIUWfjRc8a9VcopfNO2+Bwe3kPy+fMTjr27QJNocERhsznmU53j9Iwh34kIwSSyb7i9wDMvEevNUO1zviKp8ivf6HRfjBlH/S9rHevyNTYfUJCtzbiqvTqf8+9vo3txsECztxRocOYgKTHW96Had0/kVZ2bnuNjq9DCcznPwx7+aMTZH/6m/iJ3PgLs6d5Wcwz69VhxsM7Xc7hEDr3XkIFD9YF/i8/h4T00nz/Pnt9rbyQmCt1gf4Jz3jdeiy7jnONjK5mpa2L1etV7M6xsrUiq/OpGWdlnTB2TKmOT2JDjxuGoDd0+Vudz/r4C3R/6TGBwbivhrbiydx8mnK42fYCDX8TlvYIdzrdirTZyfi4C7MWRVvMd+8hec89jj/Paqizj/rcN8qDKrs7JZchWO3v4HB6uUH3e2IRjb1g4Uejh+3YAMerhT421IK4KXrfHNXGsCm+V1dZKbkVS5ZnbahCWeLHJUdemziQ2ZE26vi1TPNBlPG0bgSMcZK+29OQh+79qK66s5G6NTTmBDXhAwpaH8IFreGIyD0duof2cuS0+HfHO3k45QlFH9p5/84k8Mq4pn8NDEbuuv7fHRPauAi1JJNSq563RNimSPwf15ALNTWExXq2h3gTMrx4KXKO92JhsfdplPG0bAfDd2yzQ9U1CG+L+CgVansE1G8W5PsTCl3rPKJf+uQgc4eFWhBbdSd7Ahrloyx7jPnjCHfKTh/cCPGIM372Fhx2Ra64nHHuTDScKdSn3kh8kwabJ0aJ1j6j+JFR99fNbtiBm9YvurYcDf6YnrlpAVzqT2IzVG40bgqSbxCsy2/1eDmJJHvafEJlzD1bFm/kVV7ajW88Q8z1Oo0mc8KfGgi4x2IzH6/TXIHCEh1uR3spVK51JjrFAE+eto+YzfYWHInFtP+HYuwo0BQcybTV/2vEtEjl0CKwTh2Jo4rKw3/oPsbCFHfzXp0R8SnAfDJBdFVvjNimiW5vjNYFOY8OOhX9Lp/rK+XcEJqTtWMmzXiTd8z5e9d3jypU6D5c6x+o858R8ywcyxtg5hi4J0wZX8iAnGtf1R3i4Fa3FdPUA2XVqzqhzEx4if4/P4WFF9drzCccOF2g3moRyq0ksZdRjnMQEoSSwSZJCzTwLwD4y9IxxbmMMGRKaMlz71qQ95E3WVV87ztWYsGEMVWcaG7Z5cCAeDx9A9Jv+RwTA6kijQKJLX7nAHvaHQRIlMhzqyTPG6gOfe1e5xD6qT4+MHOS6F2E5Uwuxa5TX6HB0jiuX/rkIHOEhHJB/8ID9Zgxb7HNt5DxkzYHIm7foKwfRW/Gw2vNcPla+OhceisRr9BOOvcmGEwWXdosIytD34ssYiUgy4pNz7FVSklTVRQaiQ/Ja5JCH4BZS7GDbp9CamC3C/a3cWHtM+MYXvrvOJDbtEjM2sJd2HwGwOtI6F+BE54t2Lcr4Wh2VN9jhqNyUSytdxvpec71KusSDXea1BZ+rL2NO/1wE2I+9jQc/uGU+wgbXqzdnOMS+W8CRXeVBY1jx0Lna38rL4WFF6vrzCcfesHCicP2yPlYE3jCrm/RjreQ50YaDz8E5Xm4jEB7exiez70dgwrEU6PfjfNOCT8h5K7oJ0y+TE9L+IpyTIHASAuHhScDG7C8ITDiWAv0LXI8/8afQ/venx3v6PBYnpP08q81KXhWB8PBVd+bzxDXhWAr0ifvN3xPZBAp12gyBCWlnliIVBI4jEB4exy6aMwQmHEuBnmEZqSchMCHtk0KJmy+MQHj4hTf/SUufcCwF+kmbETczBCaknVmKVBA4jkB4eBy7aM4QmHDshwKNUo5gEA6EA+FAOBAOnMuBe6X8hwJ9TyHzQeBMBEgIaUHgagTCw6t34PP7n3DsTTacKHx+2LLCKxEIB69EP75FIDwUifRnITDhWAr0WejH7iEEJqQ9ZDhKQWAHAuHhDrAiegiBCcdSoA9BG6WzEJiQ9izfsRsERCA8FIn0ZyEw4VgK9Fnox+4hBCakPWQ4SkFgBwLh4Q6wInoIgQnHUqAPQRulsxCYkPYs37EbBEQgPBSJ9GchMOFYCvRZ6MfuIQQmpD1kOEpBYAcC4eEOsCJ6CIEJx95VoP0cI45WR/1snyvgn730AxKOTXp88W9a10+58Xm2/inIia3IvC4CE9KuovfzffIQjvElsVWTS/IQTsGtPR804etk8E9/nPPJ0t64B/y8JX74519XzX+3fWVjJZ+xcxF4Jg/NaUd4CAryWTvEzqclGbeFhyLxOv2EY+8q0CYVkyEJsR494fnpRZPaFCrsSD4SqT5IfBxpnweBCWn7ailq6MnD+o3wXhBJWnCJgzm4ZKGmyHbOdl9co4c/uIc+nJTTvcAiY/H2O+X906Pym6Sa9hoIXM3DKQrwTT6bG+EnnCM/28JDkXidfsKxhxToSZFEhoBIaJ5PoTKxoZv2uRGYkLYjAC86N3hjwBZHLbq+adcxzi3SvXh2X1xTSHshlqMkRhsPA/ivNpnv9wvX+K8xaSP9NQhczcPOrxUK8IXiDKducSc8XKF3/diEY08p0BLJJ7q9BZqEyGLUvx7aRHAWAhPSTn3LswlvfCvuhX7qCzlir/Hjt/OWmDhsFvbVn4OUSf98BOo+vtf7Hh7CP3xPeCh37vE7PHzvDp6jP+HYUwo0y6tPeBJ2umxJO/0JEHnfiAABvZ4AearkJyGeQJFRbkV25rDJm5Dy9a2ItU18Ttf7leXA+lFNDlTubdl+b4H2LWXyBi2Pfcsn0aa9FgJX8dA/l0zeoMmjcPxek5s1Z8HT8PAecufOTzj2JhtOFGrIPpnVN4I6v3W+t0BDMAsjuqsiqi9t01M0Sbzocm0jMWrPv9vUYl2JjA64QGh65LCpDMm/zuFTW/gg9rQ5Ans5uGWZ/cFW3fctWcbdw0liXNlhz/HH/tdGAsU2nPWNh9jgDXPT+KrNnJ+PwBU8NC+RNyYPlcQIt+CV/HWs8zg8PJ8zez1MOPaQAs3mk5jqYQFbBU1SmgRXdSEvftDjwEYv1JCSOZ8M1YfslbD67zH6RsMNUps+V286rJn5LVsk7rQ5AmB5pLF38s/9pZ8kOh804de0wSf9yUse3HojLpMnvEKHBkenibjbzPX5CDyDh3BTDvmAB5fgzKSZl+AR+tjyhYS5mvPCwwmiz5WZcOxNNpwo1CWY2CRK7UmOW80EujV/a5xCaELEnwkPHUneC3e15889JM1VI3Fit9rgekve5It8P27prXxn7PuvFUdw8O0UzD3Yy7qPK7skSfl0T7bqyxN9mSQnv5jAYfTwh395yxjnk4eKGkvOH48Ae3Gk7eEhRVP+2JNP+sP+VhzowN3OF3jF3FbO0l54KBLX9OzRvfZGYqJQDUqEW8W4ynv+ngKtjXojmFgndo159baDbQo+ONSbhOutNTJ36yBxp80RAMv3Nook/AB77MmPlV2LY33QW8ndGiPRwid84bMnzKqLLDL6wz/XvO3AOc4ZS7sWgWfzEM7AAR8W5cctFIhxKy/Bo1trCA9vIfucuVv7YwRvsuFEQUV6i90WSapsPZ8U0iq/dW5SlMwTu8b86AKN3dXBjZA2R2AvB29Z9g2Bt91Vszg/qiBqj4eDVSMJ81ZT32xIpJWL2CBJp12LwDN5WFfqL3zw4l4jxi2uwLGtNYSH95B9zvzW/lTvH7pAU5hZpAXanx0plFuNgolOTZJVVhu1sCK/9RDiE2+1kfPjCExIO7Xuw9hq7yymjyrOxNT52OOkEJN468/glb/VRtfN9XMReBYPV6vC98S/RbjyCXsUYPS3ind4uEL9+WOTPf4QBZqktiq6vjE7t/XG5M9HboFFVT3HLd6d2AC5SvLomeh9SNAWPfa6jzqf8x8RmJC2a5GoVjj7sFXfUNF1zybFGe5xwCEayRB/q6Qor+p/nGOsjLG2PsdYjY+YOv+0kf55CJzNQ/Z59UuLf7rrLxCdhyABb4iz555bD4rh4fM4dM/ThGNPK9CQxsNE5vWKqHVxPinSq6ONnmSVpaAiC4mRrQVWkgIQ+sjRc82NUN+eiYPxql9jI3Gjo4zxWRzura3ayvmx/0jMPa/8cIy9t7iCrw9x7Jl71fsqz75y+ADAnGPsMbpyjHHGeqOY468WYmXgHXNwksO4nE9/DQLs5d4m5yY8tLjCT87hkTkDDsg3Y5BzdbzmHvMYeQpZYqg8xk54KJqv0U849oaFE4W6NN84V0mpynEuwVY9hLzVIBoE9gbABuck296QNekhh23iq8RGh2tvCOXQ629GyDJ/a4369KEBeW6UVXw93ly/RQDs9jbwJ8lVfrAXcIa52nxDwc/WUR/Q4A9HtcM8XKn7vcVHfMMd5qsNY2Ks8pB1rOSUT/8cBM7mIauAixZU/MGzrRy04iE2yFeVP1u8RzY8fA53pl4mHHuTDScKU+eRCwJHEAgHj6AWnUcjEB4+GtHY6whMOJYC3VHL9aUITEh7aYBx/iUQCA+/xDZfusgJx1KgL92iOO8ITEjbdXIdBB6NQHj4aERjryMw4VgKdEct15ciMCHtpQHG+ZdAIDz8Ett86SInHEuBvnSL4rwjMCFt18l1EHg0AuHhoxGNvY7AhGMp0B21XF+KwIS0lwYY518CgfDwS2zzpYuccOyHAo1SjmAQDoQD4UA4EA6cy4F7Twg/FOh7CpkPAmciQEJICwJXIxAeXr0Dn9//hGNvsuFE4fPDlhVeiUA4eCX68S0C4aFIpD8LgQnHfvrPf759++///vbt//7v2D+zeFbwsfs1EZiQ9msik1U/E4Hw8Jlof01fE4799Oc/U5i/ffuv/0qB/po0ea1VT0j7WhEnms+IQHj4GXf1tdY04dhP//u/34vz//xPCvRrbd/XjGZC2q+JTFb9TATCw2ei/TV9TTiWv0F/TW687KonpH3Z4BPYp0EgPPw0W/myC5lwLAX6ZbfvawY2Ie3XRCarfiYC4eEz0f6aviYce1eB9vuiOKoHn1Dj27ZXtj2fwqxx+jnCfMe5ovK88wlp70XDp0Tl49Y+8inQ+nlKzvdwdvq5UnjoJwX5ZCCfk1w1Y94Tw8pOxh6DwFEeygv2Ght+/nEVFZ8V5ZOo08+WdhvmKrleez4tWVt4WNF4jfMJx95VoE0qkhCy1W8xbyXHZ8CTAv0MlB/vY0Lae17howkSTvZGkcSPvOVa+ck3vOW9BRcffpOXsfo9Z4qzxd+E2n0gj15Pqj3uXD8PgSM85OFqi1fkxd58cKOHQ/DQYr3ibddHBn/Y5rwe/UEvPOzoXX894dhDCjSbX5vFkQB4y04LAlMEJqS9ZcukVfsqDx/xQdGshVTOUijvNRMrOrVZ+H0w1VctyPjt9wvXJOYaT7Wb8+cjcISHFsgarbzqudCHvP5QBgeQnfBQjmPrVgsPb6Fz3dyEY6cUaJbsG0V/krsOjnj+CAhMSLu1Dt9EeaMwAZLEarOIrniJHv5Xc9UGyXMVJ3qM69MYagKlGNcC7Vt1L/bVX86fj8Bqf49GwUMZ9ioP3He5Um0rX8dW59MCHR6u0Lt+bMKx0wq05PFtAjhMXrxRmOTq2wUJFj1/5kGeQr9KXsiSULVDzzXjNvW9pieJegMwz3m9cSRzjRu9VWzo1vj1YxLmydUHFWNZrUW99O/7X/3kA7i7jz0BsjfsReWJuN9KmsrQu6d97x13j7feXJCjIUcsnWvVV86vQYB9eVQz39Q8494zV7nouBy5FYM5ttpdyYeHK1SuH5tw7A0LJwp1WSbB+kbgvMmqkgf7kpVkytuMSQ6S1jnIZ8Kl+EIyG7IWZmSUxX5NyFzX2HzD8W+PyOKz6rimOlZjwx5z9e9FxFAbMvggRn2JB9dp2wjs5aCWTGzu22ofkZU36tV+S6fKcI4v7eAPbrq/8lkd9huOYcJIZkAAAA6lSURBVNsHAGTgFHOVn+qkvx6BozzskbPP2OLgvDbyBuPyg/wEr7juslXPc7iHvjmQa2ysdMNDUXudnr27195ITBSqQRNaTzImy16MsM+xemOQbD3BaasWQX+m7HZIlMRkw1eNzRtiRWB1XBPx2IytxsAcdlgjfojThk/GurxJnJsobY0AuB1pYM5euLerfcQu9rd8qFM5sxULXHOftbnaV3hBwkWG5Cuv4ALXxrvlJ+PXILDFkb3RbOUO7ZDDfNjDJ5yackLb8s8ee6s8Gh6K+mv0E469yYYThbo0ExqJEbJwWASxxXxtjEGSVZM86PSj61kUV3bqGHo12foGQ4Hfaq6Jtdj0t7pxtFnlTdzq25PAianKOpf+OwLgs7eJa01Kq33ELva3fKhD8bzXTKxww/0mMa6KdLdFnMSAPzhV7xnOVzzrNnJ9LgJbHNnj1ZcLeLHa0/qQ5wMbfjlfya98Y8PGObkFGxx1Tpnah4cVjeefTzj2JhtOFOoyTGgSgh4ykmTqG6U6zNeC6Th9tbE6x67tlh1ltFn9QfqaTCnUncSuqRZR/G09WCjPmm368Npe2WrbufTfEQDrPY09tUhWvS2s5VaV9XxLx3l7f8Gpe46uD3K3ijT3BVyWA9jgGh0SpvePvtJfg8BeHvYo4WV96ejz5B32msNciY7c2so33c7qWhtybCUTHq5Qee7YhGNvsuFEoS7BhFaLYJ3v59jfkmWOA5urQxJj85ad6nNLjmRIYtTnvTcv5LZuGDGoyToFuu7CvnOw3tP8BYO3DhKSh/vLXjAmf9wbkmFv2rqX2LZ4RdJljkK9aibtyiUSNAnVRtxb+sqkPx+BvTysEbnP2Ki5pcrAV+bJH73J3S3dLt+vyW/Y3uKx8YWHHbnnXk849iYbThTqEixOW0W3ynKO/S1Z3z66zuqapDaJ9ZY/7PoUiT2ba6rk1t+tpE5yt1kEvLZf2XYu/XcEJvtasbKoonfrcH9Mfqu3XOcs5tWP5/eSnzEoX3sKMVyqv9ogX7nGOWNp1yJwdA8sfujfKrAUxy0fcqDyYg8a3hNb+uHhHjTPk93a/+rxTSaYKFRlC85W0a2ynGN/S9bkuCIVCRNfNmVNuo6T+KrcLX/qcKPcK9D667FxM/pgUZNuCrTo7u/3cnDLg9zse2aB7TyEY/jub69wg8OHM+3Wtw9j0MZqTr/9wQCfeYMWwdfpj/BwWpxZpTmi84E5367rXOfhFlJbOUn58FAkru8nHHuZAg2xICFBQ14SK4dkrcWYYqgsxRM5esZqQtaWW4HdatubpCZIE3C1U/2p71MoPvqTsnb1a7+y7Vz67whMSDvB6hbW7g+FlH2ue4lebcTDUcfRY4xijm7lH+M1sWJL/lSe6UPeosPROaxc+uciwD7ubT7Iyyt4UY+awyyU+Kl/npFb9LUhxyEPeRiEf1VXLiHXcxK2wsOK6PXn7NO99kZiolAN+sYASSYN+7dkKdKQzLdS5EmmK7LhG1vIcKCDLiS0dX/cLNU254zVZmKvNxPz2K03gLa9YaoNYibR9rZlu8t95WtwfUQT676/2IZnnQtwCU71xj5yoGNT32RKzMhgY8UHxpGtNqqtymOK+EpO+fTPQeAID+s+ot+PnhPgCjqMKwtP4GbnADIcdRyu+LCJPvPYW3EQ1JgLD5/Dn4kX9uxeeyMxUbhnMPNB4D0IhIPvQS+6j0IgPHwUkrGzhcCEYynQW+hl/BIEJqS9JLA4/VIIhIdfarsvWeyEYynQl2xNnG4hMCHtlm7Gg8CjEAgPH4Vk7GwhMOFYCvQWehm/BIEJaS8JLE6/FALh4Zfa7ksWO+FYCvQlWxOnWwhMSLulm/Eg8CgEwsNHIRk7WwhMOPZDgUYpRzAIB8KBcCAcCAfO5cBW8Xb8hwLtRPogcAUCJIS0IHA1AuHh1Tvw+f1POPYmG04UPj9sWeGVCISDV6If3yIQHopE+rMQmHAsBfos9GP3EAIT0h4yHKUgsAOB8HAHWBE9hMCEYynQh6CN0lkITEh7lu/YDQIiEB6KRPqzEJhwLAX6LPRj9xACE9IeMhylILADgfBwB1gRPYTAhGMp0IegjdJZCExIe5bv2A0CIhAeikT6sxCYcOzLFGj+AXoAqR9EWI2dtRmxO0NgQtqZpUgFgeMIhIfHsYvmDIEJx95VoPnCE076wRdT+tegZiGfJ2Uxrl96WY2dF0EsTxCYkHZlp38ZaPWlsq7HV9LgqvxF5x5v/YKbOqueLwzZkPeLQ3xtaPXJSWSJH1v9U5XaSf9cBNiL9zT20y/nrezc+/IV/muuWtlgTN7LQzjWv+qHXHi4heB14xOOvWHhRKEuB3KgYzKk4JGAIAnjEOVV2qoYr8ZeJd6vGsdeDoKT39aVhxMOWjT9vB9cIGly3Gp87g/Z1QHfib8WaM7xQYwUf+b751Ox6acCb/nO3PMQOMJDozOvYGPLDnxYcYgxC/u9Am3+9cEPXQs/Y/XTlOGhu/M6/RY3aoQPKdA1IWHchEMA9fvM1fGzz71pKulXY8+OK/7eIjAh7VuNb78kujpe33Q7B933Xiir/pFzHgyIX7v+wuQ1NinW/X7hmqRcE+oR/9F5HAJHeIh39hJdOOb5nqjgAPrw4V7TPlyvTR76a1B4WNF5nfMJx04p0EAgeWpBvBIak3KNZzV2ZYzx/W3zjeMINv58XfccO7xdwM9HNh9KsW3DLzdh9Y/f6tu36p5ktZH+GgQmybNHJgfcb3Ngl7t1bU6yuN6ShWurOP1FCVu08PAWitfNrfauR3NagTY59sQDiSGOP+MQJD/LdDkCRZafDSUiPdeM2yAf+rdkkJX43jxbY9pNfw0CE9JOI5ODdc9NVvWtdmrvlpyF1qSI7Nabiz+jw3nWO0nGt3xn7vEIHOVhzU1HCjR5jKPa2VqdP2d3LjtuTg0PtxC8dnzCsYcXaMiw+lscUEA6kyYyJDMLMKRE14asRbfKsiiToAmOYs/POox7U9S3FGwyh25N1qsx/ae/BoEJaSeRwR9scdRk557Tyz1k4BrXVXbiRxkfOCuHmWMczsM7izgJFT/MdZ5qL/21CDyCh+ai6UrgBX7h4aSR/8yR8BnuWZx70Q4PJ4g+V2bCsYcUaBzVA9JQMHuyMzl28lhoKzH731GEDhJaZDnn55zefAio/vWtLjqrsW4r189FYELaSUTubeUUeo7jB55wzWEyZWxv8yfF7gs7cFs+cl/gi0Yi5bpydK/fyJ+HwCN4KKemUcqT/pB3Sx9Z/ZiDVzkxPLyF4jVzE449pEDzdEbioaj6RNeLMBBIQIpkP0yYQoXNyQKUrz2xoHuvGK/kqp2cPx+Bo3teI/WBb1UA3fPVz8omulWCq/b7uXqVb12mXvumhDwFmsLOujk4T9GuaF1z/ggeyovJCuACPtHZ0+AxPPfXGGxwPeFweLgH6cfLTjj2kAJdSUVysUj3J0ECunWgZ0Ou2nW89/iDpCQ25Dks7jVhmpjvjXX7uX4uAhPS3ooIPtQHwS674oEy/gSNzLT5MIDPSUMenusD3ppQSZicM5Z2LQLv5SHRk4umdvxpelJYRcZfGStfyG/mv1u2wkNRvK6fcOPhBZrl+mQGgWojIA5ItDogjQ25ewVakmm39/eK8a1kbRzpn4sAe3i01eIMB1fNPV/Nk9Dwb/Fc6fcxkiM6K3td1vhqMacg1/sEeyTYtGsReA8PjXxaoHmRwd+efSf3obPKkffshYfu0LX9hGNvsuFEoS6JArgiCQRgnORTm092dWzrHN178fjUSYKrb+sm4RToLXRfd/zenm9FbtJB/1axtAjXtw5t+kZyS19ZehNh53mVqefYR7ZylXjrA4HcrXo5fz4CR3lYI50WaB/yVn92qfbquTyu3KnzxL+1hvCwInXd+db+1IhOKdA4kHQ12Tm2IhVPhLWgKttJS3JTzhuA5Gzj3MKtHHMmvntj2kl/DQIT0vbIpsUZPWTxQaHsvGGsj6/G9C+nVnxWxt6ESl8bsZAwbfB+z5uUeukfi8ARHvYIzE99vF7DwVscU7bLkMeIsf4ao6xv16u58FCUru8nHDutQEuE+hOMZCQwxklsHBbUWowpxJASWZIWcvSMmRDpmSehcU6i41y9e8VY/Sp3/bZ97QgmpO0I+TBHQmJP+1F5ha77XnkjZ+oDJbLEw9E5Urlc34h7bFzL5VqIlZPT3C8cld/KpH8+Akd4SJSVe/ALO451HiqPDDy41ZDhqDyE74zhB27hRz4xDp9qCw8rGtefs0f32huJiUI16JMaBXbVJGidI7FBIufwSbHuiREd7Fu8kUMH3ZoQIaW2SG4Q1YcD9G3IYePemPLpr0FgLweJsnIE/X7Ai95IlvIGeWzU5Kc8uhzwtjY5di+xooNtkmm3wRxjNX74u5KrvnN+PgJHeEhUnXv1esVDi2zNaavVrXgIT8hr2sAXcltcDg9XyF43NuHYuwr0dUuL58+KwIS0n3XtWdfrIBAevs5efNZIJhxLgf6su/9B1zUh7QddWsL+QAiEhx9osz5oqBOOpUB/0M39rGFPSPtZ1551vQ4C4eHr7MVnjWTCsRToz7r7H3RdE9J+0KUl7A+EQHj4gTbrg4Y64VgK9Afd3M8a9oS0n3XtWdfrIBAevs5efNZIJhxLgf6su/9B1zUh7QddWsL+QAiEhx9osz5oqBOO/VCgUcoRDMKBcCAcCAfCgXM5cO/Z4ocCfU8h80EgCASBIBAEgsD5CKRAn49xPASBIBAEgkAQ2I1ACvRuyKIQBIJAEAgCQeB8BFKgz8c4HoJAEAgCQSAI7EYgBXo3ZFEIAkEgCASBIHA+AinQ52McD0EgCASBIBAEdiOQAr0bsigEgSAQBIJAEDgfgRTo8zGOhyAQBIJAEAgCuxFIgd4NWRSCQBAIAkEgCJyPQAr0+RjHQxAIAkEgCASB3QikQO+GLApBIAgEgSAQBM5HIAX6fIzjIQgEgSAQBILAbgRSoHdDFoUgEASCQBAIAucj8P8gDoeqxVrmiQAAAABJRU5ErkJggg==)\n"
   ]
  },
  {
   "cell_type": "markdown",
   "metadata": {
    "id": "E5mmYIfN8eYV"
   },
   "source": [
    "# **Question 3: House price prediction**"
   ]
  },
  {
   "cell_type": "markdown",
   "metadata": {
    "id": "hsi2y4z88ngX"
   },
   "source": [
    "(40 points). You are required to build a **regression** model to predict the house price with 79 explanatory variables describing (almost) every aspect of residential homes. The purpose of this question is to practice regression analysis, an supervised learning model. The training data, testing data, and data description files can be download here: https://github.com/unt-iialab/info5731-spring2022/blob/main/assignments/assignment4-question3-data.zip. Here is an axample for implementation: https://towardsdatascience.com/linear-regression-in-python-predict-the-bay-areas-home-price-5c91c8378878. \n"
   ]
  },
  {
   "cell_type": "code",
   "execution_count": 31,
   "metadata": {
    "colab": {
     "base_uri": "https://localhost:8080/"
    },
    "id": "kY3Q5OEm1xWt",
    "outputId": "604f3462-8efa-4a07-9149-7dff956ee415"
   },
   "outputs": [
    {
     "name": "stdout",
     "output_type": "stream",
     "text": [
      "--2022-05-04 23:39:36--  https://github.com/unt-iialab/info5731-spring2022/raw/main/assignments/assignment4-question3-data.zip\n",
      "Resolving github.com (github.com)... 140.82.114.3\n",
      "Connecting to github.com (github.com)|140.82.114.3|:443... connected.\n",
      "HTTP request sent, awaiting response... 302 Found\n",
      "Location: https://raw.githubusercontent.com/unt-iialab/info5731-spring2022/main/assignments/assignment4-question3-data.zip [following]\n",
      "--2022-05-04 23:39:36--  https://raw.githubusercontent.com/unt-iialab/info5731-spring2022/main/assignments/assignment4-question3-data.zip\n",
      "Resolving raw.githubusercontent.com (raw.githubusercontent.com)... 185.199.109.133, 185.199.108.133, 185.199.110.133, ...\n",
      "Connecting to raw.githubusercontent.com (raw.githubusercontent.com)|185.199.109.133|:443... connected.\n",
      "HTTP request sent, awaiting response... 200 OK\n",
      "Length: 166409 (163K) [application/zip]\n",
      "Saving to: ‘assignment4-question3-data.zip’\n",
      "\n",
      "assignment4-questio 100%[===================>] 162.51K  --.-KB/s    in 0.004s  \n",
      "\n",
      "2022-05-04 23:39:36 (44.0 MB/s) - ‘assignment4-question3-data.zip’ saved [166409/166409]\n",
      "\n",
      "Archive:  /content/assignment4-question3-data.zip\n",
      "  inflating: data_description.txt    \n",
      "  inflating: test.csv                \n",
      "  inflating: train.csv               \n"
     ]
    }
   ],
   "source": [
    "!wget https://github.com/unt-iialab/info5731-spring2022/raw/main/assignments/assignment4-question3-data.zip\n",
    "!unzip /content/assignment4-question3-data.zip\n"
   ]
  },
  {
   "cell_type": "markdown",
   "metadata": {
    "id": "GlZ_6fsl_yjp"
   },
   "source": [
    "# **Reading Data from Csv files**"
   ]
  },
  {
   "cell_type": "code",
   "execution_count": 32,
   "metadata": {
    "id": "XfvMKJjIXS5G"
   },
   "outputs": [],
   "source": [
    "train_dataset = pd.read_csv(\"/content/train.csv\")\n",
    "test_dataset = pd.read_csv(\"/content/test.csv\")\n"
   ]
  },
  {
   "cell_type": "markdown",
   "metadata": {
    "id": "aHh5id30_6LU"
   },
   "source": [
    "# **Getting statistics of the training data**"
   ]
  },
  {
   "cell_type": "code",
   "execution_count": 33,
   "metadata": {
    "colab": {
     "base_uri": "https://localhost:8080/",
     "height": 394
    },
    "id": "EL0fAYUAJTpY",
    "outputId": "a28add9c-a00d-439a-8cb3-6526972b0bff"
   },
   "outputs": [
    {
     "data": {
      "text/html": [
       "\n",
       "  <div id=\"df-9f1428b3-7366-466d-a98c-7643c6a62931\">\n",
       "    <div class=\"colab-df-container\">\n",
       "      <div>\n",
       "<style scoped>\n",
       "    .dataframe tbody tr th:only-of-type {\n",
       "        vertical-align: middle;\n",
       "    }\n",
       "\n",
       "    .dataframe tbody tr th {\n",
       "        vertical-align: top;\n",
       "    }\n",
       "\n",
       "    .dataframe thead th {\n",
       "        text-align: right;\n",
       "    }\n",
       "</style>\n",
       "<table border=\"1\" class=\"dataframe\">\n",
       "  <thead>\n",
       "    <tr style=\"text-align: right;\">\n",
       "      <th></th>\n",
       "      <th>Id</th>\n",
       "      <th>MSSubClass</th>\n",
       "      <th>LotFrontage</th>\n",
       "      <th>LotArea</th>\n",
       "      <th>OverallQual</th>\n",
       "      <th>OverallCond</th>\n",
       "      <th>YearBuilt</th>\n",
       "      <th>YearRemodAdd</th>\n",
       "      <th>MasVnrArea</th>\n",
       "      <th>BsmtFinSF1</th>\n",
       "      <th>...</th>\n",
       "      <th>WoodDeckSF</th>\n",
       "      <th>OpenPorchSF</th>\n",
       "      <th>EnclosedPorch</th>\n",
       "      <th>3SsnPorch</th>\n",
       "      <th>ScreenPorch</th>\n",
       "      <th>PoolArea</th>\n",
       "      <th>MiscVal</th>\n",
       "      <th>MoSold</th>\n",
       "      <th>YrSold</th>\n",
       "      <th>SalePrice</th>\n",
       "    </tr>\n",
       "  </thead>\n",
       "  <tbody>\n",
       "    <tr>\n",
       "      <th>count</th>\n",
       "      <td>1460.000000</td>\n",
       "      <td>1460.000000</td>\n",
       "      <td>1201.000000</td>\n",
       "      <td>1460.000000</td>\n",
       "      <td>1460.000000</td>\n",
       "      <td>1460.000000</td>\n",
       "      <td>1460.000000</td>\n",
       "      <td>1460.000000</td>\n",
       "      <td>1452.000000</td>\n",
       "      <td>1460.000000</td>\n",
       "      <td>...</td>\n",
       "      <td>1460.000000</td>\n",
       "      <td>1460.000000</td>\n",
       "      <td>1460.000000</td>\n",
       "      <td>1460.000000</td>\n",
       "      <td>1460.000000</td>\n",
       "      <td>1460.000000</td>\n",
       "      <td>1460.000000</td>\n",
       "      <td>1460.000000</td>\n",
       "      <td>1460.000000</td>\n",
       "      <td>1460.000000</td>\n",
       "    </tr>\n",
       "    <tr>\n",
       "      <th>mean</th>\n",
       "      <td>730.500000</td>\n",
       "      <td>56.897260</td>\n",
       "      <td>70.049958</td>\n",
       "      <td>10516.828082</td>\n",
       "      <td>6.099315</td>\n",
       "      <td>5.575342</td>\n",
       "      <td>1971.267808</td>\n",
       "      <td>1984.865753</td>\n",
       "      <td>103.685262</td>\n",
       "      <td>443.639726</td>\n",
       "      <td>...</td>\n",
       "      <td>94.244521</td>\n",
       "      <td>46.660274</td>\n",
       "      <td>21.954110</td>\n",
       "      <td>3.409589</td>\n",
       "      <td>15.060959</td>\n",
       "      <td>2.758904</td>\n",
       "      <td>43.489041</td>\n",
       "      <td>6.321918</td>\n",
       "      <td>2007.815753</td>\n",
       "      <td>180921.195890</td>\n",
       "    </tr>\n",
       "    <tr>\n",
       "      <th>std</th>\n",
       "      <td>421.610009</td>\n",
       "      <td>42.300571</td>\n",
       "      <td>24.284752</td>\n",
       "      <td>9981.264932</td>\n",
       "      <td>1.382997</td>\n",
       "      <td>1.112799</td>\n",
       "      <td>30.202904</td>\n",
       "      <td>20.645407</td>\n",
       "      <td>181.066207</td>\n",
       "      <td>456.098091</td>\n",
       "      <td>...</td>\n",
       "      <td>125.338794</td>\n",
       "      <td>66.256028</td>\n",
       "      <td>61.119149</td>\n",
       "      <td>29.317331</td>\n",
       "      <td>55.757415</td>\n",
       "      <td>40.177307</td>\n",
       "      <td>496.123024</td>\n",
       "      <td>2.703626</td>\n",
       "      <td>1.328095</td>\n",
       "      <td>79442.502883</td>\n",
       "    </tr>\n",
       "    <tr>\n",
       "      <th>min</th>\n",
       "      <td>1.000000</td>\n",
       "      <td>20.000000</td>\n",
       "      <td>21.000000</td>\n",
       "      <td>1300.000000</td>\n",
       "      <td>1.000000</td>\n",
       "      <td>1.000000</td>\n",
       "      <td>1872.000000</td>\n",
       "      <td>1950.000000</td>\n",
       "      <td>0.000000</td>\n",
       "      <td>0.000000</td>\n",
       "      <td>...</td>\n",
       "      <td>0.000000</td>\n",
       "      <td>0.000000</td>\n",
       "      <td>0.000000</td>\n",
       "      <td>0.000000</td>\n",
       "      <td>0.000000</td>\n",
       "      <td>0.000000</td>\n",
       "      <td>0.000000</td>\n",
       "      <td>1.000000</td>\n",
       "      <td>2006.000000</td>\n",
       "      <td>34900.000000</td>\n",
       "    </tr>\n",
       "    <tr>\n",
       "      <th>25%</th>\n",
       "      <td>365.750000</td>\n",
       "      <td>20.000000</td>\n",
       "      <td>59.000000</td>\n",
       "      <td>7553.500000</td>\n",
       "      <td>5.000000</td>\n",
       "      <td>5.000000</td>\n",
       "      <td>1954.000000</td>\n",
       "      <td>1967.000000</td>\n",
       "      <td>0.000000</td>\n",
       "      <td>0.000000</td>\n",
       "      <td>...</td>\n",
       "      <td>0.000000</td>\n",
       "      <td>0.000000</td>\n",
       "      <td>0.000000</td>\n",
       "      <td>0.000000</td>\n",
       "      <td>0.000000</td>\n",
       "      <td>0.000000</td>\n",
       "      <td>0.000000</td>\n",
       "      <td>5.000000</td>\n",
       "      <td>2007.000000</td>\n",
       "      <td>129975.000000</td>\n",
       "    </tr>\n",
       "    <tr>\n",
       "      <th>50%</th>\n",
       "      <td>730.500000</td>\n",
       "      <td>50.000000</td>\n",
       "      <td>69.000000</td>\n",
       "      <td>9478.500000</td>\n",
       "      <td>6.000000</td>\n",
       "      <td>5.000000</td>\n",
       "      <td>1973.000000</td>\n",
       "      <td>1994.000000</td>\n",
       "      <td>0.000000</td>\n",
       "      <td>383.500000</td>\n",
       "      <td>...</td>\n",
       "      <td>0.000000</td>\n",
       "      <td>25.000000</td>\n",
       "      <td>0.000000</td>\n",
       "      <td>0.000000</td>\n",
       "      <td>0.000000</td>\n",
       "      <td>0.000000</td>\n",
       "      <td>0.000000</td>\n",
       "      <td>6.000000</td>\n",
       "      <td>2008.000000</td>\n",
       "      <td>163000.000000</td>\n",
       "    </tr>\n",
       "    <tr>\n",
       "      <th>75%</th>\n",
       "      <td>1095.250000</td>\n",
       "      <td>70.000000</td>\n",
       "      <td>80.000000</td>\n",
       "      <td>11601.500000</td>\n",
       "      <td>7.000000</td>\n",
       "      <td>6.000000</td>\n",
       "      <td>2000.000000</td>\n",
       "      <td>2004.000000</td>\n",
       "      <td>166.000000</td>\n",
       "      <td>712.250000</td>\n",
       "      <td>...</td>\n",
       "      <td>168.000000</td>\n",
       "      <td>68.000000</td>\n",
       "      <td>0.000000</td>\n",
       "      <td>0.000000</td>\n",
       "      <td>0.000000</td>\n",
       "      <td>0.000000</td>\n",
       "      <td>0.000000</td>\n",
       "      <td>8.000000</td>\n",
       "      <td>2009.000000</td>\n",
       "      <td>214000.000000</td>\n",
       "    </tr>\n",
       "    <tr>\n",
       "      <th>max</th>\n",
       "      <td>1460.000000</td>\n",
       "      <td>190.000000</td>\n",
       "      <td>313.000000</td>\n",
       "      <td>215245.000000</td>\n",
       "      <td>10.000000</td>\n",
       "      <td>9.000000</td>\n",
       "      <td>2010.000000</td>\n",
       "      <td>2010.000000</td>\n",
       "      <td>1600.000000</td>\n",
       "      <td>5644.000000</td>\n",
       "      <td>...</td>\n",
       "      <td>857.000000</td>\n",
       "      <td>547.000000</td>\n",
       "      <td>552.000000</td>\n",
       "      <td>508.000000</td>\n",
       "      <td>480.000000</td>\n",
       "      <td>738.000000</td>\n",
       "      <td>15500.000000</td>\n",
       "      <td>12.000000</td>\n",
       "      <td>2010.000000</td>\n",
       "      <td>755000.000000</td>\n",
       "    </tr>\n",
       "  </tbody>\n",
       "</table>\n",
       "<p>8 rows × 38 columns</p>\n",
       "</div>\n",
       "      <button class=\"colab-df-convert\" onclick=\"convertToInteractive('df-9f1428b3-7366-466d-a98c-7643c6a62931')\"\n",
       "              title=\"Convert this dataframe to an interactive table.\"\n",
       "              style=\"display:none;\">\n",
       "        \n",
       "  <svg xmlns=\"http://www.w3.org/2000/svg\" height=\"24px\"viewBox=\"0 0 24 24\"\n",
       "       width=\"24px\">\n",
       "    <path d=\"M0 0h24v24H0V0z\" fill=\"none\"/>\n",
       "    <path d=\"M18.56 5.44l.94 2.06.94-2.06 2.06-.94-2.06-.94-.94-2.06-.94 2.06-2.06.94zm-11 1L8.5 8.5l.94-2.06 2.06-.94-2.06-.94L8.5 2.5l-.94 2.06-2.06.94zm10 10l.94 2.06.94-2.06 2.06-.94-2.06-.94-.94-2.06-.94 2.06-2.06.94z\"/><path d=\"M17.41 7.96l-1.37-1.37c-.4-.4-.92-.59-1.43-.59-.52 0-1.04.2-1.43.59L10.3 9.45l-7.72 7.72c-.78.78-.78 2.05 0 2.83L4 21.41c.39.39.9.59 1.41.59.51 0 1.02-.2 1.41-.59l7.78-7.78 2.81-2.81c.8-.78.8-2.07 0-2.86zM5.41 20L4 18.59l7.72-7.72 1.47 1.35L5.41 20z\"/>\n",
       "  </svg>\n",
       "      </button>\n",
       "      \n",
       "  <style>\n",
       "    .colab-df-container {\n",
       "      display:flex;\n",
       "      flex-wrap:wrap;\n",
       "      gap: 12px;\n",
       "    }\n",
       "\n",
       "    .colab-df-convert {\n",
       "      background-color: #E8F0FE;\n",
       "      border: none;\n",
       "      border-radius: 50%;\n",
       "      cursor: pointer;\n",
       "      display: none;\n",
       "      fill: #1967D2;\n",
       "      height: 32px;\n",
       "      padding: 0 0 0 0;\n",
       "      width: 32px;\n",
       "    }\n",
       "\n",
       "    .colab-df-convert:hover {\n",
       "      background-color: #E2EBFA;\n",
       "      box-shadow: 0px 1px 2px rgba(60, 64, 67, 0.3), 0px 1px 3px 1px rgba(60, 64, 67, 0.15);\n",
       "      fill: #174EA6;\n",
       "    }\n",
       "\n",
       "    [theme=dark] .colab-df-convert {\n",
       "      background-color: #3B4455;\n",
       "      fill: #D2E3FC;\n",
       "    }\n",
       "\n",
       "    [theme=dark] .colab-df-convert:hover {\n",
       "      background-color: #434B5C;\n",
       "      box-shadow: 0px 1px 3px 1px rgba(0, 0, 0, 0.15);\n",
       "      filter: drop-shadow(0px 1px 2px rgba(0, 0, 0, 0.3));\n",
       "      fill: #FFFFFF;\n",
       "    }\n",
       "  </style>\n",
       "\n",
       "      <script>\n",
       "        const buttonEl =\n",
       "          document.querySelector('#df-9f1428b3-7366-466d-a98c-7643c6a62931 button.colab-df-convert');\n",
       "        buttonEl.style.display =\n",
       "          google.colab.kernel.accessAllowed ? 'block' : 'none';\n",
       "\n",
       "        async function convertToInteractive(key) {\n",
       "          const element = document.querySelector('#df-9f1428b3-7366-466d-a98c-7643c6a62931');\n",
       "          const dataTable =\n",
       "            await google.colab.kernel.invokeFunction('convertToInteractive',\n",
       "                                                     [key], {});\n",
       "          if (!dataTable) return;\n",
       "\n",
       "          const docLinkHtml = 'Like what you see? Visit the ' +\n",
       "            '<a target=\"_blank\" href=https://colab.research.google.com/notebooks/data_table.ipynb>data table notebook</a>'\n",
       "            + ' to learn more about interactive tables.';\n",
       "          element.innerHTML = '';\n",
       "          dataTable['output_type'] = 'display_data';\n",
       "          await google.colab.output.renderOutput(dataTable, element);\n",
       "          const docLink = document.createElement('div');\n",
       "          docLink.innerHTML = docLinkHtml;\n",
       "          element.appendChild(docLink);\n",
       "        }\n",
       "      </script>\n",
       "    </div>\n",
       "  </div>\n",
       "  "
      ],
      "text/plain": [
       "                Id   MSSubClass  LotFrontage        LotArea  OverallQual  \\\n",
       "count  1460.000000  1460.000000  1201.000000    1460.000000  1460.000000   \n",
       "mean    730.500000    56.897260    70.049958   10516.828082     6.099315   \n",
       "std     421.610009    42.300571    24.284752    9981.264932     1.382997   \n",
       "min       1.000000    20.000000    21.000000    1300.000000     1.000000   \n",
       "25%     365.750000    20.000000    59.000000    7553.500000     5.000000   \n",
       "50%     730.500000    50.000000    69.000000    9478.500000     6.000000   \n",
       "75%    1095.250000    70.000000    80.000000   11601.500000     7.000000   \n",
       "max    1460.000000   190.000000   313.000000  215245.000000    10.000000   \n",
       "\n",
       "       OverallCond    YearBuilt  YearRemodAdd   MasVnrArea   BsmtFinSF1  ...  \\\n",
       "count  1460.000000  1460.000000   1460.000000  1452.000000  1460.000000  ...   \n",
       "mean      5.575342  1971.267808   1984.865753   103.685262   443.639726  ...   \n",
       "std       1.112799    30.202904     20.645407   181.066207   456.098091  ...   \n",
       "min       1.000000  1872.000000   1950.000000     0.000000     0.000000  ...   \n",
       "25%       5.000000  1954.000000   1967.000000     0.000000     0.000000  ...   \n",
       "50%       5.000000  1973.000000   1994.000000     0.000000   383.500000  ...   \n",
       "75%       6.000000  2000.000000   2004.000000   166.000000   712.250000  ...   \n",
       "max       9.000000  2010.000000   2010.000000  1600.000000  5644.000000  ...   \n",
       "\n",
       "        WoodDeckSF  OpenPorchSF  EnclosedPorch    3SsnPorch  ScreenPorch  \\\n",
       "count  1460.000000  1460.000000    1460.000000  1460.000000  1460.000000   \n",
       "mean     94.244521    46.660274      21.954110     3.409589    15.060959   \n",
       "std     125.338794    66.256028      61.119149    29.317331    55.757415   \n",
       "min       0.000000     0.000000       0.000000     0.000000     0.000000   \n",
       "25%       0.000000     0.000000       0.000000     0.000000     0.000000   \n",
       "50%       0.000000    25.000000       0.000000     0.000000     0.000000   \n",
       "75%     168.000000    68.000000       0.000000     0.000000     0.000000   \n",
       "max     857.000000   547.000000     552.000000   508.000000   480.000000   \n",
       "\n",
       "          PoolArea       MiscVal       MoSold       YrSold      SalePrice  \n",
       "count  1460.000000   1460.000000  1460.000000  1460.000000    1460.000000  \n",
       "mean      2.758904     43.489041     6.321918  2007.815753  180921.195890  \n",
       "std      40.177307    496.123024     2.703626     1.328095   79442.502883  \n",
       "min       0.000000      0.000000     1.000000  2006.000000   34900.000000  \n",
       "25%       0.000000      0.000000     5.000000  2007.000000  129975.000000  \n",
       "50%       0.000000      0.000000     6.000000  2008.000000  163000.000000  \n",
       "75%       0.000000      0.000000     8.000000  2009.000000  214000.000000  \n",
       "max     738.000000  15500.000000    12.000000  2010.000000  755000.000000  \n",
       "\n",
       "[8 rows x 38 columns]"
      ]
     },
     "execution_count": 33,
     "metadata": {},
     "output_type": "execute_result"
    }
   ],
   "source": [
    "train_dataset.describe()\n"
   ]
  },
  {
   "cell_type": "markdown",
   "metadata": {
    "id": "sduYsVP8ACi0"
   },
   "source": [
    "# **Checking for Null values**"
   ]
  },
  {
   "cell_type": "code",
   "execution_count": 34,
   "metadata": {
    "colab": {
     "base_uri": "https://localhost:8080/"
    },
    "id": "Z7HRVrpTKyyU",
    "outputId": "71eb0060-a3af-4d45-dc45-7b5ed3a113ff"
   },
   "outputs": [
    {
     "name": "stdout",
     "output_type": "stream",
     "text": [
      "Id                 0\n",
      "MSSubClass         0\n",
      "MSZoning           0\n",
      "LotFrontage      259\n",
      "LotArea            0\n",
      "                ... \n",
      "MoSold             0\n",
      "YrSold             0\n",
      "SaleType           0\n",
      "SaleCondition      0\n",
      "SalePrice          0\n",
      "Length: 81, dtype: int64\n"
     ]
    }
   ],
   "source": [
    "print(train_dataset.isnull().sum())\n"
   ]
  },
  {
   "cell_type": "code",
   "execution_count": 35,
   "metadata": {
    "colab": {
     "base_uri": "https://localhost:8080/"
    },
    "id": "y2NP3tpRcFuj",
    "outputId": "aa551130-4087-4368-9854-37bd872a9daf"
   },
   "outputs": [
    {
     "name": "stdout",
     "output_type": "stream",
     "text": [
      "Id                 0\n",
      "MSSubClass         0\n",
      "MSZoning           4\n",
      "LotFrontage      227\n",
      "LotArea            0\n",
      "                ... \n",
      "MiscVal            0\n",
      "MoSold             0\n",
      "YrSold             0\n",
      "SaleType           1\n",
      "SaleCondition      0\n",
      "Length: 80, dtype: int64\n"
     ]
    }
   ],
   "source": [
    "print(test_dataset.isnull().sum())\n"
   ]
  },
  {
   "cell_type": "markdown",
   "metadata": {
    "id": "JFVvJdQVAHFU"
   },
   "source": [
    "# **Exploratory Data Analysis**"
   ]
  },
  {
   "cell_type": "code",
   "execution_count": 36,
   "metadata": {
    "colab": {
     "base_uri": "https://localhost:8080/",
     "height": 879
    },
    "id": "Lkd7ArLZJWHS",
    "outputId": "3007d526-55c0-43c3-820c-5ff6f1dc3986"
   },
   "outputs": [
    {
     "data": {
      "image/png": "[encoded data removed]",
      "text/plain": [
       "<Figure size 1440x1080 with 42 Axes>"
      ]
     },
     "metadata": {
      "needs_background": "light"
     },
     "output_type": "display_data"
    }
   ],
   "source": [
    "import matplotlib.pyplot as plt\n",
    "%matplotlib inline\n",
    "train_dataset.hist(bins=50, figsize=(20, 15))\n",
    "plt.savefig(\"attribute_histogram_plots\")\n",
    "plt.show()\n"
   ]
  },
  {
   "cell_type": "code",
   "execution_count": 37,
   "metadata": {
    "colab": {
     "base_uri": "https://localhost:8080/"
    },
    "id": "mQaMF4QjJzKm",
    "outputId": "9ee73d09-6076-49ae-fe8f-9ab43313be1c"
   },
   "outputs": [
    {
     "data": {
      "text/plain": [
       "SalePrice        1.000000\n",
       "OverallQual      0.790982\n",
       "GrLivArea        0.708624\n",
       "GarageCars       0.640409\n",
       "GarageArea       0.623431\n",
       "TotalBsmtSF      0.613581\n",
       "1stFlrSF         0.605852\n",
       "FullBath         0.560664\n",
       "TotRmsAbvGrd     0.533723\n",
       "YearBuilt        0.522897\n",
       "YearRemodAdd     0.507101\n",
       "GarageYrBlt      0.486362\n",
       "MasVnrArea       0.477493\n",
       "Fireplaces       0.466929\n",
       "BsmtFinSF1       0.386420\n",
       "LotFrontage      0.351799\n",
       "WoodDeckSF       0.324413\n",
       "2ndFlrSF         0.319334\n",
       "OpenPorchSF      0.315856\n",
       "HalfBath         0.284108\n",
       "LotArea          0.263843\n",
       "BsmtFullBath     0.227122\n",
       "BsmtUnfSF        0.214479\n",
       "BedroomAbvGr     0.168213\n",
       "ScreenPorch      0.111447\n",
       "PoolArea         0.092404\n",
       "MoSold           0.046432\n",
       "3SsnPorch        0.044584\n",
       "BsmtFinSF2      -0.011378\n",
       "BsmtHalfBath    -0.016844\n",
       "MiscVal         -0.021190\n",
       "Id              -0.021917\n",
       "LowQualFinSF    -0.025606\n",
       "YrSold          -0.028923\n",
       "OverallCond     -0.077856\n",
       "MSSubClass      -0.084284\n",
       "EnclosedPorch   -0.128578\n",
       "KitchenAbvGr    -0.135907\n",
       "Name: SalePrice, dtype: float64"
      ]
     },
     "execution_count": 37,
     "metadata": {},
     "output_type": "execute_result"
    }
   ],
   "source": [
    "corr_matrix = train_dataset.corr()\n",
    "corr_matrix[\"SalePrice\"].sort_values(ascending=False)\n"
   ]
  },
  {
   "cell_type": "code",
   "execution_count": 38,
   "metadata": {
    "colab": {
     "base_uri": "https://localhost:8080/",
     "height": 296
    },
    "id": "My8okJP_LBcQ",
    "outputId": "aaac4987-f94a-482b-ba4b-c67ccec9d871"
   },
   "outputs": [
    {
     "data": {
      "text/plain": [
       "<matplotlib.axes._subplots.AxesSubplot at 0x7f2056d92150>"
      ]
     },
     "execution_count": 38,
     "metadata": {},
     "output_type": "execute_result"
    },
    {
     "data": {
      "image/png": "[encoded data removed]",
      "text/plain": [
       "<Figure size 432x288 with 1 Axes>"
      ]
     },
     "metadata": {
      "needs_background": "light"
     },
     "output_type": "display_data"
    }
   ],
   "source": [
    "train_dataset.plot(kind=\"scatter\", x=\"OverallQual\", y=\"SalePrice\", alpha=0.5)\n"
   ]
  },
  {
   "cell_type": "code",
   "execution_count": 39,
   "metadata": {
    "colab": {
     "base_uri": "https://localhost:8080/",
     "height": 296
    },
    "id": "zk5Gwsd5LtPM",
    "outputId": "638c4d5f-f69d-4b0c-f3ad-37cec05a96b3"
   },
   "outputs": [
    {
     "data": {
      "text/plain": [
       "<matplotlib.axes._subplots.AxesSubplot at 0x7f20562e3f90>"
      ]
     },
     "execution_count": 39,
     "metadata": {},
     "output_type": "execute_result"
    },
    {
     "data": {
      "image/png": "[encoded data removed]",
      "text/plain": [
       "<Figure size 432x288 with 1 Axes>"
      ]
     },
     "metadata": {
      "needs_background": "light"
     },
     "output_type": "display_data"
    }
   ],
   "source": [
    "train_dataset.plot(kind=\"scatter\", x=\"GrLivArea\", y=\"SalePrice\", alpha=0.5)\n"
   ]
  },
  {
   "cell_type": "code",
   "execution_count": 40,
   "metadata": {
    "colab": {
     "base_uri": "https://localhost:8080/",
     "height": 296
    },
    "id": "wEoUxS2nMulu",
    "outputId": "3c7d48b2-96bf-4d94-f643-2a7547aa5b05"
   },
   "outputs": [
    {
     "data": {
      "text/plain": [
       "<matplotlib.axes._subplots.AxesSubplot at 0x7f2058961590>"
      ]
     },
     "execution_count": 40,
     "metadata": {},
     "output_type": "execute_result"
    },
    {
     "data": {
      "image/png": "[encoded data removed]",
      "text/plain": [
       "<Figure size 432x288 with 1 Axes>"
      ]
     },
     "metadata": {
      "needs_background": "light"
     },
     "output_type": "display_data"
    }
   ],
   "source": [
    "train_dataset.plot(kind=\"scatter\", x=\"GarageCars\", y=\"SalePrice\", alpha=0.5)\n"
   ]
  },
  {
   "cell_type": "code",
   "execution_count": 41,
   "metadata": {
    "colab": {
     "base_uri": "https://localhost:8080/",
     "height": 282
    },
    "id": "sRkhhQMPM9oR",
    "outputId": "b5f91ad2-7c9a-4f34-8019-8dd9fb626d28"
   },
   "outputs": [
    {
     "data": {
      "text/plain": [
       "<matplotlib.axes._subplots.AxesSubplot at 0x7f2058b57c50>"
      ]
     },
     "execution_count": 41,
     "metadata": {},
     "output_type": "execute_result"
    },
    {
     "data": {
      "image/png": "[encoded data removed]",
      "text/plain": [
       "<Figure size 432x288 with 1 Axes>"
      ]
     },
     "metadata": {
      "needs_background": "light"
     },
     "output_type": "display_data"
    }
   ],
   "source": [
    "train_dataset.boxplot(\n",
    "    column=['OverallQual', 'GrLivArea', 'GarageCars', 'GarageArea'])\n"
   ]
  },
  {
   "cell_type": "code",
   "execution_count": 42,
   "metadata": {
    "colab": {
     "base_uri": "https://localhost:8080/",
     "height": 282
    },
    "id": "B7-u_lUPPPhi",
    "outputId": "17cdcef8-a748-467a-b8fc-3c9449c235ea"
   },
   "outputs": [
    {
     "data": {
      "text/plain": [
       "<matplotlib.axes._subplots.AxesSubplot at 0x7f2058e560d0>"
      ]
     },
     "execution_count": 42,
     "metadata": {},
     "output_type": "execute_result"
    },
    {
     "data": {
      "image/png": "[encoded data removed]",
      "text/plain": [
       "<Figure size 432x288 with 1 Axes>"
      ]
     },
     "metadata": {
      "needs_background": "light"
     },
     "output_type": "display_data"
    }
   ],
   "source": [
    "train_dataset.boxplot(\n",
    "    column=['TotalBsmtSF', '1stFlrSF', 'FullBath', 'SalePrice'])\n"
   ]
  },
  {
   "cell_type": "code",
   "execution_count": 43,
   "metadata": {
    "colab": {
     "base_uri": "https://localhost:8080/"
    },
    "id": "FopLo6RnPazl",
    "outputId": "1246362e-09fd-4fea-f58b-beefb5b7ce72"
   },
   "outputs": [
    {
     "name": "stderr",
     "output_type": "stream",
     "text": [
      "/usr/local/lib/python3.7/dist-packages/ipykernel_launcher.py:1: FutureWarning: Dropping of nuisance columns in DataFrame reductions (with 'numeric_only=None') is deprecated; in a future version this will raise TypeError.  Select only valid columns before calling the reduction.\n",
      "  \"\"\"Entry point for launching an IPython kernel.\n",
      "/usr/local/lib/python3.7/dist-packages/ipykernel_launcher.py:2: FutureWarning: Dropping of nuisance columns in DataFrame reductions (with 'numeric_only=None') is deprecated; in a future version this will raise TypeError.  Select only valid columns before calling the reduction.\n",
      "  \n"
     ]
    }
   ],
   "source": [
    "train_dataset.fillna(train_dataset.mean(), inplace=True)\n",
    "test_dataset.fillna(test_dataset.mean(), inplace=True)\n"
   ]
  },
  {
   "cell_type": "code",
   "execution_count": 44,
   "metadata": {
    "colab": {
     "base_uri": "https://localhost:8080/"
    },
    "id": "WT_VSUJKPwbX",
    "outputId": "f9271ce7-5656-4bd6-df1d-96402039f44d"
   },
   "outputs": [
    {
     "name": "stdout",
     "output_type": "stream",
     "text": [
      "Id               0\n",
      "MSSubClass       0\n",
      "MSZoning         0\n",
      "LotFrontage      0\n",
      "LotArea          0\n",
      "                ..\n",
      "MoSold           0\n",
      "YrSold           0\n",
      "SaleType         0\n",
      "SaleCondition    0\n",
      "SalePrice        0\n",
      "Length: 81, dtype: int64\n"
     ]
    }
   ],
   "source": [
    "print(train_dataset.isnull().sum())\n"
   ]
  },
  {
   "cell_type": "code",
   "execution_count": 45,
   "metadata": {
    "colab": {
     "base_uri": "https://localhost:8080/"
    },
    "id": "3W7fkQIWcrgv",
    "outputId": "6dc7ba00-d529-49e8-a330-b5badeaf1e5d"
   },
   "outputs": [
    {
     "name": "stdout",
     "output_type": "stream",
     "text": [
      "Id               0\n",
      "MSSubClass       0\n",
      "MSZoning         4\n",
      "LotFrontage      0\n",
      "LotArea          0\n",
      "                ..\n",
      "MiscVal          0\n",
      "MoSold           0\n",
      "YrSold           0\n",
      "SaleType         1\n",
      "SaleCondition    0\n",
      "Length: 80, dtype: int64\n"
     ]
    }
   ],
   "source": [
    "print(test_dataset.isnull().sum())\n"
   ]
  },
  {
   "cell_type": "markdown",
   "metadata": {
    "id": "PtvTgf1GAo-V"
   },
   "source": [
    "# **Data Encoding**"
   ]
  },
  {
   "cell_type": "code",
   "execution_count": 46,
   "metadata": {
    "id": "b7J80BgsP2MH"
   },
   "outputs": [],
   "source": [
    "from sklearn.preprocessing import LabelEncoder\n",
    "columns = ('GarageCond', 'LandContour', 'RoofStyle', 'RoofMatl', 'Heating', 'MiscFeature', 'SaleType', 'GarageType', 'Electrical', 'SaleCondition', 'Foundation', 'Exterior1st', 'Exterior2nd', 'MasVnrType', 'FireplaceQu', 'LotConfig', 'Neighborhood', 'Condition1', 'Condition2', 'Utilities', 'BldgType', 'HouseStyle',\n",
    "           'PoolQC', 'BsmtQual', 'BsmtCond', 'GarageQual', 'BsmtExposure', 'ExterQual', 'ExterCond', 'HeatingQC', 'KitchenQual', 'BsmtFinType1', 'BsmtFinType2', 'Functional', 'Fence', 'GarageFinish', 'LandSlope', 'LotShape', 'PavedDrive', 'Street', 'Alley', 'CentralAir', 'MSSubClass', 'OverallCond', 'YrSold', 'MoSold', 'MSZoning')\n",
    "for column in columns:\n",
    "    encoder = LabelEncoder()\n",
    "    encoder.fit(list(train_dataset[column].values))\n",
    "    train_dataset[column] = encoder.transform(\n",
    "        list(train_dataset[column].values))\n"
   ]
  },
  {
   "cell_type": "code",
   "execution_count": 47,
   "metadata": {
    "id": "YeQzXF1Mc8N5"
   },
   "outputs": [],
   "source": [
    "for column in columns:\n",
    "    encoder_test = LabelEncoder()\n",
    "    encoder_test.fit(list(test_dataset[column].values))\n",
    "    test_dataset[column] = encoder_test.transform(\n",
    "        list(test_dataset[column].values))\n"
   ]
  },
  {
   "cell_type": "code",
   "execution_count": 48,
   "metadata": {
    "id": "ZrmFERpmQOII"
   },
   "outputs": [],
   "source": [
    "x_values = train_dataset[train_dataset.columns[:80]]\n"
   ]
  },
  {
   "cell_type": "code",
   "execution_count": 49,
   "metadata": {
    "id": "RXAGLfHedjiG"
   },
   "outputs": [],
   "source": [
    "x_test_values = test_dataset[test_dataset.columns[:80]]\n"
   ]
  },
  {
   "cell_type": "code",
   "execution_count": 50,
   "metadata": {
    "id": "wfM8HoMGRf0P"
   },
   "outputs": [],
   "source": [
    "y_values = train_dataset['SalePrice']\n"
   ]
  },
  {
   "cell_type": "markdown",
   "metadata": {
    "id": "qw3TX03QANUM"
   },
   "source": [
    "# **Training the Regression Model**"
   ]
  },
  {
   "cell_type": "code",
   "execution_count": 51,
   "metadata": {
    "colab": {
     "base_uri": "https://localhost:8080/"
    },
    "id": "PXGXPNgVRipY",
    "outputId": "3952e732-4c37-4634-e8cf-3123046e00ba"
   },
   "outputs": [
    {
     "data": {
      "text/plain": [
       "0.8548395143943592"
      ]
     },
     "execution_count": 51,
     "metadata": {},
     "output_type": "execute_result"
    }
   ],
   "source": [
    "from sklearn.linear_model import LinearRegression\n",
    "reg_model = LinearRegression()\n",
    "reg_model.fit(x_values, y_values)\n",
    "reg_model.score(x_values, y_values)\n"
   ]
  },
  {
   "cell_type": "markdown",
   "metadata": {
    "id": "MItRRng7ASW-"
   },
   "source": [
    "# **Predicting the House Sale Price**"
   ]
  },
  {
   "cell_type": "code",
   "execution_count": 52,
   "metadata": {
    "id": "eN0oOAvqTQkJ"
   },
   "outputs": [],
   "source": [
    "predicted = reg_model.predict(x_test_values)\n"
   ]
  },
  {
   "cell_type": "code",
   "execution_count": 53,
   "metadata": {
    "colab": {
     "base_uri": "https://localhost:8080/",
     "height": 424
    },
    "id": "wDYIu4FCdxEG",
    "outputId": "91e62d3b-688d-4bb7-c387-e015148d2556"
   },
   "outputs": [
    {
     "data": {
      "text/html": [
       "\n",
       "  <div id=\"df-bec9e9d5-7622-4b2b-9288-434ca8fde210\">\n",
       "    <div class=\"colab-df-container\">\n",
       "      <div>\n",
       "<style scoped>\n",
       "    .dataframe tbody tr th:only-of-type {\n",
       "        vertical-align: middle;\n",
       "    }\n",
       "\n",
       "    .dataframe tbody tr th {\n",
       "        vertical-align: top;\n",
       "    }\n",
       "\n",
       "    .dataframe thead th {\n",
       "        text-align: right;\n",
       "    }\n",
       "</style>\n",
       "<table border=\"1\" class=\"dataframe\">\n",
       "  <thead>\n",
       "    <tr style=\"text-align: right;\">\n",
       "      <th></th>\n",
       "      <th>Predicted House Price Values</th>\n",
       "    </tr>\n",
       "  </thead>\n",
       "  <tbody>\n",
       "    <tr>\n",
       "      <th>0</th>\n",
       "      <td>184936.609022</td>\n",
       "    </tr>\n",
       "    <tr>\n",
       "      <th>1</th>\n",
       "      <td>239791.092108</td>\n",
       "    </tr>\n",
       "    <tr>\n",
       "      <th>2</th>\n",
       "      <td>245071.890618</td>\n",
       "    </tr>\n",
       "    <tr>\n",
       "      <th>3</th>\n",
       "      <td>263617.412688</td>\n",
       "    </tr>\n",
       "    <tr>\n",
       "      <th>4</th>\n",
       "      <td>263185.252850</td>\n",
       "    </tr>\n",
       "    <tr>\n",
       "      <th>...</th>\n",
       "      <td>...</td>\n",
       "    </tr>\n",
       "    <tr>\n",
       "      <th>1454</th>\n",
       "      <td>152148.218848</td>\n",
       "    </tr>\n",
       "    <tr>\n",
       "      <th>1455</th>\n",
       "      <td>138020.527442</td>\n",
       "    </tr>\n",
       "    <tr>\n",
       "      <th>1456</th>\n",
       "      <td>225624.228917</td>\n",
       "    </tr>\n",
       "    <tr>\n",
       "      <th>1457</th>\n",
       "      <td>196336.422912</td>\n",
       "    </tr>\n",
       "    <tr>\n",
       "      <th>1458</th>\n",
       "      <td>318680.747439</td>\n",
       "    </tr>\n",
       "  </tbody>\n",
       "</table>\n",
       "<p>1459 rows × 1 columns</p>\n",
       "</div>\n",
       "      <button class=\"colab-df-convert\" onclick=\"convertToInteractive('df-bec9e9d5-7622-4b2b-9288-434ca8fde210')\"\n",
       "              title=\"Convert this dataframe to an interactive table.\"\n",
       "              style=\"display:none;\">\n",
       "        \n",
       "  <svg xmlns=\"http://www.w3.org/2000/svg\" height=\"24px\"viewBox=\"0 0 24 24\"\n",
       "       width=\"24px\">\n",
       "    <path d=\"M0 0h24v24H0V0z\" fill=\"none\"/>\n",
       "    <path d=\"M18.56 5.44l.94 2.06.94-2.06 2.06-.94-2.06-.94-.94-2.06-.94 2.06-2.06.94zm-11 1L8.5 8.5l.94-2.06 2.06-.94-2.06-.94L8.5 2.5l-.94 2.06-2.06.94zm10 10l.94 2.06.94-2.06 2.06-.94-2.06-.94-.94-2.06-.94 2.06-2.06.94z\"/><path d=\"M17.41 7.96l-1.37-1.37c-.4-.4-.92-.59-1.43-.59-.52 0-1.04.2-1.43.59L10.3 9.45l-7.72 7.72c-.78.78-.78 2.05 0 2.83L4 21.41c.39.39.9.59 1.41.59.51 0 1.02-.2 1.41-.59l7.78-7.78 2.81-2.81c.8-.78.8-2.07 0-2.86zM5.41 20L4 18.59l7.72-7.72 1.47 1.35L5.41 20z\"/>\n",
       "  </svg>\n",
       "      </button>\n",
       "      \n",
       "  <style>\n",
       "    .colab-df-container {\n",
       "      display:flex;\n",
       "      flex-wrap:wrap;\n",
       "      gap: 12px;\n",
       "    }\n",
       "\n",
       "    .colab-df-convert {\n",
       "      background-color: #E8F0FE;\n",
       "      border: none;\n",
       "      border-radius: 50%;\n",
       "      cursor: pointer;\n",
       "      display: none;\n",
       "      fill: #1967D2;\n",
       "      height: 32px;\n",
       "      padding: 0 0 0 0;\n",
       "      width: 32px;\n",
       "    }\n",
       "\n",
       "    .colab-df-convert:hover {\n",
       "      background-color: #E2EBFA;\n",
       "      box-shadow: 0px 1px 2px rgba(60, 64, 67, 0.3), 0px 1px 3px 1px rgba(60, 64, 67, 0.15);\n",
       "      fill: #174EA6;\n",
       "    }\n",
       "\n",
       "    [theme=dark] .colab-df-convert {\n",
       "      background-color: #3B4455;\n",
       "      fill: #D2E3FC;\n",
       "    }\n",
       "\n",
       "    [theme=dark] .colab-df-convert:hover {\n",
       "      background-color: #434B5C;\n",
       "      box-shadow: 0px 1px 3px 1px rgba(0, 0, 0, 0.15);\n",
       "      filter: drop-shadow(0px 1px 2px rgba(0, 0, 0, 0.3));\n",
       "      fill: #FFFFFF;\n",
       "    }\n",
       "  </style>\n",
       "\n",
       "      <script>\n",
       "        const buttonEl =\n",
       "          document.querySelector('#df-bec9e9d5-7622-4b2b-9288-434ca8fde210 button.colab-df-convert');\n",
       "        buttonEl.style.display =\n",
       "          google.colab.kernel.accessAllowed ? 'block' : 'none';\n",
       "\n",
       "        async function convertToInteractive(key) {\n",
       "          const element = document.querySelector('#df-bec9e9d5-7622-4b2b-9288-434ca8fde210');\n",
       "          const dataTable =\n",
       "            await google.colab.kernel.invokeFunction('convertToInteractive',\n",
       "                                                     [key], {});\n",
       "          if (!dataTable) return;\n",
       "\n",
       "          const docLinkHtml = 'Like what you see? Visit the ' +\n",
       "            '<a target=\"_blank\" href=https://colab.research.google.com/notebooks/data_table.ipynb>data table notebook</a>'\n",
       "            + ' to learn more about interactive tables.';\n",
       "          element.innerHTML = '';\n",
       "          dataTable['output_type'] = 'display_data';\n",
       "          await google.colab.output.renderOutput(dataTable, element);\n",
       "          const docLink = document.createElement('div');\n",
       "          docLink.innerHTML = docLinkHtml;\n",
       "          element.appendChild(docLink);\n",
       "        }\n",
       "      </script>\n",
       "    </div>\n",
       "  </div>\n",
       "  "
      ],
      "text/plain": [
       "      Predicted House Price Values\n",
       "0                    184936.609022\n",
       "1                    239791.092108\n",
       "2                    245071.890618\n",
       "3                    263617.412688\n",
       "4                    263185.252850\n",
       "...                            ...\n",
       "1454                 152148.218848\n",
       "1455                 138020.527442\n",
       "1456                 225624.228917\n",
       "1457                 196336.422912\n",
       "1458                 318680.747439\n",
       "\n",
       "[1459 rows x 1 columns]"
      ]
     },
     "execution_count": 53,
     "metadata": {},
     "output_type": "execute_result"
    }
   ],
   "source": [
    "pd.DataFrame({'Predicted House Price Values': predicted})\n"
   ]
  },
  {
   "cell_type": "code",
   "execution_count": null,
   "metadata": {
    "id": "ZCeFfrzjc3MD"
   },
   "outputs": [],
   "source": []
  }
 ],
 "metadata": {
  "colab": {
   "collapsed_sections": [],
   "name": "INFO5731_Assignment_Four.ipynb",
   "provenance": []
  },
  "kernelspec": {
   "display_name": "Python 3",
   "language": "python",
   "name": "python3"
  },
  "language_info": {
   "codemirror_mode": {
    "name": "ipython",
    "version": 3
   },
   "file_extension": ".py",
   "mimetype": "text/x-python",
   "name": "python",
   "nbconvert_exporter": "python",
   "pygments_lexer": "ipython3",
   "version": "3.8.8"
  },
  "widgets": {
   "application/vnd.jupyter.widget-state+json": {
    "077eb7c720b8452a8ae82ce88f35d935": {
     "model_module": "@jupyter-widgets/base",
     "model_module_version": "1.2.0",
     "model_name": "LayoutModel",
     "state": {
      "_model_module": "@jupyter-widgets/base",
      "_model_module_version": "1.2.0",
      "_model_name": "LayoutModel",
      "_view_count": null,
      "_view_module": "@jupyter-widgets/base",
      "_view_module_version": "1.2.0",
      "_view_name": "LayoutView",
      "align_content": null,
      "align_items": null,
      "align_self": null,
      "border": null,
      "bottom": null,
      "display": null,
      "flex": null,
      "flex_flow": null,
      "grid_area": null,
      "grid_auto_columns": null,
      "grid_auto_flow": null,
      "grid_auto_rows": null,
      "grid_column": null,
      "grid_gap": null,
      "grid_row": null,
      "grid_template_areas": null,
      "grid_template_columns": null,
      "grid_template_rows": null,
      "height": null,
      "justify_content": null,
      "justify_items": null,
      "left": null,
      "margin": null,
      "max_height": null,
      "max_width": null,
      "min_height": null,
      "min_width": null,
      "object_fit": null,
      "object_position": null,
      "order": null,
      "overflow": null,
      "overflow_x": null,
      "overflow_y": null,
      "padding": null,
      "right": null,
      "top": null,
      "visibility": null,
      "width": null
     }
    },
    "07b53b6b17a04a8e8b94b23ed958c7eb": {
     "model_module": "@jupyter-widgets/controls",
     "model_module_version": "1.5.0",
     "model_name": "DescriptionStyleModel",
     "state": {
      "_model_module": "@jupyter-widgets/controls",
      "_model_module_version": "1.5.0",
      "_model_name": "DescriptionStyleModel",
      "_view_count": null,
      "_view_module": "@jupyter-widgets/base",
      "_view_module_version": "1.2.0",
      "_view_name": "StyleView",
      "description_width": ""
     }
    },
    "0909c43d115644a9b6c95799fc057020": {
     "model_module": "@jupyter-widgets/controls",
     "model_module_version": "1.5.0",
     "model_name": "ProgressStyleModel",
     "state": {
      "_model_module": "@jupyter-widgets/controls",
      "_model_module_version": "1.5.0",
      "_model_name": "ProgressStyleModel",
      "_view_count": null,
      "_view_module": "@jupyter-widgets/base",
      "_view_module_version": "1.2.0",
      "_view_name": "StyleView",
      "bar_color": null,
      "description_width": ""
     }
    },
    "0b857eb232ba42398d0d5bb491759f07": {
     "model_module": "@jupyter-widgets/base",
     "model_module_version": "1.2.0",
     "model_name": "LayoutModel",
     "state": {
      "_model_module": "@jupyter-widgets/base",
      "_model_module_version": "1.2.0",
      "_model_name": "LayoutModel",
      "_view_count": null,
      "_view_module": "@jupyter-widgets/base",
      "_view_module_version": "1.2.0",
      "_view_name": "LayoutView",
      "align_content": null,
      "align_items": null,
      "align_self": null,
      "border": null,
      "bottom": null,
      "display": null,
      "flex": null,
      "flex_flow": null,
      "grid_area": null,
      "grid_auto_columns": null,
      "grid_auto_flow": null,
      "grid_auto_rows": null,
      "grid_column": null,
      "grid_gap": null,
      "grid_row": null,
      "grid_template_areas": null,
      "grid_template_columns": null,
      "grid_template_rows": null,
      "height": null,
      "justify_content": null,
      "justify_items": null,
      "left": null,
      "margin": null,
      "max_height": null,
      "max_width": null,
      "min_height": null,
      "min_width": null,
      "object_fit": null,
      "object_position": null,
      "order": null,
      "overflow": null,
      "overflow_x": null,
      "overflow_y": null,
      "padding": null,
      "right": null,
      "top": null,
      "visibility": null,
      "width": null
     }
    },
    "1143bb188599489fba3c9aab775461c5": {
     "model_module": "@jupyter-widgets/controls",
     "model_module_version": "1.5.0",
     "model_name": "HTMLModel",
     "state": {
      "_dom_classes": [],
      "_model_module": "@jupyter-widgets/controls",
      "_model_module_version": "1.5.0",
      "_model_name": "HTMLModel",
      "_view_count": null,
      "_view_module": "@jupyter-widgets/controls",
      "_view_module_version": "1.5.0",
      "_view_name": "HTMLView",
      "description": "",
      "description_tooltip": null,
      "layout": "IPY_MODEL_83fdca871cfc436bb409c3b6bc2b077f",
      "placeholder": "​",
      "style": "IPY_MODEL_fedd0f93c9514b108e016fe244cc3e3c",
      "value": "Downloading metadata: "
     }
    },
    "119cf60e0bdc4570b89132105c015be3": {
     "model_module": "@jupyter-widgets/controls",
     "model_module_version": "1.5.0",
     "model_name": "DescriptionStyleModel",
     "state": {
      "_model_module": "@jupyter-widgets/controls",
      "_model_module_version": "1.5.0",
      "_model_name": "DescriptionStyleModel",
      "_view_count": null,
      "_view_module": "@jupyter-widgets/base",
      "_view_module_version": "1.2.0",
      "_view_name": "StyleView",
      "description_width": ""
     }
    },
    "17760ecc42994e2aa2a6b94559cf6e3f": {
     "model_module": "@jupyter-widgets/controls",
     "model_module_version": "1.5.0",
     "model_name": "DescriptionStyleModel",
     "state": {
      "_model_module": "@jupyter-widgets/controls",
      "_model_module_version": "1.5.0",
      "_model_name": "DescriptionStyleModel",
      "_view_count": null,
      "_view_module": "@jupyter-widgets/base",
      "_view_module_version": "1.2.0",
      "_view_name": "StyleView",
      "description_width": ""
     }
    },
    "1b46f78806294252867c4cc70c6d2598": {
     "model_module": "@jupyter-widgets/controls",
     "model_module_version": "1.5.0",
     "model_name": "HTMLModel",
     "state": {
      "_dom_classes": [],
      "_model_module": "@jupyter-widgets/controls",
      "_model_module_version": "1.5.0",
      "_model_name": "HTMLModel",
      "_view_count": null,
      "_view_module": "@jupyter-widgets/controls",
      "_view_module_version": "1.5.0",
      "_view_name": "HTMLView",
      "description": "",
      "description_tooltip": null,
      "layout": "IPY_MODEL_510e83560e644d74802abe61b3cb54bc",
      "placeholder": "​",
      "style": "IPY_MODEL_62ad79835b744fc4826b9dcc70a045e1",
      "value": " 649610/650000 [00:38&lt;00:00, 18033.01 examples/s]"
     }
    },
    "1c3af607957e40f28f1e44d4320435d5": {
     "model_module": "@jupyter-widgets/controls",
     "model_module_version": "1.5.0",
     "model_name": "HTMLModel",
     "state": {
      "_dom_classes": [],
      "_model_module": "@jupyter-widgets/controls",
      "_model_module_version": "1.5.0",
      "_model_name": "HTMLModel",
      "_view_count": null,
      "_view_module": "@jupyter-widgets/controls",
      "_view_module_version": "1.5.0",
      "_view_name": "HTMLView",
      "description": "",
      "description_tooltip": null,
      "layout": "IPY_MODEL_077eb7c720b8452a8ae82ce88f35d935",
      "placeholder": "​",
      "style": "IPY_MODEL_119cf60e0bdc4570b89132105c015be3",
      "value": "Downloading data: 100%"
     }
    },
    "1de3e748f0bd42019b5592b7b19482ef": {
     "model_module": "@jupyter-widgets/base",
     "model_module_version": "1.2.0",
     "model_name": "LayoutModel",
     "state": {
      "_model_module": "@jupyter-widgets/base",
      "_model_module_version": "1.2.0",
      "_model_name": "LayoutModel",
      "_view_count": null,
      "_view_module": "@jupyter-widgets/base",
      "_view_module_version": "1.2.0",
      "_view_name": "LayoutView",
      "align_content": null,
      "align_items": null,
      "align_self": null,
      "border": null,
      "bottom": null,
      "display": null,
      "flex": null,
      "flex_flow": null,
      "grid_area": null,
      "grid_auto_columns": null,
      "grid_auto_flow": null,
      "grid_auto_rows": null,
      "grid_column": null,
      "grid_gap": null,
      "grid_row": null,
      "grid_template_areas": null,
      "grid_template_columns": null,
      "grid_template_rows": null,
      "height": null,
      "justify_content": null,
      "justify_items": null,
      "left": null,
      "margin": null,
      "max_height": null,
      "max_width": null,
      "min_height": null,
      "min_width": null,
      "object_fit": null,
      "object_position": null,
      "order": null,
      "overflow": null,
      "overflow_x": null,
      "overflow_y": null,
      "padding": null,
      "right": null,
      "top": null,
      "visibility": null,
      "width": null
     }
    },
    "23a50451bf1c4679ac59e4516c2d20fe": {
     "model_module": "@jupyter-widgets/controls",
     "model_module_version": "1.5.0",
     "model_name": "ProgressStyleModel",
     "state": {
      "_model_module": "@jupyter-widgets/controls",
      "_model_module_version": "1.5.0",
      "_model_name": "ProgressStyleModel",
      "_view_count": null,
      "_view_module": "@jupyter-widgets/base",
      "_view_module_version": "1.2.0",
      "_view_name": "StyleView",
      "bar_color": null,
      "description_width": ""
     }
    },
    "247ef27a193f462984ffbca6ed953229": {
     "model_module": "@jupyter-widgets/controls",
     "model_module_version": "1.5.0",
     "model_name": "HTMLModel",
     "state": {
      "_dom_classes": [],
      "_model_module": "@jupyter-widgets/controls",
      "_model_module_version": "1.5.0",
      "_model_name": "HTMLModel",
      "_view_count": null,
      "_view_module": "@jupyter-widgets/controls",
      "_view_module_version": "1.5.0",
      "_view_name": "HTMLView",
      "description": "",
      "description_tooltip": null,
      "layout": "IPY_MODEL_4f4102c43df5434887e2469f0461a26b",
      "placeholder": "​",
      "style": "IPY_MODEL_8702ceeb41404af697c4bf58a1791595",
      "value": " 196M/196M [00:08&lt;00:00, 45.9MB/s]"
     }
    },
    "24f57cb25bf44e47b2978994e58bf9a9": {
     "model_module": "@jupyter-widgets/base",
     "model_module_version": "1.2.0",
     "model_name": "LayoutModel",
     "state": {
      "_model_module": "@jupyter-widgets/base",
      "_model_module_version": "1.2.0",
      "_model_name": "LayoutModel",
      "_view_count": null,
      "_view_module": "@jupyter-widgets/base",
      "_view_module_version": "1.2.0",
      "_view_name": "LayoutView",
      "align_content": null,
      "align_items": null,
      "align_self": null,
      "border": null,
      "bottom": null,
      "display": null,
      "flex": null,
      "flex_flow": null,
      "grid_area": null,
      "grid_auto_columns": null,
      "grid_auto_flow": null,
      "grid_auto_rows": null,
      "grid_column": null,
      "grid_gap": null,
      "grid_row": null,
      "grid_template_areas": null,
      "grid_template_columns": null,
      "grid_template_rows": null,
      "height": null,
      "justify_content": null,
      "justify_items": null,
      "left": null,
      "margin": null,
      "max_height": null,
      "max_width": null,
      "min_height": null,
      "min_width": null,
      "object_fit": null,
      "object_position": null,
      "order": null,
      "overflow": null,
      "overflow_x": null,
      "overflow_y": null,
      "padding": null,
      "right": null,
      "top": null,
      "visibility": null,
      "width": null
     }
    },
    "283d27ff4d444aacb0a6a68a0bd17021": {
     "model_module": "@jupyter-widgets/controls",
     "model_module_version": "1.5.0",
     "model_name": "DescriptionStyleModel",
     "state": {
      "_model_module": "@jupyter-widgets/controls",
      "_model_module_version": "1.5.0",
      "_model_name": "DescriptionStyleModel",
      "_view_count": null,
      "_view_module": "@jupyter-widgets/base",
      "_view_module_version": "1.2.0",
      "_view_name": "StyleView",
      "description_width": ""
     }
    },
    "293105cf04c249f587b0fe29cbb7cc19": {
     "model_module": "@jupyter-widgets/controls",
     "model_module_version": "1.5.0",
     "model_name": "HBoxModel",
     "state": {
      "_dom_classes": [],
      "_model_module": "@jupyter-widgets/controls",
      "_model_module_version": "1.5.0",
      "_model_name": "HBoxModel",
      "_view_count": null,
      "_view_module": "@jupyter-widgets/controls",
      "_view_module_version": "1.5.0",
      "_view_name": "HBoxView",
      "box_style": "",
      "children": [
       "IPY_MODEL_1c3af607957e40f28f1e44d4320435d5",
       "IPY_MODEL_ed6c610f72cf42e7a4ab0dc5400c715b",
       "IPY_MODEL_247ef27a193f462984ffbca6ed953229"
      ],
      "layout": "IPY_MODEL_0b857eb232ba42398d0d5bb491759f07"
     }
    },
    "31f6f3dae3294db5a8b1b3ba4fe4c975": {
     "model_module": "@jupyter-widgets/controls",
     "model_module_version": "1.5.0",
     "model_name": "HBoxModel",
     "state": {
      "_dom_classes": [],
      "_model_module": "@jupyter-widgets/controls",
      "_model_module_version": "1.5.0",
      "_model_name": "HBoxModel",
      "_view_count": null,
      "_view_module": "@jupyter-widgets/controls",
      "_view_module_version": "1.5.0",
      "_view_name": "HBoxView",
      "box_style": "",
      "children": [
       "IPY_MODEL_c13d724c7a2340fcba10947bd2b61017",
       "IPY_MODEL_b1059d8b9bfa407ba494c766dd679187",
       "IPY_MODEL_94015cbe862749199c6c961391b92f41"
      ],
      "layout": "IPY_MODEL_6ab04b6e0af34d7688920b45b9bd7f92"
     }
    },
    "3a6679d2569641998829446845a2213b": {
     "model_module": "@jupyter-widgets/controls",
     "model_module_version": "1.5.0",
     "model_name": "HTMLModel",
     "state": {
      "_dom_classes": [],
      "_model_module": "@jupyter-widgets/controls",
      "_model_module_version": "1.5.0",
      "_model_name": "HTMLModel",
      "_view_count": null,
      "_view_module": "@jupyter-widgets/controls",
      "_view_module_version": "1.5.0",
      "_view_name": "HTMLView",
      "description": "",
      "description_tooltip": null,
      "layout": "IPY_MODEL_9a166b5e85494c91a88ecd7ac615f0cf",
      "placeholder": "​",
      "style": "IPY_MODEL_17760ecc42994e2aa2a6b94559cf6e3f",
      "value": " 48612/50000 [00:06&lt;00:00, 16195.89 examples/s]"
     }
    },
    "3ae6cfb11d6f4a32b4dcf9ae055c0c88": {
     "model_module": "@jupyter-widgets/controls",
     "model_module_version": "1.5.0",
     "model_name": "FloatProgressModel",
     "state": {
      "_dom_classes": [],
      "_model_module": "@jupyter-widgets/controls",
      "_model_module_version": "1.5.0",
      "_model_name": "FloatProgressModel",
      "_view_count": null,
      "_view_module": "@jupyter-widgets/controls",
      "_view_module_version": "1.5.0",
      "_view_name": "ProgressView",
      "bar_style": "",
      "description": "",
      "description_tooltip": null,
      "layout": "IPY_MODEL_4ab47032ce7b40e88a978d92c1078e51",
      "max": 50000,
      "min": 0,
      "orientation": "horizontal",
      "style": "IPY_MODEL_7901d9b98f1d4d0c9d6d67d98b8fa043",
      "value": 50000
     }
    },
    "4ab47032ce7b40e88a978d92c1078e51": {
     "model_module": "@jupyter-widgets/base",
     "model_module_version": "1.2.0",
     "model_name": "LayoutModel",
     "state": {
      "_model_module": "@jupyter-widgets/base",
      "_model_module_version": "1.2.0",
      "_model_name": "LayoutModel",
      "_view_count": null,
      "_view_module": "@jupyter-widgets/base",
      "_view_module_version": "1.2.0",
      "_view_name": "LayoutView",
      "align_content": null,
      "align_items": null,
      "align_self": null,
      "border": null,
      "bottom": null,
      "display": null,
      "flex": null,
      "flex_flow": null,
      "grid_area": null,
      "grid_auto_columns": null,
      "grid_auto_flow": null,
      "grid_auto_rows": null,
      "grid_column": null,
      "grid_gap": null,
      "grid_row": null,
      "grid_template_areas": null,
      "grid_template_columns": null,
      "grid_template_rows": null,
      "height": null,
      "justify_content": null,
      "justify_items": null,
      "left": null,
      "margin": null,
      "max_height": null,
      "max_width": null,
      "min_height": null,
      "min_width": null,
      "object_fit": null,
      "object_position": null,
      "order": null,
      "overflow": null,
      "overflow_x": null,
      "overflow_y": null,
      "padding": null,
      "right": null,
      "top": null,
      "visibility": null,
      "width": null
     }
    },
    "4f4102c43df5434887e2469f0461a26b": {
     "model_module": "@jupyter-widgets/base",
     "model_module_version": "1.2.0",
     "model_name": "LayoutModel",
     "state": {
      "_model_module": "@jupyter-widgets/base",
      "_model_module_version": "1.2.0",
      "_model_name": "LayoutModel",
      "_view_count": null,
      "_view_module": "@jupyter-widgets/base",
      "_view_module_version": "1.2.0",
      "_view_name": "LayoutView",
      "align_content": null,
      "align_items": null,
      "align_self": null,
      "border": null,
      "bottom": null,
      "display": null,
      "flex": null,
      "flex_flow": null,
      "grid_area": null,
      "grid_auto_columns": null,
      "grid_auto_flow": null,
      "grid_auto_rows": null,
      "grid_column": null,
      "grid_gap": null,
      "grid_row": null,
      "grid_template_areas": null,
      "grid_template_columns": null,
      "grid_template_rows": null,
      "height": null,
      "justify_content": null,
      "justify_items": null,
      "left": null,
      "margin": null,
      "max_height": null,
      "max_width": null,
      "min_height": null,
      "min_width": null,
      "object_fit": null,
      "object_position": null,
      "order": null,
      "overflow": null,
      "overflow_x": null,
      "overflow_y": null,
      "padding": null,
      "right": null,
      "top": null,
      "visibility": null,
      "width": null
     }
    },
    "510e83560e644d74802abe61b3cb54bc": {
     "model_module": "@jupyter-widgets/base",
     "model_module_version": "1.2.0",
     "model_name": "LayoutModel",
     "state": {
      "_model_module": "@jupyter-widgets/base",
      "_model_module_version": "1.2.0",
      "_model_name": "LayoutModel",
      "_view_count": null,
      "_view_module": "@jupyter-widgets/base",
      "_view_module_version": "1.2.0",
      "_view_name": "LayoutView",
      "align_content": null,
      "align_items": null,
      "align_self": null,
      "border": null,
      "bottom": null,
      "display": null,
      "flex": null,
      "flex_flow": null,
      "grid_area": null,
      "grid_auto_columns": null,
      "grid_auto_flow": null,
      "grid_auto_rows": null,
      "grid_column": null,
      "grid_gap": null,
      "grid_row": null,
      "grid_template_areas": null,
      "grid_template_columns": null,
      "grid_template_rows": null,
      "height": null,
      "justify_content": null,
      "justify_items": null,
      "left": null,
      "margin": null,
      "max_height": null,
      "max_width": null,
      "min_height": null,
      "min_width": null,
      "object_fit": null,
      "object_position": null,
      "order": null,
      "overflow": null,
      "overflow_x": null,
      "overflow_y": null,
      "padding": null,
      "right": null,
      "top": null,
      "visibility": null,
      "width": null
     }
    },
    "62ad79835b744fc4826b9dcc70a045e1": {
     "model_module": "@jupyter-widgets/controls",
     "model_module_version": "1.5.0",
     "model_name": "DescriptionStyleModel",
     "state": {
      "_model_module": "@jupyter-widgets/controls",
      "_model_module_version": "1.5.0",
      "_model_name": "DescriptionStyleModel",
      "_view_count": null,
      "_view_module": "@jupyter-widgets/base",
      "_view_module_version": "1.2.0",
      "_view_name": "StyleView",
      "description_width": ""
     }
    },
    "6435e588ade44f78ac7f0c437e15c162": {
     "model_module": "@jupyter-widgets/controls",
     "model_module_version": "1.5.0",
     "model_name": "HBoxModel",
     "state": {
      "_dom_classes": [],
      "_model_module": "@jupyter-widgets/controls",
      "_model_module_version": "1.5.0",
      "_model_name": "HBoxModel",
      "_view_count": null,
      "_view_module": "@jupyter-widgets/controls",
      "_view_module_version": "1.5.0",
      "_view_name": "HBoxView",
      "box_style": "",
      "children": [
       "IPY_MODEL_1143bb188599489fba3c9aab775461c5",
       "IPY_MODEL_9577d21cc54b4de38169ad7202f89ec5",
       "IPY_MODEL_cc99706e88b64fdaa2c41ec4e49a4f9d"
      ],
      "layout": "IPY_MODEL_895e77a7bdb84a8d96e39513c95fe8f0"
     }
    },
    "6ab04b6e0af34d7688920b45b9bd7f92": {
     "model_module": "@jupyter-widgets/base",
     "model_module_version": "1.2.0",
     "model_name": "LayoutModel",
     "state": {
      "_model_module": "@jupyter-widgets/base",
      "_model_module_version": "1.2.0",
      "_model_name": "LayoutModel",
      "_view_count": null,
      "_view_module": "@jupyter-widgets/base",
      "_view_module_version": "1.2.0",
      "_view_name": "LayoutView",
      "align_content": null,
      "align_items": null,
      "align_self": null,
      "border": null,
      "bottom": null,
      "display": null,
      "flex": null,
      "flex_flow": null,
      "grid_area": null,
      "grid_auto_columns": null,
      "grid_auto_flow": null,
      "grid_auto_rows": null,
      "grid_column": null,
      "grid_gap": null,
      "grid_row": null,
      "grid_template_areas": null,
      "grid_template_columns": null,
      "grid_template_rows": null,
      "height": null,
      "justify_content": null,
      "justify_items": null,
      "left": null,
      "margin": null,
      "max_height": null,
      "max_width": null,
      "min_height": null,
      "min_width": null,
      "object_fit": null,
      "object_position": null,
      "order": null,
      "overflow": null,
      "overflow_x": null,
      "overflow_y": null,
      "padding": null,
      "right": null,
      "top": null,
      "visibility": null,
      "width": null
     }
    },
    "6b1c3a035b224a1cb471265e65e0fb4b": {
     "model_module": "@jupyter-widgets/controls",
     "model_module_version": "1.5.0",
     "model_name": "FloatProgressModel",
     "state": {
      "_dom_classes": [],
      "_model_module": "@jupyter-widgets/controls",
      "_model_module_version": "1.5.0",
      "_model_name": "FloatProgressModel",
      "_view_count": null,
      "_view_module": "@jupyter-widgets/controls",
      "_view_module_version": "1.5.0",
      "_view_name": "ProgressView",
      "bar_style": "",
      "description": "",
      "description_tooltip": null,
      "layout": "IPY_MODEL_f08d8c2ec72f467aa685514750175a8b",
      "max": 650000,
      "min": 0,
      "orientation": "horizontal",
      "style": "IPY_MODEL_0909c43d115644a9b6c95799fc057020",
      "value": 650000
     }
    },
    "6be428e030ae488394ab16efba494d7b": {
     "model_module": "@jupyter-widgets/controls",
     "model_module_version": "1.5.0",
     "model_name": "DescriptionStyleModel",
     "state": {
      "_model_module": "@jupyter-widgets/controls",
      "_model_module_version": "1.5.0",
      "_model_name": "DescriptionStyleModel",
      "_view_count": null,
      "_view_module": "@jupyter-widgets/base",
      "_view_module_version": "1.2.0",
      "_view_name": "StyleView",
      "description_width": ""
     }
    },
    "6e3d33827dbe4e3ba2fbd4c551c2a5ef": {
     "model_module": "@jupyter-widgets/base",
     "model_module_version": "1.2.0",
     "model_name": "LayoutModel",
     "state": {
      "_model_module": "@jupyter-widgets/base",
      "_model_module_version": "1.2.0",
      "_model_name": "LayoutModel",
      "_view_count": null,
      "_view_module": "@jupyter-widgets/base",
      "_view_module_version": "1.2.0",
      "_view_name": "LayoutView",
      "align_content": null,
      "align_items": null,
      "align_self": null,
      "border": null,
      "bottom": null,
      "display": null,
      "flex": null,
      "flex_flow": null,
      "grid_area": null,
      "grid_auto_columns": null,
      "grid_auto_flow": null,
      "grid_auto_rows": null,
      "grid_column": null,
      "grid_gap": null,
      "grid_row": null,
      "grid_template_areas": null,
      "grid_template_columns": null,
      "grid_template_rows": null,
      "height": null,
      "justify_content": null,
      "justify_items": null,
      "left": null,
      "margin": null,
      "max_height": null,
      "max_width": null,
      "min_height": null,
      "min_width": null,
      "object_fit": null,
      "object_position": null,
      "order": null,
      "overflow": null,
      "overflow_x": null,
      "overflow_y": null,
      "padding": null,
      "right": null,
      "top": null,
      "visibility": null,
      "width": null
     }
    },
    "731c925029b74992b9c0cd23b164aed4": {
     "model_module": "@jupyter-widgets/base",
     "model_module_version": "1.2.0",
     "model_name": "LayoutModel",
     "state": {
      "_model_module": "@jupyter-widgets/base",
      "_model_module_version": "1.2.0",
      "_model_name": "LayoutModel",
      "_view_count": null,
      "_view_module": "@jupyter-widgets/base",
      "_view_module_version": "1.2.0",
      "_view_name": "LayoutView",
      "align_content": null,
      "align_items": null,
      "align_self": null,
      "border": null,
      "bottom": null,
      "display": null,
      "flex": null,
      "flex_flow": null,
      "grid_area": null,
      "grid_auto_columns": null,
      "grid_auto_flow": null,
      "grid_auto_rows": null,
      "grid_column": null,
      "grid_gap": null,
      "grid_row": null,
      "grid_template_areas": null,
      "grid_template_columns": null,
      "grid_template_rows": null,
      "height": null,
      "justify_content": null,
      "justify_items": null,
      "left": null,
      "margin": null,
      "max_height": null,
      "max_width": null,
      "min_height": null,
      "min_width": null,
      "object_fit": null,
      "object_position": null,
      "order": null,
      "overflow": null,
      "overflow_x": null,
      "overflow_y": null,
      "padding": null,
      "right": null,
      "top": null,
      "visibility": null,
      "width": null
     }
    },
    "7901d9b98f1d4d0c9d6d67d98b8fa043": {
     "model_module": "@jupyter-widgets/controls",
     "model_module_version": "1.5.0",
     "model_name": "ProgressStyleModel",
     "state": {
      "_model_module": "@jupyter-widgets/controls",
      "_model_module_version": "1.5.0",
      "_model_name": "ProgressStyleModel",
      "_view_count": null,
      "_view_module": "@jupyter-widgets/base",
      "_view_module_version": "1.2.0",
      "_view_name": "StyleView",
      "bar_color": null,
      "description_width": ""
     }
    },
    "83fdca871cfc436bb409c3b6bc2b077f": {
     "model_module": "@jupyter-widgets/base",
     "model_module_version": "1.2.0",
     "model_name": "LayoutModel",
     "state": {
      "_model_module": "@jupyter-widgets/base",
      "_model_module_version": "1.2.0",
      "_model_name": "LayoutModel",
      "_view_count": null,
      "_view_module": "@jupyter-widgets/base",
      "_view_module_version": "1.2.0",
      "_view_name": "LayoutView",
      "align_content": null,
      "align_items": null,
      "align_self": null,
      "border": null,
      "bottom": null,
      "display": null,
      "flex": null,
      "flex_flow": null,
      "grid_area": null,
      "grid_auto_columns": null,
      "grid_auto_flow": null,
      "grid_auto_rows": null,
      "grid_column": null,
      "grid_gap": null,
      "grid_row": null,
      "grid_template_areas": null,
      "grid_template_columns": null,
      "grid_template_rows": null,
      "height": null,
      "justify_content": null,
      "justify_items": null,
      "left": null,
      "margin": null,
      "max_height": null,
      "max_width": null,
      "min_height": null,
      "min_width": null,
      "object_fit": null,
      "object_position": null,
      "order": null,
      "overflow": null,
      "overflow_x": null,
      "overflow_y": null,
      "padding": null,
      "right": null,
      "top": null,
      "visibility": null,
      "width": null
     }
    },
    "8702ceeb41404af697c4bf58a1791595": {
     "model_module": "@jupyter-widgets/controls",
     "model_module_version": "1.5.0",
     "model_name": "DescriptionStyleModel",
     "state": {
      "_model_module": "@jupyter-widgets/controls",
      "_model_module_version": "1.5.0",
      "_model_name": "DescriptionStyleModel",
      "_view_count": null,
      "_view_module": "@jupyter-widgets/base",
      "_view_module_version": "1.2.0",
      "_view_name": "StyleView",
      "description_width": ""
     }
    },
    "895e77a7bdb84a8d96e39513c95fe8f0": {
     "model_module": "@jupyter-widgets/base",
     "model_module_version": "1.2.0",
     "model_name": "LayoutModel",
     "state": {
      "_model_module": "@jupyter-widgets/base",
      "_model_module_version": "1.2.0",
      "_model_name": "LayoutModel",
      "_view_count": null,
      "_view_module": "@jupyter-widgets/base",
      "_view_module_version": "1.2.0",
      "_view_name": "LayoutView",
      "align_content": null,
      "align_items": null,
      "align_self": null,
      "border": null,
      "bottom": null,
      "display": null,
      "flex": null,
      "flex_flow": null,
      "grid_area": null,
      "grid_auto_columns": null,
      "grid_auto_flow": null,
      "grid_auto_rows": null,
      "grid_column": null,
      "grid_gap": null,
      "grid_row": null,
      "grid_template_areas": null,
      "grid_template_columns": null,
      "grid_template_rows": null,
      "height": null,
      "justify_content": null,
      "justify_items": null,
      "left": null,
      "margin": null,
      "max_height": null,
      "max_width": null,
      "min_height": null,
      "min_width": null,
      "object_fit": null,
      "object_position": null,
      "order": null,
      "overflow": null,
      "overflow_x": null,
      "overflow_y": null,
      "padding": null,
      "right": null,
      "top": null,
      "visibility": null,
      "width": null
     }
    },
    "94015cbe862749199c6c961391b92f41": {
     "model_module": "@jupyter-widgets/controls",
     "model_module_version": "1.5.0",
     "model_name": "HTMLModel",
     "state": {
      "_dom_classes": [],
      "_model_module": "@jupyter-widgets/controls",
      "_model_module_version": "1.5.0",
      "_model_name": "HTMLModel",
      "_view_count": null,
      "_view_module": "@jupyter-widgets/controls",
      "_view_module_version": "1.5.0",
      "_view_name": "HTMLView",
      "description": "",
      "description_tooltip": null,
      "layout": "IPY_MODEL_cde3ae5f9be74e9a93d8108108e3f178",
      "placeholder": "​",
      "style": "IPY_MODEL_07b53b6b17a04a8e8b94b23ed958c7eb",
      "value": " 4.41k/? [00:00&lt;00:00, 62.3kB/s]"
     }
    },
    "9577d21cc54b4de38169ad7202f89ec5": {
     "model_module": "@jupyter-widgets/controls",
     "model_module_version": "1.5.0",
     "model_name": "FloatProgressModel",
     "state": {
      "_dom_classes": [],
      "_model_module": "@jupyter-widgets/controls",
      "_model_module_version": "1.5.0",
      "_model_name": "FloatProgressModel",
      "_view_count": null,
      "_view_module": "@jupyter-widgets/controls",
      "_view_module_version": "1.5.0",
      "_view_name": "ProgressView",
      "bar_style": "success",
      "description": "",
      "description_tooltip": null,
      "layout": "IPY_MODEL_1de3e748f0bd42019b5592b7b19482ef",
      "max": 979,
      "min": 0,
      "orientation": "horizontal",
      "style": "IPY_MODEL_23a50451bf1c4679ac59e4516c2d20fe",
      "value": 979
     }
    },
    "99157a85fc69477bb25e068e0c2a38dd": {
     "model_module": "@jupyter-widgets/base",
     "model_module_version": "1.2.0",
     "model_name": "LayoutModel",
     "state": {
      "_model_module": "@jupyter-widgets/base",
      "_model_module_version": "1.2.0",
      "_model_name": "LayoutModel",
      "_view_count": null,
      "_view_module": "@jupyter-widgets/base",
      "_view_module_version": "1.2.0",
      "_view_name": "LayoutView",
      "align_content": null,
      "align_items": null,
      "align_self": null,
      "border": null,
      "bottom": null,
      "display": null,
      "flex": null,
      "flex_flow": null,
      "grid_area": null,
      "grid_auto_columns": null,
      "grid_auto_flow": null,
      "grid_auto_rows": null,
      "grid_column": null,
      "grid_gap": null,
      "grid_row": null,
      "grid_template_areas": null,
      "grid_template_columns": null,
      "grid_template_rows": null,
      "height": null,
      "justify_content": null,
      "justify_items": null,
      "left": null,
      "margin": null,
      "max_height": null,
      "max_width": null,
      "min_height": null,
      "min_width": null,
      "object_fit": null,
      "object_position": null,
      "order": null,
      "overflow": null,
      "overflow_x": null,
      "overflow_y": null,
      "padding": null,
      "right": null,
      "top": null,
      "visibility": null,
      "width": null
     }
    },
    "9a166b5e85494c91a88ecd7ac615f0cf": {
     "model_module": "@jupyter-widgets/base",
     "model_module_version": "1.2.0",
     "model_name": "LayoutModel",
     "state": {
      "_model_module": "@jupyter-widgets/base",
      "_model_module_version": "1.2.0",
      "_model_name": "LayoutModel",
      "_view_count": null,
      "_view_module": "@jupyter-widgets/base",
      "_view_module_version": "1.2.0",
      "_view_name": "LayoutView",
      "align_content": null,
      "align_items": null,
      "align_self": null,
      "border": null,
      "bottom": null,
      "display": null,
      "flex": null,
      "flex_flow": null,
      "grid_area": null,
      "grid_auto_columns": null,
      "grid_auto_flow": null,
      "grid_auto_rows": null,
      "grid_column": null,
      "grid_gap": null,
      "grid_row": null,
      "grid_template_areas": null,
      "grid_template_columns": null,
      "grid_template_rows": null,
      "height": null,
      "justify_content": null,
      "justify_items": null,
      "left": null,
      "margin": null,
      "max_height": null,
      "max_width": null,
      "min_height": null,
      "min_width": null,
      "object_fit": null,
      "object_position": null,
      "order": null,
      "overflow": null,
      "overflow_x": null,
      "overflow_y": null,
      "padding": null,
      "right": null,
      "top": null,
      "visibility": null,
      "width": null
     }
    },
    "9b2efccfa213410ba59c8ed5174569c4": {
     "model_module": "@jupyter-widgets/base",
     "model_module_version": "1.2.0",
     "model_name": "LayoutModel",
     "state": {
      "_model_module": "@jupyter-widgets/base",
      "_model_module_version": "1.2.0",
      "_model_name": "LayoutModel",
      "_view_count": null,
      "_view_module": "@jupyter-widgets/base",
      "_view_module_version": "1.2.0",
      "_view_name": "LayoutView",
      "align_content": null,
      "align_items": null,
      "align_self": null,
      "border": null,
      "bottom": null,
      "display": null,
      "flex": null,
      "flex_flow": null,
      "grid_area": null,
      "grid_auto_columns": null,
      "grid_auto_flow": null,
      "grid_auto_rows": null,
      "grid_column": null,
      "grid_gap": null,
      "grid_row": null,
      "grid_template_areas": null,
      "grid_template_columns": null,
      "grid_template_rows": null,
      "height": null,
      "justify_content": null,
      "justify_items": null,
      "left": null,
      "margin": null,
      "max_height": null,
      "max_width": null,
      "min_height": null,
      "min_width": null,
      "object_fit": null,
      "object_position": null,
      "order": null,
      "overflow": null,
      "overflow_x": null,
      "overflow_y": null,
      "padding": null,
      "right": null,
      "top": null,
      "visibility": null,
      "width": null
     }
    },
    "b0805678afbf4fbcaafd65515ce6dea9": {
     "model_module": "@jupyter-widgets/controls",
     "model_module_version": "1.5.0",
     "model_name": "DescriptionStyleModel",
     "state": {
      "_model_module": "@jupyter-widgets/controls",
      "_model_module_version": "1.5.0",
      "_model_name": "DescriptionStyleModel",
      "_view_count": null,
      "_view_module": "@jupyter-widgets/base",
      "_view_module_version": "1.2.0",
      "_view_name": "StyleView",
      "description_width": ""
     }
    },
    "b1059d8b9bfa407ba494c766dd679187": {
     "model_module": "@jupyter-widgets/controls",
     "model_module_version": "1.5.0",
     "model_name": "FloatProgressModel",
     "state": {
      "_dom_classes": [],
      "_model_module": "@jupyter-widgets/controls",
      "_model_module_version": "1.5.0",
      "_model_name": "FloatProgressModel",
      "_view_count": null,
      "_view_module": "@jupyter-widgets/controls",
      "_view_module_version": "1.5.0",
      "_view_name": "ProgressView",
      "bar_style": "success",
      "description": "",
      "description_tooltip": null,
      "layout": "IPY_MODEL_9b2efccfa213410ba59c8ed5174569c4",
      "max": 1800,
      "min": 0,
      "orientation": "horizontal",
      "style": "IPY_MODEL_efeb6b88b6ed40728cd34acf8a10da69",
      "value": 1800
     }
    },
    "b455cd4060eb455fb8ec7e60b3f8aed7": {
     "model_module": "@jupyter-widgets/controls",
     "model_module_version": "1.5.0",
     "model_name": "ProgressStyleModel",
     "state": {
      "_model_module": "@jupyter-widgets/controls",
      "_model_module_version": "1.5.0",
      "_model_name": "ProgressStyleModel",
      "_view_count": null,
      "_view_module": "@jupyter-widgets/base",
      "_view_module_version": "1.2.0",
      "_view_name": "StyleView",
      "bar_color": null,
      "description_width": ""
     }
    },
    "b63debd7db294e70942baa1c41cdc3ec": {
     "model_module": "@jupyter-widgets/controls",
     "model_module_version": "1.5.0",
     "model_name": "HTMLModel",
     "state": {
      "_dom_classes": [],
      "_model_module": "@jupyter-widgets/controls",
      "_model_module_version": "1.5.0",
      "_model_name": "HTMLModel",
      "_view_count": null,
      "_view_module": "@jupyter-widgets/controls",
      "_view_module_version": "1.5.0",
      "_view_name": "HTMLView",
      "description": "",
      "description_tooltip": null,
      "layout": "IPY_MODEL_731c925029b74992b9c0cd23b164aed4",
      "placeholder": "​",
      "style": "IPY_MODEL_283d27ff4d444aacb0a6a68a0bd17021",
      "value": "Generating train split: 100%"
     }
    },
    "bcf98f923e9c4e709a8323a11059c5e7": {
     "model_module": "@jupyter-widgets/base",
     "model_module_version": "1.2.0",
     "model_name": "LayoutModel",
     "state": {
      "_model_module": "@jupyter-widgets/base",
      "_model_module_version": "1.2.0",
      "_model_name": "LayoutModel",
      "_view_count": null,
      "_view_module": "@jupyter-widgets/base",
      "_view_module_version": "1.2.0",
      "_view_name": "LayoutView",
      "align_content": null,
      "align_items": null,
      "align_self": null,
      "border": null,
      "bottom": null,
      "display": null,
      "flex": null,
      "flex_flow": null,
      "grid_area": null,
      "grid_auto_columns": null,
      "grid_auto_flow": null,
      "grid_auto_rows": null,
      "grid_column": null,
      "grid_gap": null,
      "grid_row": null,
      "grid_template_areas": null,
      "grid_template_columns": null,
      "grid_template_rows": null,
      "height": null,
      "justify_content": null,
      "justify_items": null,
      "left": null,
      "margin": null,
      "max_height": null,
      "max_width": null,
      "min_height": null,
      "min_width": null,
      "object_fit": null,
      "object_position": null,
      "order": null,
      "overflow": null,
      "overflow_x": null,
      "overflow_y": null,
      "padding": null,
      "right": null,
      "top": null,
      "visibility": null,
      "width": null
     }
    },
    "bfeec7876342461f95e57e3a56b2aecd": {
     "model_module": "@jupyter-widgets/controls",
     "model_module_version": "1.5.0",
     "model_name": "DescriptionStyleModel",
     "state": {
      "_model_module": "@jupyter-widgets/controls",
      "_model_module_version": "1.5.0",
      "_model_name": "DescriptionStyleModel",
      "_view_count": null,
      "_view_module": "@jupyter-widgets/base",
      "_view_module_version": "1.2.0",
      "_view_name": "StyleView",
      "description_width": ""
     }
    },
    "c038b0012ebc40a4b381ad3e775f036a": {
     "model_module": "@jupyter-widgets/base",
     "model_module_version": "1.2.0",
     "model_name": "LayoutModel",
     "state": {
      "_model_module": "@jupyter-widgets/base",
      "_model_module_version": "1.2.0",
      "_model_name": "LayoutModel",
      "_view_count": null,
      "_view_module": "@jupyter-widgets/base",
      "_view_module_version": "1.2.0",
      "_view_name": "LayoutView",
      "align_content": null,
      "align_items": null,
      "align_self": null,
      "border": null,
      "bottom": null,
      "display": null,
      "flex": null,
      "flex_flow": null,
      "grid_area": null,
      "grid_auto_columns": null,
      "grid_auto_flow": null,
      "grid_auto_rows": null,
      "grid_column": null,
      "grid_gap": null,
      "grid_row": null,
      "grid_template_areas": null,
      "grid_template_columns": null,
      "grid_template_rows": null,
      "height": null,
      "justify_content": null,
      "justify_items": null,
      "left": null,
      "margin": null,
      "max_height": null,
      "max_width": null,
      "min_height": null,
      "min_width": null,
      "object_fit": null,
      "object_position": null,
      "order": null,
      "overflow": null,
      "overflow_x": null,
      "overflow_y": null,
      "padding": null,
      "right": null,
      "top": null,
      "visibility": null,
      "width": null
     }
    },
    "c13d724c7a2340fcba10947bd2b61017": {
     "model_module": "@jupyter-widgets/controls",
     "model_module_version": "1.5.0",
     "model_name": "HTMLModel",
     "state": {
      "_dom_classes": [],
      "_model_module": "@jupyter-widgets/controls",
      "_model_module_version": "1.5.0",
      "_model_name": "HTMLModel",
      "_view_count": null,
      "_view_module": "@jupyter-widgets/controls",
      "_view_module_version": "1.5.0",
      "_view_name": "HTMLView",
      "description": "",
      "description_tooltip": null,
      "layout": "IPY_MODEL_c038b0012ebc40a4b381ad3e775f036a",
      "placeholder": "​",
      "style": "IPY_MODEL_bfeec7876342461f95e57e3a56b2aecd",
      "value": "Downloading builder script: "
     }
    },
    "cc99706e88b64fdaa2c41ec4e49a4f9d": {
     "model_module": "@jupyter-widgets/controls",
     "model_module_version": "1.5.0",
     "model_name": "HTMLModel",
     "state": {
      "_dom_classes": [],
      "_model_module": "@jupyter-widgets/controls",
      "_model_module_version": "1.5.0",
      "_model_name": "HTMLModel",
      "_view_count": null,
      "_view_module": "@jupyter-widgets/controls",
      "_view_module_version": "1.5.0",
      "_view_name": "HTMLView",
      "description": "",
      "description_tooltip": null,
      "layout": "IPY_MODEL_de9de1fe9cbd4bcaa47e8cf420cce6b9",
      "placeholder": "​",
      "style": "IPY_MODEL_6be428e030ae488394ab16efba494d7b",
      "value": " 2.04k/? [00:00&lt;00:00, 18.0kB/s]"
     }
    },
    "cde3ae5f9be74e9a93d8108108e3f178": {
     "model_module": "@jupyter-widgets/base",
     "model_module_version": "1.2.0",
     "model_name": "LayoutModel",
     "state": {
      "_model_module": "@jupyter-widgets/base",
      "_model_module_version": "1.2.0",
      "_model_name": "LayoutModel",
      "_view_count": null,
      "_view_module": "@jupyter-widgets/base",
      "_view_module_version": "1.2.0",
      "_view_name": "LayoutView",
      "align_content": null,
      "align_items": null,
      "align_self": null,
      "border": null,
      "bottom": null,
      "display": null,
      "flex": null,
      "flex_flow": null,
      "grid_area": null,
      "grid_auto_columns": null,
      "grid_auto_flow": null,
      "grid_auto_rows": null,
      "grid_column": null,
      "grid_gap": null,
      "grid_row": null,
      "grid_template_areas": null,
      "grid_template_columns": null,
      "grid_template_rows": null,
      "height": null,
      "justify_content": null,
      "justify_items": null,
      "left": null,
      "margin": null,
      "max_height": null,
      "max_width": null,
      "min_height": null,
      "min_width": null,
      "object_fit": null,
      "object_position": null,
      "order": null,
      "overflow": null,
      "overflow_x": null,
      "overflow_y": null,
      "padding": null,
      "right": null,
      "top": null,
      "visibility": null,
      "width": null
     }
    },
    "db460b6cbe624d669f8fae2f93e03fc9": {
     "model_module": "@jupyter-widgets/controls",
     "model_module_version": "1.5.0",
     "model_name": "HBoxModel",
     "state": {
      "_dom_classes": [],
      "_model_module": "@jupyter-widgets/controls",
      "_model_module_version": "1.5.0",
      "_model_name": "HBoxModel",
      "_view_count": null,
      "_view_module": "@jupyter-widgets/controls",
      "_view_module_version": "1.5.0",
      "_view_name": "HBoxView",
      "box_style": "",
      "children": [
       "IPY_MODEL_ec3d3db6702449c7bf948e9b861d37e1",
       "IPY_MODEL_3ae6cfb11d6f4a32b4dcf9ae055c0c88",
       "IPY_MODEL_3a6679d2569641998829446845a2213b"
      ],
      "layout": "IPY_MODEL_24f57cb25bf44e47b2978994e58bf9a9"
     }
    },
    "dc2399708a6343348e0e039d285bc83b": {
     "model_module": "@jupyter-widgets/controls",
     "model_module_version": "1.5.0",
     "model_name": "HBoxModel",
     "state": {
      "_dom_classes": [],
      "_model_module": "@jupyter-widgets/controls",
      "_model_module_version": "1.5.0",
      "_model_name": "HBoxModel",
      "_view_count": null,
      "_view_module": "@jupyter-widgets/controls",
      "_view_module_version": "1.5.0",
      "_view_name": "HBoxView",
      "box_style": "",
      "children": [
       "IPY_MODEL_b63debd7db294e70942baa1c41cdc3ec",
       "IPY_MODEL_6b1c3a035b224a1cb471265e65e0fb4b",
       "IPY_MODEL_1b46f78806294252867c4cc70c6d2598"
      ],
      "layout": "IPY_MODEL_bcf98f923e9c4e709a8323a11059c5e7"
     }
    },
    "de9de1fe9cbd4bcaa47e8cf420cce6b9": {
     "model_module": "@jupyter-widgets/base",
     "model_module_version": "1.2.0",
     "model_name": "LayoutModel",
     "state": {
      "_model_module": "@jupyter-widgets/base",
      "_model_module_version": "1.2.0",
      "_model_name": "LayoutModel",
      "_view_count": null,
      "_view_module": "@jupyter-widgets/base",
      "_view_module_version": "1.2.0",
      "_view_name": "LayoutView",
      "align_content": null,
      "align_items": null,
      "align_self": null,
      "border": null,
      "bottom": null,
      "display": null,
      "flex": null,
      "flex_flow": null,
      "grid_area": null,
      "grid_auto_columns": null,
      "grid_auto_flow": null,
      "grid_auto_rows": null,
      "grid_column": null,
      "grid_gap": null,
      "grid_row": null,
      "grid_template_areas": null,
      "grid_template_columns": null,
      "grid_template_rows": null,
      "height": null,
      "justify_content": null,
      "justify_items": null,
      "left": null,
      "margin": null,
      "max_height": null,
      "max_width": null,
      "min_height": null,
      "min_width": null,
      "object_fit": null,
      "object_position": null,
      "order": null,
      "overflow": null,
      "overflow_x": null,
      "overflow_y": null,
      "padding": null,
      "right": null,
      "top": null,
      "visibility": null,
      "width": null
     }
    },
    "ec3d3db6702449c7bf948e9b861d37e1": {
     "model_module": "@jupyter-widgets/controls",
     "model_module_version": "1.5.0",
     "model_name": "HTMLModel",
     "state": {
      "_dom_classes": [],
      "_model_module": "@jupyter-widgets/controls",
      "_model_module_version": "1.5.0",
      "_model_name": "HTMLModel",
      "_view_count": null,
      "_view_module": "@jupyter-widgets/controls",
      "_view_module_version": "1.5.0",
      "_view_name": "HTMLView",
      "description": "",
      "description_tooltip": null,
      "layout": "IPY_MODEL_6e3d33827dbe4e3ba2fbd4c551c2a5ef",
      "placeholder": "​",
      "style": "IPY_MODEL_b0805678afbf4fbcaafd65515ce6dea9",
      "value": "Generating test split:  97%"
     }
    },
    "ed6c610f72cf42e7a4ab0dc5400c715b": {
     "model_module": "@jupyter-widgets/controls",
     "model_module_version": "1.5.0",
     "model_name": "FloatProgressModel",
     "state": {
      "_dom_classes": [],
      "_model_module": "@jupyter-widgets/controls",
      "_model_module_version": "1.5.0",
      "_model_name": "FloatProgressModel",
      "_view_count": null,
      "_view_module": "@jupyter-widgets/controls",
      "_view_module_version": "1.5.0",
      "_view_name": "ProgressView",
      "bar_style": "success",
      "description": "",
      "description_tooltip": null,
      "layout": "IPY_MODEL_99157a85fc69477bb25e068e0c2a38dd",
      "max": 196146755,
      "min": 0,
      "orientation": "horizontal",
      "style": "IPY_MODEL_b455cd4060eb455fb8ec7e60b3f8aed7",
      "value": 196146755
     }
    },
    "efeb6b88b6ed40728cd34acf8a10da69": {
     "model_module": "@jupyter-widgets/controls",
     "model_module_version": "1.5.0",
     "model_name": "ProgressStyleModel",
     "state": {
      "_model_module": "@jupyter-widgets/controls",
      "_model_module_version": "1.5.0",
      "_model_name": "ProgressStyleModel",
      "_view_count": null,
      "_view_module": "@jupyter-widgets/base",
      "_view_module_version": "1.2.0",
      "_view_name": "StyleView",
      "bar_color": null,
      "description_width": ""
     }
    },
    "f08d8c2ec72f467aa685514750175a8b": {
     "model_module": "@jupyter-widgets/base",
     "model_module_version": "1.2.0",
     "model_name": "LayoutModel",
     "state": {
      "_model_module": "@jupyter-widgets/base",
      "_model_module_version": "1.2.0",
      "_model_name": "LayoutModel",
      "_view_count": null,
      "_view_module": "@jupyter-widgets/base",
      "_view_module_version": "1.2.0",
      "_view_name": "LayoutView",
      "align_content": null,
      "align_items": null,
      "align_self": null,
      "border": null,
      "bottom": null,
      "display": null,
      "flex": null,
      "flex_flow": null,
      "grid_area": null,
      "grid_auto_columns": null,
      "grid_auto_flow": null,
      "grid_auto_rows": null,
      "grid_column": null,
      "grid_gap": null,
      "grid_row": null,
      "grid_template_areas": null,
      "grid_template_columns": null,
      "grid_template_rows": null,
      "height": null,
      "justify_content": null,
      "justify_items": null,
      "left": null,
      "margin": null,
      "max_height": null,
      "max_width": null,
      "min_height": null,
      "min_width": null,
      "object_fit": null,
      "object_position": null,
      "order": null,
      "overflow": null,
      "overflow_x": null,
      "overflow_y": null,
      "padding": null,
      "right": null,
      "top": null,
      "visibility": null,
      "width": null
     }
    },
    "fedd0f93c9514b108e016fe244cc3e3c": {
     "model_module": "@jupyter-widgets/controls",
     "model_module_version": "1.5.0",
     "model_name": "DescriptionStyleModel",
     "state": {
      "_model_module": "@jupyter-widgets/controls",
      "_model_module_version": "1.5.0",
      "_model_name": "DescriptionStyleModel",
      "_view_count": null,
      "_view_module": "@jupyter-widgets/base",
      "_view_module_version": "1.2.0",
      "_view_name": "StyleView",
      "description_width": ""
     }
    }
   }
  }
 },
 "nbformat": 4,
 "nbformat_minor": 1
}
