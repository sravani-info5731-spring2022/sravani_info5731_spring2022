{
  "cells": [
    {
      "cell_type": "markdown",
      "metadata": {
        "id": "view-in-github"
      },
      "source": [
        "<a href=\"https://colab.research.google.com/github/PrudhviNarayanKorupolu/exercise5korupolu/blob/main/In_class_exercise_05_1_(3).ipynb\" target=\"_parent\"><img src=\"https://colab.research.google.com/assets/colab-badge.svg\" alt=\"Open In Colab\"/></a>"
      ]
    },
    {
      "cell_type": "markdown",
      "metadata": {
        "id": "fMBYomdzQNod"
      },
      "source": [
        "# **The fifth in-class-exercise (40 points in total, 04/12/2022)**"
      ]
    },
    {
      "cell_type": "markdown",
      "metadata": {
        "id": "MUkeljInQNof"
      },
      "source": [
        "(20 points) The purpose of the question is to practice different machine learning algorithms for text classification as well as the performance evaluation. In addition, you are requried to conduct *10 fold cross validation (https://scikit-learn.org/stable/modules/cross_validation.html)* in the training. \n",
        "\n",
        "The dataset can be download from here: https://github.com/unt-iialab/info5731_spring2021/blob/main/class_exercises/exercise09_datacollection.zip. The dataset contains two files train data and test data for sentiment analysis in IMDB review, it has two categories: 1 represents positive and 0 represents negative. You need to split the training data into training and validate data (80% for training and 20% for validation, https://towardsdatascience.com/train-test-split-and-cross-validation-in-python-80b61beca4b6) and perform 10 fold cross validation while training the classifier. The final trained model was final evaluated on the test data. \n",
        "\n",
        "Algorithms:\n",
        "\n",
        "(1) MultinominalNB\n",
        "\n",
        "(2) SVM \n",
        "\n",
        "(3) KNN \n",
        "\n",
        "(4) Decision tree\n",
        "\n",
        "(5) Random Forest\n",
        "\n",
        "(6) XGBoost\n",
        "\n",
        "Evaluation measurement:\n",
        "\n",
        "(1) Accuracy\n",
        "\n",
        "(2) Recall\n",
        "\n",
        "(3) Precison \n",
        "\n",
        "(4) F-1 score"
      ]
    },
    {
      "cell_type": "code",
      "source": [
        "!pip install xgboost"
      ],
      "metadata": {
        "colab": {
          "base_uri": "https://localhost:8080/"
        },
        "id": "MoVqpypZOxrv",
        "outputId": "b2a1a924-3b8a-4ff9-f026-8a4a378faa34"
      },
      "execution_count": 3,
      "outputs": [
        {
          "output_type": "stream",
          "name": "stdout",
          "text": [
            "Requirement already satisfied: xgboost in /usr/local/lib/python3.7/dist-packages (0.90)\n",
            "Requirement already satisfied: numpy in /usr/local/lib/python3.7/dist-packages (from xgboost) (1.21.5)\n",
            "Requirement already satisfied: scipy in /usr/local/lib/python3.7/dist-packages (from xgboost) (1.4.1)\n"
          ]
        }
      ]
    },
    {
      "cell_type": "code",
      "execution_count": 4,
      "metadata": {
        "id": "9oiMFJ7oQNoh"
      },
      "outputs": [],
      "source": [
        "# Write your code here\n",
        "from sklearn.metrics import accuracy_score, recall_score, precision_score, f1_score\n",
        "from sklearn.naive_bayes import MultinomialNB\n",
        "from sklearn.neighbors import KNeighborsClassifier\n",
        "from sklearn.svm import SVC\n",
        "from sklearn.tree import DecisionTreeClassifier\n",
        "from sklearn.ensemble import RandomForestClassifier\n",
        "from sklearn.model_selection import train_test_split, cross_validate, StratifiedKFold\n",
        "from sklearn.feature_extraction.text import CountVectorizer\n",
        "from sklearn.pipeline import Pipeline\n",
        "import pandas as pd\n",
        "import numpy as np\n",
        "from xgboost import XGBClassifier\n",
        "\n"
      ]
    },
    {
      "cell_type": "code",
      "source": [
        "data_train = pd.read_csv(r'stsa-train.txt',sep = 'delimiter=',header= None,names=['review'])\n",
        "data_test = pd.read_csv(r'stsa-test.txt',sep = 'delimiter=',header= None,names=['review'])\n",
        "\n",
        "data_train[['sentiment','review']] = data_train[\"review\"].str.split(\" \", 1, expand=True)\n",
        "data_test[['sentiment','review']] = data_test[\"review\"].str.split(\" \", 1, expand=True)"
      ],
      "metadata": {
        "colab": {
          "base_uri": "https://localhost:8080/"
        },
        "id": "fYkFXUw_RqSa",
        "outputId": "5b30dcdb-c443-4f23-9b29-804fc4a13ca0"
      },
      "execution_count": 5,
      "outputs": [
        {
          "output_type": "stream",
          "name": "stderr",
          "text": [
            "/usr/local/lib/python3.7/dist-packages/pandas/util/_decorators.py:311: ParserWarning: Falling back to the 'python' engine because the 'c' engine does not support regex separators (separators > 1 char and different from '\\s+' are interpreted as regex); you can avoid this warning by specifying engine='python'.\n",
            "  return func(*args, **kwargs)\n"
          ]
        }
      ]
    },
    {
      "cell_type": "code",
      "source": [
        "data_train.head()"
      ],
      "metadata": {
        "colab": {
          "base_uri": "https://localhost:8080/",
          "height": 206
        },
        "id": "dif9Rr8DR7vq",
        "outputId": "62142793-6c67-437c-84de-927bc70292be"
      },
      "execution_count": 6,
      "outputs": [
        {
          "output_type": "execute_result",
          "data": {
            "text/plain": [
              "                                              review sentiment\n",
              "0  a stirring , funny and finally transporting re...         1\n",
              "1  apparently reassembled from the cutting-room f...         0\n",
              "2  they presume their audience wo n't sit still f...         0\n",
              "3  this is a visually stunning rumination on love...         1\n",
              "4  jonathan parker 's bartleby should have been t...         1"
            ],
            "text/html": [
              "\n",
              "  <div id=\"df-d020b3b5-4292-452e-b17a-cedda736d747\">\n",
              "    <div class=\"colab-df-container\">\n",
              "      <div>\n",
              "<style scoped>\n",
              "    .dataframe tbody tr th:only-of-type {\n",
              "        vertical-align: middle;\n",
              "    }\n",
              "\n",
              "    .dataframe tbody tr th {\n",
              "        vertical-align: top;\n",
              "    }\n",
              "\n",
              "    .dataframe thead th {\n",
              "        text-align: right;\n",
              "    }\n",
              "</style>\n",
              "<table border=\"1\" class=\"dataframe\">\n",
              "  <thead>\n",
              "    <tr style=\"text-align: right;\">\n",
              "      <th></th>\n",
              "      <th>review</th>\n",
              "      <th>sentiment</th>\n",
              "    </tr>\n",
              "  </thead>\n",
              "  <tbody>\n",
              "    <tr>\n",
              "      <th>0</th>\n",
              "      <td>a stirring , funny and finally transporting re...</td>\n",
              "      <td>1</td>\n",
              "    </tr>\n",
              "    <tr>\n",
              "      <th>1</th>\n",
              "      <td>apparently reassembled from the cutting-room f...</td>\n",
              "      <td>0</td>\n",
              "    </tr>\n",
              "    <tr>\n",
              "      <th>2</th>\n",
              "      <td>they presume their audience wo n't sit still f...</td>\n",
              "      <td>0</td>\n",
              "    </tr>\n",
              "    <tr>\n",
              "      <th>3</th>\n",
              "      <td>this is a visually stunning rumination on love...</td>\n",
              "      <td>1</td>\n",
              "    </tr>\n",
              "    <tr>\n",
              "      <th>4</th>\n",
              "      <td>jonathan parker 's bartleby should have been t...</td>\n",
              "      <td>1</td>\n",
              "    </tr>\n",
              "  </tbody>\n",
              "</table>\n",
              "</div>\n",
              "      <button class=\"colab-df-convert\" onclick=\"convertToInteractive('df-d020b3b5-4292-452e-b17a-cedda736d747')\"\n",
              "              title=\"Convert this dataframe to an interactive table.\"\n",
              "              style=\"display:none;\">\n",
              "        \n",
              "  <svg xmlns=\"http://www.w3.org/2000/svg\" height=\"24px\"viewBox=\"0 0 24 24\"\n",
              "       width=\"24px\">\n",
              "    <path d=\"M0 0h24v24H0V0z\" fill=\"none\"/>\n",
              "    <path d=\"M18.56 5.44l.94 2.06.94-2.06 2.06-.94-2.06-.94-.94-2.06-.94 2.06-2.06.94zm-11 1L8.5 8.5l.94-2.06 2.06-.94-2.06-.94L8.5 2.5l-.94 2.06-2.06.94zm10 10l.94 2.06.94-2.06 2.06-.94-2.06-.94-.94-2.06-.94 2.06-2.06.94z\"/><path d=\"M17.41 7.96l-1.37-1.37c-.4-.4-.92-.59-1.43-.59-.52 0-1.04.2-1.43.59L10.3 9.45l-7.72 7.72c-.78.78-.78 2.05 0 2.83L4 21.41c.39.39.9.59 1.41.59.51 0 1.02-.2 1.41-.59l7.78-7.78 2.81-2.81c.8-.78.8-2.07 0-2.86zM5.41 20L4 18.59l7.72-7.72 1.47 1.35L5.41 20z\"/>\n",
              "  </svg>\n",
              "      </button>\n",
              "      \n",
              "  <style>\n",
              "    .colab-df-container {\n",
              "      display:flex;\n",
              "      flex-wrap:wrap;\n",
              "      gap: 12px;\n",
              "    }\n",
              "\n",
              "    .colab-df-convert {\n",
              "      background-color: #E8F0FE;\n",
              "      border: none;\n",
              "      border-radius: 50%;\n",
              "      cursor: pointer;\n",
              "      display: none;\n",
              "      fill: #1967D2;\n",
              "      height: 32px;\n",
              "      padding: 0 0 0 0;\n",
              "      width: 32px;\n",
              "    }\n",
              "\n",
              "    .colab-df-convert:hover {\n",
              "      background-color: #E2EBFA;\n",
              "      box-shadow: 0px 1px 2px rgba(60, 64, 67, 0.3), 0px 1px 3px 1px rgba(60, 64, 67, 0.15);\n",
              "      fill: #174EA6;\n",
              "    }\n",
              "\n",
              "    [theme=dark] .colab-df-convert {\n",
              "      background-color: #3B4455;\n",
              "      fill: #D2E3FC;\n",
              "    }\n",
              "\n",
              "    [theme=dark] .colab-df-convert:hover {\n",
              "      background-color: #434B5C;\n",
              "      box-shadow: 0px 1px 3px 1px rgba(0, 0, 0, 0.15);\n",
              "      filter: drop-shadow(0px 1px 2px rgba(0, 0, 0, 0.3));\n",
              "      fill: #FFFFFF;\n",
              "    }\n",
              "  </style>\n",
              "\n",
              "      <script>\n",
              "        const buttonEl =\n",
              "          document.querySelector('#df-d020b3b5-4292-452e-b17a-cedda736d747 button.colab-df-convert');\n",
              "        buttonEl.style.display =\n",
              "          google.colab.kernel.accessAllowed ? 'block' : 'none';\n",
              "\n",
              "        async function convertToInteractive(key) {\n",
              "          const element = document.querySelector('#df-d020b3b5-4292-452e-b17a-cedda736d747');\n",
              "          const dataTable =\n",
              "            await google.colab.kernel.invokeFunction('convertToInteractive',\n",
              "                                                     [key], {});\n",
              "          if (!dataTable) return;\n",
              "\n",
              "          const docLinkHtml = 'Like what you see? Visit the ' +\n",
              "            '<a target=\"_blank\" href=https://colab.research.google.com/notebooks/data_table.ipynb>data table notebook</a>'\n",
              "            + ' to learn more about interactive tables.';\n",
              "          element.innerHTML = '';\n",
              "          dataTable['output_type'] = 'display_data';\n",
              "          await google.colab.output.renderOutput(dataTable, element);\n",
              "          const docLink = document.createElement('div');\n",
              "          docLink.innerHTML = docLinkHtml;\n",
              "          element.appendChild(docLink);\n",
              "        }\n",
              "      </script>\n",
              "    </div>\n",
              "  </div>\n",
              "  "
            ]
          },
          "metadata": {},
          "execution_count": 6
        }
      ]
    },
    {
      "cell_type": "code",
      "source": [
        "data_test.head()"
      ],
      "metadata": {
        "colab": {
          "base_uri": "https://localhost:8080/",
          "height": 206
        },
        "id": "6Q1BKsZDR_Ua",
        "outputId": "51141fc2-a2b5-42be-9fa4-a62f2204fd6d"
      },
      "execution_count": 7,
      "outputs": [
        {
          "output_type": "execute_result",
          "data": {
            "text/plain": [
              "                                              review sentiment\n",
              "0     no movement , no yuks , not much of anything .         0\n",
              "1  a gob of drivel so sickly sweet , even the eag...         0\n",
              "2  gangs of new york is an unapologetic mess , wh...         0\n",
              "3  we never really feel involved with the story ,...         0\n",
              "4            this is one of polanski 's best films .         1"
            ],
            "text/html": [
              "\n",
              "  <div id=\"df-08170750-3f10-490e-af3b-4c172e311101\">\n",
              "    <div class=\"colab-df-container\">\n",
              "      <div>\n",
              "<style scoped>\n",
              "    .dataframe tbody tr th:only-of-type {\n",
              "        vertical-align: middle;\n",
              "    }\n",
              "\n",
              "    .dataframe tbody tr th {\n",
              "        vertical-align: top;\n",
              "    }\n",
              "\n",
              "    .dataframe thead th {\n",
              "        text-align: right;\n",
              "    }\n",
              "</style>\n",
              "<table border=\"1\" class=\"dataframe\">\n",
              "  <thead>\n",
              "    <tr style=\"text-align: right;\">\n",
              "      <th></th>\n",
              "      <th>review</th>\n",
              "      <th>sentiment</th>\n",
              "    </tr>\n",
              "  </thead>\n",
              "  <tbody>\n",
              "    <tr>\n",
              "      <th>0</th>\n",
              "      <td>no movement , no yuks , not much of anything .</td>\n",
              "      <td>0</td>\n",
              "    </tr>\n",
              "    <tr>\n",
              "      <th>1</th>\n",
              "      <td>a gob of drivel so sickly sweet , even the eag...</td>\n",
              "      <td>0</td>\n",
              "    </tr>\n",
              "    <tr>\n",
              "      <th>2</th>\n",
              "      <td>gangs of new york is an unapologetic mess , wh...</td>\n",
              "      <td>0</td>\n",
              "    </tr>\n",
              "    <tr>\n",
              "      <th>3</th>\n",
              "      <td>we never really feel involved with the story ,...</td>\n",
              "      <td>0</td>\n",
              "    </tr>\n",
              "    <tr>\n",
              "      <th>4</th>\n",
              "      <td>this is one of polanski 's best films .</td>\n",
              "      <td>1</td>\n",
              "    </tr>\n",
              "  </tbody>\n",
              "</table>\n",
              "</div>\n",
              "      <button class=\"colab-df-convert\" onclick=\"convertToInteractive('df-08170750-3f10-490e-af3b-4c172e311101')\"\n",
              "              title=\"Convert this dataframe to an interactive table.\"\n",
              "              style=\"display:none;\">\n",
              "        \n",
              "  <svg xmlns=\"http://www.w3.org/2000/svg\" height=\"24px\"viewBox=\"0 0 24 24\"\n",
              "       width=\"24px\">\n",
              "    <path d=\"M0 0h24v24H0V0z\" fill=\"none\"/>\n",
              "    <path d=\"M18.56 5.44l.94 2.06.94-2.06 2.06-.94-2.06-.94-.94-2.06-.94 2.06-2.06.94zm-11 1L8.5 8.5l.94-2.06 2.06-.94-2.06-.94L8.5 2.5l-.94 2.06-2.06.94zm10 10l.94 2.06.94-2.06 2.06-.94-2.06-.94-.94-2.06-.94 2.06-2.06.94z\"/><path d=\"M17.41 7.96l-1.37-1.37c-.4-.4-.92-.59-1.43-.59-.52 0-1.04.2-1.43.59L10.3 9.45l-7.72 7.72c-.78.78-.78 2.05 0 2.83L4 21.41c.39.39.9.59 1.41.59.51 0 1.02-.2 1.41-.59l7.78-7.78 2.81-2.81c.8-.78.8-2.07 0-2.86zM5.41 20L4 18.59l7.72-7.72 1.47 1.35L5.41 20z\"/>\n",
              "  </svg>\n",
              "      </button>\n",
              "      \n",
              "  <style>\n",
              "    .colab-df-container {\n",
              "      display:flex;\n",
              "      flex-wrap:wrap;\n",
              "      gap: 12px;\n",
              "    }\n",
              "\n",
              "    .colab-df-convert {\n",
              "      background-color: #E8F0FE;\n",
              "      border: none;\n",
              "      border-radius: 50%;\n",
              "      cursor: pointer;\n",
              "      display: none;\n",
              "      fill: #1967D2;\n",
              "      height: 32px;\n",
              "      padding: 0 0 0 0;\n",
              "      width: 32px;\n",
              "    }\n",
              "\n",
              "    .colab-df-convert:hover {\n",
              "      background-color: #E2EBFA;\n",
              "      box-shadow: 0px 1px 2px rgba(60, 64, 67, 0.3), 0px 1px 3px 1px rgba(60, 64, 67, 0.15);\n",
              "      fill: #174EA6;\n",
              "    }\n",
              "\n",
              "    [theme=dark] .colab-df-convert {\n",
              "      background-color: #3B4455;\n",
              "      fill: #D2E3FC;\n",
              "    }\n",
              "\n",
              "    [theme=dark] .colab-df-convert:hover {\n",
              "      background-color: #434B5C;\n",
              "      box-shadow: 0px 1px 3px 1px rgba(0, 0, 0, 0.15);\n",
              "      filter: drop-shadow(0px 1px 2px rgba(0, 0, 0, 0.3));\n",
              "      fill: #FFFFFF;\n",
              "    }\n",
              "  </style>\n",
              "\n",
              "      <script>\n",
              "        const buttonEl =\n",
              "          document.querySelector('#df-08170750-3f10-490e-af3b-4c172e311101 button.colab-df-convert');\n",
              "        buttonEl.style.display =\n",
              "          google.colab.kernel.accessAllowed ? 'block' : 'none';\n",
              "\n",
              "        async function convertToInteractive(key) {\n",
              "          const element = document.querySelector('#df-08170750-3f10-490e-af3b-4c172e311101');\n",
              "          const dataTable =\n",
              "            await google.colab.kernel.invokeFunction('convertToInteractive',\n",
              "                                                     [key], {});\n",
              "          if (!dataTable) return;\n",
              "\n",
              "          const docLinkHtml = 'Like what you see? Visit the ' +\n",
              "            '<a target=\"_blank\" href=https://colab.research.google.com/notebooks/data_table.ipynb>data table notebook</a>'\n",
              "            + ' to learn more about interactive tables.';\n",
              "          element.innerHTML = '';\n",
              "          dataTable['output_type'] = 'display_data';\n",
              "          await google.colab.output.renderOutput(dataTable, element);\n",
              "          const docLink = document.createElement('div');\n",
              "          docLink.innerHTML = docLinkHtml;\n",
              "          element.appendChild(docLink);\n",
              "        }\n",
              "      </script>\n",
              "    </div>\n",
              "  </div>\n",
              "  "
            ]
          },
          "metadata": {},
          "execution_count": 7
        }
      ]
    },
    {
      "cell_type": "code",
      "source": [
        "with open('/content/stsa-train.txt') as fin:\n",
        "    data = fin.readlines()\n",
        "with open('/content/stsa-test.txt') as fin:\n",
        "    data.extend(fin.readlines())\n",
        "sentiment = [x[0] for x in data]\n",
        "review = [x.strip()[2:] for x in data]\n",
        "df = pd.DataFrame({'review' : review, 'sentiment': sentiment})"
      ],
      "metadata": {
        "id": "IgA6tgTKSCoY"
      },
      "execution_count": 8,
      "outputs": []
    },
    {
      "cell_type": "code",
      "source": [
        "import nltk\n",
        "import re\n",
        "import string\n",
        "nltk.download('stopwords')\n",
        "nltk.download('wordnet')\n",
        "stopword=nltk.corpus.stopwords.words('english')\n",
        "from nltk.stem import WordNetLemmatizer\n",
        "wl= WordNetLemmatizer()\n"
      ],
      "metadata": {
        "colab": {
          "base_uri": "https://localhost:8080/"
        },
        "id": "26NQEvloSHHn",
        "outputId": "b68a432f-cd1a-4f65-aa87-7d8e65c888b9"
      },
      "execution_count": 9,
      "outputs": [
        {
          "output_type": "stream",
          "name": "stdout",
          "text": [
            "[nltk_data] Downloading package stopwords to /root/nltk_data...\n",
            "[nltk_data]   Unzipping corpora/stopwords.zip.\n",
            "[nltk_data] Downloading package wordnet to /root/nltk_data...\n",
            "[nltk_data]   Unzipping corpora/wordnet.zip.\n"
          ]
        }
      ]
    },
    {
      "cell_type": "code",
      "source": [
        "def data_cleaning(data):\n",
        "  data=\"\".join([word.lower() for word in data if word not in string.punctuation])\n",
        "  data = re.sub(\"^\\d+\\s|\\s\\d+\\s|\\s\\d+$\", \" \", data)\n",
        "  tokens = re.split('\\W+',data)\n",
        "  data = [wl.lemmatize(word) for word in tokens if word not in stopword]\n",
        "  return data"
      ],
      "metadata": {
        "id": "YUTDZkicSMxJ"
      },
      "execution_count": 10,
      "outputs": []
    },
    {
      "cell_type": "code",
      "source": [
        "from sklearn.feature_extraction.text import TfidfVectorizer\n",
        "\n",
        "tfidf = TfidfVectorizer(analyzer = data_cleaning)\n",
        "X_tfidf = tfidf.fit_transform(data_train['review'])\n",
        "print(X_tfidf.shape)"
      ],
      "metadata": {
        "colab": {
          "base_uri": "https://localhost:8080/"
        },
        "id": "sNABmYLeSQSS",
        "outputId": "d0e3a2f7-8a6a-4f1c-dd8e-b3cc07174ed6"
      },
      "execution_count": 11,
      "outputs": [
        {
          "output_type": "stream",
          "name": "stdout",
          "text": [
            "(6920, 13343)\n"
          ]
        }
      ]
    },
    {
      "cell_type": "code",
      "source": [
        "X_tfidf=pd.DataFrame(X_tfidf.toarray())\n",
        "X_tfidf.columns=tfidf.get_feature_names()\n",
        "X_tfidf.head()"
      ],
      "metadata": {
        "colab": {
          "base_uri": "https://localhost:8080/",
          "height": 290
        },
        "id": "0-x7BAeTSUvU",
        "outputId": "9773c68f-eebc-4bf7-99f5-e4df57b03a3d"
      },
      "execution_count": 12,
      "outputs": [
        {
          "output_type": "stream",
          "name": "stderr",
          "text": [
            "/usr/local/lib/python3.7/dist-packages/sklearn/utils/deprecation.py:87: FutureWarning: Function get_feature_names is deprecated; get_feature_names is deprecated in 1.0 and will be removed in 1.2. Please use get_feature_names_out instead.\n",
            "  warnings.warn(msg, category=FutureWarning)\n"
          ]
        },
        {
          "output_type": "execute_result",
          "data": {
            "text/plain": [
              "             100minute  103minute  10course  10th  10thgrade  10year  \\\n",
              "0  0.000000        0.0        0.0       0.0   0.0        0.0     0.0   \n",
              "1  0.048154        0.0        0.0       0.0   0.0        0.0     0.0   \n",
              "2  0.029784        0.0        0.0       0.0   0.0        0.0     0.0   \n",
              "3  0.049596        0.0        0.0       0.0   0.0        0.0     0.0   \n",
              "4  0.048782        0.0        0.0       0.0   0.0        0.0     0.0   \n",
              "\n",
              "   10yearold  112minute   12  ...  ziyi  zoe  zombie  zombieland  zone  \\\n",
              "0        0.0        0.0  0.0  ...   0.0  0.0     0.0         0.0   0.0   \n",
              "1        0.0        0.0  0.0  ...   0.0  0.0     0.0         0.0   0.0   \n",
              "2        0.0        0.0  0.0  ...   0.0  0.0     0.0         0.0   0.0   \n",
              "3        0.0        0.0  0.0  ...   0.0  0.0     0.0         0.0   0.0   \n",
              "4        0.0        0.0  0.0  ...   0.0  0.0     0.0         0.0   0.0   \n",
              "\n",
              "   zoning  zoom  zwick  zzzzzzzzz  élan  \n",
              "0     0.0   0.0    0.0        0.0   0.0  \n",
              "1     0.0   0.0    0.0        0.0   0.0  \n",
              "2     0.0   0.0    0.0        0.0   0.0  \n",
              "3     0.0   0.0    0.0        0.0   0.0  \n",
              "4     0.0   0.0    0.0        0.0   0.0  \n",
              "\n",
              "[5 rows x 13343 columns]"
            ],
            "text/html": [
              "\n",
              "  <div id=\"df-b657c280-6cf2-47d5-b696-68b75930be62\">\n",
              "    <div class=\"colab-df-container\">\n",
              "      <div>\n",
              "<style scoped>\n",
              "    .dataframe tbody tr th:only-of-type {\n",
              "        vertical-align: middle;\n",
              "    }\n",
              "\n",
              "    .dataframe tbody tr th {\n",
              "        vertical-align: top;\n",
              "    }\n",
              "\n",
              "    .dataframe thead th {\n",
              "        text-align: right;\n",
              "    }\n",
              "</style>\n",
              "<table border=\"1\" class=\"dataframe\">\n",
              "  <thead>\n",
              "    <tr style=\"text-align: right;\">\n",
              "      <th></th>\n",
              "      <th></th>\n",
              "      <th>100minute</th>\n",
              "      <th>103minute</th>\n",
              "      <th>10course</th>\n",
              "      <th>10th</th>\n",
              "      <th>10thgrade</th>\n",
              "      <th>10year</th>\n",
              "      <th>10yearold</th>\n",
              "      <th>112minute</th>\n",
              "      <th>12</th>\n",
              "      <th>...</th>\n",
              "      <th>ziyi</th>\n",
              "      <th>zoe</th>\n",
              "      <th>zombie</th>\n",
              "      <th>zombieland</th>\n",
              "      <th>zone</th>\n",
              "      <th>zoning</th>\n",
              "      <th>zoom</th>\n",
              "      <th>zwick</th>\n",
              "      <th>zzzzzzzzz</th>\n",
              "      <th>élan</th>\n",
              "    </tr>\n",
              "  </thead>\n",
              "  <tbody>\n",
              "    <tr>\n",
              "      <th>0</th>\n",
              "      <td>0.000000</td>\n",
              "      <td>0.0</td>\n",
              "      <td>0.0</td>\n",
              "      <td>0.0</td>\n",
              "      <td>0.0</td>\n",
              "      <td>0.0</td>\n",
              "      <td>0.0</td>\n",
              "      <td>0.0</td>\n",
              "      <td>0.0</td>\n",
              "      <td>0.0</td>\n",
              "      <td>...</td>\n",
              "      <td>0.0</td>\n",
              "      <td>0.0</td>\n",
              "      <td>0.0</td>\n",
              "      <td>0.0</td>\n",
              "      <td>0.0</td>\n",
              "      <td>0.0</td>\n",
              "      <td>0.0</td>\n",
              "      <td>0.0</td>\n",
              "      <td>0.0</td>\n",
              "      <td>0.0</td>\n",
              "    </tr>\n",
              "    <tr>\n",
              "      <th>1</th>\n",
              "      <td>0.048154</td>\n",
              "      <td>0.0</td>\n",
              "      <td>0.0</td>\n",
              "      <td>0.0</td>\n",
              "      <td>0.0</td>\n",
              "      <td>0.0</td>\n",
              "      <td>0.0</td>\n",
              "      <td>0.0</td>\n",
              "      <td>0.0</td>\n",
              "      <td>0.0</td>\n",
              "      <td>...</td>\n",
              "      <td>0.0</td>\n",
              "      <td>0.0</td>\n",
              "      <td>0.0</td>\n",
              "      <td>0.0</td>\n",
              "      <td>0.0</td>\n",
              "      <td>0.0</td>\n",
              "      <td>0.0</td>\n",
              "      <td>0.0</td>\n",
              "      <td>0.0</td>\n",
              "      <td>0.0</td>\n",
              "    </tr>\n",
              "    <tr>\n",
              "      <th>2</th>\n",
              "      <td>0.029784</td>\n",
              "      <td>0.0</td>\n",
              "      <td>0.0</td>\n",
              "      <td>0.0</td>\n",
              "      <td>0.0</td>\n",
              "      <td>0.0</td>\n",
              "      <td>0.0</td>\n",
              "      <td>0.0</td>\n",
              "      <td>0.0</td>\n",
              "      <td>0.0</td>\n",
              "      <td>...</td>\n",
              "      <td>0.0</td>\n",
              "      <td>0.0</td>\n",
              "      <td>0.0</td>\n",
              "      <td>0.0</td>\n",
              "      <td>0.0</td>\n",
              "      <td>0.0</td>\n",
              "      <td>0.0</td>\n",
              "      <td>0.0</td>\n",
              "      <td>0.0</td>\n",
              "      <td>0.0</td>\n",
              "    </tr>\n",
              "    <tr>\n",
              "      <th>3</th>\n",
              "      <td>0.049596</td>\n",
              "      <td>0.0</td>\n",
              "      <td>0.0</td>\n",
              "      <td>0.0</td>\n",
              "      <td>0.0</td>\n",
              "      <td>0.0</td>\n",
              "      <td>0.0</td>\n",
              "      <td>0.0</td>\n",
              "      <td>0.0</td>\n",
              "      <td>0.0</td>\n",
              "      <td>...</td>\n",
              "      <td>0.0</td>\n",
              "      <td>0.0</td>\n",
              "      <td>0.0</td>\n",
              "      <td>0.0</td>\n",
              "      <td>0.0</td>\n",
              "      <td>0.0</td>\n",
              "      <td>0.0</td>\n",
              "      <td>0.0</td>\n",
              "      <td>0.0</td>\n",
              "      <td>0.0</td>\n",
              "    </tr>\n",
              "    <tr>\n",
              "      <th>4</th>\n",
              "      <td>0.048782</td>\n",
              "      <td>0.0</td>\n",
              "      <td>0.0</td>\n",
              "      <td>0.0</td>\n",
              "      <td>0.0</td>\n",
              "      <td>0.0</td>\n",
              "      <td>0.0</td>\n",
              "      <td>0.0</td>\n",
              "      <td>0.0</td>\n",
              "      <td>0.0</td>\n",
              "      <td>...</td>\n",
              "      <td>0.0</td>\n",
              "      <td>0.0</td>\n",
              "      <td>0.0</td>\n",
              "      <td>0.0</td>\n",
              "      <td>0.0</td>\n",
              "      <td>0.0</td>\n",
              "      <td>0.0</td>\n",
              "      <td>0.0</td>\n",
              "      <td>0.0</td>\n",
              "      <td>0.0</td>\n",
              "    </tr>\n",
              "  </tbody>\n",
              "</table>\n",
              "<p>5 rows × 13343 columns</p>\n",
              "</div>\n",
              "      <button class=\"colab-df-convert\" onclick=\"convertToInteractive('df-b657c280-6cf2-47d5-b696-68b75930be62')\"\n",
              "              title=\"Convert this dataframe to an interactive table.\"\n",
              "              style=\"display:none;\">\n",
              "        \n",
              "  <svg xmlns=\"http://www.w3.org/2000/svg\" height=\"24px\"viewBox=\"0 0 24 24\"\n",
              "       width=\"24px\">\n",
              "    <path d=\"M0 0h24v24H0V0z\" fill=\"none\"/>\n",
              "    <path d=\"M18.56 5.44l.94 2.06.94-2.06 2.06-.94-2.06-.94-.94-2.06-.94 2.06-2.06.94zm-11 1L8.5 8.5l.94-2.06 2.06-.94-2.06-.94L8.5 2.5l-.94 2.06-2.06.94zm10 10l.94 2.06.94-2.06 2.06-.94-2.06-.94-.94-2.06-.94 2.06-2.06.94z\"/><path d=\"M17.41 7.96l-1.37-1.37c-.4-.4-.92-.59-1.43-.59-.52 0-1.04.2-1.43.59L10.3 9.45l-7.72 7.72c-.78.78-.78 2.05 0 2.83L4 21.41c.39.39.9.59 1.41.59.51 0 1.02-.2 1.41-.59l7.78-7.78 2.81-2.81c.8-.78.8-2.07 0-2.86zM5.41 20L4 18.59l7.72-7.72 1.47 1.35L5.41 20z\"/>\n",
              "  </svg>\n",
              "      </button>\n",
              "      \n",
              "  <style>\n",
              "    .colab-df-container {\n",
              "      display:flex;\n",
              "      flex-wrap:wrap;\n",
              "      gap: 12px;\n",
              "    }\n",
              "\n",
              "    .colab-df-convert {\n",
              "      background-color: #E8F0FE;\n",
              "      border: none;\n",
              "      border-radius: 50%;\n",
              "      cursor: pointer;\n",
              "      display: none;\n",
              "      fill: #1967D2;\n",
              "      height: 32px;\n",
              "      padding: 0 0 0 0;\n",
              "      width: 32px;\n",
              "    }\n",
              "\n",
              "    .colab-df-convert:hover {\n",
              "      background-color: #E2EBFA;\n",
              "      box-shadow: 0px 1px 2px rgba(60, 64, 67, 0.3), 0px 1px 3px 1px rgba(60, 64, 67, 0.15);\n",
              "      fill: #174EA6;\n",
              "    }\n",
              "\n",
              "    [theme=dark] .colab-df-convert {\n",
              "      background-color: #3B4455;\n",
              "      fill: #D2E3FC;\n",
              "    }\n",
              "\n",
              "    [theme=dark] .colab-df-convert:hover {\n",
              "      background-color: #434B5C;\n",
              "      box-shadow: 0px 1px 3px 1px rgba(0, 0, 0, 0.15);\n",
              "      filter: drop-shadow(0px 1px 2px rgba(0, 0, 0, 0.3));\n",
              "      fill: #FFFFFF;\n",
              "    }\n",
              "  </style>\n",
              "\n",
              "      <script>\n",
              "        const buttonEl =\n",
              "          document.querySelector('#df-b657c280-6cf2-47d5-b696-68b75930be62 button.colab-df-convert');\n",
              "        buttonEl.style.display =\n",
              "          google.colab.kernel.accessAllowed ? 'block' : 'none';\n",
              "\n",
              "        async function convertToInteractive(key) {\n",
              "          const element = document.querySelector('#df-b657c280-6cf2-47d5-b696-68b75930be62');\n",
              "          const dataTable =\n",
              "            await google.colab.kernel.invokeFunction('convertToInteractive',\n",
              "                                                     [key], {});\n",
              "          if (!dataTable) return;\n",
              "\n",
              "          const docLinkHtml = 'Like what you see? Visit the ' +\n",
              "            '<a target=\"_blank\" href=https://colab.research.google.com/notebooks/data_table.ipynb>data table notebook</a>'\n",
              "            + ' to learn more about interactive tables.';\n",
              "          element.innerHTML = '';\n",
              "          dataTable['output_type'] = 'display_data';\n",
              "          await google.colab.output.renderOutput(dataTable, element);\n",
              "          const docLink = document.createElement('div');\n",
              "          docLink.innerHTML = docLinkHtml;\n",
              "          element.appendChild(docLink);\n",
              "        }\n",
              "      </script>\n",
              "    </div>\n",
              "  </div>\n",
              "  "
            ]
          },
          "metadata": {},
          "execution_count": 12
        }
      ]
    },
    {
      "cell_type": "code",
      "source": [
        "test_tfidf = tfidf.transform(data_test['review'])\n",
        "print(test_tfidf.shape)\n"
      ],
      "metadata": {
        "colab": {
          "base_uri": "https://localhost:8080/"
        },
        "id": "fEGGbGvtSfX7",
        "outputId": "f4b08198-285f-4edc-d100-971ea22a0126"
      },
      "execution_count": 13,
      "outputs": [
        {
          "output_type": "stream",
          "name": "stdout",
          "text": [
            "(1821, 13343)\n"
          ]
        }
      ]
    },
    {
      "cell_type": "code",
      "source": [
        "x_train, x_test, y_train, y_test = train_test_split(X_tfidf, data_train['sentiment'].values,\n",
        "                                                test_size=0.2, random_state=1)"
      ],
      "metadata": {
        "id": "_Z6Zm4hLSmx6"
      },
      "execution_count": 14,
      "outputs": []
    },
    {
      "cell_type": "code",
      "source": [
        "naive_bayes = MultinomialNB()\n",
        "svc = SVC()\n",
        "knn = KNeighborsClassifier()\n",
        "dt = DecisionTreeClassifier()\n",
        "rf = RandomForestClassifier()\n",
        "xgb = XGBClassifier()\n",
        "algos = [naive_bayes, svc, knn, dt, rf, xgb]\n",
        "cut = ['nb', 'svc', 'knn', 'dt', 'rf', 'xgb']\n",
        "estimators = []\n",
        "for name, model in zip(cut, algos):\n",
        "    cv = Pipeline([('vect', CountVectorizer()), (name,model)])\n",
        "    estimators.append(cv)\n"
      ],
      "metadata": {
        "id": "A2siMlEJSqgS"
      },
      "execution_count": 15,
      "outputs": []
    },
    {
      "cell_type": "code",
      "source": [
        "model = naive_bayes.fit(x_train,y_train)"
      ],
      "metadata": {
        "id": "qt0TQXwzSuJo"
      },
      "execution_count": 16,
      "outputs": []
    },
    {
      "cell_type": "code",
      "source": [
        "cv = StratifiedKFold(n_splits=10, shuffle=True, random_state=1)"
      ],
      "metadata": {
        "id": "wj5on-OXSxE0"
      },
      "execution_count": 17,
      "outputs": []
    },
    {
      "cell_type": "code",
      "source": [
        "from sklearn.metrics import accuracy_score\n",
        "from sklearn.metrics import classification_report\n",
        "from sklearn.model_selection import cross_val_score\n",
        "accuracy = cross_val_score(naive_bayes, x_test, y_test, cv=18)\n",
        "y_pred_naive_bayes = model.predict(x_test)\n",
        "print(\"The accuracy for MultinomialNB\",accuracy.mean())\n",
        "print('accuracy %s' % accuracy_score(y_pred_naive_bayes,y_test))\n",
        "print(classification_report(y_test,y_pred_naive_bayes))"
      ],
      "metadata": {
        "colab": {
          "base_uri": "https://localhost:8080/"
        },
        "id": "1s0CfnLAS0rM",
        "outputId": "0306647b-6d09-4f6d-c99d-dc4b6644042e"
      },
      "execution_count": 18,
      "outputs": [
        {
          "output_type": "stream",
          "name": "stdout",
          "text": [
            "The accuracy for MultinomialNB 0.7210735171261488\n",
            "accuracy 0.7695086705202312\n",
            "              precision    recall  f1-score   support\n",
            "\n",
            "           0       0.81      0.69      0.74       675\n",
            "           1       0.74      0.85      0.79       709\n",
            "\n",
            "    accuracy                           0.77      1384\n",
            "   macro avg       0.78      0.77      0.77      1384\n",
            "weighted avg       0.77      0.77      0.77      1384\n",
            "\n"
          ]
        }
      ]
    },
    {
      "cell_type": "code",
      "source": [
        "decision_tree= dt.fit(x_train,y_train)"
      ],
      "metadata": {
        "id": "AhMqmvZNS79p"
      },
      "execution_count": 19,
      "outputs": []
    },
    {
      "cell_type": "code",
      "source": [
        "y_pred_decision_tree = decision_tree.predict(x_test)\n",
        "accuracy = cross_val_score(dt, x_test, y_test, cv=10)\n",
        "print('accuracy' % accuracy_score(y_pred_decision_tree,y_test))\n",
        "print(classification_report(y_test,y_pred_decision_tree))\n",
        "print(\"The accuracy for decision trees\",accuracy.mean())"
      ],
      "metadata": {
        "colab": {
          "base_uri": "https://localhost:8080/"
        },
        "id": "8L0Lp8H3S_0y",
        "outputId": "4d38b8d7-bd2d-4b42-baf2-a3ec001475f8"
      },
      "execution_count": 20,
      "outputs": [
        {
          "output_type": "stream",
          "name": "stdout",
          "text": [
            "accuracy\n",
            "              precision    recall  f1-score   support\n",
            "\n",
            "           0       0.62      0.57      0.60       675\n",
            "           1       0.62      0.67      0.64       709\n",
            "\n",
            "    accuracy                           0.62      1384\n",
            "   macro avg       0.62      0.62      0.62      1384\n",
            "weighted avg       0.62      0.62      0.62      1384\n",
            "\n",
            "The accuracy for decision trees 0.6018923991241789\n"
          ]
        }
      ]
    },
    {
      "cell_type": "code",
      "source": [
        "from sklearn.model_selection import cross_val_score\n",
        "accuracy = cross_val_score(knn, x_test, y_test, cv=10)\n",
        "_knn = knn.fit(x_train,y_train)\n",
        "y_pred_knn= _knn.predict(x_test)\n",
        "print('accuracy' % accuracy_score(y_pred_knn,y_test))\n",
        "print(classification_report(y_test,y_pred_knn))\n",
        "print(\"The accuracy using knn\",accuracy.mean())"
      ],
      "metadata": {
        "colab": {
          "base_uri": "https://localhost:8080/"
        },
        "id": "ILDW7nvsTPaJ",
        "outputId": "bd55ed8c-90b7-4b67-e66e-60b30dcf1a4a"
      },
      "execution_count": 21,
      "outputs": [
        {
          "output_type": "stream",
          "name": "stdout",
          "text": [
            "accuracy\n",
            "              precision    recall  f1-score   support\n",
            "\n",
            "           0       0.71      0.67      0.69       675\n",
            "           1       0.70      0.75      0.72       709\n",
            "\n",
            "    accuracy                           0.71      1384\n",
            "   macro avg       0.71      0.71      0.71      1384\n",
            "weighted avg       0.71      0.71      0.71      1384\n",
            "\n",
            "The accuracy using knn 0.6633041392972578\n"
          ]
        }
      ]
    },
    {
      "cell_type": "code",
      "source": [
        "random_forest = rf.fit(x_train,y_train)\n",
        "y_pred_rf = random_forest.predict(x_test)\n",
        "accuracy = cross_val_score(rf, x_test, y_test, cv=10)\n",
        "print('The accuracy using random forest' % accuracy_score(y_pred_rf,y_test))\n",
        "print(classification_report(y_test,y_pred_rf))\n",
        "print(\"using random forest\",accuracy.mean())"
      ],
      "metadata": {
        "id": "LfWa04_2TvAI",
        "colab": {
          "base_uri": "https://localhost:8080/"
        },
        "outputId": "6914220a-7b61-433f-e62f-cceb66fa3f87"
      },
      "execution_count": 22,
      "outputs": [
        {
          "output_type": "stream",
          "name": "stdout",
          "text": [
            "The accuracy using random forest\n",
            "              precision    recall  f1-score   support\n",
            "\n",
            "           0       0.71      0.63      0.67       675\n",
            "           1       0.68      0.76      0.72       709\n",
            "\n",
            "    accuracy                           0.69      1384\n",
            "   macro avg       0.70      0.69      0.69      1384\n",
            "weighted avg       0.70      0.69      0.69      1384\n",
            "\n",
            "using random forest 0.6755708476696903\n"
          ]
        }
      ]
    },
    {
      "cell_type": "code",
      "source": [
        "_xgb = xgb.fit(x_train,y_train)\n",
        "y_pred_xgb = _xgb.predict(x_test)\n",
        "accuracy = cross_val_score(xgb, x_test, y_test, cv=10)\n",
        "print('Accuracy %s' % accuracy_score(y_pred_xgb,y_test))\n",
        "print(classification_report(y_test,y_pred_xgb))\n",
        "print(\"The accuracy using XG boost\",accuracy.mean())"
      ],
      "metadata": {
        "colab": {
          "base_uri": "https://localhost:8080/"
        },
        "id": "Q_r-uFV5Ty1v",
        "outputId": "eef9dfd2-ff83-4562-9a4b-0a2b4a5e0736"
      },
      "execution_count": 23,
      "outputs": [
        {
          "output_type": "stream",
          "name": "stdout",
          "text": [
            "Accuracy 0.6213872832369942\n",
            "              precision    recall  f1-score   support\n",
            "\n",
            "           0       0.72      0.37      0.49       675\n",
            "           1       0.59      0.86      0.70       709\n",
            "\n",
            "    accuracy                           0.62      1384\n",
            "   macro avg       0.65      0.62      0.59      1384\n",
            "weighted avg       0.65      0.62      0.60      1384\n",
            "\n",
            "The accuracy using XG boost 0.6206808466270461\n"
          ]
        }
      ]
    },
    {
      "cell_type": "code",
      "source": [
        "test_data_naive_bayes = model.predict(X_tfidf)\n",
        "print('The accuracy on test data using Multinonial %s' % accuracy_score(test_data_naive_bayes,data_train['sentiment']))\n",
        "print(classification_report(test_data_naive_bayes,data_train['sentiment']))"
      ],
      "metadata": {
        "colab": {
          "base_uri": "https://localhost:8080/"
        },
        "id": "6vTNY4LLT5XN",
        "outputId": "49e60bab-62b8-42cb-fe6b-e5944c7d42ab"
      },
      "execution_count": 24,
      "outputs": [
        {
          "output_type": "stream",
          "name": "stdout",
          "text": [
            "The accuracy on test data using Multinonial 0.9119942196531792\n",
            "              precision    recall  f1-score   support\n",
            "\n",
            "           0       0.87      0.94      0.90      3091\n",
            "           1       0.95      0.89      0.92      3829\n",
            "\n",
            "    accuracy                           0.91      6920\n",
            "   macro avg       0.91      0.91      0.91      6920\n",
            "weighted avg       0.91      0.91      0.91      6920\n",
            "\n"
          ]
        }
      ]
    },
    {
      "cell_type": "markdown",
      "metadata": {
        "id": "jlV5NaAuQNoi"
      },
      "source": [
        "(20 points) The purpose of the question is to practice different machine learning algorithms for text clustering\n",
        "Please downlad the dataset by using the following link.  https://www.kaggle.com/PromptCloudHQ/amazon-reviews-unlocked-mobile-phones\n",
        "(You can also use different text data which you want)\n",
        "\n",
        "Apply the listed clustering methods to the dataset:\n",
        "\n",
        "K means, \n",
        "DBSCAN,\n",
        "Hierarchical clustering. \n",
        "\n",
        "You can refer to of the codes from  the follwing link below. \n",
        "https://www.kaggle.com/karthik3890/text-clustering "
      ]
    },
    {
      "cell_type": "code",
      "execution_count": 25,
      "metadata": {
        "colab": {
          "base_uri": "https://localhost:8080/"
        },
        "id": "yLFkYRD7QNoi",
        "outputId": "f7ba2674-002b-418a-f030-2a09224b40d7"
      },
      "outputs": [
        {
          "output_type": "stream",
          "name": "stdout",
          "text": [
            "Requirement already satisfied: textblob in /usr/local/lib/python3.7/dist-packages (0.15.3)\n",
            "Requirement already satisfied: nltk>=3.1 in /usr/local/lib/python3.7/dist-packages (from textblob) (3.2.5)\n",
            "Requirement already satisfied: six in /usr/local/lib/python3.7/dist-packages (from nltk>=3.1->textblob) (1.15.0)\n"
          ]
        }
      ],
      "source": [
        "#Write your code here.\n",
        "!pip install textblob"
      ]
    },
    {
      "cell_type": "code",
      "source": [
        "import pandas as pd\n",
        "df = pd.read_csv('dataset.csv')\n",
        "\n",
        "from nltk.corpus import stopwords\n",
        "import nltk\n",
        "nltk.download('punkt')\n",
        "nltk.download('stopwords')\n",
        "import re\n",
        "from textblob import TextBlob\n",
        "from nltk.stem import PorterStemmer\n",
        "from textblob import Word\n",
        "nltk.download('wordnet')"
      ],
      "metadata": {
        "id": "773PLI7vUmuB"
      },
      "execution_count": null,
      "outputs": []
    },
    {
      "cell_type": "code",
      "source": [
        "df.shape"
      ],
      "metadata": {
        "id": "SzWHkPitWmzQ"
      },
      "execution_count": null,
      "outputs": []
    },
    {
      "cell_type": "code",
      "source": [
        "cluster =df.head()\n",
        "cluster"
      ],
      "metadata": {
        "id": "ZyGmKMU3W_L_"
      },
      "execution_count": null,
      "outputs": []
    },
    {
      "cell_type": "code",
      "source": [
        "# Special characters removal\n",
        "cluster['After noise removal'] = cluster['Reviews'].apply(lambda x: ''.join(re.sub(r\"[^a-zA-Z0-9]+\", ' ', charctr) for charctr in x ))\n",
        "\n",
        "# Punctuation removal\n",
        "cluster['Punctuation removal'] = cluster['After noise removal'].str.replace('[^\\w\\s]','')\n",
        "\n",
        "# Remove numbers\n",
        "cluster['Remove numbers'] = cluster['Punctuation removal'].str.replace('\\d+', '')\n",
        "\n",
        "# Stopwords removal\n",
        "stop_word = stopwords.words('english')\n",
        "cluster['Stopwords removal'] = cluster['Remove numbers'].apply(lambda x: \" \".join(x for x in x.split() if x not in stop_word))\n",
        "\n",
        "# Lower Casing\n",
        "cluster['Lower casing'] = cluster['Stopwords removal'].apply(lambda x: \" \".join(x.lower() for x in x.split()))\n",
        "\n",
        "# Tokenization\n",
        "cluster['Tokenization'] = cluster['Lower casing'].apply(lambda x: TextBlob(x).words)\n",
        "\n",
        "\n",
        "st = PorterStemmer()\n",
        "cluster['Stemming'] = cluster['Tokenization'].apply(lambda x: \" \".join([st.stem(word) for word in x]))\n",
        "\n",
        "\n",
        "cluster['Lemmatization'] = cluster['Stemming'].apply(lambda x: \" \".join([Word(word).lemmatize() for word in x.split()]))\n",
        "cluster"
      ],
      "metadata": {
        "id": "7qbLbfE7XI0b"
      },
      "execution_count": null,
      "outputs": []
    },
    {
      "cell_type": "code",
      "source": [
        "cluster['Lemmatization'] = cluster['Stemming'].apply(lambda x: \" \".join([Word(word).lemmatize() for word in x.split()]))\n",
        "cluster"
      ],
      "metadata": {
        "id": "7ajt3j-Ybj0P"
      },
      "execution_count": null,
      "outputs": []
    },
    {
      "cell_type": "code",
      "source": [
        "from sklearn.feature_extraction.text import TfidfVectorizer\n",
        "vect = TfidfVectorizer()\n",
        "vect1 = vect.fit_transform(cluster_df['Lemmatization'].values)\n",
        "vect1.shape"
      ],
      "metadata": {
        "id": "Y89D2ajGXd1q"
      },
      "execution_count": null,
      "outputs": []
    },
    {
      "cell_type": "code",
      "source": [
        "from sklearn.cluster import KMeans\n",
        "model = KMeans(n_clusters = 10,random_state=99)\n",
        "model.fit(tfidf)"
      ],
      "metadata": {
        "id": "25C1rH2tXk8A"
      },
      "execution_count": null,
      "outputs": []
    },
    {
      "cell_type": "code",
      "source": [
        "labels_tf = model.labels_\n",
        "center=model.cluster_centers_\n",
        "center"
      ],
      "metadata": {
        "id": "qXQKRXuxXpgX"
      },
      "execution_count": null,
      "outputs": []
    },
    {
      "cell_type": "code",
      "source": [
        "max = vect.get_feature_names()"
      ],
      "metadata": {
        "id": "VKnQ7uUCXv1N"
      },
      "execution_count": null,
      "outputs": []
    },
    {
      "cell_type": "code",
      "source": [
        "from sklearn import metrics\n",
        "score= metrics.silhouette_score(tfidf, labels_tf, metric='euclidean')\n",
        "score"
      ],
      "metadata": {
        "id": "hNahUxwQX2HC"
      },
      "execution_count": null,
      "outputs": []
    },
    {
      "cell_type": "code",
      "source": [
        "cl1 = cluster_df\n",
        "cl1['Tfidf Clus Label'] = model.labels_\n",
        "cl1.head(5)"
      ],
      "metadata": {
        "id": "rC_eZ8kdX9a-"
      },
      "execution_count": null,
      "outputs": []
    },
    {
      "cell_type": "code",
      "source": [
        "\n",
        "cent1= model.cluster_centers_.argsort()[:, ::-1]\n",
        "for i in range(10):\n",
        "    print(\"Cluster %d:\" % i, end='')\n",
        "    for ind in cent1[i, :10]:\n",
        "        print(' %s' % cl1[ind], end='')\n",
        "        print()"
      ],
      "metadata": {
        "id": "fDBzz-DnYFmn"
      },
      "execution_count": null,
      "outputs": []
    },
    {
      "cell_type": "code",
      "source": [
        "for i in range(10):\n",
        "    print(\"4 reviews cluster \", i)\n",
        "    print(\"-\" * 70)\n",
        "    print(cl1.iloc[cl1.groupby(['Tfidf Clus Label']).groups[i][0]]['Reviews'])\n",
        "    print('\\n')\n",
        "    print(cl1.iloc[cl1.groupby(['Tfidf Clus Label']).groups[i][5]]['Reviews'])\n",
        "    print('\\n')\n",
        "    print(cl1.iloc[cl1.groupby(['Tfidf Clus Label']).groups[i][10]]['Reviews'])\n",
        "    print('\\n')\n",
        "    print(\"_\" * 70)"
      ],
      "metadata": {
        "id": "f86O4MX7YSRq"
      },
      "execution_count": null,
      "outputs": []
    },
    {
      "cell_type": "markdown",
      "metadata": {
        "id": "uUhpJQI_QNoj"
      },
      "source": [
        "In one paragraph, please compare K means, DBSCAN and Hierarchical clustering."
      ]
    },
    {
      "cell_type": "markdown",
      "source": [
        "\n",
        "\n",
        "```\n",
        "K Means Clustering is an example of unsupervised learning algorithm groups data based on \n",
        "their similarity.  k means clustering specifies the number of clusters\n",
        " that the data should be grouped into by randomly assigning each record to a cluster, and \n",
        " finds the centroid of each cluster. The algorithm loops through two steps.Reassigning data points \n",
        " to the cluster whose centroid is closest.Computes new centroid of each cluster.These steps are\n",
        "  iterated untill the within cluster variation cannot be reduced any further. The within cluster variation is \n",
        "  calculated as the sum of the euclidean distance between the data points and their respective cluster \n",
        "  centroids.\n",
        "  DBSCAN uses two parameters: ε (epsilon) and the minimum number of points required to form a \n",
        "  dense region[a] (minPts). It starts with an arbitrary starting point that has not been visited. \n",
        "  This points ε-neighborhood is retrieved, and if it contains enough points, a cluster is \n",
        "  started. Otherwise, the point is labeled as noise. Note that this point might later be found in \n",
        "  a sufficiently sized ε-environment of a different point and hence be made part of a cluster.If a point \n",
        "  is found to be a dense part of a cluster, its ε-neighborhood is also part of that cluster. \n",
        "  Hence, all points that are found within the ε-neighborhood are added, as is their own ε-neighborhood \n",
        "  when they are also dense. This process continues until the density-connected cluster is completely found.\n",
        "   Then, a new unvisited point is retrieved and processed, leading to the discovery of a further cluster \n",
        "   or noise.DBSCAN can be used with any distance function[1][4] .The distance function (dist) can therefore be seen as an additional parameter.\n",
        "   Hierarchical clustering results in a clustering structure consisting of nested partitions. \n",
        "   In an agglomerative clustering algorithm, the clustering begins with singleton sets of each point.\n",
        "    That is, each data point is its own cluster. At each time step, the most similar cluster pairs are \n",
        "    combined according to the chosen similarity measure, and this step is repeated either until all data \n",
        "    points are included in a single cluster or until some predetermined criteria are met. If the nesting \n",
        "    occurs in the other direction, that is, the clustering begins with one large cluster and breaks down\n",
        "     into smaller clusters, it is known as a divisive clustering algorithm.\n",
        "```\n",
        "\n"
      ],
      "metadata": {
        "id": "XQ0_tlyeNbf1"
      }
    }
  ],
  "metadata": {
    "kernelspec": {
      "display_name": "Python 3",
      "language": "python",
      "name": "python3"
    },
    "language_info": {
      "codemirror_mode": {
        "name": "ipython",
        "version": 3
      },
      "file_extension": ".py",
      "mimetype": "text/x-python",
      "name": "python",
      "nbconvert_exporter": "python",
      "pygments_lexer": "ipython3",
      "version": "3.8.5"
    },
    "colab": {
      "name": "In_class_exercise_05.ipynb",
      "provenance": []
    }
  },
  "nbformat": 4,
  "nbformat_minor": 0
}